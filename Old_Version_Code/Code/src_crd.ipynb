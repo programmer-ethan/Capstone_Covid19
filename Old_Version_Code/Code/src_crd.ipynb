{
 "cells": [
  {
   "cell_type": "markdown",
   "metadata": {
    "id": "jOazi9cjKVEX"
   },
   "source": [
    "# Survival Analysis :  Quick Implementation"
   ]
  },
  {
   "cell_type": "code",
   "execution_count": 1,
   "metadata": {
    "colab": {
     "base_uri": "https://localhost:8080/"
    },
    "executionInfo": {
     "elapsed": 19853,
     "status": "ok",
     "timestamp": 1610679325187,
     "user": {
      "displayName": "장승운",
      "photoUrl": "",
      "userId": "09116233606503711736"
     },
     "user_tz": -540
    },
    "id": "YBIIdDkMKVEd",
    "outputId": "25d2c104-19ec-4703-8de9-c34d6c2ddc9b"
   },
   "outputs": [
    {
     "output_type": "stream",
     "name": "stdout",
     "text": [
      "Populating the interactive namespace from numpy and matplotlib\n"
     ]
    }
   ],
   "source": [
    "import pandas as pd\n",
    "import numpy as np\n",
    "import matplotlib.pyplot as plt\n",
    "import seaborn as sb\n",
    "\n",
    "from lifelines.plotting import plot_lifetimes      # Lifeline package for the Survival Analysis\n",
    "%pylab inline\n",
    "figsize(12,6)"
   ]
  },
  {
   "cell_type": "markdown",
   "metadata": {
    "id": "UhdyKSELKVEg"
   },
   "source": [
    "## Real World Example "
   ]
  },
  {
   "cell_type": "markdown",
   "metadata": {
    "id": "wbwxgJqUKVEg"
   },
   "source": [
    "### We will be using Telco Customer Churn data from Kaggle\n",
    "https://www.kaggle.com/blastchar/telco-customer-churn/"
   ]
  },
  {
   "cell_type": "code",
   "execution_count": 2,
   "metadata": {
    "colab": {
     "base_uri": "https://localhost:8080/"
    },
    "executionInfo": {
     "elapsed": 34380,
     "status": "ok",
     "timestamp": 1610679342344,
     "user": {
      "displayName": "장승운",
      "photoUrl": "",
      "userId": "09116233606503711736"
     },
     "user_tz": -540
    },
    "id": "-cYbjGHVKVEg",
    "outputId": "011ea81c-c12e-4f9c-dc12-fbe8079b016f"
   },
   "outputs": [],
   "source": [
    "##  create a dataframe\n",
    "df = pd.read_csv(\"Data\\write.csv\") "
   ]
  },
  {
   "cell_type": "code",
   "execution_count": 3,
   "metadata": {
    "colab": {
     "base_uri": "https://localhost:8080/",
     "height": 394
    },
    "executionInfo": {
     "elapsed": 34020,
     "status": "ok",
     "timestamp": 1610679342349,
     "user": {
      "displayName": "장승운",
      "photoUrl": "",
      "userId": "09116233606503711736"
     },
     "user_tz": -540
    },
    "id": "6jDzQDNdKVEg",
    "outputId": "04842a68-b50f-471b-a9cb-83551f02d387"
   },
   "outputs": [],
   "source": [
    "## Have a first look at the data\n",
    "# df.head() "
   ]
  },
  {
   "cell_type": "code",
   "execution_count": 4,
   "metadata": {
    "colab": {
     "base_uri": "https://localhost:8080/"
    },
    "executionInfo": {
     "elapsed": 33769,
     "status": "ok",
     "timestamp": 1610679342350,
     "user": {
      "displayName": "장승운",
      "photoUrl": "",
      "userId": "09116233606503711736"
     },
     "user_tz": -540
    },
    "id": "XsegY_N6KVEh",
    "outputId": "30c54922-66f2-49d4-c541-75ce84fb69b0",
    "scrolled": true
   },
   "outputs": [],
   "source": [
    "## Data Types and Missing Values in Columns\n",
    "# df.info()  "
   ]
  },
  {
   "cell_type": "code",
   "execution_count": 5,
   "metadata": {
    "colab": {
     "base_uri": "https://localhost:8080/",
     "height": 419
    },
    "executionInfo": {
     "elapsed": 34140,
     "status": "ok",
     "timestamp": 1610679342966,
     "user": {
      "displayName": "장승운",
      "photoUrl": "",
      "userId": "09116233606503711736"
     },
     "user_tz": -540
    },
    "id": "QgE5Jo-nLOtJ",
    "outputId": "df181d0d-5310-4e28-8186-ed286712ff81"
   },
   "outputs": [
    {
     "output_type": "execute_result",
     "data": {
      "text/plain": [
       "     date_confirmation date_death_or_discharge     outcome  \\\n",
       "11          21.02.2020              23.02.2020       death   \n",
       "37          25.01.2020              31.01.2020  discharged   \n",
       "50          02.02.2020              14.02.2020  discharged   \n",
       "77          11.03.2020              11.03.2020       death   \n",
       "84          01.02.2020              01.02.2020        died   \n",
       "...                ...                     ...         ...   \n",
       "539         01.02.2020              01.02.2020        died   \n",
       "544         02.02.2020              14.02.2020  discharged   \n",
       "575         23.01.2020              12.02.2020   discharge   \n",
       "1128        11.03.2020              11.03.2020       death   \n",
       "1139        25.01.2020              31.01.2020  discharged   \n",
       "\n",
       "      chronic_disease_binary  \\\n",
       "11                     False   \n",
       "37                      True   \n",
       "50                      True   \n",
       "77                      True   \n",
       "84                      True   \n",
       "...                      ...   \n",
       "539                     True   \n",
       "544                     True   \n",
       "575                     True   \n",
       "1128                    True   \n",
       "1139                    True   \n",
       "\n",
       "                                        chronic_disease  \n",
       "11    Iran; Kuala Lumpur, Federal Territory of Kuala...  \n",
       "37                                         hypertension  \n",
       "50                                                 COPD  \n",
       "77                               diabetes, hypertension  \n",
       "84    \"thought to have had other pre-existing condit...  \n",
       "...                                                 ...  \n",
       "539   \"thought to have had other pre-existing condit...  \n",
       "544                                                COPD  \n",
       "575   history of hypertension, type 2 diabetes, coro...  \n",
       "1128                             diabetes, hypertension  \n",
       "1139                                       hypertension  \n",
       "\n",
       "[103 rows x 5 columns]"
      ],
      "text/html": "<div>\n<style scoped>\n    .dataframe tbody tr th:only-of-type {\n        vertical-align: middle;\n    }\n\n    .dataframe tbody tr th {\n        vertical-align: top;\n    }\n\n    .dataframe thead th {\n        text-align: right;\n    }\n</style>\n<table border=\"1\" class=\"dataframe\">\n  <thead>\n    <tr style=\"text-align: right;\">\n      <th></th>\n      <th>date_confirmation</th>\n      <th>date_death_or_discharge</th>\n      <th>outcome</th>\n      <th>chronic_disease_binary</th>\n      <th>chronic_disease</th>\n    </tr>\n  </thead>\n  <tbody>\n    <tr>\n      <th>11</th>\n      <td>21.02.2020</td>\n      <td>23.02.2020</td>\n      <td>death</td>\n      <td>False</td>\n      <td>Iran; Kuala Lumpur, Federal Territory of Kuala...</td>\n    </tr>\n    <tr>\n      <th>37</th>\n      <td>25.01.2020</td>\n      <td>31.01.2020</td>\n      <td>discharged</td>\n      <td>True</td>\n      <td>hypertension</td>\n    </tr>\n    <tr>\n      <th>50</th>\n      <td>02.02.2020</td>\n      <td>14.02.2020</td>\n      <td>discharged</td>\n      <td>True</td>\n      <td>COPD</td>\n    </tr>\n    <tr>\n      <th>77</th>\n      <td>11.03.2020</td>\n      <td>11.03.2020</td>\n      <td>death</td>\n      <td>True</td>\n      <td>diabetes, hypertension</td>\n    </tr>\n    <tr>\n      <th>84</th>\n      <td>01.02.2020</td>\n      <td>01.02.2020</td>\n      <td>died</td>\n      <td>True</td>\n      <td>\"thought to have had other pre-existing condit...</td>\n    </tr>\n    <tr>\n      <th>...</th>\n      <td>...</td>\n      <td>...</td>\n      <td>...</td>\n      <td>...</td>\n      <td>...</td>\n    </tr>\n    <tr>\n      <th>539</th>\n      <td>01.02.2020</td>\n      <td>01.02.2020</td>\n      <td>died</td>\n      <td>True</td>\n      <td>\"thought to have had other pre-existing condit...</td>\n    </tr>\n    <tr>\n      <th>544</th>\n      <td>02.02.2020</td>\n      <td>14.02.2020</td>\n      <td>discharged</td>\n      <td>True</td>\n      <td>COPD</td>\n    </tr>\n    <tr>\n      <th>575</th>\n      <td>23.01.2020</td>\n      <td>12.02.2020</td>\n      <td>discharge</td>\n      <td>True</td>\n      <td>history of hypertension, type 2 diabetes, coro...</td>\n    </tr>\n    <tr>\n      <th>1128</th>\n      <td>11.03.2020</td>\n      <td>11.03.2020</td>\n      <td>death</td>\n      <td>True</td>\n      <td>diabetes, hypertension</td>\n    </tr>\n    <tr>\n      <th>1139</th>\n      <td>25.01.2020</td>\n      <td>31.01.2020</td>\n      <td>discharged</td>\n      <td>True</td>\n      <td>hypertension</td>\n    </tr>\n  </tbody>\n</table>\n<p>103 rows × 5 columns</p>\n</div>"
     },
     "metadata": {},
     "execution_count": 5
    }
   ],
   "source": [
    "filtered = df[['date_confirmation','date_death_or_discharge','outcome','chronic_disease_binary',\"chronic_disease\"]].dropna()\n",
    "filtered"
   ]
  },
  {
   "cell_type": "code",
   "execution_count": 6,
   "metadata": {},
   "outputs": [
    {
     "output_type": "execute_result",
     "data": {
      "text/plain": [
       "     date_confirmation date_death_or_discharge    outcome  \\\n",
       "0           21.02.2020              22.02.2020      death   \n",
       "1           14.02.2020              17.02.2020  discharge   \n",
       "2           14.02.2020              20.02.2020  discharge   \n",
       "3           14.02.2020              02.03.2020  discharge   \n",
       "4           14.02.2020              29.02.2020  discharge   \n",
       "...                ...                     ...        ...   \n",
       "1147        31.01.2020              19.02.2020  recovered   \n",
       "1148        03.03.2020              26.02.2020      death   \n",
       "1149        01.03.2020              01.03.2020      death   \n",
       "1150        18.03.2020              19.03.2020      death   \n",
       "1151        04.03.2020              03.03.2020      death   \n",
       "\n",
       "     chronic_disease_binary  \n",
       "0                         0  \n",
       "1                         0  \n",
       "2                         0  \n",
       "3                         0  \n",
       "4                         0  \n",
       "...                     ...  \n",
       "1147                      0  \n",
       "1148                      0  \n",
       "1149                      0  \n",
       "1150                      0  \n",
       "1151                      0  \n",
       "\n",
       "[1152 rows x 4 columns]"
      ],
      "text/html": "<div>\n<style scoped>\n    .dataframe tbody tr th:only-of-type {\n        vertical-align: middle;\n    }\n\n    .dataframe tbody tr th {\n        vertical-align: top;\n    }\n\n    .dataframe thead th {\n        text-align: right;\n    }\n</style>\n<table border=\"1\" class=\"dataframe\">\n  <thead>\n    <tr style=\"text-align: right;\">\n      <th></th>\n      <th>date_confirmation</th>\n      <th>date_death_or_discharge</th>\n      <th>outcome</th>\n      <th>chronic_disease_binary</th>\n    </tr>\n  </thead>\n  <tbody>\n    <tr>\n      <th>0</th>\n      <td>21.02.2020</td>\n      <td>22.02.2020</td>\n      <td>death</td>\n      <td>0</td>\n    </tr>\n    <tr>\n      <th>1</th>\n      <td>14.02.2020</td>\n      <td>17.02.2020</td>\n      <td>discharge</td>\n      <td>0</td>\n    </tr>\n    <tr>\n      <th>2</th>\n      <td>14.02.2020</td>\n      <td>20.02.2020</td>\n      <td>discharge</td>\n      <td>0</td>\n    </tr>\n    <tr>\n      <th>3</th>\n      <td>14.02.2020</td>\n      <td>02.03.2020</td>\n      <td>discharge</td>\n      <td>0</td>\n    </tr>\n    <tr>\n      <th>4</th>\n      <td>14.02.2020</td>\n      <td>29.02.2020</td>\n      <td>discharge</td>\n      <td>0</td>\n    </tr>\n    <tr>\n      <th>...</th>\n      <td>...</td>\n      <td>...</td>\n      <td>...</td>\n      <td>...</td>\n    </tr>\n    <tr>\n      <th>1147</th>\n      <td>31.01.2020</td>\n      <td>19.02.2020</td>\n      <td>recovered</td>\n      <td>0</td>\n    </tr>\n    <tr>\n      <th>1148</th>\n      <td>03.03.2020</td>\n      <td>26.02.2020</td>\n      <td>death</td>\n      <td>0</td>\n    </tr>\n    <tr>\n      <th>1149</th>\n      <td>01.03.2020</td>\n      <td>01.03.2020</td>\n      <td>death</td>\n      <td>0</td>\n    </tr>\n    <tr>\n      <th>1150</th>\n      <td>18.03.2020</td>\n      <td>19.03.2020</td>\n      <td>death</td>\n      <td>0</td>\n    </tr>\n    <tr>\n      <th>1151</th>\n      <td>04.03.2020</td>\n      <td>03.03.2020</td>\n      <td>death</td>\n      <td>0</td>\n    </tr>\n  </tbody>\n</table>\n<p>1152 rows × 4 columns</p>\n</div>"
     },
     "metadata": {},
     "execution_count": 6
    }
   ],
   "source": [
    "filtered_ = df[['date_confirmation','date_death_or_discharge','outcome','chronic_disease_binary']].dropna()\n",
    "length = len(filtered_)\n",
    "filtered_.index = list(range(length))\n",
    "for idx in range(length):\n",
    "    binary = filtered_.loc[idx,['chronic_disease_binary']][0]\n",
    "    if binary ==True:\n",
    "        filtered_.loc[idx,['chronic_disease_binary']] = 1\n",
    "    else:\n",
    "        filtered_.loc[idx,['chronic_disease_binary']] = 0\n",
    "filtered_"
   ]
  },
  {
   "cell_type": "markdown",
   "metadata": {},
   "source": [
    "## Chronic disease"
   ]
  },
  {
   "cell_type": "code",
   "execution_count": 7,
   "metadata": {
    "colab": {
     "base_uri": "https://localhost:8080/"
    },
    "executionInfo": {
     "elapsed": 33823,
     "status": "ok",
     "timestamp": 1610679342968,
     "user": {
      "displayName": "장승운",
      "photoUrl": "",
      "userId": "09116233606503711736"
     },
     "user_tz": -540
    },
    "id": "oSc1DjxzLOxX",
    "outputId": "e3833b7a-ea92-4e2d-e091-0319d2fe9b65",
    "scrolled": true
   },
   "outputs": [],
   "source": [
    "sym_dict = filtered[\"chronic_disease\"].value_counts().to_dict()"
   ]
  },
  {
   "cell_type": "code",
   "execution_count": 8,
   "metadata": {},
   "outputs": [],
   "source": [
    "del sym_dict['\"thought to have had other pre-existing conditions\"']\n",
    "del sym_dict['Iran; Kuala Lumpur, Federal Territory of Kuala Lumpur, Malaysia']"
   ]
  },
  {
   "cell_type": "code",
   "execution_count": 9,
   "metadata": {
    "scrolled": true
   },
   "outputs": [
    {
     "output_type": "execute_result",
     "data": {
      "text/plain": [
       "{'hypertension': 16,\n",
       " 'hypertension:diabetes': 10,\n",
       " 'diabetes:hypertension': 6,\n",
       " 'diabetes': 5,\n",
       " 'chronic kidney disease': 3,\n",
       " 'hypertension:chronic kidney disease': 3,\n",
       " 'asthma': 3,\n",
       " 'hypertensive': 3,\n",
       " 'COPD': 2,\n",
       " 'hepatitis B, diabetes': 2,\n",
       " 'prostate hypertrophy': 2,\n",
       " 'diabetes, hypertension': 2,\n",
       " 'hypertension:diabetes:chronic kidney disease': 2,\n",
       " 'chronic kidney disease:hypertension:diabetes': 2,\n",
       " 'history of hypertension, type 2 diabetes, coronary heart disease for which a stent had been implanted, and lung cancer': 2,\n",
       " 'hypertension:cardiac disease': 2,\n",
       " 'chronic obstructive pulmonary disease': 2,\n",
       " 'diabetes:hypertenstion:upper git bleeding': 1,\n",
       " 'benign prostatic hyperplasia': 1,\n",
       " 'hypertension:renal disease': 1,\n",
       " 'hypertension:hypothyroidism:renal disease': 1,\n",
       " 'hypertension:diabetes:dislipidemia': 1,\n",
       " 'Diabetes': 1,\n",
       " 'cardiac disease': 1,\n",
       " 'Hypertension': 1,\n",
       " 'hypertension:diabetes:cardiac disease': 1,\n",
       " 'hypertension:bronchial asthma:impaired fasting glucose': 1,\n",
       " 'hypertension, diabetes, coronary heart disease, frequent ventricular premature beat (FVPB), coronary artery stenting': 1,\n",
       " 'Pre-renal azotemia:cardiomyopathy:hypertension:diabetes': 1,\n",
       " 'hypertension:colon cancer': 1,\n",
       " 'hypertension:diabetes:tongue cancer:cardiovascular disease:benign prostatic hypertrophy': 1,\n",
       " 'diabetes:hypertension:chronic kidney disease': 1,\n",
       " 'hypertension:cerebrovascular accident infarct': 1,\n",
       " 'hypertension:diabetes:asthma': 1,\n",
       " 'atrial fibrillation:hypertension:atherosclerosis:cerebrovascular infarct': 1,\n",
       " 'hypertension:coronary artery disease:diabetes': 1,\n",
       " 'prostate cancer:chronic obstructive pulmonary disease': 1,\n",
       " 'hypertension:hypothyroidism': 1,\n",
       " \"hypertension for more than 20 years, diabetes for more than 20 years, Parkinson's disease\": 1,\n",
       " 'hyperthyroidism': 1,\n",
       " 'chronic kidney disease:hypertension:diabetes:ischemic heart disease': 1,\n",
       " 'asthma:hypertension:atherosclerosis:coronary artery disease': 1,\n",
       " 'diabetes:cardiac dysrhythmia': 1,\n",
       " 'chronic obstructive pulmonary disease:diabetes:dyslipidemia': 1,\n",
       " 'pre-renal azotemia:diabetes:hypertension': 1,\n",
       " 'hypertension:diabetes:dyslipidemia': 1,\n",
       " 'Chronic kidney disease:hypertension': 1,\n",
       " 'asthma:diabetes': 1,\n",
       " 'hypertension:diabetes:valvular heart disease': 1,\n",
       " 'hypertension; diabetes; asthma': 1}"
      ]
     },
     "metadata": {},
     "execution_count": 9
    }
   ],
   "source": [
    "sym_dict"
   ]
  },
  {
   "cell_type": "code",
   "execution_count": 10,
   "metadata": {},
   "outputs": [],
   "source": [
    "import re\n",
    "symptoms = []\n",
    "for kys in sym_dict.keys():\n",
    "    keys = re.split(':|,|;',kys)\n",
    "    for k in keys:\n",
    "        if k[0]==' ':\n",
    "            symptoms.append(k[1:])\n",
    "        else:\n",
    "            symptoms.append(k)"
   ]
  },
  {
   "cell_type": "code",
   "execution_count": 11,
   "metadata": {
    "scrolled": true
   },
   "outputs": [
    {
     "output_type": "execute_result",
     "data": {
      "text/plain": [
       "{'COPD',\n",
       " 'Chronic kidney disease',\n",
       " 'Diabetes',\n",
       " 'Hypertension',\n",
       " \"Parkinson's disease\",\n",
       " 'Pre-renal azotemia',\n",
       " 'and lung cancer',\n",
       " 'asthma',\n",
       " 'atherosclerosis',\n",
       " 'atrial fibrillation',\n",
       " 'benign prostatic hyperplasia',\n",
       " 'benign prostatic hypertrophy',\n",
       " 'bronchial asthma',\n",
       " 'cardiac disease',\n",
       " 'cardiac dysrhythmia',\n",
       " 'cardiomyopathy',\n",
       " 'cardiovascular disease',\n",
       " 'cerebrovascular accident infarct',\n",
       " 'cerebrovascular infarct',\n",
       " 'chronic kidney disease',\n",
       " 'chronic obstructive pulmonary disease',\n",
       " 'colon cancer',\n",
       " 'coronary artery disease',\n",
       " 'coronary artery stenting',\n",
       " 'coronary heart disease',\n",
       " 'coronary heart disease for which a stent had been implanted',\n",
       " 'diabetes',\n",
       " 'diabetes for more than 20 years',\n",
       " 'dislipidemia',\n",
       " 'dyslipidemia',\n",
       " 'frequent ventricular premature beat (FVPB)',\n",
       " 'hepatitis B',\n",
       " 'history of hypertension',\n",
       " 'hypertension',\n",
       " 'hypertension for more than 20 years',\n",
       " 'hypertensive',\n",
       " 'hypertenstion',\n",
       " 'hyperthyroidism',\n",
       " 'hypothyroidism',\n",
       " 'impaired fasting glucose',\n",
       " 'ischemic heart disease',\n",
       " 'pre-renal azotemia',\n",
       " 'prostate cancer',\n",
       " 'prostate hypertrophy',\n",
       " 'renal disease',\n",
       " 'tongue cancer',\n",
       " 'type 2 diabetes',\n",
       " 'upper git bleeding',\n",
       " 'valvular heart disease'}"
      ]
     },
     "metadata": {},
     "execution_count": 11
    }
   ],
   "source": [
    "symptoms = set(symptoms)\n",
    "symptoms"
   ]
  },
  {
   "cell_type": "code",
   "execution_count": 12,
   "metadata": {},
   "outputs": [],
   "source": [
    "ss = []\n",
    "for s in symptoms:\n",
    "    if 'iabete' in s:\n",
    "        ss.append('diabetes')\n",
    "    elif 'yperte' in s:\n",
    "        ss.append('hypertension')\n",
    "    else:\n",
    "        ss.append(s)"
   ]
  },
  {
   "cell_type": "code",
   "execution_count": 13,
   "metadata": {
    "scrolled": true
   },
   "outputs": [
    {
     "output_type": "execute_result",
     "data": {
      "text/plain": [
       "{'COPD',\n",
       " 'Chronic kidney disease',\n",
       " \"Parkinson's disease\",\n",
       " 'Pre-renal azotemia',\n",
       " 'and lung cancer',\n",
       " 'asthma',\n",
       " 'atherosclerosis',\n",
       " 'atrial fibrillation',\n",
       " 'benign prostatic hyperplasia',\n",
       " 'benign prostatic hypertrophy',\n",
       " 'bronchial asthma',\n",
       " 'cardiac disease',\n",
       " 'cardiac dysrhythmia',\n",
       " 'cardiomyopathy',\n",
       " 'cardiovascular disease',\n",
       " 'cerebrovascular accident infarct',\n",
       " 'cerebrovascular infarct',\n",
       " 'chronic kidney disease',\n",
       " 'chronic obstructive pulmonary disease',\n",
       " 'colon cancer',\n",
       " 'coronary artery disease',\n",
       " 'coronary artery stenting',\n",
       " 'coronary heart disease',\n",
       " 'coronary heart disease for which a stent had been implanted',\n",
       " 'diabetes',\n",
       " 'dislipidemia',\n",
       " 'dyslipidemia',\n",
       " 'frequent ventricular premature beat (FVPB)',\n",
       " 'hepatitis B',\n",
       " 'hypertension',\n",
       " 'hyperthyroidism',\n",
       " 'hypothyroidism',\n",
       " 'impaired fasting glucose',\n",
       " 'ischemic heart disease',\n",
       " 'pre-renal azotemia',\n",
       " 'prostate cancer',\n",
       " 'prostate hypertrophy',\n",
       " 'renal disease',\n",
       " 'tongue cancer',\n",
       " 'upper git bleeding',\n",
       " 'valvular heart disease'}"
      ]
     },
     "metadata": {},
     "execution_count": 13
    }
   ],
   "source": [
    "symptoms = set(ss)\n",
    "symptoms"
   ]
  },
  {
   "cell_type": "code",
   "execution_count": 14,
   "metadata": {},
   "outputs": [],
   "source": [
    "for s in symptoms:\n",
    "    filtered[s]=np.zeros(len(filtered))"
   ]
  },
  {
   "cell_type": "code",
   "execution_count": 15,
   "metadata": {},
   "outputs": [
    {
     "output_type": "execute_result",
     "data": {
      "text/plain": [
       "     date_confirmation date_death_or_discharge     outcome  \\\n",
       "11          21.02.2020              23.02.2020       death   \n",
       "37          25.01.2020              31.01.2020  discharged   \n",
       "50          02.02.2020              14.02.2020  discharged   \n",
       "77          11.03.2020              11.03.2020       death   \n",
       "84          01.02.2020              01.02.2020        died   \n",
       "...                ...                     ...         ...   \n",
       "539         01.02.2020              01.02.2020        died   \n",
       "544         02.02.2020              14.02.2020  discharged   \n",
       "575         23.01.2020              12.02.2020   discharge   \n",
       "1128        11.03.2020              11.03.2020       death   \n",
       "1139        25.01.2020              31.01.2020  discharged   \n",
       "\n",
       "      chronic_disease_binary  \\\n",
       "11                     False   \n",
       "37                      True   \n",
       "50                      True   \n",
       "77                      True   \n",
       "84                      True   \n",
       "...                      ...   \n",
       "539                     True   \n",
       "544                     True   \n",
       "575                     True   \n",
       "1128                    True   \n",
       "1139                    True   \n",
       "\n",
       "                                        chronic_disease  \\\n",
       "11    Iran; Kuala Lumpur, Federal Territory of Kuala...   \n",
       "37                                         hypertension   \n",
       "50                                                 COPD   \n",
       "77                               diabetes, hypertension   \n",
       "84    \"thought to have had other pre-existing condit...   \n",
       "...                                                 ...   \n",
       "539   \"thought to have had other pre-existing condit...   \n",
       "544                                                COPD   \n",
       "575   history of hypertension, type 2 diabetes, coro...   \n",
       "1128                             diabetes, hypertension   \n",
       "1139                                       hypertension   \n",
       "\n",
       "      coronary artery stenting  dyslipidemia  \\\n",
       "11                         0.0           0.0   \n",
       "37                         0.0           0.0   \n",
       "50                         0.0           0.0   \n",
       "77                         0.0           0.0   \n",
       "84                         0.0           0.0   \n",
       "...                        ...           ...   \n",
       "539                        0.0           0.0   \n",
       "544                        0.0           0.0   \n",
       "575                        0.0           0.0   \n",
       "1128                       0.0           0.0   \n",
       "1139                       0.0           0.0   \n",
       "\n",
       "      cerebrovascular accident infarct  cardiomyopathy  cardiac disease  ...  \\\n",
       "11                                 0.0             0.0              0.0  ...   \n",
       "37                                 0.0             0.0              0.0  ...   \n",
       "50                                 0.0             0.0              0.0  ...   \n",
       "77                                 0.0             0.0              0.0  ...   \n",
       "84                                 0.0             0.0              0.0  ...   \n",
       "...                                ...             ...              ...  ...   \n",
       "539                                0.0             0.0              0.0  ...   \n",
       "544                                0.0             0.0              0.0  ...   \n",
       "575                                0.0             0.0              0.0  ...   \n",
       "1128                               0.0             0.0              0.0  ...   \n",
       "1139                               0.0             0.0              0.0  ...   \n",
       "\n",
       "      benign prostatic hypertrophy  hepatitis B  atrial fibrillation  \\\n",
       "11                             0.0          0.0                  0.0   \n",
       "37                             0.0          0.0                  0.0   \n",
       "50                             0.0          0.0                  0.0   \n",
       "77                             0.0          0.0                  0.0   \n",
       "84                             0.0          0.0                  0.0   \n",
       "...                            ...          ...                  ...   \n",
       "539                            0.0          0.0                  0.0   \n",
       "544                            0.0          0.0                  0.0   \n",
       "575                            0.0          0.0                  0.0   \n",
       "1128                           0.0          0.0                  0.0   \n",
       "1139                           0.0          0.0                  0.0   \n",
       "\n",
       "      renal disease  valvular heart disease  hypertension  \\\n",
       "11              0.0                     0.0           0.0   \n",
       "37              0.0                     0.0           0.0   \n",
       "50              0.0                     0.0           0.0   \n",
       "77              0.0                     0.0           0.0   \n",
       "84              0.0                     0.0           0.0   \n",
       "...             ...                     ...           ...   \n",
       "539             0.0                     0.0           0.0   \n",
       "544             0.0                     0.0           0.0   \n",
       "575             0.0                     0.0           0.0   \n",
       "1128            0.0                     0.0           0.0   \n",
       "1139            0.0                     0.0           0.0   \n",
       "\n",
       "      chronic obstructive pulmonary disease  Parkinson's disease  \\\n",
       "11                                      0.0                  0.0   \n",
       "37                                      0.0                  0.0   \n",
       "50                                      0.0                  0.0   \n",
       "77                                      0.0                  0.0   \n",
       "84                                      0.0                  0.0   \n",
       "...                                     ...                  ...   \n",
       "539                                     0.0                  0.0   \n",
       "544                                     0.0                  0.0   \n",
       "575                                     0.0                  0.0   \n",
       "1128                                    0.0                  0.0   \n",
       "1139                                    0.0                  0.0   \n",
       "\n",
       "      atherosclerosis  bronchial asthma  \n",
       "11                0.0               0.0  \n",
       "37                0.0               0.0  \n",
       "50                0.0               0.0  \n",
       "77                0.0               0.0  \n",
       "84                0.0               0.0  \n",
       "...               ...               ...  \n",
       "539               0.0               0.0  \n",
       "544               0.0               0.0  \n",
       "575               0.0               0.0  \n",
       "1128              0.0               0.0  \n",
       "1139              0.0               0.0  \n",
       "\n",
       "[103 rows x 46 columns]"
      ],
      "text/html": "<div>\n<style scoped>\n    .dataframe tbody tr th:only-of-type {\n        vertical-align: middle;\n    }\n\n    .dataframe tbody tr th {\n        vertical-align: top;\n    }\n\n    .dataframe thead th {\n        text-align: right;\n    }\n</style>\n<table border=\"1\" class=\"dataframe\">\n  <thead>\n    <tr style=\"text-align: right;\">\n      <th></th>\n      <th>date_confirmation</th>\n      <th>date_death_or_discharge</th>\n      <th>outcome</th>\n      <th>chronic_disease_binary</th>\n      <th>chronic_disease</th>\n      <th>coronary artery stenting</th>\n      <th>dyslipidemia</th>\n      <th>cerebrovascular accident infarct</th>\n      <th>cardiomyopathy</th>\n      <th>cardiac disease</th>\n      <th>...</th>\n      <th>benign prostatic hypertrophy</th>\n      <th>hepatitis B</th>\n      <th>atrial fibrillation</th>\n      <th>renal disease</th>\n      <th>valvular heart disease</th>\n      <th>hypertension</th>\n      <th>chronic obstructive pulmonary disease</th>\n      <th>Parkinson's disease</th>\n      <th>atherosclerosis</th>\n      <th>bronchial asthma</th>\n    </tr>\n  </thead>\n  <tbody>\n    <tr>\n      <th>11</th>\n      <td>21.02.2020</td>\n      <td>23.02.2020</td>\n      <td>death</td>\n      <td>False</td>\n      <td>Iran; Kuala Lumpur, Federal Territory of Kuala...</td>\n      <td>0.0</td>\n      <td>0.0</td>\n      <td>0.0</td>\n      <td>0.0</td>\n      <td>0.0</td>\n      <td>...</td>\n      <td>0.0</td>\n      <td>0.0</td>\n      <td>0.0</td>\n      <td>0.0</td>\n      <td>0.0</td>\n      <td>0.0</td>\n      <td>0.0</td>\n      <td>0.0</td>\n      <td>0.0</td>\n      <td>0.0</td>\n    </tr>\n    <tr>\n      <th>37</th>\n      <td>25.01.2020</td>\n      <td>31.01.2020</td>\n      <td>discharged</td>\n      <td>True</td>\n      <td>hypertension</td>\n      <td>0.0</td>\n      <td>0.0</td>\n      <td>0.0</td>\n      <td>0.0</td>\n      <td>0.0</td>\n      <td>...</td>\n      <td>0.0</td>\n      <td>0.0</td>\n      <td>0.0</td>\n      <td>0.0</td>\n      <td>0.0</td>\n      <td>0.0</td>\n      <td>0.0</td>\n      <td>0.0</td>\n      <td>0.0</td>\n      <td>0.0</td>\n    </tr>\n    <tr>\n      <th>50</th>\n      <td>02.02.2020</td>\n      <td>14.02.2020</td>\n      <td>discharged</td>\n      <td>True</td>\n      <td>COPD</td>\n      <td>0.0</td>\n      <td>0.0</td>\n      <td>0.0</td>\n      <td>0.0</td>\n      <td>0.0</td>\n      <td>...</td>\n      <td>0.0</td>\n      <td>0.0</td>\n      <td>0.0</td>\n      <td>0.0</td>\n      <td>0.0</td>\n      <td>0.0</td>\n      <td>0.0</td>\n      <td>0.0</td>\n      <td>0.0</td>\n      <td>0.0</td>\n    </tr>\n    <tr>\n      <th>77</th>\n      <td>11.03.2020</td>\n      <td>11.03.2020</td>\n      <td>death</td>\n      <td>True</td>\n      <td>diabetes, hypertension</td>\n      <td>0.0</td>\n      <td>0.0</td>\n      <td>0.0</td>\n      <td>0.0</td>\n      <td>0.0</td>\n      <td>...</td>\n      <td>0.0</td>\n      <td>0.0</td>\n      <td>0.0</td>\n      <td>0.0</td>\n      <td>0.0</td>\n      <td>0.0</td>\n      <td>0.0</td>\n      <td>0.0</td>\n      <td>0.0</td>\n      <td>0.0</td>\n    </tr>\n    <tr>\n      <th>84</th>\n      <td>01.02.2020</td>\n      <td>01.02.2020</td>\n      <td>died</td>\n      <td>True</td>\n      <td>\"thought to have had other pre-existing condit...</td>\n      <td>0.0</td>\n      <td>0.0</td>\n      <td>0.0</td>\n      <td>0.0</td>\n      <td>0.0</td>\n      <td>...</td>\n      <td>0.0</td>\n      <td>0.0</td>\n      <td>0.0</td>\n      <td>0.0</td>\n      <td>0.0</td>\n      <td>0.0</td>\n      <td>0.0</td>\n      <td>0.0</td>\n      <td>0.0</td>\n      <td>0.0</td>\n    </tr>\n    <tr>\n      <th>...</th>\n      <td>...</td>\n      <td>...</td>\n      <td>...</td>\n      <td>...</td>\n      <td>...</td>\n      <td>...</td>\n      <td>...</td>\n      <td>...</td>\n      <td>...</td>\n      <td>...</td>\n      <td>...</td>\n      <td>...</td>\n      <td>...</td>\n      <td>...</td>\n      <td>...</td>\n      <td>...</td>\n      <td>...</td>\n      <td>...</td>\n      <td>...</td>\n      <td>...</td>\n      <td>...</td>\n    </tr>\n    <tr>\n      <th>539</th>\n      <td>01.02.2020</td>\n      <td>01.02.2020</td>\n      <td>died</td>\n      <td>True</td>\n      <td>\"thought to have had other pre-existing condit...</td>\n      <td>0.0</td>\n      <td>0.0</td>\n      <td>0.0</td>\n      <td>0.0</td>\n      <td>0.0</td>\n      <td>...</td>\n      <td>0.0</td>\n      <td>0.0</td>\n      <td>0.0</td>\n      <td>0.0</td>\n      <td>0.0</td>\n      <td>0.0</td>\n      <td>0.0</td>\n      <td>0.0</td>\n      <td>0.0</td>\n      <td>0.0</td>\n    </tr>\n    <tr>\n      <th>544</th>\n      <td>02.02.2020</td>\n      <td>14.02.2020</td>\n      <td>discharged</td>\n      <td>True</td>\n      <td>COPD</td>\n      <td>0.0</td>\n      <td>0.0</td>\n      <td>0.0</td>\n      <td>0.0</td>\n      <td>0.0</td>\n      <td>...</td>\n      <td>0.0</td>\n      <td>0.0</td>\n      <td>0.0</td>\n      <td>0.0</td>\n      <td>0.0</td>\n      <td>0.0</td>\n      <td>0.0</td>\n      <td>0.0</td>\n      <td>0.0</td>\n      <td>0.0</td>\n    </tr>\n    <tr>\n      <th>575</th>\n      <td>23.01.2020</td>\n      <td>12.02.2020</td>\n      <td>discharge</td>\n      <td>True</td>\n      <td>history of hypertension, type 2 diabetes, coro...</td>\n      <td>0.0</td>\n      <td>0.0</td>\n      <td>0.0</td>\n      <td>0.0</td>\n      <td>0.0</td>\n      <td>...</td>\n      <td>0.0</td>\n      <td>0.0</td>\n      <td>0.0</td>\n      <td>0.0</td>\n      <td>0.0</td>\n      <td>0.0</td>\n      <td>0.0</td>\n      <td>0.0</td>\n      <td>0.0</td>\n      <td>0.0</td>\n    </tr>\n    <tr>\n      <th>1128</th>\n      <td>11.03.2020</td>\n      <td>11.03.2020</td>\n      <td>death</td>\n      <td>True</td>\n      <td>diabetes, hypertension</td>\n      <td>0.0</td>\n      <td>0.0</td>\n      <td>0.0</td>\n      <td>0.0</td>\n      <td>0.0</td>\n      <td>...</td>\n      <td>0.0</td>\n      <td>0.0</td>\n      <td>0.0</td>\n      <td>0.0</td>\n      <td>0.0</td>\n      <td>0.0</td>\n      <td>0.0</td>\n      <td>0.0</td>\n      <td>0.0</td>\n      <td>0.0</td>\n    </tr>\n    <tr>\n      <th>1139</th>\n      <td>25.01.2020</td>\n      <td>31.01.2020</td>\n      <td>discharged</td>\n      <td>True</td>\n      <td>hypertension</td>\n      <td>0.0</td>\n      <td>0.0</td>\n      <td>0.0</td>\n      <td>0.0</td>\n      <td>0.0</td>\n      <td>...</td>\n      <td>0.0</td>\n      <td>0.0</td>\n      <td>0.0</td>\n      <td>0.0</td>\n      <td>0.0</td>\n      <td>0.0</td>\n      <td>0.0</td>\n      <td>0.0</td>\n      <td>0.0</td>\n      <td>0.0</td>\n    </tr>\n  </tbody>\n</table>\n<p>103 rows × 46 columns</p>\n</div>"
     },
     "metadata": {},
     "execution_count": 15
    }
   ],
   "source": [
    "filtered"
   ]
  },
  {
   "cell_type": "code",
   "execution_count": 16,
   "metadata": {},
   "outputs": [],
   "source": [
    "length = len(filtered)\n",
    "filtered.index = list(range(length))\n",
    "\n",
    "for idx in range(length):\n",
    "    sym = filtered.loc[idx,['chronic_disease']][0]\n",
    "    sym = re.split(':|,|;',sym)\n",
    "    for s in sym:\n",
    "        if s in symptoms:\n",
    "            filtered.loc[idx,[s]]=1\n",
    "        elif 'iabete' in s:\n",
    "            filtered.loc[idx,['diabetes']]=1\n",
    "        elif 'yperte' in s:\n",
    "            filtered.loc[idx,['hypertension']]=1\n",
    "        else:\n",
    "            pass"
   ]
  },
  {
   "cell_type": "code",
   "execution_count": 17,
   "metadata": {},
   "outputs": [
    {
     "output_type": "execute_result",
     "data": {
      "text/plain": [
       "{'date_confirmation': '25.01.2020',\n",
       " 'date_death_or_discharge': '31.01.2020',\n",
       " 'outcome': 'discharged',\n",
       " 'chronic_disease_binary': True,\n",
       " 'chronic_disease': 'hypertension',\n",
       " 'coronary artery stenting': 0.0,\n",
       " 'dyslipidemia': 0.0,\n",
       " 'cerebrovascular accident infarct': 0.0,\n",
       " 'cardiomyopathy': 0.0,\n",
       " 'cardiac disease': 0.0,\n",
       " 'dislipidemia': 0.0,\n",
       " 'asthma': 0.0,\n",
       " 'Chronic kidney disease': 0.0,\n",
       " 'COPD': 0.0,\n",
       " 'cardiovascular disease': 0.0,\n",
       " 'prostate hypertrophy': 0.0,\n",
       " 'Pre-renal azotemia': 0.0,\n",
       " 'coronary artery disease': 0.0,\n",
       " 'cardiac dysrhythmia': 0.0,\n",
       " 'diabetes': 0.0,\n",
       " 'upper git bleeding': 0.0,\n",
       " 'frequent ventricular premature beat (FVPB)': 0.0,\n",
       " 'hypothyroidism': 0.0,\n",
       " 'coronary heart disease': 0.0,\n",
       " 'ischemic heart disease': 0.0,\n",
       " 'chronic kidney disease': 0.0,\n",
       " 'pre-renal azotemia': 0.0,\n",
       " 'impaired fasting glucose': 0.0,\n",
       " 'and lung cancer': 0.0,\n",
       " 'prostate cancer': 0.0,\n",
       " 'colon cancer': 0.0,\n",
       " 'benign prostatic hyperplasia': 0.0,\n",
       " 'coronary heart disease for which a stent had been implanted': 0.0,\n",
       " 'cerebrovascular infarct': 0.0,\n",
       " 'tongue cancer': 0.0,\n",
       " 'hyperthyroidism': 0.0,\n",
       " 'benign prostatic hypertrophy': 0.0,\n",
       " 'hepatitis B': 0.0,\n",
       " 'atrial fibrillation': 0.0,\n",
       " 'renal disease': 0.0,\n",
       " 'valvular heart disease': 0.0,\n",
       " 'hypertension': 1.0,\n",
       " 'chronic obstructive pulmonary disease': 0.0,\n",
       " \"Parkinson's disease\": 0.0,\n",
       " 'atherosclerosis': 0.0,\n",
       " 'bronchial asthma': 0.0}"
      ]
     },
     "metadata": {},
     "execution_count": 17
    }
   ],
   "source": [
    "filtered.loc[1].to_dict()"
   ]
  },
  {
   "cell_type": "markdown",
   "metadata": {},
   "source": [
    "## data 관련"
   ]
  },
  {
   "cell_type": "code",
   "execution_count": 18,
   "metadata": {
    "executionInfo": {
     "elapsed": 33496,
     "status": "ok",
     "timestamp": 1610679342969,
     "user": {
      "displayName": "장승운",
      "photoUrl": "",
      "userId": "09116233606503711736"
     },
     "user_tz": -540
    },
    "id": "LkbD5C1DMW7y"
   },
   "outputs": [],
   "source": [
    "filtered['outcome']=filtered['outcome'].apply(lambda x: 1 if x == 'died' or x == 'death' or  x == 'dead' or x == 'Deceased' or x == 'Died' or x == 'Death' or x == 'Dead'else 0 )"
   ]
  },
  {
   "cell_type": "code",
   "execution_count": 19,
   "metadata": {
    "colab": {
     "base_uri": "https://localhost:8080/"
    },
    "executionInfo": {
     "elapsed": 32951,
     "status": "ok",
     "timestamp": 1610679342971,
     "user": {
      "displayName": "장승운",
      "photoUrl": "",
      "userId": "09116233606503711736"
     },
     "user_tz": -540
    },
    "id": "uFgQ-YMwMW-M",
    "outputId": "7083bedd-88bb-4020-bd2a-7274a1ff365a"
   },
   "outputs": [
    {
     "output_type": "execute_result",
     "data": {
      "text/plain": [
       "1    84\n",
       "0    19\n",
       "Name: outcome, dtype: int64"
      ]
     },
     "metadata": {},
     "execution_count": 19
    }
   ],
   "source": [
    "filtered[\"outcome\"].value_counts()"
   ]
  },
  {
   "cell_type": "code",
   "execution_count": 20,
   "metadata": {
    "executionInfo": {
     "elapsed": 32683,
     "status": "ok",
     "timestamp": 1610679342973,
     "user": {
      "displayName": "장승운",
      "photoUrl": "",
      "userId": "09116233606503711736"
     },
     "user_tz": -540
    },
    "id": "TGFRntNWNBbf"
   },
   "outputs": [],
   "source": [
    "d,m,y = filtered.loc[1,['date_confirmation']][0].split('.')"
   ]
  },
  {
   "cell_type": "code",
   "execution_count": 21,
   "metadata": {
    "executionInfo": {
     "elapsed": 32392,
     "status": "ok",
     "timestamp": 1610679342975,
     "user": {
      "displayName": "장승운",
      "photoUrl": "",
      "userId": "09116233606503711736"
     },
     "user_tz": -540
    },
    "id": "6GSyki1aNBeV"
   },
   "outputs": [],
   "source": [
    "from datetime import datetime"
   ]
  },
  {
   "cell_type": "code",
   "execution_count": 22,
   "metadata": {
    "executionInfo": {
     "elapsed": 31519,
     "status": "ok",
     "timestamp": 1610679342979,
     "user": {
      "displayName": "장승운",
      "photoUrl": "",
      "userId": "09116233606503711736"
     },
     "user_tz": -540
    },
    "id": "tI2tUf35MXAO"
   },
   "outputs": [],
   "source": [
    "length = len(filtered)\n",
    "filtered.index = list(range(length))"
   ]
  },
  {
   "cell_type": "code",
   "execution_count": 23,
   "metadata": {
    "colab": {
     "base_uri": "https://localhost:8080/",
     "height": 419
    },
    "executionInfo": {
     "elapsed": 31037,
     "status": "ok",
     "timestamp": 1610679342981,
     "user": {
      "displayName": "장승운",
      "photoUrl": "",
      "userId": "09116233606503711736"
     },
     "user_tz": -540
    },
    "id": "iQ5S5h1TRnzy",
    "outputId": "2cf10f44-b384-4179-8742-12f40cc7a9e2"
   },
   "outputs": [
    {
     "output_type": "execute_result",
     "data": {
      "text/plain": [
       "    date_confirmation date_death_or_discharge  outcome  \\\n",
       "0          21.02.2020              23.02.2020        1   \n",
       "1          25.01.2020              31.01.2020        0   \n",
       "2          02.02.2020              14.02.2020        0   \n",
       "3          11.03.2020              11.03.2020        1   \n",
       "4          01.02.2020              01.02.2020        1   \n",
       "..                ...                     ...      ...   \n",
       "98         01.02.2020              01.02.2020        1   \n",
       "99         02.02.2020              14.02.2020        0   \n",
       "100        23.01.2020              12.02.2020        0   \n",
       "101        11.03.2020              11.03.2020        1   \n",
       "102        25.01.2020              31.01.2020        0   \n",
       "\n",
       "     chronic_disease_binary  \\\n",
       "0                     False   \n",
       "1                      True   \n",
       "2                      True   \n",
       "3                      True   \n",
       "4                      True   \n",
       "..                      ...   \n",
       "98                     True   \n",
       "99                     True   \n",
       "100                    True   \n",
       "101                    True   \n",
       "102                    True   \n",
       "\n",
       "                                       chronic_disease  \\\n",
       "0    Iran; Kuala Lumpur, Federal Territory of Kuala...   \n",
       "1                                         hypertension   \n",
       "2                                                 COPD   \n",
       "3                               diabetes, hypertension   \n",
       "4    \"thought to have had other pre-existing condit...   \n",
       "..                                                 ...   \n",
       "98   \"thought to have had other pre-existing condit...   \n",
       "99                                                COPD   \n",
       "100  history of hypertension, type 2 diabetes, coro...   \n",
       "101                             diabetes, hypertension   \n",
       "102                                       hypertension   \n",
       "\n",
       "     coronary artery stenting  dyslipidemia  cerebrovascular accident infarct  \\\n",
       "0                         0.0           0.0                               0.0   \n",
       "1                         0.0           0.0                               0.0   \n",
       "2                         0.0           0.0                               0.0   \n",
       "3                         0.0           0.0                               0.0   \n",
       "4                         0.0           0.0                               0.0   \n",
       "..                        ...           ...                               ...   \n",
       "98                        0.0           0.0                               0.0   \n",
       "99                        0.0           0.0                               0.0   \n",
       "100                       0.0           0.0                               0.0   \n",
       "101                       0.0           0.0                               0.0   \n",
       "102                       0.0           0.0                               0.0   \n",
       "\n",
       "     cardiomyopathy  cardiac disease  ...  benign prostatic hypertrophy  \\\n",
       "0               0.0              0.0  ...                           0.0   \n",
       "1               0.0              0.0  ...                           0.0   \n",
       "2               0.0              0.0  ...                           0.0   \n",
       "3               0.0              0.0  ...                           0.0   \n",
       "4               0.0              0.0  ...                           0.0   \n",
       "..              ...              ...  ...                           ...   \n",
       "98              0.0              0.0  ...                           0.0   \n",
       "99              0.0              0.0  ...                           0.0   \n",
       "100             0.0              0.0  ...                           0.0   \n",
       "101             0.0              0.0  ...                           0.0   \n",
       "102             0.0              0.0  ...                           0.0   \n",
       "\n",
       "     hepatitis B  atrial fibrillation  renal disease  valvular heart disease  \\\n",
       "0            0.0                  0.0            0.0                     0.0   \n",
       "1            0.0                  0.0            0.0                     0.0   \n",
       "2            0.0                  0.0            0.0                     0.0   \n",
       "3            0.0                  0.0            0.0                     0.0   \n",
       "4            0.0                  0.0            0.0                     0.0   \n",
       "..           ...                  ...            ...                     ...   \n",
       "98           0.0                  0.0            0.0                     0.0   \n",
       "99           0.0                  0.0            0.0                     0.0   \n",
       "100          0.0                  0.0            0.0                     0.0   \n",
       "101          0.0                  0.0            0.0                     0.0   \n",
       "102          0.0                  0.0            0.0                     0.0   \n",
       "\n",
       "     hypertension  chronic obstructive pulmonary disease  Parkinson's disease  \\\n",
       "0             0.0                                    0.0                  0.0   \n",
       "1             1.0                                    0.0                  0.0   \n",
       "2             0.0                                    0.0                  0.0   \n",
       "3             1.0                                    0.0                  0.0   \n",
       "4             0.0                                    0.0                  0.0   \n",
       "..            ...                                    ...                  ...   \n",
       "98            0.0                                    0.0                  0.0   \n",
       "99            0.0                                    0.0                  0.0   \n",
       "100           1.0                                    0.0                  0.0   \n",
       "101           1.0                                    0.0                  0.0   \n",
       "102           1.0                                    0.0                  0.0   \n",
       "\n",
       "     atherosclerosis  bronchial asthma  \n",
       "0                0.0               0.0  \n",
       "1                0.0               0.0  \n",
       "2                0.0               0.0  \n",
       "3                0.0               0.0  \n",
       "4                0.0               0.0  \n",
       "..               ...               ...  \n",
       "98               0.0               0.0  \n",
       "99               0.0               0.0  \n",
       "100              0.0               0.0  \n",
       "101              0.0               0.0  \n",
       "102              0.0               0.0  \n",
       "\n",
       "[103 rows x 46 columns]"
      ],
      "text/html": "<div>\n<style scoped>\n    .dataframe tbody tr th:only-of-type {\n        vertical-align: middle;\n    }\n\n    .dataframe tbody tr th {\n        vertical-align: top;\n    }\n\n    .dataframe thead th {\n        text-align: right;\n    }\n</style>\n<table border=\"1\" class=\"dataframe\">\n  <thead>\n    <tr style=\"text-align: right;\">\n      <th></th>\n      <th>date_confirmation</th>\n      <th>date_death_or_discharge</th>\n      <th>outcome</th>\n      <th>chronic_disease_binary</th>\n      <th>chronic_disease</th>\n      <th>coronary artery stenting</th>\n      <th>dyslipidemia</th>\n      <th>cerebrovascular accident infarct</th>\n      <th>cardiomyopathy</th>\n      <th>cardiac disease</th>\n      <th>...</th>\n      <th>benign prostatic hypertrophy</th>\n      <th>hepatitis B</th>\n      <th>atrial fibrillation</th>\n      <th>renal disease</th>\n      <th>valvular heart disease</th>\n      <th>hypertension</th>\n      <th>chronic obstructive pulmonary disease</th>\n      <th>Parkinson's disease</th>\n      <th>atherosclerosis</th>\n      <th>bronchial asthma</th>\n    </tr>\n  </thead>\n  <tbody>\n    <tr>\n      <th>0</th>\n      <td>21.02.2020</td>\n      <td>23.02.2020</td>\n      <td>1</td>\n      <td>False</td>\n      <td>Iran; Kuala Lumpur, Federal Territory of Kuala...</td>\n      <td>0.0</td>\n      <td>0.0</td>\n      <td>0.0</td>\n      <td>0.0</td>\n      <td>0.0</td>\n      <td>...</td>\n      <td>0.0</td>\n      <td>0.0</td>\n      <td>0.0</td>\n      <td>0.0</td>\n      <td>0.0</td>\n      <td>0.0</td>\n      <td>0.0</td>\n      <td>0.0</td>\n      <td>0.0</td>\n      <td>0.0</td>\n    </tr>\n    <tr>\n      <th>1</th>\n      <td>25.01.2020</td>\n      <td>31.01.2020</td>\n      <td>0</td>\n      <td>True</td>\n      <td>hypertension</td>\n      <td>0.0</td>\n      <td>0.0</td>\n      <td>0.0</td>\n      <td>0.0</td>\n      <td>0.0</td>\n      <td>...</td>\n      <td>0.0</td>\n      <td>0.0</td>\n      <td>0.0</td>\n      <td>0.0</td>\n      <td>0.0</td>\n      <td>1.0</td>\n      <td>0.0</td>\n      <td>0.0</td>\n      <td>0.0</td>\n      <td>0.0</td>\n    </tr>\n    <tr>\n      <th>2</th>\n      <td>02.02.2020</td>\n      <td>14.02.2020</td>\n      <td>0</td>\n      <td>True</td>\n      <td>COPD</td>\n      <td>0.0</td>\n      <td>0.0</td>\n      <td>0.0</td>\n      <td>0.0</td>\n      <td>0.0</td>\n      <td>...</td>\n      <td>0.0</td>\n      <td>0.0</td>\n      <td>0.0</td>\n      <td>0.0</td>\n      <td>0.0</td>\n      <td>0.0</td>\n      <td>0.0</td>\n      <td>0.0</td>\n      <td>0.0</td>\n      <td>0.0</td>\n    </tr>\n    <tr>\n      <th>3</th>\n      <td>11.03.2020</td>\n      <td>11.03.2020</td>\n      <td>1</td>\n      <td>True</td>\n      <td>diabetes, hypertension</td>\n      <td>0.0</td>\n      <td>0.0</td>\n      <td>0.0</td>\n      <td>0.0</td>\n      <td>0.0</td>\n      <td>...</td>\n      <td>0.0</td>\n      <td>0.0</td>\n      <td>0.0</td>\n      <td>0.0</td>\n      <td>0.0</td>\n      <td>1.0</td>\n      <td>0.0</td>\n      <td>0.0</td>\n      <td>0.0</td>\n      <td>0.0</td>\n    </tr>\n    <tr>\n      <th>4</th>\n      <td>01.02.2020</td>\n      <td>01.02.2020</td>\n      <td>1</td>\n      <td>True</td>\n      <td>\"thought to have had other pre-existing condit...</td>\n      <td>0.0</td>\n      <td>0.0</td>\n      <td>0.0</td>\n      <td>0.0</td>\n      <td>0.0</td>\n      <td>...</td>\n      <td>0.0</td>\n      <td>0.0</td>\n      <td>0.0</td>\n      <td>0.0</td>\n      <td>0.0</td>\n      <td>0.0</td>\n      <td>0.0</td>\n      <td>0.0</td>\n      <td>0.0</td>\n      <td>0.0</td>\n    </tr>\n    <tr>\n      <th>...</th>\n      <td>...</td>\n      <td>...</td>\n      <td>...</td>\n      <td>...</td>\n      <td>...</td>\n      <td>...</td>\n      <td>...</td>\n      <td>...</td>\n      <td>...</td>\n      <td>...</td>\n      <td>...</td>\n      <td>...</td>\n      <td>...</td>\n      <td>...</td>\n      <td>...</td>\n      <td>...</td>\n      <td>...</td>\n      <td>...</td>\n      <td>...</td>\n      <td>...</td>\n      <td>...</td>\n    </tr>\n    <tr>\n      <th>98</th>\n      <td>01.02.2020</td>\n      <td>01.02.2020</td>\n      <td>1</td>\n      <td>True</td>\n      <td>\"thought to have had other pre-existing condit...</td>\n      <td>0.0</td>\n      <td>0.0</td>\n      <td>0.0</td>\n      <td>0.0</td>\n      <td>0.0</td>\n      <td>...</td>\n      <td>0.0</td>\n      <td>0.0</td>\n      <td>0.0</td>\n      <td>0.0</td>\n      <td>0.0</td>\n      <td>0.0</td>\n      <td>0.0</td>\n      <td>0.0</td>\n      <td>0.0</td>\n      <td>0.0</td>\n    </tr>\n    <tr>\n      <th>99</th>\n      <td>02.02.2020</td>\n      <td>14.02.2020</td>\n      <td>0</td>\n      <td>True</td>\n      <td>COPD</td>\n      <td>0.0</td>\n      <td>0.0</td>\n      <td>0.0</td>\n      <td>0.0</td>\n      <td>0.0</td>\n      <td>...</td>\n      <td>0.0</td>\n      <td>0.0</td>\n      <td>0.0</td>\n      <td>0.0</td>\n      <td>0.0</td>\n      <td>0.0</td>\n      <td>0.0</td>\n      <td>0.0</td>\n      <td>0.0</td>\n      <td>0.0</td>\n    </tr>\n    <tr>\n      <th>100</th>\n      <td>23.01.2020</td>\n      <td>12.02.2020</td>\n      <td>0</td>\n      <td>True</td>\n      <td>history of hypertension, type 2 diabetes, coro...</td>\n      <td>0.0</td>\n      <td>0.0</td>\n      <td>0.0</td>\n      <td>0.0</td>\n      <td>0.0</td>\n      <td>...</td>\n      <td>0.0</td>\n      <td>0.0</td>\n      <td>0.0</td>\n      <td>0.0</td>\n      <td>0.0</td>\n      <td>1.0</td>\n      <td>0.0</td>\n      <td>0.0</td>\n      <td>0.0</td>\n      <td>0.0</td>\n    </tr>\n    <tr>\n      <th>101</th>\n      <td>11.03.2020</td>\n      <td>11.03.2020</td>\n      <td>1</td>\n      <td>True</td>\n      <td>diabetes, hypertension</td>\n      <td>0.0</td>\n      <td>0.0</td>\n      <td>0.0</td>\n      <td>0.0</td>\n      <td>0.0</td>\n      <td>...</td>\n      <td>0.0</td>\n      <td>0.0</td>\n      <td>0.0</td>\n      <td>0.0</td>\n      <td>0.0</td>\n      <td>1.0</td>\n      <td>0.0</td>\n      <td>0.0</td>\n      <td>0.0</td>\n      <td>0.0</td>\n    </tr>\n    <tr>\n      <th>102</th>\n      <td>25.01.2020</td>\n      <td>31.01.2020</td>\n      <td>0</td>\n      <td>True</td>\n      <td>hypertension</td>\n      <td>0.0</td>\n      <td>0.0</td>\n      <td>0.0</td>\n      <td>0.0</td>\n      <td>0.0</td>\n      <td>...</td>\n      <td>0.0</td>\n      <td>0.0</td>\n      <td>0.0</td>\n      <td>0.0</td>\n      <td>0.0</td>\n      <td>1.0</td>\n      <td>0.0</td>\n      <td>0.0</td>\n      <td>0.0</td>\n      <td>0.0</td>\n    </tr>\n  </tbody>\n</table>\n<p>103 rows × 46 columns</p>\n</div>"
     },
     "metadata": {},
     "execution_count": 23
    }
   ],
   "source": [
    "filtered"
   ]
  },
  {
   "cell_type": "code",
   "execution_count": 24,
   "metadata": {
    "executionInfo": {
     "elapsed": 2701,
     "status": "ok",
     "timestamp": 1610679366383,
     "user": {
      "displayName": "장승운",
      "photoUrl": "",
      "userId": "09116233606503711736"
     },
     "user_tz": -540
    },
    "id": "NMTAvlXKPOt7"
   },
   "outputs": [],
   "source": [
    "from datetime import datetime\n",
    "\n",
    "days = []\n",
    "for idx in range(length):\n",
    "  conf = filtered.loc[idx,['date_confirmation']][0]\n",
    "  if '-' in conf:\n",
    "    a,b,c = conf.split(\" - \")[0].split('.')\n",
    "  else:\n",
    "    a,b,c = conf.split('.')\n",
    "  dead = filtered.loc[idx,['date_death_or_discharge']][0]\n",
    "  if '-' in dead:\n",
    "    x,y,z = dead.split(\" - \")[0].split('.')\n",
    "  else:\n",
    "    x,y,z = dead.split('.')\n",
    "\n",
    "  if int(y) > 12:\n",
    "    t = x\n",
    "    x=y\n",
    "    y=t\n",
    "  if int(b) > 12:\n",
    "    t = a\n",
    "    a=b\n",
    "    b=t\n",
    "\n",
    "  death = datetime(int(z),int(y),int(x),0,0,0)\n",
    "  confirm = datetime(int(c),int(b),int(a),0,0,0)\n",
    "  days.append((death-confirm).days)\n"
   ]
  },
  {
   "cell_type": "code",
   "execution_count": 25,
   "metadata": {
    "executionInfo": {
     "elapsed": 1297,
     "status": "ok",
     "timestamp": 1610679377223,
     "user": {
      "displayName": "장승운",
      "photoUrl": "",
      "userId": "09116233606503711736"
     },
     "user_tz": -540
    },
    "id": "glucPSbYMXC_"
   },
   "outputs": [],
   "source": [
    "filtered[\"days\"] = days"
   ]
  },
  {
   "cell_type": "code",
   "execution_count": 26,
   "metadata": {
    "colab": {
     "base_uri": "https://localhost:8080/",
     "height": 419
    },
    "executionInfo": {
     "elapsed": 776,
     "status": "ok",
     "timestamp": 1610679378760,
     "user": {
      "displayName": "장승운",
      "photoUrl": "",
      "userId": "09116233606503711736"
     },
     "user_tz": -540
    },
    "id": "pcd88seoLOz1",
    "outputId": "a2f300cb-51bb-4c2a-e4fd-929b844e09f4"
   },
   "outputs": [
    {
     "output_type": "execute_result",
     "data": {
      "text/plain": [
       "   date_confirmation date_death_or_discharge  outcome  chronic_disease_binary  \\\n",
       "31        13.03.2020              11.03.2020        1                    True   \n",
       "42        18.03.2020              17.03.2020        1                    True   \n",
       "43        19.03.2020              12.03.2020        1                    True   \n",
       "44        19.03.2020              18.03.2020        1                    True   \n",
       "46        20.03.2020              16.03.2020        1                    True   \n",
       "47        21.03.2020              14.03.2020        1                    True   \n",
       "48        21.03.2020              20.03.2020        1                    True   \n",
       "49        21.03.2020              19.03.2020        1                    True   \n",
       "51        21.03.2020              16.03.2020        1                    True   \n",
       "52        21.03.2020              19.03.2020        1                    True   \n",
       "53        21.03.2020              20.03.2020        1                    True   \n",
       "57        21.03.2020              16.03.2020        1                    True   \n",
       "58        21.03.2020              15.03.2020        1                    True   \n",
       "59        21.03.2020              13.03.2020        1                    True   \n",
       "61        21.03.2020              17.03.2020        1                    True   \n",
       "64        22.03.2020              18.03.2020        1                    True   \n",
       "65        22.03.2020              17.03.2020        1                    True   \n",
       "66        22.03.2020              19.03.2020        1                    True   \n",
       "67        22.03.2020              21.03.2020        1                    True   \n",
       "68        23.03.2020              03.22.2020        1                    True   \n",
       "70        22.03.2020              18.03.2020        1                    True   \n",
       "71        22.03.2020              17.03.2020        1                    True   \n",
       "73        24.03.2020              20.03.2020        1                    True   \n",
       "74        24.03.2020              14.03.2020        1                    True   \n",
       "77        24.03.2020              22.03.2020        1                    True   \n",
       "78        25.03.2020              24.03.2020        1                    True   \n",
       "79        25.03.2020              19.03.2020        1                    True   \n",
       "81        25.03.2020              24.03.2020        1                    True   \n",
       "83        25.03.2020              19.03.2020        1                    True   \n",
       "85        25.03.2020              20.03.2020        1                    True   \n",
       "87        26.03.2020              23.03.2020        1                    True   \n",
       "88        26.03.2020              25.03.2020        1                    True   \n",
       "89        27.03.2020              21.03.2020        1                    True   \n",
       "96        27.03.2020              21.03.2020        1                    True   \n",
       "\n",
       "                                      chronic_disease  \\\n",
       "31       diabetes:hypertension:chronic kidney disease   \n",
       "42                                           diabetes   \n",
       "43                              diabetes:hypertension   \n",
       "44                              diabetes:hypertension   \n",
       "46                              diabetes:hypertension   \n",
       "47                                           diabetes   \n",
       "48  Pre-renal azotemia:cardiomyopathy:hypertension...   \n",
       "49                       hypertension:diabetes:asthma   \n",
       "51  chronic kidney disease:hypertension:diabetes:i...   \n",
       "52           pre-renal azotemia:diabetes:hypertension   \n",
       "53                       benign prostatic hyperplasia   \n",
       "57                 hypertension:diabetes:dislipidemia   \n",
       "58                         hypertension:renal disease   \n",
       "59                hypertension:chronic kidney disease   \n",
       "61                              diabetes:hypertension   \n",
       "64       hypertension:diabetes:chronic kidney disease   \n",
       "65                              hypertension:diabetes   \n",
       "66  atrial fibrillation:hypertension:atheroscleros...   \n",
       "67                       hypertension:cardiac disease   \n",
       "68      hypertension:coronary artery disease:diabetes   \n",
       "70                                       hypertension   \n",
       "71                             chronic kidney disease   \n",
       "73                                           diabetes   \n",
       "74              chronic obstructive pulmonary disease   \n",
       "77          hypertension:hypothyroidism:renal disease   \n",
       "78                                       hypertension   \n",
       "79  hypertension:diabetes:tongue cancer:cardiovasc...   \n",
       "81       hypertension:diabetes:chronic kidney disease   \n",
       "83                              hypertension:diabetes   \n",
       "85                              hypertension:diabetes   \n",
       "87                     hypertension; diabetes; asthma   \n",
       "88                                       hypertension   \n",
       "89                       hypertension:cardiac disease   \n",
       "96                              diabetes:hypertension   \n",
       "\n",
       "    coronary artery stenting  dyslipidemia  cerebrovascular accident infarct  \\\n",
       "31                       0.0           0.0                               0.0   \n",
       "42                       0.0           0.0                               0.0   \n",
       "43                       0.0           0.0                               0.0   \n",
       "44                       0.0           0.0                               0.0   \n",
       "46                       0.0           0.0                               0.0   \n",
       "47                       0.0           0.0                               0.0   \n",
       "48                       0.0           0.0                               0.0   \n",
       "49                       0.0           0.0                               0.0   \n",
       "51                       0.0           0.0                               0.0   \n",
       "52                       0.0           0.0                               0.0   \n",
       "53                       0.0           0.0                               0.0   \n",
       "57                       0.0           0.0                               0.0   \n",
       "58                       0.0           0.0                               0.0   \n",
       "59                       0.0           0.0                               0.0   \n",
       "61                       0.0           0.0                               0.0   \n",
       "64                       0.0           0.0                               0.0   \n",
       "65                       0.0           0.0                               0.0   \n",
       "66                       0.0           0.0                               0.0   \n",
       "67                       0.0           0.0                               0.0   \n",
       "68                       0.0           0.0                               0.0   \n",
       "70                       0.0           0.0                               0.0   \n",
       "71                       0.0           0.0                               0.0   \n",
       "73                       0.0           0.0                               0.0   \n",
       "74                       0.0           0.0                               0.0   \n",
       "77                       0.0           0.0                               0.0   \n",
       "78                       0.0           0.0                               0.0   \n",
       "79                       0.0           0.0                               0.0   \n",
       "81                       0.0           0.0                               0.0   \n",
       "83                       0.0           0.0                               0.0   \n",
       "85                       0.0           0.0                               0.0   \n",
       "87                       0.0           0.0                               0.0   \n",
       "88                       0.0           0.0                               0.0   \n",
       "89                       0.0           0.0                               0.0   \n",
       "96                       0.0           0.0                               0.0   \n",
       "\n",
       "    cardiomyopathy  cardiac disease  ...  hepatitis B  atrial fibrillation  \\\n",
       "31             0.0              0.0  ...          0.0                  0.0   \n",
       "42             0.0              0.0  ...          0.0                  0.0   \n",
       "43             0.0              0.0  ...          0.0                  0.0   \n",
       "44             0.0              0.0  ...          0.0                  0.0   \n",
       "46             0.0              0.0  ...          0.0                  0.0   \n",
       "47             0.0              0.0  ...          0.0                  0.0   \n",
       "48             1.0              0.0  ...          0.0                  0.0   \n",
       "49             0.0              0.0  ...          0.0                  0.0   \n",
       "51             0.0              0.0  ...          0.0                  0.0   \n",
       "52             0.0              0.0  ...          0.0                  0.0   \n",
       "53             0.0              0.0  ...          0.0                  0.0   \n",
       "57             0.0              0.0  ...          0.0                  0.0   \n",
       "58             0.0              0.0  ...          0.0                  0.0   \n",
       "59             0.0              0.0  ...          0.0                  0.0   \n",
       "61             0.0              0.0  ...          0.0                  0.0   \n",
       "64             0.0              0.0  ...          0.0                  0.0   \n",
       "65             0.0              0.0  ...          0.0                  0.0   \n",
       "66             0.0              0.0  ...          0.0                  1.0   \n",
       "67             0.0              1.0  ...          0.0                  0.0   \n",
       "68             0.0              0.0  ...          0.0                  0.0   \n",
       "70             0.0              0.0  ...          0.0                  0.0   \n",
       "71             0.0              0.0  ...          0.0                  0.0   \n",
       "73             0.0              0.0  ...          0.0                  0.0   \n",
       "74             0.0              0.0  ...          0.0                  0.0   \n",
       "77             0.0              0.0  ...          0.0                  0.0   \n",
       "78             0.0              0.0  ...          0.0                  0.0   \n",
       "79             0.0              0.0  ...          0.0                  0.0   \n",
       "81             0.0              0.0  ...          0.0                  0.0   \n",
       "83             0.0              0.0  ...          0.0                  0.0   \n",
       "85             0.0              0.0  ...          0.0                  0.0   \n",
       "87             0.0              0.0  ...          0.0                  0.0   \n",
       "88             0.0              0.0  ...          0.0                  0.0   \n",
       "89             0.0              1.0  ...          0.0                  0.0   \n",
       "96             0.0              0.0  ...          0.0                  0.0   \n",
       "\n",
       "    renal disease  valvular heart disease  hypertension  \\\n",
       "31            0.0                     0.0           1.0   \n",
       "42            0.0                     0.0           0.0   \n",
       "43            0.0                     0.0           1.0   \n",
       "44            0.0                     0.0           1.0   \n",
       "46            0.0                     0.0           1.0   \n",
       "47            0.0                     0.0           0.0   \n",
       "48            0.0                     0.0           1.0   \n",
       "49            0.0                     0.0           1.0   \n",
       "51            0.0                     0.0           1.0   \n",
       "52            0.0                     0.0           1.0   \n",
       "53            0.0                     0.0           0.0   \n",
       "57            0.0                     0.0           1.0   \n",
       "58            1.0                     0.0           1.0   \n",
       "59            0.0                     0.0           1.0   \n",
       "61            0.0                     0.0           1.0   \n",
       "64            0.0                     0.0           1.0   \n",
       "65            0.0                     0.0           1.0   \n",
       "66            0.0                     0.0           1.0   \n",
       "67            0.0                     0.0           1.0   \n",
       "68            0.0                     0.0           1.0   \n",
       "70            0.0                     0.0           1.0   \n",
       "71            0.0                     0.0           0.0   \n",
       "73            0.0                     0.0           0.0   \n",
       "74            0.0                     0.0           0.0   \n",
       "77            1.0                     0.0           1.0   \n",
       "78            0.0                     0.0           1.0   \n",
       "79            0.0                     0.0           1.0   \n",
       "81            0.0                     0.0           1.0   \n",
       "83            0.0                     0.0           1.0   \n",
       "85            0.0                     0.0           1.0   \n",
       "87            0.0                     0.0           1.0   \n",
       "88            0.0                     0.0           1.0   \n",
       "89            0.0                     0.0           1.0   \n",
       "96            0.0                     0.0           1.0   \n",
       "\n",
       "    chronic obstructive pulmonary disease  Parkinson's disease  \\\n",
       "31                                    0.0                  0.0   \n",
       "42                                    0.0                  0.0   \n",
       "43                                    0.0                  0.0   \n",
       "44                                    0.0                  0.0   \n",
       "46                                    0.0                  0.0   \n",
       "47                                    0.0                  0.0   \n",
       "48                                    0.0                  0.0   \n",
       "49                                    0.0                  0.0   \n",
       "51                                    0.0                  0.0   \n",
       "52                                    0.0                  0.0   \n",
       "53                                    0.0                  0.0   \n",
       "57                                    0.0                  0.0   \n",
       "58                                    0.0                  0.0   \n",
       "59                                    0.0                  0.0   \n",
       "61                                    0.0                  0.0   \n",
       "64                                    0.0                  0.0   \n",
       "65                                    0.0                  0.0   \n",
       "66                                    0.0                  0.0   \n",
       "67                                    0.0                  0.0   \n",
       "68                                    0.0                  0.0   \n",
       "70                                    0.0                  0.0   \n",
       "71                                    0.0                  0.0   \n",
       "73                                    0.0                  0.0   \n",
       "74                                    1.0                  0.0   \n",
       "77                                    0.0                  0.0   \n",
       "78                                    0.0                  0.0   \n",
       "79                                    0.0                  0.0   \n",
       "81                                    0.0                  0.0   \n",
       "83                                    0.0                  0.0   \n",
       "85                                    0.0                  0.0   \n",
       "87                                    0.0                  0.0   \n",
       "88                                    0.0                  0.0   \n",
       "89                                    0.0                  0.0   \n",
       "96                                    0.0                  0.0   \n",
       "\n",
       "    atherosclerosis  bronchial asthma  days  \n",
       "31              0.0               0.0    -2  \n",
       "42              0.0               0.0    -1  \n",
       "43              0.0               0.0    -7  \n",
       "44              0.0               0.0    -1  \n",
       "46              0.0               0.0    -4  \n",
       "47              0.0               0.0    -7  \n",
       "48              0.0               0.0    -1  \n",
       "49              0.0               0.0    -2  \n",
       "51              0.0               0.0    -5  \n",
       "52              0.0               0.0    -2  \n",
       "53              0.0               0.0    -1  \n",
       "57              0.0               0.0    -5  \n",
       "58              0.0               0.0    -6  \n",
       "59              0.0               0.0    -8  \n",
       "61              0.0               0.0    -4  \n",
       "64              0.0               0.0    -4  \n",
       "65              0.0               0.0    -5  \n",
       "66              1.0               0.0    -3  \n",
       "67              0.0               0.0    -1  \n",
       "68              0.0               0.0    -1  \n",
       "70              0.0               0.0    -4  \n",
       "71              0.0               0.0    -5  \n",
       "73              0.0               0.0    -4  \n",
       "74              0.0               0.0   -10  \n",
       "77              0.0               0.0    -2  \n",
       "78              0.0               0.0    -1  \n",
       "79              0.0               0.0    -6  \n",
       "81              0.0               0.0    -1  \n",
       "83              0.0               0.0    -6  \n",
       "85              0.0               0.0    -5  \n",
       "87              0.0               0.0    -3  \n",
       "88              0.0               0.0    -1  \n",
       "89              0.0               0.0    -6  \n",
       "96              0.0               0.0    -6  \n",
       "\n",
       "[34 rows x 47 columns]"
      ],
      "text/html": "<div>\n<style scoped>\n    .dataframe tbody tr th:only-of-type {\n        vertical-align: middle;\n    }\n\n    .dataframe tbody tr th {\n        vertical-align: top;\n    }\n\n    .dataframe thead th {\n        text-align: right;\n    }\n</style>\n<table border=\"1\" class=\"dataframe\">\n  <thead>\n    <tr style=\"text-align: right;\">\n      <th></th>\n      <th>date_confirmation</th>\n      <th>date_death_or_discharge</th>\n      <th>outcome</th>\n      <th>chronic_disease_binary</th>\n      <th>chronic_disease</th>\n      <th>coronary artery stenting</th>\n      <th>dyslipidemia</th>\n      <th>cerebrovascular accident infarct</th>\n      <th>cardiomyopathy</th>\n      <th>cardiac disease</th>\n      <th>...</th>\n      <th>hepatitis B</th>\n      <th>atrial fibrillation</th>\n      <th>renal disease</th>\n      <th>valvular heart disease</th>\n      <th>hypertension</th>\n      <th>chronic obstructive pulmonary disease</th>\n      <th>Parkinson's disease</th>\n      <th>atherosclerosis</th>\n      <th>bronchial asthma</th>\n      <th>days</th>\n    </tr>\n  </thead>\n  <tbody>\n    <tr>\n      <th>31</th>\n      <td>13.03.2020</td>\n      <td>11.03.2020</td>\n      <td>1</td>\n      <td>True</td>\n      <td>diabetes:hypertension:chronic kidney disease</td>\n      <td>0.0</td>\n      <td>0.0</td>\n      <td>0.0</td>\n      <td>0.0</td>\n      <td>0.0</td>\n      <td>...</td>\n      <td>0.0</td>\n      <td>0.0</td>\n      <td>0.0</td>\n      <td>0.0</td>\n      <td>1.0</td>\n      <td>0.0</td>\n      <td>0.0</td>\n      <td>0.0</td>\n      <td>0.0</td>\n      <td>-2</td>\n    </tr>\n    <tr>\n      <th>42</th>\n      <td>18.03.2020</td>\n      <td>17.03.2020</td>\n      <td>1</td>\n      <td>True</td>\n      <td>diabetes</td>\n      <td>0.0</td>\n      <td>0.0</td>\n      <td>0.0</td>\n      <td>0.0</td>\n      <td>0.0</td>\n      <td>...</td>\n      <td>0.0</td>\n      <td>0.0</td>\n      <td>0.0</td>\n      <td>0.0</td>\n      <td>0.0</td>\n      <td>0.0</td>\n      <td>0.0</td>\n      <td>0.0</td>\n      <td>0.0</td>\n      <td>-1</td>\n    </tr>\n    <tr>\n      <th>43</th>\n      <td>19.03.2020</td>\n      <td>12.03.2020</td>\n      <td>1</td>\n      <td>True</td>\n      <td>diabetes:hypertension</td>\n      <td>0.0</td>\n      <td>0.0</td>\n      <td>0.0</td>\n      <td>0.0</td>\n      <td>0.0</td>\n      <td>...</td>\n      <td>0.0</td>\n      <td>0.0</td>\n      <td>0.0</td>\n      <td>0.0</td>\n      <td>1.0</td>\n      <td>0.0</td>\n      <td>0.0</td>\n      <td>0.0</td>\n      <td>0.0</td>\n      <td>-7</td>\n    </tr>\n    <tr>\n      <th>44</th>\n      <td>19.03.2020</td>\n      <td>18.03.2020</td>\n      <td>1</td>\n      <td>True</td>\n      <td>diabetes:hypertension</td>\n      <td>0.0</td>\n      <td>0.0</td>\n      <td>0.0</td>\n      <td>0.0</td>\n      <td>0.0</td>\n      <td>...</td>\n      <td>0.0</td>\n      <td>0.0</td>\n      <td>0.0</td>\n      <td>0.0</td>\n      <td>1.0</td>\n      <td>0.0</td>\n      <td>0.0</td>\n      <td>0.0</td>\n      <td>0.0</td>\n      <td>-1</td>\n    </tr>\n    <tr>\n      <th>46</th>\n      <td>20.03.2020</td>\n      <td>16.03.2020</td>\n      <td>1</td>\n      <td>True</td>\n      <td>diabetes:hypertension</td>\n      <td>0.0</td>\n      <td>0.0</td>\n      <td>0.0</td>\n      <td>0.0</td>\n      <td>0.0</td>\n      <td>...</td>\n      <td>0.0</td>\n      <td>0.0</td>\n      <td>0.0</td>\n      <td>0.0</td>\n      <td>1.0</td>\n      <td>0.0</td>\n      <td>0.0</td>\n      <td>0.0</td>\n      <td>0.0</td>\n      <td>-4</td>\n    </tr>\n    <tr>\n      <th>47</th>\n      <td>21.03.2020</td>\n      <td>14.03.2020</td>\n      <td>1</td>\n      <td>True</td>\n      <td>diabetes</td>\n      <td>0.0</td>\n      <td>0.0</td>\n      <td>0.0</td>\n      <td>0.0</td>\n      <td>0.0</td>\n      <td>...</td>\n      <td>0.0</td>\n      <td>0.0</td>\n      <td>0.0</td>\n      <td>0.0</td>\n      <td>0.0</td>\n      <td>0.0</td>\n      <td>0.0</td>\n      <td>0.0</td>\n      <td>0.0</td>\n      <td>-7</td>\n    </tr>\n    <tr>\n      <th>48</th>\n      <td>21.03.2020</td>\n      <td>20.03.2020</td>\n      <td>1</td>\n      <td>True</td>\n      <td>Pre-renal azotemia:cardiomyopathy:hypertension...</td>\n      <td>0.0</td>\n      <td>0.0</td>\n      <td>0.0</td>\n      <td>1.0</td>\n      <td>0.0</td>\n      <td>...</td>\n      <td>0.0</td>\n      <td>0.0</td>\n      <td>0.0</td>\n      <td>0.0</td>\n      <td>1.0</td>\n      <td>0.0</td>\n      <td>0.0</td>\n      <td>0.0</td>\n      <td>0.0</td>\n      <td>-1</td>\n    </tr>\n    <tr>\n      <th>49</th>\n      <td>21.03.2020</td>\n      <td>19.03.2020</td>\n      <td>1</td>\n      <td>True</td>\n      <td>hypertension:diabetes:asthma</td>\n      <td>0.0</td>\n      <td>0.0</td>\n      <td>0.0</td>\n      <td>0.0</td>\n      <td>0.0</td>\n      <td>...</td>\n      <td>0.0</td>\n      <td>0.0</td>\n      <td>0.0</td>\n      <td>0.0</td>\n      <td>1.0</td>\n      <td>0.0</td>\n      <td>0.0</td>\n      <td>0.0</td>\n      <td>0.0</td>\n      <td>-2</td>\n    </tr>\n    <tr>\n      <th>51</th>\n      <td>21.03.2020</td>\n      <td>16.03.2020</td>\n      <td>1</td>\n      <td>True</td>\n      <td>chronic kidney disease:hypertension:diabetes:i...</td>\n      <td>0.0</td>\n      <td>0.0</td>\n      <td>0.0</td>\n      <td>0.0</td>\n      <td>0.0</td>\n      <td>...</td>\n      <td>0.0</td>\n      <td>0.0</td>\n      <td>0.0</td>\n      <td>0.0</td>\n      <td>1.0</td>\n      <td>0.0</td>\n      <td>0.0</td>\n      <td>0.0</td>\n      <td>0.0</td>\n      <td>-5</td>\n    </tr>\n    <tr>\n      <th>52</th>\n      <td>21.03.2020</td>\n      <td>19.03.2020</td>\n      <td>1</td>\n      <td>True</td>\n      <td>pre-renal azotemia:diabetes:hypertension</td>\n      <td>0.0</td>\n      <td>0.0</td>\n      <td>0.0</td>\n      <td>0.0</td>\n      <td>0.0</td>\n      <td>...</td>\n      <td>0.0</td>\n      <td>0.0</td>\n      <td>0.0</td>\n      <td>0.0</td>\n      <td>1.0</td>\n      <td>0.0</td>\n      <td>0.0</td>\n      <td>0.0</td>\n      <td>0.0</td>\n      <td>-2</td>\n    </tr>\n    <tr>\n      <th>53</th>\n      <td>21.03.2020</td>\n      <td>20.03.2020</td>\n      <td>1</td>\n      <td>True</td>\n      <td>benign prostatic hyperplasia</td>\n      <td>0.0</td>\n      <td>0.0</td>\n      <td>0.0</td>\n      <td>0.0</td>\n      <td>0.0</td>\n      <td>...</td>\n      <td>0.0</td>\n      <td>0.0</td>\n      <td>0.0</td>\n      <td>0.0</td>\n      <td>0.0</td>\n      <td>0.0</td>\n      <td>0.0</td>\n      <td>0.0</td>\n      <td>0.0</td>\n      <td>-1</td>\n    </tr>\n    <tr>\n      <th>57</th>\n      <td>21.03.2020</td>\n      <td>16.03.2020</td>\n      <td>1</td>\n      <td>True</td>\n      <td>hypertension:diabetes:dislipidemia</td>\n      <td>0.0</td>\n      <td>0.0</td>\n      <td>0.0</td>\n      <td>0.0</td>\n      <td>0.0</td>\n      <td>...</td>\n      <td>0.0</td>\n      <td>0.0</td>\n      <td>0.0</td>\n      <td>0.0</td>\n      <td>1.0</td>\n      <td>0.0</td>\n      <td>0.0</td>\n      <td>0.0</td>\n      <td>0.0</td>\n      <td>-5</td>\n    </tr>\n    <tr>\n      <th>58</th>\n      <td>21.03.2020</td>\n      <td>15.03.2020</td>\n      <td>1</td>\n      <td>True</td>\n      <td>hypertension:renal disease</td>\n      <td>0.0</td>\n      <td>0.0</td>\n      <td>0.0</td>\n      <td>0.0</td>\n      <td>0.0</td>\n      <td>...</td>\n      <td>0.0</td>\n      <td>0.0</td>\n      <td>1.0</td>\n      <td>0.0</td>\n      <td>1.0</td>\n      <td>0.0</td>\n      <td>0.0</td>\n      <td>0.0</td>\n      <td>0.0</td>\n      <td>-6</td>\n    </tr>\n    <tr>\n      <th>59</th>\n      <td>21.03.2020</td>\n      <td>13.03.2020</td>\n      <td>1</td>\n      <td>True</td>\n      <td>hypertension:chronic kidney disease</td>\n      <td>0.0</td>\n      <td>0.0</td>\n      <td>0.0</td>\n      <td>0.0</td>\n      <td>0.0</td>\n      <td>...</td>\n      <td>0.0</td>\n      <td>0.0</td>\n      <td>0.0</td>\n      <td>0.0</td>\n      <td>1.0</td>\n      <td>0.0</td>\n      <td>0.0</td>\n      <td>0.0</td>\n      <td>0.0</td>\n      <td>-8</td>\n    </tr>\n    <tr>\n      <th>61</th>\n      <td>21.03.2020</td>\n      <td>17.03.2020</td>\n      <td>1</td>\n      <td>True</td>\n      <td>diabetes:hypertension</td>\n      <td>0.0</td>\n      <td>0.0</td>\n      <td>0.0</td>\n      <td>0.0</td>\n      <td>0.0</td>\n      <td>...</td>\n      <td>0.0</td>\n      <td>0.0</td>\n      <td>0.0</td>\n      <td>0.0</td>\n      <td>1.0</td>\n      <td>0.0</td>\n      <td>0.0</td>\n      <td>0.0</td>\n      <td>0.0</td>\n      <td>-4</td>\n    </tr>\n    <tr>\n      <th>64</th>\n      <td>22.03.2020</td>\n      <td>18.03.2020</td>\n      <td>1</td>\n      <td>True</td>\n      <td>hypertension:diabetes:chronic kidney disease</td>\n      <td>0.0</td>\n      <td>0.0</td>\n      <td>0.0</td>\n      <td>0.0</td>\n      <td>0.0</td>\n      <td>...</td>\n      <td>0.0</td>\n      <td>0.0</td>\n      <td>0.0</td>\n      <td>0.0</td>\n      <td>1.0</td>\n      <td>0.0</td>\n      <td>0.0</td>\n      <td>0.0</td>\n      <td>0.0</td>\n      <td>-4</td>\n    </tr>\n    <tr>\n      <th>65</th>\n      <td>22.03.2020</td>\n      <td>17.03.2020</td>\n      <td>1</td>\n      <td>True</td>\n      <td>hypertension:diabetes</td>\n      <td>0.0</td>\n      <td>0.0</td>\n      <td>0.0</td>\n      <td>0.0</td>\n      <td>0.0</td>\n      <td>...</td>\n      <td>0.0</td>\n      <td>0.0</td>\n      <td>0.0</td>\n      <td>0.0</td>\n      <td>1.0</td>\n      <td>0.0</td>\n      <td>0.0</td>\n      <td>0.0</td>\n      <td>0.0</td>\n      <td>-5</td>\n    </tr>\n    <tr>\n      <th>66</th>\n      <td>22.03.2020</td>\n      <td>19.03.2020</td>\n      <td>1</td>\n      <td>True</td>\n      <td>atrial fibrillation:hypertension:atheroscleros...</td>\n      <td>0.0</td>\n      <td>0.0</td>\n      <td>0.0</td>\n      <td>0.0</td>\n      <td>0.0</td>\n      <td>...</td>\n      <td>0.0</td>\n      <td>1.0</td>\n      <td>0.0</td>\n      <td>0.0</td>\n      <td>1.0</td>\n      <td>0.0</td>\n      <td>0.0</td>\n      <td>1.0</td>\n      <td>0.0</td>\n      <td>-3</td>\n    </tr>\n    <tr>\n      <th>67</th>\n      <td>22.03.2020</td>\n      <td>21.03.2020</td>\n      <td>1</td>\n      <td>True</td>\n      <td>hypertension:cardiac disease</td>\n      <td>0.0</td>\n      <td>0.0</td>\n      <td>0.0</td>\n      <td>0.0</td>\n      <td>1.0</td>\n      <td>...</td>\n      <td>0.0</td>\n      <td>0.0</td>\n      <td>0.0</td>\n      <td>0.0</td>\n      <td>1.0</td>\n      <td>0.0</td>\n      <td>0.0</td>\n      <td>0.0</td>\n      <td>0.0</td>\n      <td>-1</td>\n    </tr>\n    <tr>\n      <th>68</th>\n      <td>23.03.2020</td>\n      <td>03.22.2020</td>\n      <td>1</td>\n      <td>True</td>\n      <td>hypertension:coronary artery disease:diabetes</td>\n      <td>0.0</td>\n      <td>0.0</td>\n      <td>0.0</td>\n      <td>0.0</td>\n      <td>0.0</td>\n      <td>...</td>\n      <td>0.0</td>\n      <td>0.0</td>\n      <td>0.0</td>\n      <td>0.0</td>\n      <td>1.0</td>\n      <td>0.0</td>\n      <td>0.0</td>\n      <td>0.0</td>\n      <td>0.0</td>\n      <td>-1</td>\n    </tr>\n    <tr>\n      <th>70</th>\n      <td>22.03.2020</td>\n      <td>18.03.2020</td>\n      <td>1</td>\n      <td>True</td>\n      <td>hypertension</td>\n      <td>0.0</td>\n      <td>0.0</td>\n      <td>0.0</td>\n      <td>0.0</td>\n      <td>0.0</td>\n      <td>...</td>\n      <td>0.0</td>\n      <td>0.0</td>\n      <td>0.0</td>\n      <td>0.0</td>\n      <td>1.0</td>\n      <td>0.0</td>\n      <td>0.0</td>\n      <td>0.0</td>\n      <td>0.0</td>\n      <td>-4</td>\n    </tr>\n    <tr>\n      <th>71</th>\n      <td>22.03.2020</td>\n      <td>17.03.2020</td>\n      <td>1</td>\n      <td>True</td>\n      <td>chronic kidney disease</td>\n      <td>0.0</td>\n      <td>0.0</td>\n      <td>0.0</td>\n      <td>0.0</td>\n      <td>0.0</td>\n      <td>...</td>\n      <td>0.0</td>\n      <td>0.0</td>\n      <td>0.0</td>\n      <td>0.0</td>\n      <td>0.0</td>\n      <td>0.0</td>\n      <td>0.0</td>\n      <td>0.0</td>\n      <td>0.0</td>\n      <td>-5</td>\n    </tr>\n    <tr>\n      <th>73</th>\n      <td>24.03.2020</td>\n      <td>20.03.2020</td>\n      <td>1</td>\n      <td>True</td>\n      <td>diabetes</td>\n      <td>0.0</td>\n      <td>0.0</td>\n      <td>0.0</td>\n      <td>0.0</td>\n      <td>0.0</td>\n      <td>...</td>\n      <td>0.0</td>\n      <td>0.0</td>\n      <td>0.0</td>\n      <td>0.0</td>\n      <td>0.0</td>\n      <td>0.0</td>\n      <td>0.0</td>\n      <td>0.0</td>\n      <td>0.0</td>\n      <td>-4</td>\n    </tr>\n    <tr>\n      <th>74</th>\n      <td>24.03.2020</td>\n      <td>14.03.2020</td>\n      <td>1</td>\n      <td>True</td>\n      <td>chronic obstructive pulmonary disease</td>\n      <td>0.0</td>\n      <td>0.0</td>\n      <td>0.0</td>\n      <td>0.0</td>\n      <td>0.0</td>\n      <td>...</td>\n      <td>0.0</td>\n      <td>0.0</td>\n      <td>0.0</td>\n      <td>0.0</td>\n      <td>0.0</td>\n      <td>1.0</td>\n      <td>0.0</td>\n      <td>0.0</td>\n      <td>0.0</td>\n      <td>-10</td>\n    </tr>\n    <tr>\n      <th>77</th>\n      <td>24.03.2020</td>\n      <td>22.03.2020</td>\n      <td>1</td>\n      <td>True</td>\n      <td>hypertension:hypothyroidism:renal disease</td>\n      <td>0.0</td>\n      <td>0.0</td>\n      <td>0.0</td>\n      <td>0.0</td>\n      <td>0.0</td>\n      <td>...</td>\n      <td>0.0</td>\n      <td>0.0</td>\n      <td>1.0</td>\n      <td>0.0</td>\n      <td>1.0</td>\n      <td>0.0</td>\n      <td>0.0</td>\n      <td>0.0</td>\n      <td>0.0</td>\n      <td>-2</td>\n    </tr>\n    <tr>\n      <th>78</th>\n      <td>25.03.2020</td>\n      <td>24.03.2020</td>\n      <td>1</td>\n      <td>True</td>\n      <td>hypertension</td>\n      <td>0.0</td>\n      <td>0.0</td>\n      <td>0.0</td>\n      <td>0.0</td>\n      <td>0.0</td>\n      <td>...</td>\n      <td>0.0</td>\n      <td>0.0</td>\n      <td>0.0</td>\n      <td>0.0</td>\n      <td>1.0</td>\n      <td>0.0</td>\n      <td>0.0</td>\n      <td>0.0</td>\n      <td>0.0</td>\n      <td>-1</td>\n    </tr>\n    <tr>\n      <th>79</th>\n      <td>25.03.2020</td>\n      <td>19.03.2020</td>\n      <td>1</td>\n      <td>True</td>\n      <td>hypertension:diabetes:tongue cancer:cardiovasc...</td>\n      <td>0.0</td>\n      <td>0.0</td>\n      <td>0.0</td>\n      <td>0.0</td>\n      <td>0.0</td>\n      <td>...</td>\n      <td>0.0</td>\n      <td>0.0</td>\n      <td>0.0</td>\n      <td>0.0</td>\n      <td>1.0</td>\n      <td>0.0</td>\n      <td>0.0</td>\n      <td>0.0</td>\n      <td>0.0</td>\n      <td>-6</td>\n    </tr>\n    <tr>\n      <th>81</th>\n      <td>25.03.2020</td>\n      <td>24.03.2020</td>\n      <td>1</td>\n      <td>True</td>\n      <td>hypertension:diabetes:chronic kidney disease</td>\n      <td>0.0</td>\n      <td>0.0</td>\n      <td>0.0</td>\n      <td>0.0</td>\n      <td>0.0</td>\n      <td>...</td>\n      <td>0.0</td>\n      <td>0.0</td>\n      <td>0.0</td>\n      <td>0.0</td>\n      <td>1.0</td>\n      <td>0.0</td>\n      <td>0.0</td>\n      <td>0.0</td>\n      <td>0.0</td>\n      <td>-1</td>\n    </tr>\n    <tr>\n      <th>83</th>\n      <td>25.03.2020</td>\n      <td>19.03.2020</td>\n      <td>1</td>\n      <td>True</td>\n      <td>hypertension:diabetes</td>\n      <td>0.0</td>\n      <td>0.0</td>\n      <td>0.0</td>\n      <td>0.0</td>\n      <td>0.0</td>\n      <td>...</td>\n      <td>0.0</td>\n      <td>0.0</td>\n      <td>0.0</td>\n      <td>0.0</td>\n      <td>1.0</td>\n      <td>0.0</td>\n      <td>0.0</td>\n      <td>0.0</td>\n      <td>0.0</td>\n      <td>-6</td>\n    </tr>\n    <tr>\n      <th>85</th>\n      <td>25.03.2020</td>\n      <td>20.03.2020</td>\n      <td>1</td>\n      <td>True</td>\n      <td>hypertension:diabetes</td>\n      <td>0.0</td>\n      <td>0.0</td>\n      <td>0.0</td>\n      <td>0.0</td>\n      <td>0.0</td>\n      <td>...</td>\n      <td>0.0</td>\n      <td>0.0</td>\n      <td>0.0</td>\n      <td>0.0</td>\n      <td>1.0</td>\n      <td>0.0</td>\n      <td>0.0</td>\n      <td>0.0</td>\n      <td>0.0</td>\n      <td>-5</td>\n    </tr>\n    <tr>\n      <th>87</th>\n      <td>26.03.2020</td>\n      <td>23.03.2020</td>\n      <td>1</td>\n      <td>True</td>\n      <td>hypertension; diabetes; asthma</td>\n      <td>0.0</td>\n      <td>0.0</td>\n      <td>0.0</td>\n      <td>0.0</td>\n      <td>0.0</td>\n      <td>...</td>\n      <td>0.0</td>\n      <td>0.0</td>\n      <td>0.0</td>\n      <td>0.0</td>\n      <td>1.0</td>\n      <td>0.0</td>\n      <td>0.0</td>\n      <td>0.0</td>\n      <td>0.0</td>\n      <td>-3</td>\n    </tr>\n    <tr>\n      <th>88</th>\n      <td>26.03.2020</td>\n      <td>25.03.2020</td>\n      <td>1</td>\n      <td>True</td>\n      <td>hypertension</td>\n      <td>0.0</td>\n      <td>0.0</td>\n      <td>0.0</td>\n      <td>0.0</td>\n      <td>0.0</td>\n      <td>...</td>\n      <td>0.0</td>\n      <td>0.0</td>\n      <td>0.0</td>\n      <td>0.0</td>\n      <td>1.0</td>\n      <td>0.0</td>\n      <td>0.0</td>\n      <td>0.0</td>\n      <td>0.0</td>\n      <td>-1</td>\n    </tr>\n    <tr>\n      <th>89</th>\n      <td>27.03.2020</td>\n      <td>21.03.2020</td>\n      <td>1</td>\n      <td>True</td>\n      <td>hypertension:cardiac disease</td>\n      <td>0.0</td>\n      <td>0.0</td>\n      <td>0.0</td>\n      <td>0.0</td>\n      <td>1.0</td>\n      <td>...</td>\n      <td>0.0</td>\n      <td>0.0</td>\n      <td>0.0</td>\n      <td>0.0</td>\n      <td>1.0</td>\n      <td>0.0</td>\n      <td>0.0</td>\n      <td>0.0</td>\n      <td>0.0</td>\n      <td>-6</td>\n    </tr>\n    <tr>\n      <th>96</th>\n      <td>27.03.2020</td>\n      <td>21.03.2020</td>\n      <td>1</td>\n      <td>True</td>\n      <td>diabetes:hypertension</td>\n      <td>0.0</td>\n      <td>0.0</td>\n      <td>0.0</td>\n      <td>0.0</td>\n      <td>0.0</td>\n      <td>...</td>\n      <td>0.0</td>\n      <td>0.0</td>\n      <td>0.0</td>\n      <td>0.0</td>\n      <td>1.0</td>\n      <td>0.0</td>\n      <td>0.0</td>\n      <td>0.0</td>\n      <td>0.0</td>\n      <td>-6</td>\n    </tr>\n  </tbody>\n</table>\n<p>34 rows × 47 columns</p>\n</div>"
     },
     "metadata": {},
     "execution_count": 26
    }
   ],
   "source": [
    "filtered2 = filtered[filtered[\"days\"]<0]\n",
    "filtered2"
   ]
  },
  {
   "cell_type": "code",
   "execution_count": 27,
   "metadata": {
    "executionInfo": {
     "elapsed": 3205,
     "status": "ok",
     "timestamp": 1610679381794,
     "user": {
      "displayName": "장승운",
      "photoUrl": "",
      "userId": "09116233606503711736"
     },
     "user_tz": -540
    },
    "id": "APVw2WIYWNhR"
   },
   "outputs": [],
   "source": [
    "for idx in range(length):\n",
    "  d = int(filtered.loc[idx,['days']][0])\n",
    "  if d < 0:\n",
    "    conf = filtered.loc[idx,['date_confirmation']][0]\n",
    "    if '-' in conf:\n",
    "      a,b,c = conf.split(\" - \")[0].split('.')\n",
    "    else:\n",
    "      a,b,c = conf.split('.')\n",
    "    dead = filtered.loc[idx,['date_death_or_discharge']][0]\n",
    "    if '-' in dead:\n",
    "      x,y,z = dead.split(\" - \")[0].split('.')\n",
    "    else:\n",
    "      x,y,z = dead.split('.')\n",
    "\n",
    "    try:\n",
    "      death = datetime(int(z),int(x),int(y),0,0,0)\n",
    "      confirm = datetime(int(c),int(a),int(b),0,0,0)\n",
    "      filtered.loc[idx,['days']] = -(death-confirm).days\n",
    "    except:\n",
    "      filtered.loc[idx,['days']] = None\n",
    "  else:\n",
    "    pass\n"
   ]
  },
  {
   "cell_type": "code",
   "execution_count": 28,
   "metadata": {
    "executionInfo": {
     "elapsed": 1136,
     "status": "ok",
     "timestamp": 1610679382936,
     "user": {
      "displayName": "장승운",
      "photoUrl": "",
      "userId": "09116233606503711736"
     },
     "user_tz": -540
    },
    "id": "XkL2IqnqWjKP"
   },
   "outputs": [
    {
     "output_type": "execute_result",
     "data": {
      "text/plain": [
       "    date_confirmation date_death_or_discharge  outcome  \\\n",
       "0          21.02.2020              23.02.2020        1   \n",
       "1          25.01.2020              31.01.2020        0   \n",
       "2          02.02.2020              14.02.2020        0   \n",
       "3          11.03.2020              11.03.2020        1   \n",
       "4          01.02.2020              01.02.2020        1   \n",
       "..                ...                     ...      ...   \n",
       "98         01.02.2020              01.02.2020        1   \n",
       "99         02.02.2020              14.02.2020        0   \n",
       "100        23.01.2020              12.02.2020        0   \n",
       "101        11.03.2020              11.03.2020        1   \n",
       "102        25.01.2020              31.01.2020        0   \n",
       "\n",
       "     chronic_disease_binary  \\\n",
       "0                     False   \n",
       "1                      True   \n",
       "2                      True   \n",
       "3                      True   \n",
       "4                      True   \n",
       "..                      ...   \n",
       "98                     True   \n",
       "99                     True   \n",
       "100                    True   \n",
       "101                    True   \n",
       "102                    True   \n",
       "\n",
       "                                       chronic_disease  \\\n",
       "0    Iran; Kuala Lumpur, Federal Territory of Kuala...   \n",
       "1                                         hypertension   \n",
       "2                                                 COPD   \n",
       "3                               diabetes, hypertension   \n",
       "4    \"thought to have had other pre-existing condit...   \n",
       "..                                                 ...   \n",
       "98   \"thought to have had other pre-existing condit...   \n",
       "99                                                COPD   \n",
       "100  history of hypertension, type 2 diabetes, coro...   \n",
       "101                             diabetes, hypertension   \n",
       "102                                       hypertension   \n",
       "\n",
       "     coronary artery stenting  dyslipidemia  cerebrovascular accident infarct  \\\n",
       "0                         0.0           0.0                               0.0   \n",
       "1                         0.0           0.0                               0.0   \n",
       "2                         0.0           0.0                               0.0   \n",
       "3                         0.0           0.0                               0.0   \n",
       "4                         0.0           0.0                               0.0   \n",
       "..                        ...           ...                               ...   \n",
       "98                        0.0           0.0                               0.0   \n",
       "99                        0.0           0.0                               0.0   \n",
       "100                       0.0           0.0                               0.0   \n",
       "101                       0.0           0.0                               0.0   \n",
       "102                       0.0           0.0                               0.0   \n",
       "\n",
       "     cardiomyopathy  cardiac disease  ...  hepatitis B  atrial fibrillation  \\\n",
       "0               0.0              0.0  ...          0.0                  0.0   \n",
       "1               0.0              0.0  ...          0.0                  0.0   \n",
       "2               0.0              0.0  ...          0.0                  0.0   \n",
       "3               0.0              0.0  ...          0.0                  0.0   \n",
       "4               0.0              0.0  ...          0.0                  0.0   \n",
       "..              ...              ...  ...          ...                  ...   \n",
       "98              0.0              0.0  ...          0.0                  0.0   \n",
       "99              0.0              0.0  ...          0.0                  0.0   \n",
       "100             0.0              0.0  ...          0.0                  0.0   \n",
       "101             0.0              0.0  ...          0.0                  0.0   \n",
       "102             0.0              0.0  ...          0.0                  0.0   \n",
       "\n",
       "     renal disease  valvular heart disease  hypertension  \\\n",
       "0              0.0                     0.0           0.0   \n",
       "1              0.0                     0.0           1.0   \n",
       "2              0.0                     0.0           0.0   \n",
       "3              0.0                     0.0           1.0   \n",
       "4              0.0                     0.0           0.0   \n",
       "..             ...                     ...           ...   \n",
       "98             0.0                     0.0           0.0   \n",
       "99             0.0                     0.0           0.0   \n",
       "100            0.0                     0.0           1.0   \n",
       "101            0.0                     0.0           1.0   \n",
       "102            0.0                     0.0           1.0   \n",
       "\n",
       "     chronic obstructive pulmonary disease  Parkinson's disease  \\\n",
       "0                                      0.0                  0.0   \n",
       "1                                      0.0                  0.0   \n",
       "2                                      0.0                  0.0   \n",
       "3                                      0.0                  0.0   \n",
       "4                                      0.0                  0.0   \n",
       "..                                     ...                  ...   \n",
       "98                                     0.0                  0.0   \n",
       "99                                     0.0                  0.0   \n",
       "100                                    0.0                  0.0   \n",
       "101                                    0.0                  0.0   \n",
       "102                                    0.0                  0.0   \n",
       "\n",
       "     atherosclerosis  bronchial asthma  days  \n",
       "0                0.0               0.0   2.0  \n",
       "1                0.0               0.0   6.0  \n",
       "2                0.0               0.0  12.0  \n",
       "3                0.0               0.0   0.0  \n",
       "4                0.0               0.0   0.0  \n",
       "..               ...               ...   ...  \n",
       "98               0.0               0.0   0.0  \n",
       "99               0.0               0.0  12.0  \n",
       "100              0.0               0.0  20.0  \n",
       "101              0.0               0.0   0.0  \n",
       "102              0.0               0.0   6.0  \n",
       "\n",
       "[69 rows x 47 columns]"
      ],
      "text/html": "<div>\n<style scoped>\n    .dataframe tbody tr th:only-of-type {\n        vertical-align: middle;\n    }\n\n    .dataframe tbody tr th {\n        vertical-align: top;\n    }\n\n    .dataframe thead th {\n        text-align: right;\n    }\n</style>\n<table border=\"1\" class=\"dataframe\">\n  <thead>\n    <tr style=\"text-align: right;\">\n      <th></th>\n      <th>date_confirmation</th>\n      <th>date_death_or_discharge</th>\n      <th>outcome</th>\n      <th>chronic_disease_binary</th>\n      <th>chronic_disease</th>\n      <th>coronary artery stenting</th>\n      <th>dyslipidemia</th>\n      <th>cerebrovascular accident infarct</th>\n      <th>cardiomyopathy</th>\n      <th>cardiac disease</th>\n      <th>...</th>\n      <th>hepatitis B</th>\n      <th>atrial fibrillation</th>\n      <th>renal disease</th>\n      <th>valvular heart disease</th>\n      <th>hypertension</th>\n      <th>chronic obstructive pulmonary disease</th>\n      <th>Parkinson's disease</th>\n      <th>atherosclerosis</th>\n      <th>bronchial asthma</th>\n      <th>days</th>\n    </tr>\n  </thead>\n  <tbody>\n    <tr>\n      <th>0</th>\n      <td>21.02.2020</td>\n      <td>23.02.2020</td>\n      <td>1</td>\n      <td>False</td>\n      <td>Iran; Kuala Lumpur, Federal Territory of Kuala...</td>\n      <td>0.0</td>\n      <td>0.0</td>\n      <td>0.0</td>\n      <td>0.0</td>\n      <td>0.0</td>\n      <td>...</td>\n      <td>0.0</td>\n      <td>0.0</td>\n      <td>0.0</td>\n      <td>0.0</td>\n      <td>0.0</td>\n      <td>0.0</td>\n      <td>0.0</td>\n      <td>0.0</td>\n      <td>0.0</td>\n      <td>2.0</td>\n    </tr>\n    <tr>\n      <th>1</th>\n      <td>25.01.2020</td>\n      <td>31.01.2020</td>\n      <td>0</td>\n      <td>True</td>\n      <td>hypertension</td>\n      <td>0.0</td>\n      <td>0.0</td>\n      <td>0.0</td>\n      <td>0.0</td>\n      <td>0.0</td>\n      <td>...</td>\n      <td>0.0</td>\n      <td>0.0</td>\n      <td>0.0</td>\n      <td>0.0</td>\n      <td>1.0</td>\n      <td>0.0</td>\n      <td>0.0</td>\n      <td>0.0</td>\n      <td>0.0</td>\n      <td>6.0</td>\n    </tr>\n    <tr>\n      <th>2</th>\n      <td>02.02.2020</td>\n      <td>14.02.2020</td>\n      <td>0</td>\n      <td>True</td>\n      <td>COPD</td>\n      <td>0.0</td>\n      <td>0.0</td>\n      <td>0.0</td>\n      <td>0.0</td>\n      <td>0.0</td>\n      <td>...</td>\n      <td>0.0</td>\n      <td>0.0</td>\n      <td>0.0</td>\n      <td>0.0</td>\n      <td>0.0</td>\n      <td>0.0</td>\n      <td>0.0</td>\n      <td>0.0</td>\n      <td>0.0</td>\n      <td>12.0</td>\n    </tr>\n    <tr>\n      <th>3</th>\n      <td>11.03.2020</td>\n      <td>11.03.2020</td>\n      <td>1</td>\n      <td>True</td>\n      <td>diabetes, hypertension</td>\n      <td>0.0</td>\n      <td>0.0</td>\n      <td>0.0</td>\n      <td>0.0</td>\n      <td>0.0</td>\n      <td>...</td>\n      <td>0.0</td>\n      <td>0.0</td>\n      <td>0.0</td>\n      <td>0.0</td>\n      <td>1.0</td>\n      <td>0.0</td>\n      <td>0.0</td>\n      <td>0.0</td>\n      <td>0.0</td>\n      <td>0.0</td>\n    </tr>\n    <tr>\n      <th>4</th>\n      <td>01.02.2020</td>\n      <td>01.02.2020</td>\n      <td>1</td>\n      <td>True</td>\n      <td>\"thought to have had other pre-existing condit...</td>\n      <td>0.0</td>\n      <td>0.0</td>\n      <td>0.0</td>\n      <td>0.0</td>\n      <td>0.0</td>\n      <td>...</td>\n      <td>0.0</td>\n      <td>0.0</td>\n      <td>0.0</td>\n      <td>0.0</td>\n      <td>0.0</td>\n      <td>0.0</td>\n      <td>0.0</td>\n      <td>0.0</td>\n      <td>0.0</td>\n      <td>0.0</td>\n    </tr>\n    <tr>\n      <th>...</th>\n      <td>...</td>\n      <td>...</td>\n      <td>...</td>\n      <td>...</td>\n      <td>...</td>\n      <td>...</td>\n      <td>...</td>\n      <td>...</td>\n      <td>...</td>\n      <td>...</td>\n      <td>...</td>\n      <td>...</td>\n      <td>...</td>\n      <td>...</td>\n      <td>...</td>\n      <td>...</td>\n      <td>...</td>\n      <td>...</td>\n      <td>...</td>\n      <td>...</td>\n      <td>...</td>\n    </tr>\n    <tr>\n      <th>98</th>\n      <td>01.02.2020</td>\n      <td>01.02.2020</td>\n      <td>1</td>\n      <td>True</td>\n      <td>\"thought to have had other pre-existing condit...</td>\n      <td>0.0</td>\n      <td>0.0</td>\n      <td>0.0</td>\n      <td>0.0</td>\n      <td>0.0</td>\n      <td>...</td>\n      <td>0.0</td>\n      <td>0.0</td>\n      <td>0.0</td>\n      <td>0.0</td>\n      <td>0.0</td>\n      <td>0.0</td>\n      <td>0.0</td>\n      <td>0.0</td>\n      <td>0.0</td>\n      <td>0.0</td>\n    </tr>\n    <tr>\n      <th>99</th>\n      <td>02.02.2020</td>\n      <td>14.02.2020</td>\n      <td>0</td>\n      <td>True</td>\n      <td>COPD</td>\n      <td>0.0</td>\n      <td>0.0</td>\n      <td>0.0</td>\n      <td>0.0</td>\n      <td>0.0</td>\n      <td>...</td>\n      <td>0.0</td>\n      <td>0.0</td>\n      <td>0.0</td>\n      <td>0.0</td>\n      <td>0.0</td>\n      <td>0.0</td>\n      <td>0.0</td>\n      <td>0.0</td>\n      <td>0.0</td>\n      <td>12.0</td>\n    </tr>\n    <tr>\n      <th>100</th>\n      <td>23.01.2020</td>\n      <td>12.02.2020</td>\n      <td>0</td>\n      <td>True</td>\n      <td>history of hypertension, type 2 diabetes, coro...</td>\n      <td>0.0</td>\n      <td>0.0</td>\n      <td>0.0</td>\n      <td>0.0</td>\n      <td>0.0</td>\n      <td>...</td>\n      <td>0.0</td>\n      <td>0.0</td>\n      <td>0.0</td>\n      <td>0.0</td>\n      <td>1.0</td>\n      <td>0.0</td>\n      <td>0.0</td>\n      <td>0.0</td>\n      <td>0.0</td>\n      <td>20.0</td>\n    </tr>\n    <tr>\n      <th>101</th>\n      <td>11.03.2020</td>\n      <td>11.03.2020</td>\n      <td>1</td>\n      <td>True</td>\n      <td>diabetes, hypertension</td>\n      <td>0.0</td>\n      <td>0.0</td>\n      <td>0.0</td>\n      <td>0.0</td>\n      <td>0.0</td>\n      <td>...</td>\n      <td>0.0</td>\n      <td>0.0</td>\n      <td>0.0</td>\n      <td>0.0</td>\n      <td>1.0</td>\n      <td>0.0</td>\n      <td>0.0</td>\n      <td>0.0</td>\n      <td>0.0</td>\n      <td>0.0</td>\n    </tr>\n    <tr>\n      <th>102</th>\n      <td>25.01.2020</td>\n      <td>31.01.2020</td>\n      <td>0</td>\n      <td>True</td>\n      <td>hypertension</td>\n      <td>0.0</td>\n      <td>0.0</td>\n      <td>0.0</td>\n      <td>0.0</td>\n      <td>0.0</td>\n      <td>...</td>\n      <td>0.0</td>\n      <td>0.0</td>\n      <td>0.0</td>\n      <td>0.0</td>\n      <td>1.0</td>\n      <td>0.0</td>\n      <td>0.0</td>\n      <td>0.0</td>\n      <td>0.0</td>\n      <td>6.0</td>\n    </tr>\n  </tbody>\n</table>\n<p>69 rows × 47 columns</p>\n</div>"
     },
     "metadata": {},
     "execution_count": 28
    }
   ],
   "source": [
    "filtered = filtered.dropna()\n",
    "filtered"
   ]
  },
  {
   "cell_type": "markdown",
   "metadata": {},
   "source": [
    "## hr"
   ]
  },
  {
   "cell_type": "code",
   "execution_count": 29,
   "metadata": {
    "colab": {
     "base_uri": "https://localhost:8080/",
     "height": 406
    },
    "executionInfo": {
     "elapsed": 2008,
     "status": "ok",
     "timestamp": 1610679383877,
     "user": {
      "displayName": "장승운",
      "photoUrl": "",
      "userId": "09116233606503711736"
     },
     "user_tz": -540
    },
    "id": "LUccc6KtWNj8",
    "outputId": "46281fb6-1b7e-41ac-ec5a-3df133ea1c3f"
   },
   "outputs": [
    {
     "output_type": "execute_result",
     "data": {
      "text/plain": [
       "<AxesSubplot:xlabel='timeline'>"
      ]
     },
     "metadata": {},
     "execution_count": 29
    },
    {
     "output_type": "display_data",
     "data": {
      "text/plain": "<Figure size 864x432 with 1 Axes>",
      "image/svg+xml": "<?xml version=\"1.0\" encoding=\"utf-8\" standalone=\"no\"?>\r\n<!DOCTYPE svg PUBLIC \"-//W3C//DTD SVG 1.1//EN\"\r\n  \"http://www.w3.org/Graphics/SVG/1.1/DTD/svg11.dtd\">\r\n<!-- Created with matplotlib (https://matplotlib.org/) -->\r\n<svg height=\"370.91625pt\" version=\"1.1\" viewBox=\"0 0 706.903125 370.91625\" width=\"706.903125pt\" xmlns=\"http://www.w3.org/2000/svg\" xmlns:xlink=\"http://www.w3.org/1999/xlink\">\r\n <metadata>\r\n  <rdf:RDF xmlns:cc=\"http://creativecommons.org/ns#\" xmlns:dc=\"http://purl.org/dc/elements/1.1/\" xmlns:rdf=\"http://www.w3.org/1999/02/22-rdf-syntax-ns#\">\r\n   <cc:Work>\r\n    <dc:type rdf:resource=\"http://purl.org/dc/dcmitype/StillImage\"/>\r\n    <dc:date>2021-01-21T16:32:04.324227</dc:date>\r\n    <dc:format>image/svg+xml</dc:format>\r\n    <dc:creator>\r\n     <cc:Agent>\r\n      <dc:title>Matplotlib v3.3.2, https://matplotlib.org/</dc:title>\r\n     </cc:Agent>\r\n    </dc:creator>\r\n   </cc:Work>\r\n  </rdf:RDF>\r\n </metadata>\r\n <defs>\r\n  <style type=\"text/css\">*{stroke-linecap:butt;stroke-linejoin:round;}</style>\r\n </defs>\r\n <g id=\"figure_1\">\r\n  <g id=\"patch_1\">\r\n   <path d=\"M 0 370.91625 \r\nL 706.903125 370.91625 \r\nL 706.903125 0 \r\nL 0 0 \r\nz\r\n\" style=\"fill:none;\"/>\r\n  </g>\r\n  <g id=\"axes_1\">\r\n   <g id=\"patch_2\">\r\n    <path d=\"M 30.103125 333.36 \r\nL 699.703125 333.36 \r\nL 699.703125 7.2 \r\nL 30.103125 7.2 \r\nz\r\n\" style=\"fill:#ffffff;\"/>\r\n   </g>\r\n   <g id=\"PolyCollection_1\">\r\n    <defs>\r\n     <path d=\"M 60.539489 -348.890795 \r\nL 60.539489 -279.306183 \r\nL 90.975852 -279.306183 \r\nL 90.975852 -237.065985 \r\nL 121.412216 -237.065985 \r\nL 121.412216 -186.190327 \r\nL 151.84858 -186.190327 \r\nL 151.84858 -154.024036 \r\nL 182.284943 -154.024036 \r\nL 182.284943 -132.572178 \r\nL 212.721307 -132.572178 \r\nL 212.721307 -106.721911 \r\nL 243.15767 -106.721911 \r\nL 243.15767 -91.756097 \r\nL 304.030398 -91.756097 \r\nL 304.030398 -86.240991 \r\nL 334.466761 -86.240991 \r\nL 334.466761 -79.466311 \r\nL 364.903125 -79.466311 \r\nL 364.903125 -71.504344 \r\nL 425.775852 -71.504344 \r\nL 425.775852 -71.504344 \r\nL 456.212216 -71.504344 \r\nL 456.212216 -52.381705 \r\nL 517.084943 -52.381705 \r\nL 517.084943 -52.381705 \r\nL 638.830398 -52.381705 \r\nL 638.830398 -52.381705 \r\nL 669.266761 -52.381705 \r\nL 669.266761 -52.381705 \r\nL 669.266761 -142.634144 \r\nL 669.266761 -142.634144 \r\nL 669.266761 -142.634144 \r\nL 638.830398 -142.634144 \r\nL 638.830398 -142.634144 \r\nL 517.084943 -142.634144 \r\nL 517.084943 -142.634144 \r\nL 456.212216 -142.634144 \r\nL 456.212216 -153.547877 \r\nL 425.775852 -153.547877 \r\nL 425.775852 -153.547877 \r\nL 364.903125 -153.547877 \r\nL 364.903125 -161.606337 \r\nL 334.466761 -161.606337 \r\nL 334.466761 -168.8301 \r\nL 304.030398 -168.8301 \r\nL 304.030398 -175.163253 \r\nL 243.15767 -175.163253 \r\nL 243.15767 -192.58255 \r\nL 212.721307 -192.58255 \r\nL 212.721307 -220.787983 \r\nL 182.284943 -220.787983 \r\nL 182.284943 -242.648619 \r\nL 151.84858 -242.648619 \r\nL 151.84858 -273.615996 \r\nL 121.412216 -273.615996 \r\nL 121.412216 -317.488947 \r\nL 90.975852 -317.488947 \r\nL 90.975852 -348.890795 \r\nL 60.539489 -348.890795 \r\nz\r\n\" id=\"m6beade6851\" style=\"stroke:#1f77b4;stroke-opacity:0.25;\"/>\r\n    </defs>\r\n    <g clip-path=\"url(#p1930f0e33e)\">\r\n     <use style=\"fill:#1f77b4;fill-opacity:0.25;stroke:#1f77b4;stroke-opacity:0.25;\" x=\"0\" xlink:href=\"#m6beade6851\" y=\"370.91625\"/>\r\n    </g>\r\n   </g>\r\n   <g id=\"matplotlib.axis_1\">\r\n    <g id=\"xtick_1\">\r\n     <g id=\"line2d_1\">\r\n      <defs>\r\n       <path d=\"M 0 0 \r\nL 0 3.5 \r\n\" id=\"me4cc1fa64a\" style=\"stroke:#000000;stroke-width:0.8;\"/>\r\n      </defs>\r\n      <g>\r\n       <use style=\"stroke:#000000;stroke-width:0.8;\" x=\"60.539489\" xlink:href=\"#me4cc1fa64a\" y=\"333.36\"/>\r\n      </g>\r\n     </g>\r\n     <g id=\"text_1\">\r\n      <!-- 0.0 -->\r\n      <g transform=\"translate(52.587926 347.958438)scale(0.1 -0.1)\">\r\n       <defs>\r\n        <path d=\"M 31.78125 66.40625 \r\nQ 24.171875 66.40625 20.328125 58.90625 \r\nQ 16.5 51.421875 16.5 36.375 \r\nQ 16.5 21.390625 20.328125 13.890625 \r\nQ 24.171875 6.390625 31.78125 6.390625 \r\nQ 39.453125 6.390625 43.28125 13.890625 \r\nQ 47.125 21.390625 47.125 36.375 \r\nQ 47.125 51.421875 43.28125 58.90625 \r\nQ 39.453125 66.40625 31.78125 66.40625 \r\nz\r\nM 31.78125 74.21875 \r\nQ 44.046875 74.21875 50.515625 64.515625 \r\nQ 56.984375 54.828125 56.984375 36.375 \r\nQ 56.984375 17.96875 50.515625 8.265625 \r\nQ 44.046875 -1.421875 31.78125 -1.421875 \r\nQ 19.53125 -1.421875 13.0625 8.265625 \r\nQ 6.59375 17.96875 6.59375 36.375 \r\nQ 6.59375 54.828125 13.0625 64.515625 \r\nQ 19.53125 74.21875 31.78125 74.21875 \r\nz\r\n\" id=\"DejaVuSans-48\"/>\r\n        <path d=\"M 10.6875 12.40625 \r\nL 21 12.40625 \r\nL 21 0 \r\nL 10.6875 0 \r\nz\r\n\" id=\"DejaVuSans-46\"/>\r\n       </defs>\r\n       <use xlink:href=\"#DejaVuSans-48\"/>\r\n       <use x=\"63.623047\" xlink:href=\"#DejaVuSans-46\"/>\r\n       <use x=\"95.410156\" xlink:href=\"#DejaVuSans-48\"/>\r\n      </g>\r\n     </g>\r\n    </g>\r\n    <g id=\"xtick_2\">\r\n     <g id=\"line2d_2\">\r\n      <g>\r\n       <use style=\"stroke:#000000;stroke-width:0.8;\" x=\"136.630398\" xlink:href=\"#me4cc1fa64a\" y=\"333.36\"/>\r\n      </g>\r\n     </g>\r\n     <g id=\"text_2\">\r\n      <!-- 2.5 -->\r\n      <g transform=\"translate(128.678835 347.958438)scale(0.1 -0.1)\">\r\n       <defs>\r\n        <path d=\"M 19.1875 8.296875 \r\nL 53.609375 8.296875 \r\nL 53.609375 0 \r\nL 7.328125 0 \r\nL 7.328125 8.296875 \r\nQ 12.9375 14.109375 22.625 23.890625 \r\nQ 32.328125 33.6875 34.8125 36.53125 \r\nQ 39.546875 41.84375 41.421875 45.53125 \r\nQ 43.3125 49.21875 43.3125 52.78125 \r\nQ 43.3125 58.59375 39.234375 62.25 \r\nQ 35.15625 65.921875 28.609375 65.921875 \r\nQ 23.96875 65.921875 18.8125 64.3125 \r\nQ 13.671875 62.703125 7.8125 59.421875 \r\nL 7.8125 69.390625 \r\nQ 13.765625 71.78125 18.9375 73 \r\nQ 24.125 74.21875 28.421875 74.21875 \r\nQ 39.75 74.21875 46.484375 68.546875 \r\nQ 53.21875 62.890625 53.21875 53.421875 \r\nQ 53.21875 48.921875 51.53125 44.890625 \r\nQ 49.859375 40.875 45.40625 35.40625 \r\nQ 44.1875 33.984375 37.640625 27.21875 \r\nQ 31.109375 20.453125 19.1875 8.296875 \r\nz\r\n\" id=\"DejaVuSans-50\"/>\r\n        <path d=\"M 10.796875 72.90625 \r\nL 49.515625 72.90625 \r\nL 49.515625 64.59375 \r\nL 19.828125 64.59375 \r\nL 19.828125 46.734375 \r\nQ 21.96875 47.46875 24.109375 47.828125 \r\nQ 26.265625 48.1875 28.421875 48.1875 \r\nQ 40.625 48.1875 47.75 41.5 \r\nQ 54.890625 34.8125 54.890625 23.390625 \r\nQ 54.890625 11.625 47.5625 5.09375 \r\nQ 40.234375 -1.421875 26.90625 -1.421875 \r\nQ 22.3125 -1.421875 17.546875 -0.640625 \r\nQ 12.796875 0.140625 7.71875 1.703125 \r\nL 7.71875 11.625 \r\nQ 12.109375 9.234375 16.796875 8.0625 \r\nQ 21.484375 6.890625 26.703125 6.890625 \r\nQ 35.15625 6.890625 40.078125 11.328125 \r\nQ 45.015625 15.765625 45.015625 23.390625 \r\nQ 45.015625 31 40.078125 35.4375 \r\nQ 35.15625 39.890625 26.703125 39.890625 \r\nQ 22.75 39.890625 18.8125 39.015625 \r\nQ 14.890625 38.140625 10.796875 36.28125 \r\nz\r\n\" id=\"DejaVuSans-53\"/>\r\n       </defs>\r\n       <use xlink:href=\"#DejaVuSans-50\"/>\r\n       <use x=\"63.623047\" xlink:href=\"#DejaVuSans-46\"/>\r\n       <use x=\"95.410156\" xlink:href=\"#DejaVuSans-53\"/>\r\n      </g>\r\n     </g>\r\n    </g>\r\n    <g id=\"xtick_3\">\r\n     <g id=\"line2d_3\">\r\n      <g>\r\n       <use style=\"stroke:#000000;stroke-width:0.8;\" x=\"212.721307\" xlink:href=\"#me4cc1fa64a\" y=\"333.36\"/>\r\n      </g>\r\n     </g>\r\n     <g id=\"text_3\">\r\n      <!-- 5.0 -->\r\n      <g transform=\"translate(204.769744 347.958438)scale(0.1 -0.1)\">\r\n       <use xlink:href=\"#DejaVuSans-53\"/>\r\n       <use x=\"63.623047\" xlink:href=\"#DejaVuSans-46\"/>\r\n       <use x=\"95.410156\" xlink:href=\"#DejaVuSans-48\"/>\r\n      </g>\r\n     </g>\r\n    </g>\r\n    <g id=\"xtick_4\">\r\n     <g id=\"line2d_4\">\r\n      <g>\r\n       <use style=\"stroke:#000000;stroke-width:0.8;\" x=\"288.812216\" xlink:href=\"#me4cc1fa64a\" y=\"333.36\"/>\r\n      </g>\r\n     </g>\r\n     <g id=\"text_4\">\r\n      <!-- 7.5 -->\r\n      <g transform=\"translate(280.860653 347.958438)scale(0.1 -0.1)\">\r\n       <defs>\r\n        <path d=\"M 8.203125 72.90625 \r\nL 55.078125 72.90625 \r\nL 55.078125 68.703125 \r\nL 28.609375 0 \r\nL 18.3125 0 \r\nL 43.21875 64.59375 \r\nL 8.203125 64.59375 \r\nz\r\n\" id=\"DejaVuSans-55\"/>\r\n       </defs>\r\n       <use xlink:href=\"#DejaVuSans-55\"/>\r\n       <use x=\"63.623047\" xlink:href=\"#DejaVuSans-46\"/>\r\n       <use x=\"95.410156\" xlink:href=\"#DejaVuSans-53\"/>\r\n      </g>\r\n     </g>\r\n    </g>\r\n    <g id=\"xtick_5\">\r\n     <g id=\"line2d_5\">\r\n      <g>\r\n       <use style=\"stroke:#000000;stroke-width:0.8;\" x=\"364.903125\" xlink:href=\"#me4cc1fa64a\" y=\"333.36\"/>\r\n      </g>\r\n     </g>\r\n     <g id=\"text_5\">\r\n      <!-- 10.0 -->\r\n      <g transform=\"translate(353.770313 347.958438)scale(0.1 -0.1)\">\r\n       <defs>\r\n        <path d=\"M 12.40625 8.296875 \r\nL 28.515625 8.296875 \r\nL 28.515625 63.921875 \r\nL 10.984375 60.40625 \r\nL 10.984375 69.390625 \r\nL 28.421875 72.90625 \r\nL 38.28125 72.90625 \r\nL 38.28125 8.296875 \r\nL 54.390625 8.296875 \r\nL 54.390625 0 \r\nL 12.40625 0 \r\nz\r\n\" id=\"DejaVuSans-49\"/>\r\n       </defs>\r\n       <use xlink:href=\"#DejaVuSans-49\"/>\r\n       <use x=\"63.623047\" xlink:href=\"#DejaVuSans-48\"/>\r\n       <use x=\"127.246094\" xlink:href=\"#DejaVuSans-46\"/>\r\n       <use x=\"159.033203\" xlink:href=\"#DejaVuSans-48\"/>\r\n      </g>\r\n     </g>\r\n    </g>\r\n    <g id=\"xtick_6\">\r\n     <g id=\"line2d_6\">\r\n      <g>\r\n       <use style=\"stroke:#000000;stroke-width:0.8;\" x=\"440.994034\" xlink:href=\"#me4cc1fa64a\" y=\"333.36\"/>\r\n      </g>\r\n     </g>\r\n     <g id=\"text_6\">\r\n      <!-- 12.5 -->\r\n      <g transform=\"translate(429.861222 347.958438)scale(0.1 -0.1)\">\r\n       <use xlink:href=\"#DejaVuSans-49\"/>\r\n       <use x=\"63.623047\" xlink:href=\"#DejaVuSans-50\"/>\r\n       <use x=\"127.246094\" xlink:href=\"#DejaVuSans-46\"/>\r\n       <use x=\"159.033203\" xlink:href=\"#DejaVuSans-53\"/>\r\n      </g>\r\n     </g>\r\n    </g>\r\n    <g id=\"xtick_7\">\r\n     <g id=\"line2d_7\">\r\n      <g>\r\n       <use style=\"stroke:#000000;stroke-width:0.8;\" x=\"517.084943\" xlink:href=\"#me4cc1fa64a\" y=\"333.36\"/>\r\n      </g>\r\n     </g>\r\n     <g id=\"text_7\">\r\n      <!-- 15.0 -->\r\n      <g transform=\"translate(505.952131 347.958438)scale(0.1 -0.1)\">\r\n       <use xlink:href=\"#DejaVuSans-49\"/>\r\n       <use x=\"63.623047\" xlink:href=\"#DejaVuSans-53\"/>\r\n       <use x=\"127.246094\" xlink:href=\"#DejaVuSans-46\"/>\r\n       <use x=\"159.033203\" xlink:href=\"#DejaVuSans-48\"/>\r\n      </g>\r\n     </g>\r\n    </g>\r\n    <g id=\"xtick_8\">\r\n     <g id=\"line2d_8\">\r\n      <g>\r\n       <use style=\"stroke:#000000;stroke-width:0.8;\" x=\"593.175852\" xlink:href=\"#me4cc1fa64a\" y=\"333.36\"/>\r\n      </g>\r\n     </g>\r\n     <g id=\"text_8\">\r\n      <!-- 17.5 -->\r\n      <g transform=\"translate(582.04304 347.958438)scale(0.1 -0.1)\">\r\n       <use xlink:href=\"#DejaVuSans-49\"/>\r\n       <use x=\"63.623047\" xlink:href=\"#DejaVuSans-55\"/>\r\n       <use x=\"127.246094\" xlink:href=\"#DejaVuSans-46\"/>\r\n       <use x=\"159.033203\" xlink:href=\"#DejaVuSans-53\"/>\r\n      </g>\r\n     </g>\r\n    </g>\r\n    <g id=\"xtick_9\">\r\n     <g id=\"line2d_9\">\r\n      <g>\r\n       <use style=\"stroke:#000000;stroke-width:0.8;\" x=\"669.266761\" xlink:href=\"#me4cc1fa64a\" y=\"333.36\"/>\r\n      </g>\r\n     </g>\r\n     <g id=\"text_9\">\r\n      <!-- 20.0 -->\r\n      <g transform=\"translate(658.133949 347.958438)scale(0.1 -0.1)\">\r\n       <use xlink:href=\"#DejaVuSans-50\"/>\r\n       <use x=\"63.623047\" xlink:href=\"#DejaVuSans-48\"/>\r\n       <use x=\"127.246094\" xlink:href=\"#DejaVuSans-46\"/>\r\n       <use x=\"159.033203\" xlink:href=\"#DejaVuSans-48\"/>\r\n      </g>\r\n     </g>\r\n    </g>\r\n    <g id=\"text_10\">\r\n     <!-- timeline -->\r\n     <g transform=\"translate(344.583594 361.636562)scale(0.1 -0.1)\">\r\n      <defs>\r\n       <path d=\"M 18.3125 70.21875 \r\nL 18.3125 54.6875 \r\nL 36.8125 54.6875 \r\nL 36.8125 47.703125 \r\nL 18.3125 47.703125 \r\nL 18.3125 18.015625 \r\nQ 18.3125 11.328125 20.140625 9.421875 \r\nQ 21.96875 7.515625 27.59375 7.515625 \r\nL 36.8125 7.515625 \r\nL 36.8125 0 \r\nL 27.59375 0 \r\nQ 17.1875 0 13.234375 3.875 \r\nQ 9.28125 7.765625 9.28125 18.015625 \r\nL 9.28125 47.703125 \r\nL 2.6875 47.703125 \r\nL 2.6875 54.6875 \r\nL 9.28125 54.6875 \r\nL 9.28125 70.21875 \r\nz\r\n\" id=\"DejaVuSans-116\"/>\r\n       <path d=\"M 9.421875 54.6875 \r\nL 18.40625 54.6875 \r\nL 18.40625 0 \r\nL 9.421875 0 \r\nz\r\nM 9.421875 75.984375 \r\nL 18.40625 75.984375 \r\nL 18.40625 64.59375 \r\nL 9.421875 64.59375 \r\nz\r\n\" id=\"DejaVuSans-105\"/>\r\n       <path d=\"M 52 44.1875 \r\nQ 55.375 50.25 60.0625 53.125 \r\nQ 64.75 56 71.09375 56 \r\nQ 79.640625 56 84.28125 50.015625 \r\nQ 88.921875 44.046875 88.921875 33.015625 \r\nL 88.921875 0 \r\nL 79.890625 0 \r\nL 79.890625 32.71875 \r\nQ 79.890625 40.578125 77.09375 44.375 \r\nQ 74.3125 48.1875 68.609375 48.1875 \r\nQ 61.625 48.1875 57.5625 43.546875 \r\nQ 53.515625 38.921875 53.515625 30.90625 \r\nL 53.515625 0 \r\nL 44.484375 0 \r\nL 44.484375 32.71875 \r\nQ 44.484375 40.625 41.703125 44.40625 \r\nQ 38.921875 48.1875 33.109375 48.1875 \r\nQ 26.21875 48.1875 22.15625 43.53125 \r\nQ 18.109375 38.875 18.109375 30.90625 \r\nL 18.109375 0 \r\nL 9.078125 0 \r\nL 9.078125 54.6875 \r\nL 18.109375 54.6875 \r\nL 18.109375 46.1875 \r\nQ 21.1875 51.21875 25.484375 53.609375 \r\nQ 29.78125 56 35.6875 56 \r\nQ 41.65625 56 45.828125 52.96875 \r\nQ 50 49.953125 52 44.1875 \r\nz\r\n\" id=\"DejaVuSans-109\"/>\r\n       <path d=\"M 56.203125 29.59375 \r\nL 56.203125 25.203125 \r\nL 14.890625 25.203125 \r\nQ 15.484375 15.921875 20.484375 11.0625 \r\nQ 25.484375 6.203125 34.421875 6.203125 \r\nQ 39.59375 6.203125 44.453125 7.46875 \r\nQ 49.3125 8.734375 54.109375 11.28125 \r\nL 54.109375 2.78125 \r\nQ 49.265625 0.734375 44.1875 -0.34375 \r\nQ 39.109375 -1.421875 33.890625 -1.421875 \r\nQ 20.796875 -1.421875 13.15625 6.1875 \r\nQ 5.515625 13.8125 5.515625 26.8125 \r\nQ 5.515625 40.234375 12.765625 48.109375 \r\nQ 20.015625 56 32.328125 56 \r\nQ 43.359375 56 49.78125 48.890625 \r\nQ 56.203125 41.796875 56.203125 29.59375 \r\nz\r\nM 47.21875 32.234375 \r\nQ 47.125 39.59375 43.09375 43.984375 \r\nQ 39.0625 48.390625 32.421875 48.390625 \r\nQ 24.90625 48.390625 20.390625 44.140625 \r\nQ 15.875 39.890625 15.1875 32.171875 \r\nz\r\n\" id=\"DejaVuSans-101\"/>\r\n       <path d=\"M 9.421875 75.984375 \r\nL 18.40625 75.984375 \r\nL 18.40625 0 \r\nL 9.421875 0 \r\nz\r\n\" id=\"DejaVuSans-108\"/>\r\n       <path d=\"M 54.890625 33.015625 \r\nL 54.890625 0 \r\nL 45.90625 0 \r\nL 45.90625 32.71875 \r\nQ 45.90625 40.484375 42.875 44.328125 \r\nQ 39.84375 48.1875 33.796875 48.1875 \r\nQ 26.515625 48.1875 22.3125 43.546875 \r\nQ 18.109375 38.921875 18.109375 30.90625 \r\nL 18.109375 0 \r\nL 9.078125 0 \r\nL 9.078125 54.6875 \r\nL 18.109375 54.6875 \r\nL 18.109375 46.1875 \r\nQ 21.34375 51.125 25.703125 53.5625 \r\nQ 30.078125 56 35.796875 56 \r\nQ 45.21875 56 50.046875 50.171875 \r\nQ 54.890625 44.34375 54.890625 33.015625 \r\nz\r\n\" id=\"DejaVuSans-110\"/>\r\n      </defs>\r\n      <use xlink:href=\"#DejaVuSans-116\"/>\r\n      <use x=\"39.208984\" xlink:href=\"#DejaVuSans-105\"/>\r\n      <use x=\"66.992188\" xlink:href=\"#DejaVuSans-109\"/>\r\n      <use x=\"164.404297\" xlink:href=\"#DejaVuSans-101\"/>\r\n      <use x=\"225.927734\" xlink:href=\"#DejaVuSans-108\"/>\r\n      <use x=\"253.710938\" xlink:href=\"#DejaVuSans-105\"/>\r\n      <use x=\"281.494141\" xlink:href=\"#DejaVuSans-110\"/>\r\n      <use x=\"344.873047\" xlink:href=\"#DejaVuSans-101\"/>\r\n     </g>\r\n    </g>\r\n   </g>\r\n   <g id=\"matplotlib.axis_2\">\r\n    <g id=\"ytick_1\">\r\n     <g id=\"line2d_10\">\r\n      <defs>\r\n       <path d=\"M 0 0 \r\nL -3.5 0 \r\n\" id=\"m1b62e3c94c\" style=\"stroke:#000000;stroke-width:0.8;\"/>\r\n      </defs>\r\n      <g>\r\n       <use style=\"stroke:#000000;stroke-width:0.8;\" x=\"30.103125\" xlink:href=\"#m1b62e3c94c\" y=\"324.941366\"/>\r\n      </g>\r\n     </g>\r\n     <g id=\"text_11\">\r\n      <!-- 0.1 -->\r\n      <g transform=\"translate(7.2 328.740585)scale(0.1 -0.1)\">\r\n       <use xlink:href=\"#DejaVuSans-48\"/>\r\n       <use x=\"63.623047\" xlink:href=\"#DejaVuSans-46\"/>\r\n       <use x=\"95.410156\" xlink:href=\"#DejaVuSans-49\"/>\r\n      </g>\r\n     </g>\r\n    </g>\r\n    <g id=\"ytick_2\">\r\n     <g id=\"line2d_11\">\r\n      <g>\r\n       <use style=\"stroke:#000000;stroke-width:0.8;\" x=\"30.103125\" xlink:href=\"#m1b62e3c94c\" y=\"286.946782\"/>\r\n      </g>\r\n     </g>\r\n     <g id=\"text_12\">\r\n      <!-- 0.2 -->\r\n      <g transform=\"translate(7.2 290.746001)scale(0.1 -0.1)\">\r\n       <use xlink:href=\"#DejaVuSans-48\"/>\r\n       <use x=\"63.623047\" xlink:href=\"#DejaVuSans-46\"/>\r\n       <use x=\"95.410156\" xlink:href=\"#DejaVuSans-50\"/>\r\n      </g>\r\n     </g>\r\n    </g>\r\n    <g id=\"ytick_3\">\r\n     <g id=\"line2d_12\">\r\n      <g>\r\n       <use style=\"stroke:#000000;stroke-width:0.8;\" x=\"30.103125\" xlink:href=\"#m1b62e3c94c\" y=\"248.952198\"/>\r\n      </g>\r\n     </g>\r\n     <g id=\"text_13\">\r\n      <!-- 0.3 -->\r\n      <g transform=\"translate(7.2 252.751417)scale(0.1 -0.1)\">\r\n       <defs>\r\n        <path d=\"M 40.578125 39.3125 \r\nQ 47.65625 37.796875 51.625 33 \r\nQ 55.609375 28.21875 55.609375 21.1875 \r\nQ 55.609375 10.40625 48.1875 4.484375 \r\nQ 40.765625 -1.421875 27.09375 -1.421875 \r\nQ 22.515625 -1.421875 17.65625 -0.515625 \r\nQ 12.796875 0.390625 7.625 2.203125 \r\nL 7.625 11.71875 \r\nQ 11.71875 9.328125 16.59375 8.109375 \r\nQ 21.484375 6.890625 26.8125 6.890625 \r\nQ 36.078125 6.890625 40.9375 10.546875 \r\nQ 45.796875 14.203125 45.796875 21.1875 \r\nQ 45.796875 27.640625 41.28125 31.265625 \r\nQ 36.765625 34.90625 28.71875 34.90625 \r\nL 20.21875 34.90625 \r\nL 20.21875 43.015625 \r\nL 29.109375 43.015625 \r\nQ 36.375 43.015625 40.234375 45.921875 \r\nQ 44.09375 48.828125 44.09375 54.296875 \r\nQ 44.09375 59.90625 40.109375 62.90625 \r\nQ 36.140625 65.921875 28.71875 65.921875 \r\nQ 24.65625 65.921875 20.015625 65.03125 \r\nQ 15.375 64.15625 9.8125 62.3125 \r\nL 9.8125 71.09375 \r\nQ 15.4375 72.65625 20.34375 73.4375 \r\nQ 25.25 74.21875 29.59375 74.21875 \r\nQ 40.828125 74.21875 47.359375 69.109375 \r\nQ 53.90625 64.015625 53.90625 55.328125 \r\nQ 53.90625 49.265625 50.4375 45.09375 \r\nQ 46.96875 40.921875 40.578125 39.3125 \r\nz\r\n\" id=\"DejaVuSans-51\"/>\r\n       </defs>\r\n       <use xlink:href=\"#DejaVuSans-48\"/>\r\n       <use x=\"63.623047\" xlink:href=\"#DejaVuSans-46\"/>\r\n       <use x=\"95.410156\" xlink:href=\"#DejaVuSans-51\"/>\r\n      </g>\r\n     </g>\r\n    </g>\r\n    <g id=\"ytick_4\">\r\n     <g id=\"line2d_13\">\r\n      <g>\r\n       <use style=\"stroke:#000000;stroke-width:0.8;\" x=\"30.103125\" xlink:href=\"#m1b62e3c94c\" y=\"210.957614\"/>\r\n      </g>\r\n     </g>\r\n     <g id=\"text_14\">\r\n      <!-- 0.4 -->\r\n      <g transform=\"translate(7.2 214.756833)scale(0.1 -0.1)\">\r\n       <defs>\r\n        <path d=\"M 37.796875 64.3125 \r\nL 12.890625 25.390625 \r\nL 37.796875 25.390625 \r\nz\r\nM 35.203125 72.90625 \r\nL 47.609375 72.90625 \r\nL 47.609375 25.390625 \r\nL 58.015625 25.390625 \r\nL 58.015625 17.1875 \r\nL 47.609375 17.1875 \r\nL 47.609375 0 \r\nL 37.796875 0 \r\nL 37.796875 17.1875 \r\nL 4.890625 17.1875 \r\nL 4.890625 26.703125 \r\nz\r\n\" id=\"DejaVuSans-52\"/>\r\n       </defs>\r\n       <use xlink:href=\"#DejaVuSans-48\"/>\r\n       <use x=\"63.623047\" xlink:href=\"#DejaVuSans-46\"/>\r\n       <use x=\"95.410156\" xlink:href=\"#DejaVuSans-52\"/>\r\n      </g>\r\n     </g>\r\n    </g>\r\n    <g id=\"ytick_5\">\r\n     <g id=\"line2d_14\">\r\n      <g>\r\n       <use style=\"stroke:#000000;stroke-width:0.8;\" x=\"30.103125\" xlink:href=\"#m1b62e3c94c\" y=\"172.96303\"/>\r\n      </g>\r\n     </g>\r\n     <g id=\"text_15\">\r\n      <!-- 0.5 -->\r\n      <g transform=\"translate(7.2 176.762249)scale(0.1 -0.1)\">\r\n       <use xlink:href=\"#DejaVuSans-48\"/>\r\n       <use x=\"63.623047\" xlink:href=\"#DejaVuSans-46\"/>\r\n       <use x=\"95.410156\" xlink:href=\"#DejaVuSans-53\"/>\r\n      </g>\r\n     </g>\r\n    </g>\r\n    <g id=\"ytick_6\">\r\n     <g id=\"line2d_15\">\r\n      <g>\r\n       <use style=\"stroke:#000000;stroke-width:0.8;\" x=\"30.103125\" xlink:href=\"#m1b62e3c94c\" y=\"134.968446\"/>\r\n      </g>\r\n     </g>\r\n     <g id=\"text_16\">\r\n      <!-- 0.6 -->\r\n      <g transform=\"translate(7.2 138.767665)scale(0.1 -0.1)\">\r\n       <defs>\r\n        <path d=\"M 33.015625 40.375 \r\nQ 26.375 40.375 22.484375 35.828125 \r\nQ 18.609375 31.296875 18.609375 23.390625 \r\nQ 18.609375 15.53125 22.484375 10.953125 \r\nQ 26.375 6.390625 33.015625 6.390625 \r\nQ 39.65625 6.390625 43.53125 10.953125 \r\nQ 47.40625 15.53125 47.40625 23.390625 \r\nQ 47.40625 31.296875 43.53125 35.828125 \r\nQ 39.65625 40.375 33.015625 40.375 \r\nz\r\nM 52.59375 71.296875 \r\nL 52.59375 62.3125 \r\nQ 48.875 64.0625 45.09375 64.984375 \r\nQ 41.3125 65.921875 37.59375 65.921875 \r\nQ 27.828125 65.921875 22.671875 59.328125 \r\nQ 17.53125 52.734375 16.796875 39.40625 \r\nQ 19.671875 43.65625 24.015625 45.921875 \r\nQ 28.375 48.1875 33.59375 48.1875 \r\nQ 44.578125 48.1875 50.953125 41.515625 \r\nQ 57.328125 34.859375 57.328125 23.390625 \r\nQ 57.328125 12.15625 50.6875 5.359375 \r\nQ 44.046875 -1.421875 33.015625 -1.421875 \r\nQ 20.359375 -1.421875 13.671875 8.265625 \r\nQ 6.984375 17.96875 6.984375 36.375 \r\nQ 6.984375 53.65625 15.1875 63.9375 \r\nQ 23.390625 74.21875 37.203125 74.21875 \r\nQ 40.921875 74.21875 44.703125 73.484375 \r\nQ 48.484375 72.75 52.59375 71.296875 \r\nz\r\n\" id=\"DejaVuSans-54\"/>\r\n       </defs>\r\n       <use xlink:href=\"#DejaVuSans-48\"/>\r\n       <use x=\"63.623047\" xlink:href=\"#DejaVuSans-46\"/>\r\n       <use x=\"95.410156\" xlink:href=\"#DejaVuSans-54\"/>\r\n      </g>\r\n     </g>\r\n    </g>\r\n    <g id=\"ytick_7\">\r\n     <g id=\"line2d_16\">\r\n      <g>\r\n       <use style=\"stroke:#000000;stroke-width:0.8;\" x=\"30.103125\" xlink:href=\"#m1b62e3c94c\" y=\"96.973862\"/>\r\n      </g>\r\n     </g>\r\n     <g id=\"text_17\">\r\n      <!-- 0.7 -->\r\n      <g transform=\"translate(7.2 100.773081)scale(0.1 -0.1)\">\r\n       <use xlink:href=\"#DejaVuSans-48\"/>\r\n       <use x=\"63.623047\" xlink:href=\"#DejaVuSans-46\"/>\r\n       <use x=\"95.410156\" xlink:href=\"#DejaVuSans-55\"/>\r\n      </g>\r\n     </g>\r\n    </g>\r\n    <g id=\"ytick_8\">\r\n     <g id=\"line2d_17\">\r\n      <g>\r\n       <use style=\"stroke:#000000;stroke-width:0.8;\" x=\"30.103125\" xlink:href=\"#m1b62e3c94c\" y=\"58.979278\"/>\r\n      </g>\r\n     </g>\r\n     <g id=\"text_18\">\r\n      <!-- 0.8 -->\r\n      <g transform=\"translate(7.2 62.778497)scale(0.1 -0.1)\">\r\n       <defs>\r\n        <path d=\"M 31.78125 34.625 \r\nQ 24.75 34.625 20.71875 30.859375 \r\nQ 16.703125 27.09375 16.703125 20.515625 \r\nQ 16.703125 13.921875 20.71875 10.15625 \r\nQ 24.75 6.390625 31.78125 6.390625 \r\nQ 38.8125 6.390625 42.859375 10.171875 \r\nQ 46.921875 13.96875 46.921875 20.515625 \r\nQ 46.921875 27.09375 42.890625 30.859375 \r\nQ 38.875 34.625 31.78125 34.625 \r\nz\r\nM 21.921875 38.8125 \r\nQ 15.578125 40.375 12.03125 44.71875 \r\nQ 8.5 49.078125 8.5 55.328125 \r\nQ 8.5 64.0625 14.71875 69.140625 \r\nQ 20.953125 74.21875 31.78125 74.21875 \r\nQ 42.671875 74.21875 48.875 69.140625 \r\nQ 55.078125 64.0625 55.078125 55.328125 \r\nQ 55.078125 49.078125 51.53125 44.71875 \r\nQ 48 40.375 41.703125 38.8125 \r\nQ 48.828125 37.15625 52.796875 32.3125 \r\nQ 56.78125 27.484375 56.78125 20.515625 \r\nQ 56.78125 9.90625 50.3125 4.234375 \r\nQ 43.84375 -1.421875 31.78125 -1.421875 \r\nQ 19.734375 -1.421875 13.25 4.234375 \r\nQ 6.78125 9.90625 6.78125 20.515625 \r\nQ 6.78125 27.484375 10.78125 32.3125 \r\nQ 14.796875 37.15625 21.921875 38.8125 \r\nz\r\nM 18.3125 54.390625 \r\nQ 18.3125 48.734375 21.84375 45.5625 \r\nQ 25.390625 42.390625 31.78125 42.390625 \r\nQ 38.140625 42.390625 41.71875 45.5625 \r\nQ 45.3125 48.734375 45.3125 54.390625 \r\nQ 45.3125 60.0625 41.71875 63.234375 \r\nQ 38.140625 66.40625 31.78125 66.40625 \r\nQ 25.390625 66.40625 21.84375 63.234375 \r\nQ 18.3125 60.0625 18.3125 54.390625 \r\nz\r\n\" id=\"DejaVuSans-56\"/>\r\n       </defs>\r\n       <use xlink:href=\"#DejaVuSans-48\"/>\r\n       <use x=\"63.623047\" xlink:href=\"#DejaVuSans-46\"/>\r\n       <use x=\"95.410156\" xlink:href=\"#DejaVuSans-56\"/>\r\n      </g>\r\n     </g>\r\n    </g>\r\n    <g id=\"ytick_9\">\r\n     <g id=\"line2d_18\">\r\n      <g>\r\n       <use style=\"stroke:#000000;stroke-width:0.8;\" x=\"30.103125\" xlink:href=\"#m1b62e3c94c\" y=\"20.984694\"/>\r\n      </g>\r\n     </g>\r\n     <g id=\"text_19\">\r\n      <!-- 0.9 -->\r\n      <g transform=\"translate(7.2 24.783913)scale(0.1 -0.1)\">\r\n       <defs>\r\n        <path d=\"M 10.984375 1.515625 \r\nL 10.984375 10.5 \r\nQ 14.703125 8.734375 18.5 7.8125 \r\nQ 22.3125 6.890625 25.984375 6.890625 \r\nQ 35.75 6.890625 40.890625 13.453125 \r\nQ 46.046875 20.015625 46.78125 33.40625 \r\nQ 43.953125 29.203125 39.59375 26.953125 \r\nQ 35.25 24.703125 29.984375 24.703125 \r\nQ 19.046875 24.703125 12.671875 31.3125 \r\nQ 6.296875 37.9375 6.296875 49.421875 \r\nQ 6.296875 60.640625 12.9375 67.421875 \r\nQ 19.578125 74.21875 30.609375 74.21875 \r\nQ 43.265625 74.21875 49.921875 64.515625 \r\nQ 56.59375 54.828125 56.59375 36.375 \r\nQ 56.59375 19.140625 48.40625 8.859375 \r\nQ 40.234375 -1.421875 26.421875 -1.421875 \r\nQ 22.703125 -1.421875 18.890625 -0.6875 \r\nQ 15.09375 0.046875 10.984375 1.515625 \r\nz\r\nM 30.609375 32.421875 \r\nQ 37.25 32.421875 41.125 36.953125 \r\nQ 45.015625 41.5 45.015625 49.421875 \r\nQ 45.015625 57.28125 41.125 61.84375 \r\nQ 37.25 66.40625 30.609375 66.40625 \r\nQ 23.96875 66.40625 20.09375 61.84375 \r\nQ 16.21875 57.28125 16.21875 49.421875 \r\nQ 16.21875 41.5 20.09375 36.953125 \r\nQ 23.96875 32.421875 30.609375 32.421875 \r\nz\r\n\" id=\"DejaVuSans-57\"/>\r\n       </defs>\r\n       <use xlink:href=\"#DejaVuSans-48\"/>\r\n       <use x=\"63.623047\" xlink:href=\"#DejaVuSans-46\"/>\r\n       <use x=\"95.410156\" xlink:href=\"#DejaVuSans-57\"/>\r\n      </g>\r\n     </g>\r\n    </g>\r\n   </g>\r\n   <g id=\"line2d_19\">\r\n    <path clip-path=\"url(#p1930f0e33e)\" d=\"M 60.539489 49.067648 \r\nL 90.975852 49.067648 \r\nL 90.975852 87.612878 \r\nL 121.412216 87.612878 \r\nL 121.412216 137.171031 \r\nL 151.84858 137.171031 \r\nL 151.84858 170.209799 \r\nL 182.284943 170.209799 \r\nL 182.284943 192.883464 \r\nL 212.721307 192.883464 \r\nL 212.721307 221.225545 \r\nL 243.15767 221.225545 \r\nL 243.15767 238.230794 \r\nL 304.030398 238.230794 \r\nL 304.030398 244.466052 \r\nL 334.466761 244.466052 \r\nL 334.466761 251.87042 \r\nL 364.903125 251.87042 \r\nL 364.903125 260.413922 \r\nL 425.775852 260.413922 \r\nL 425.775852 260.413922 \r\nL 456.212216 260.413922 \r\nL 456.212216 277.500927 \r\nL 517.084943 277.500927 \r\nL 517.084943 277.500927 \r\nL 638.830398 277.500927 \r\nL 638.830398 277.500927 \r\nL 669.266761 277.500927 \r\nL 669.266761 277.500927 \r\n\" style=\"fill:none;stroke:#1f77b4;stroke-linecap:square;stroke-width:1.5;\"/>\r\n   </g>\r\n   <g id=\"patch_3\">\r\n    <path d=\"M 30.103125 333.36 \r\nL 30.103125 7.2 \r\n\" style=\"fill:none;stroke:#000000;stroke-linecap:square;stroke-linejoin:miter;stroke-width:0.8;\"/>\r\n   </g>\r\n   <g id=\"patch_4\">\r\n    <path d=\"M 699.703125 333.36 \r\nL 699.703125 7.2 \r\n\" style=\"fill:none;stroke:#000000;stroke-linecap:square;stroke-linejoin:miter;stroke-width:0.8;\"/>\r\n   </g>\r\n   <g id=\"patch_5\">\r\n    <path d=\"M 30.103125 333.36 \r\nL 699.703125 333.36 \r\n\" style=\"fill:none;stroke:#000000;stroke-linecap:square;stroke-linejoin:miter;stroke-width:0.8;\"/>\r\n   </g>\r\n   <g id=\"patch_6\">\r\n    <path d=\"M 30.103125 7.2 \r\nL 699.703125 7.2 \r\n\" style=\"fill:none;stroke:#000000;stroke-linecap:square;stroke-linejoin:miter;stroke-width:0.8;\"/>\r\n   </g>\r\n   <g id=\"legend_1\">\r\n    <g id=\"patch_7\">\r\n     <path d=\"M 548.251562 29.878125 \r\nL 692.703125 29.878125 \r\nQ 694.703125 29.878125 694.703125 27.878125 \r\nL 694.703125 14.2 \r\nQ 694.703125 12.2 692.703125 12.2 \r\nL 548.251562 12.2 \r\nQ 546.251562 12.2 546.251562 14.2 \r\nL 546.251562 27.878125 \r\nQ 546.251562 29.878125 548.251562 29.878125 \r\nz\r\n\" style=\"fill:#ffffff;opacity:0.8;stroke:#cccccc;stroke-linejoin:miter;\"/>\r\n    </g>\r\n    <g id=\"line2d_20\">\r\n     <path d=\"M 550.251562 20.298437 \r\nL 570.251562 20.298437 \r\n\" style=\"fill:none;stroke:#1f77b4;stroke-linecap:square;stroke-width:1.5;\"/>\r\n    </g>\r\n    <g id=\"line2d_21\"/>\r\n    <g id=\"text_20\">\r\n     <!-- Kaplan Meier Estimate -->\r\n     <g transform=\"translate(578.251562 23.798437)scale(0.1 -0.1)\">\r\n      <defs>\r\n       <path d=\"M 9.8125 72.90625 \r\nL 19.671875 72.90625 \r\nL 19.671875 42.09375 \r\nL 52.390625 72.90625 \r\nL 65.09375 72.90625 \r\nL 28.90625 38.921875 \r\nL 67.671875 0 \r\nL 54.6875 0 \r\nL 19.671875 35.109375 \r\nL 19.671875 0 \r\nL 9.8125 0 \r\nz\r\n\" id=\"DejaVuSans-75\"/>\r\n       <path d=\"M 34.28125 27.484375 \r\nQ 23.390625 27.484375 19.1875 25 \r\nQ 14.984375 22.515625 14.984375 16.5 \r\nQ 14.984375 11.71875 18.140625 8.90625 \r\nQ 21.296875 6.109375 26.703125 6.109375 \r\nQ 34.1875 6.109375 38.703125 11.40625 \r\nQ 43.21875 16.703125 43.21875 25.484375 \r\nL 43.21875 27.484375 \r\nz\r\nM 52.203125 31.203125 \r\nL 52.203125 0 \r\nL 43.21875 0 \r\nL 43.21875 8.296875 \r\nQ 40.140625 3.328125 35.546875 0.953125 \r\nQ 30.953125 -1.421875 24.3125 -1.421875 \r\nQ 15.921875 -1.421875 10.953125 3.296875 \r\nQ 6 8.015625 6 15.921875 \r\nQ 6 25.140625 12.171875 29.828125 \r\nQ 18.359375 34.515625 30.609375 34.515625 \r\nL 43.21875 34.515625 \r\nL 43.21875 35.40625 \r\nQ 43.21875 41.609375 39.140625 45 \r\nQ 35.0625 48.390625 27.6875 48.390625 \r\nQ 23 48.390625 18.546875 47.265625 \r\nQ 14.109375 46.140625 10.015625 43.890625 \r\nL 10.015625 52.203125 \r\nQ 14.9375 54.109375 19.578125 55.046875 \r\nQ 24.21875 56 28.609375 56 \r\nQ 40.484375 56 46.34375 49.84375 \r\nQ 52.203125 43.703125 52.203125 31.203125 \r\nz\r\n\" id=\"DejaVuSans-97\"/>\r\n       <path d=\"M 18.109375 8.203125 \r\nL 18.109375 -20.796875 \r\nL 9.078125 -20.796875 \r\nL 9.078125 54.6875 \r\nL 18.109375 54.6875 \r\nL 18.109375 46.390625 \r\nQ 20.953125 51.265625 25.265625 53.625 \r\nQ 29.59375 56 35.59375 56 \r\nQ 45.5625 56 51.78125 48.09375 \r\nQ 58.015625 40.1875 58.015625 27.296875 \r\nQ 58.015625 14.40625 51.78125 6.484375 \r\nQ 45.5625 -1.421875 35.59375 -1.421875 \r\nQ 29.59375 -1.421875 25.265625 0.953125 \r\nQ 20.953125 3.328125 18.109375 8.203125 \r\nz\r\nM 48.6875 27.296875 \r\nQ 48.6875 37.203125 44.609375 42.84375 \r\nQ 40.53125 48.484375 33.40625 48.484375 \r\nQ 26.265625 48.484375 22.1875 42.84375 \r\nQ 18.109375 37.203125 18.109375 27.296875 \r\nQ 18.109375 17.390625 22.1875 11.75 \r\nQ 26.265625 6.109375 33.40625 6.109375 \r\nQ 40.53125 6.109375 44.609375 11.75 \r\nQ 48.6875 17.390625 48.6875 27.296875 \r\nz\r\n\" id=\"DejaVuSans-112\"/>\r\n       <path id=\"DejaVuSans-32\"/>\r\n       <path d=\"M 9.8125 72.90625 \r\nL 24.515625 72.90625 \r\nL 43.109375 23.296875 \r\nL 61.8125 72.90625 \r\nL 76.515625 72.90625 \r\nL 76.515625 0 \r\nL 66.890625 0 \r\nL 66.890625 64.015625 \r\nL 48.09375 14.015625 \r\nL 38.1875 14.015625 \r\nL 19.390625 64.015625 \r\nL 19.390625 0 \r\nL 9.8125 0 \r\nz\r\n\" id=\"DejaVuSans-77\"/>\r\n       <path d=\"M 41.109375 46.296875 \r\nQ 39.59375 47.171875 37.8125 47.578125 \r\nQ 36.03125 48 33.890625 48 \r\nQ 26.265625 48 22.1875 43.046875 \r\nQ 18.109375 38.09375 18.109375 28.8125 \r\nL 18.109375 0 \r\nL 9.078125 0 \r\nL 9.078125 54.6875 \r\nL 18.109375 54.6875 \r\nL 18.109375 46.1875 \r\nQ 20.953125 51.171875 25.484375 53.578125 \r\nQ 30.03125 56 36.53125 56 \r\nQ 37.453125 56 38.578125 55.875 \r\nQ 39.703125 55.765625 41.0625 55.515625 \r\nz\r\n\" id=\"DejaVuSans-114\"/>\r\n       <path d=\"M 9.8125 72.90625 \r\nL 55.90625 72.90625 \r\nL 55.90625 64.59375 \r\nL 19.671875 64.59375 \r\nL 19.671875 43.015625 \r\nL 54.390625 43.015625 \r\nL 54.390625 34.71875 \r\nL 19.671875 34.71875 \r\nL 19.671875 8.296875 \r\nL 56.78125 8.296875 \r\nL 56.78125 0 \r\nL 9.8125 0 \r\nz\r\n\" id=\"DejaVuSans-69\"/>\r\n       <path d=\"M 44.28125 53.078125 \r\nL 44.28125 44.578125 \r\nQ 40.484375 46.53125 36.375 47.5 \r\nQ 32.28125 48.484375 27.875 48.484375 \r\nQ 21.1875 48.484375 17.84375 46.4375 \r\nQ 14.5 44.390625 14.5 40.28125 \r\nQ 14.5 37.15625 16.890625 35.375 \r\nQ 19.28125 33.59375 26.515625 31.984375 \r\nL 29.59375 31.296875 \r\nQ 39.15625 29.25 43.1875 25.515625 \r\nQ 47.21875 21.78125 47.21875 15.09375 \r\nQ 47.21875 7.46875 41.1875 3.015625 \r\nQ 35.15625 -1.421875 24.609375 -1.421875 \r\nQ 20.21875 -1.421875 15.453125 -0.5625 \r\nQ 10.6875 0.296875 5.421875 2 \r\nL 5.421875 11.28125 \r\nQ 10.40625 8.6875 15.234375 7.390625 \r\nQ 20.0625 6.109375 24.8125 6.109375 \r\nQ 31.15625 6.109375 34.5625 8.28125 \r\nQ 37.984375 10.453125 37.984375 14.40625 \r\nQ 37.984375 18.0625 35.515625 20.015625 \r\nQ 33.0625 21.96875 24.703125 23.78125 \r\nL 21.578125 24.515625 \r\nQ 13.234375 26.265625 9.515625 29.90625 \r\nQ 5.8125 33.546875 5.8125 39.890625 \r\nQ 5.8125 47.609375 11.28125 51.796875 \r\nQ 16.75 56 26.8125 56 \r\nQ 31.78125 56 36.171875 55.265625 \r\nQ 40.578125 54.546875 44.28125 53.078125 \r\nz\r\n\" id=\"DejaVuSans-115\"/>\r\n      </defs>\r\n      <use xlink:href=\"#DejaVuSans-75\"/>\r\n      <use x=\"63.826172\" xlink:href=\"#DejaVuSans-97\"/>\r\n      <use x=\"125.105469\" xlink:href=\"#DejaVuSans-112\"/>\r\n      <use x=\"188.582031\" xlink:href=\"#DejaVuSans-108\"/>\r\n      <use x=\"216.365234\" xlink:href=\"#DejaVuSans-97\"/>\r\n      <use x=\"277.644531\" xlink:href=\"#DejaVuSans-110\"/>\r\n      <use x=\"341.023438\" xlink:href=\"#DejaVuSans-32\"/>\r\n      <use x=\"372.810547\" xlink:href=\"#DejaVuSans-77\"/>\r\n      <use x=\"459.089844\" xlink:href=\"#DejaVuSans-101\"/>\r\n      <use x=\"520.613281\" xlink:href=\"#DejaVuSans-105\"/>\r\n      <use x=\"548.396484\" xlink:href=\"#DejaVuSans-101\"/>\r\n      <use x=\"609.919922\" xlink:href=\"#DejaVuSans-114\"/>\r\n      <use x=\"651.033203\" xlink:href=\"#DejaVuSans-32\"/>\r\n      <use x=\"682.820312\" xlink:href=\"#DejaVuSans-69\"/>\r\n      <use x=\"746.003906\" xlink:href=\"#DejaVuSans-115\"/>\r\n      <use x=\"798.103516\" xlink:href=\"#DejaVuSans-116\"/>\r\n      <use x=\"837.3125\" xlink:href=\"#DejaVuSans-105\"/>\r\n      <use x=\"865.095703\" xlink:href=\"#DejaVuSans-109\"/>\r\n      <use x=\"962.507812\" xlink:href=\"#DejaVuSans-97\"/>\r\n      <use x=\"1023.787109\" xlink:href=\"#DejaVuSans-116\"/>\r\n      <use x=\"1062.996094\" xlink:href=\"#DejaVuSans-101\"/>\r\n     </g>\r\n    </g>\r\n   </g>\r\n  </g>\r\n </g>\r\n <defs>\r\n  <clipPath id=\"p1930f0e33e\">\r\n   <rect height=\"326.16\" width=\"669.6\" x=\"30.103125\" y=\"7.2\"/>\r\n  </clipPath>\r\n </defs>\r\n</svg>\r\n",
      "image/png": "[encoded data removed]"
     },
     "metadata": {
      "needs_background": "light"
     }
    }
   ],
   "source": [
    "## Lets create an overall KaplanMeier curve, without breaking it into groups of covariates.\n",
    "\n",
    "## Import the library\n",
    "from lifelines import KaplanMeierFitter\n",
    "\n",
    "\n",
    "durations = filtered['days'] ## Time to event data of censored and event data\n",
    "event_observed = filtered['outcome']  ## It has the churned (1) and censored is (0)\n",
    "\n",
    "## create a kmf object as km\n",
    "km = KaplanMeierFitter() ## instantiate the class to create an object\n",
    "\n",
    "## Fit the data into the model\n",
    "km.fit(durations, event_observed,label='Kaplan Meier Estimate')\n",
    "\n",
    "## Create an estimate\n",
    "km.plot()"
   ]
  },
  {
   "cell_type": "code",
   "execution_count": 30,
   "metadata": {
    "colab": {
     "base_uri": "https://localhost:8080/",
     "height": 391
    },
    "executionInfo": {
     "elapsed": 1342,
     "status": "ok",
     "timestamp": 1610679387863,
     "user": {
      "displayName": "장승운",
      "photoUrl": "",
      "userId": "09116233606503711736"
     },
     "user_tz": -540
    },
    "id": "EKKbvctWWNln",
    "outputId": "7ec356d8-d002-49a2-9d04-f466d70caa24"
   },
   "outputs": [
    {
     "output_type": "display_data",
     "data": {
      "text/plain": "<Figure size 864x432 with 1 Axes>",
      "image/svg+xml": "<?xml version=\"1.0\" encoding=\"utf-8\" standalone=\"no\"?>\r\n<!DOCTYPE svg PUBLIC \"-//W3C//DTD SVG 1.1//EN\"\r\n  \"http://www.w3.org/Graphics/SVG/1.1/DTD/svg11.dtd\">\r\n<!-- Created with matplotlib (https://matplotlib.org/) -->\r\n<svg height=\"370.91625pt\" version=\"1.1\" viewBox=\"0 0 706.903125 370.91625\" width=\"706.903125pt\" xmlns=\"http://www.w3.org/2000/svg\" xmlns:xlink=\"http://www.w3.org/1999/xlink\">\r\n <metadata>\r\n  <rdf:RDF xmlns:cc=\"http://creativecommons.org/ns#\" xmlns:dc=\"http://purl.org/dc/elements/1.1/\" xmlns:rdf=\"http://www.w3.org/1999/02/22-rdf-syntax-ns#\">\r\n   <cc:Work>\r\n    <dc:type rdf:resource=\"http://purl.org/dc/dcmitype/StillImage\"/>\r\n    <dc:date>2021-01-21T16:32:04.687257</dc:date>\r\n    <dc:format>image/svg+xml</dc:format>\r\n    <dc:creator>\r\n     <cc:Agent>\r\n      <dc:title>Matplotlib v3.3.2, https://matplotlib.org/</dc:title>\r\n     </cc:Agent>\r\n    </dc:creator>\r\n   </cc:Work>\r\n  </rdf:RDF>\r\n </metadata>\r\n <defs>\r\n  <style type=\"text/css\">*{stroke-linecap:butt;stroke-linejoin:round;}</style>\r\n </defs>\r\n <g id=\"figure_1\">\r\n  <g id=\"patch_1\">\r\n   <path d=\"M 0 370.91625 \r\nL 706.903125 370.91625 \r\nL 706.903125 0 \r\nL 0 0 \r\nz\r\n\" style=\"fill:none;\"/>\r\n  </g>\r\n  <g id=\"axes_1\">\r\n   <g id=\"patch_2\">\r\n    <path d=\"M 30.103125 333.36 \r\nL 699.703125 333.36 \r\nL 699.703125 7.2 \r\nL 30.103125 7.2 \r\nz\r\n\" style=\"fill:#ffffff;\"/>\r\n   </g>\r\n   <g id=\"PolyCollection_1\">\r\n    <defs>\r\n     <path d=\"M 60.539489 -337.627412 \r\nL 60.539489 -233.565627 \r\nL 90.975852 -233.565627 \r\nL 90.975852 -196.772162 \r\nL 121.412216 -196.772162 \r\nL 121.412216 -151.931552 \r\nL 151.84858 -151.931552 \r\nL 151.84858 -121.26796 \r\nL 182.284943 -121.26796 \r\nL 182.284943 -102.301023 \r\nL 212.721307 -102.301023 \r\nL 212.721307 -76.413979 \r\nL 243.15767 -76.413979 \r\nL 243.15767 -68.608434 \r\nL 304.030398 -68.608434 \r\nL 304.030398 -61.315594 \r\nL 456.212216 -61.315594 \r\nL 456.212216 -52.381705 \r\nL 517.084943 -52.381705 \r\nL 517.084943 -52.381705 \r\nL 669.266761 -52.381705 \r\nL 669.266761 -52.381705 \r\nL 669.266761 -135.99193 \r\nL 669.266761 -135.99193 \r\nL 669.266761 -135.99193 \r\nL 517.084943 -135.99193 \r\nL 517.084943 -135.99193 \r\nL 456.212216 -135.99193 \r\nL 456.212216 -151.724902 \r\nL 304.030398 -151.724902 \r\nL 304.030398 -165.286317 \r\nL 243.15767 -165.286317 \r\nL 243.15767 -178.400047 \r\nL 212.721307 -178.400047 \r\nL 212.721307 -215.541628 \r\nL 182.284943 -215.541628 \r\nL 182.284943 -238.747312 \r\nL 151.84858 -238.747312 \r\nL 151.84858 -271.477014 \r\nL 121.412216 -271.477014 \r\nL 121.412216 -311.224897 \r\nL 90.975852 -311.224897 \r\nL 90.975852 -337.627412 \r\nL 60.539489 -337.627412 \r\nz\r\n\" id=\"me8b2a9661b\" style=\"stroke:#1f77b4;stroke-opacity:0.25;\"/>\r\n    </defs>\r\n    <g clip-path=\"url(#pe4ced64e8e)\">\r\n     <use style=\"fill:#1f77b4;fill-opacity:0.25;stroke:#1f77b4;stroke-opacity:0.25;\" x=\"0\" xlink:href=\"#me8b2a9661b\" y=\"370.91625\"/>\r\n    </g>\r\n   </g>\r\n   <g id=\"PolyCollection_2\">\r\n    <defs>\r\n     <path d=\"M 60.539489 -348.890795 \r\nL 60.539489 -273.04397 \r\nL 90.975852 -273.04397 \r\nL 90.975852 -236.922357 \r\nL 121.412216 -236.922357 \r\nL 121.412216 -195.127964 \r\nL 151.84858 -195.127964 \r\nL 151.84858 -171.536971 \r\nL 182.284943 -171.536971 \r\nL 182.284943 -155.475257 \r\nL 212.721307 -155.475257 \r\nL 212.721307 -139.976745 \r\nL 243.15767 -139.976745 \r\nL 243.15767 -125.039344 \r\nL 304.030398 -125.039344 \r\nL 304.030398 -125.039344 \r\nL 334.466761 -125.039344 \r\nL 334.466761 -114.381784 \r\nL 364.903125 -114.381784 \r\nL 364.903125 -101.075152 \r\nL 425.775852 -101.075152 \r\nL 425.775852 -101.075152 \r\nL 638.830398 -101.075152 \r\nL 638.830398 -101.075152 \r\nL 638.830398 -201.52556 \r\nL 638.830398 -201.52556 \r\nL 638.830398 -201.52556 \r\nL 425.775852 -201.52556 \r\nL 425.775852 -201.52556 \r\nL 364.903125 -201.52556 \r\nL 364.903125 -213.271833 \r\nL 334.466761 -213.271833 \r\nL 334.466761 -223.404111 \r\nL 304.030398 -223.404111 \r\nL 304.030398 -223.404111 \r\nL 243.15767 -223.404111 \r\nL 243.15767 -239.719869 \r\nL 212.721307 -239.719869 \r\nL 212.721307 -255.539001 \r\nL 182.284943 -255.539001 \r\nL 182.284943 -270.863936 \r\nL 151.84858 -270.863936 \r\nL 151.84858 -292.248298 \r\nL 121.412216 -292.248298 \r\nL 121.412216 -325.375875 \r\nL 90.975852 -325.375875 \r\nL 90.975852 -348.890795 \r\nL 60.539489 -348.890795 \r\nz\r\n\" id=\"m4ef416fb3c\" style=\"stroke:#ff7f0e;stroke-opacity:0.25;\"/>\r\n    </defs>\r\n    <g clip-path=\"url(#pe4ced64e8e)\">\r\n     <use style=\"fill:#ff7f0e;fill-opacity:0.25;stroke:#ff7f0e;stroke-opacity:0.25;\" x=\"0\" xlink:href=\"#m4ef416fb3c\" y=\"370.91625\"/>\r\n    </g>\r\n   </g>\r\n   <g id=\"matplotlib.axis_1\">\r\n    <g id=\"xtick_1\">\r\n     <g id=\"line2d_1\">\r\n      <defs>\r\n       <path d=\"M 0 0 \r\nL 0 3.5 \r\n\" id=\"m5c266088a7\" style=\"stroke:#000000;stroke-width:0.8;\"/>\r\n      </defs>\r\n      <g>\r\n       <use style=\"stroke:#000000;stroke-width:0.8;\" x=\"60.539489\" xlink:href=\"#m5c266088a7\" y=\"333.36\"/>\r\n      </g>\r\n     </g>\r\n     <g id=\"text_1\">\r\n      <!-- 0.0 -->\r\n      <g transform=\"translate(52.587926 347.958438)scale(0.1 -0.1)\">\r\n       <defs>\r\n        <path d=\"M 31.78125 66.40625 \r\nQ 24.171875 66.40625 20.328125 58.90625 \r\nQ 16.5 51.421875 16.5 36.375 \r\nQ 16.5 21.390625 20.328125 13.890625 \r\nQ 24.171875 6.390625 31.78125 6.390625 \r\nQ 39.453125 6.390625 43.28125 13.890625 \r\nQ 47.125 21.390625 47.125 36.375 \r\nQ 47.125 51.421875 43.28125 58.90625 \r\nQ 39.453125 66.40625 31.78125 66.40625 \r\nz\r\nM 31.78125 74.21875 \r\nQ 44.046875 74.21875 50.515625 64.515625 \r\nQ 56.984375 54.828125 56.984375 36.375 \r\nQ 56.984375 17.96875 50.515625 8.265625 \r\nQ 44.046875 -1.421875 31.78125 -1.421875 \r\nQ 19.53125 -1.421875 13.0625 8.265625 \r\nQ 6.59375 17.96875 6.59375 36.375 \r\nQ 6.59375 54.828125 13.0625 64.515625 \r\nQ 19.53125 74.21875 31.78125 74.21875 \r\nz\r\n\" id=\"DejaVuSans-48\"/>\r\n        <path d=\"M 10.6875 12.40625 \r\nL 21 12.40625 \r\nL 21 0 \r\nL 10.6875 0 \r\nz\r\n\" id=\"DejaVuSans-46\"/>\r\n       </defs>\r\n       <use xlink:href=\"#DejaVuSans-48\"/>\r\n       <use x=\"63.623047\" xlink:href=\"#DejaVuSans-46\"/>\r\n       <use x=\"95.410156\" xlink:href=\"#DejaVuSans-48\"/>\r\n      </g>\r\n     </g>\r\n    </g>\r\n    <g id=\"xtick_2\">\r\n     <g id=\"line2d_2\">\r\n      <g>\r\n       <use style=\"stroke:#000000;stroke-width:0.8;\" x=\"136.630398\" xlink:href=\"#m5c266088a7\" y=\"333.36\"/>\r\n      </g>\r\n     </g>\r\n     <g id=\"text_2\">\r\n      <!-- 2.5 -->\r\n      <g transform=\"translate(128.678835 347.958438)scale(0.1 -0.1)\">\r\n       <defs>\r\n        <path d=\"M 19.1875 8.296875 \r\nL 53.609375 8.296875 \r\nL 53.609375 0 \r\nL 7.328125 0 \r\nL 7.328125 8.296875 \r\nQ 12.9375 14.109375 22.625 23.890625 \r\nQ 32.328125 33.6875 34.8125 36.53125 \r\nQ 39.546875 41.84375 41.421875 45.53125 \r\nQ 43.3125 49.21875 43.3125 52.78125 \r\nQ 43.3125 58.59375 39.234375 62.25 \r\nQ 35.15625 65.921875 28.609375 65.921875 \r\nQ 23.96875 65.921875 18.8125 64.3125 \r\nQ 13.671875 62.703125 7.8125 59.421875 \r\nL 7.8125 69.390625 \r\nQ 13.765625 71.78125 18.9375 73 \r\nQ 24.125 74.21875 28.421875 74.21875 \r\nQ 39.75 74.21875 46.484375 68.546875 \r\nQ 53.21875 62.890625 53.21875 53.421875 \r\nQ 53.21875 48.921875 51.53125 44.890625 \r\nQ 49.859375 40.875 45.40625 35.40625 \r\nQ 44.1875 33.984375 37.640625 27.21875 \r\nQ 31.109375 20.453125 19.1875 8.296875 \r\nz\r\n\" id=\"DejaVuSans-50\"/>\r\n        <path d=\"M 10.796875 72.90625 \r\nL 49.515625 72.90625 \r\nL 49.515625 64.59375 \r\nL 19.828125 64.59375 \r\nL 19.828125 46.734375 \r\nQ 21.96875 47.46875 24.109375 47.828125 \r\nQ 26.265625 48.1875 28.421875 48.1875 \r\nQ 40.625 48.1875 47.75 41.5 \r\nQ 54.890625 34.8125 54.890625 23.390625 \r\nQ 54.890625 11.625 47.5625 5.09375 \r\nQ 40.234375 -1.421875 26.90625 -1.421875 \r\nQ 22.3125 -1.421875 17.546875 -0.640625 \r\nQ 12.796875 0.140625 7.71875 1.703125 \r\nL 7.71875 11.625 \r\nQ 12.109375 9.234375 16.796875 8.0625 \r\nQ 21.484375 6.890625 26.703125 6.890625 \r\nQ 35.15625 6.890625 40.078125 11.328125 \r\nQ 45.015625 15.765625 45.015625 23.390625 \r\nQ 45.015625 31 40.078125 35.4375 \r\nQ 35.15625 39.890625 26.703125 39.890625 \r\nQ 22.75 39.890625 18.8125 39.015625 \r\nQ 14.890625 38.140625 10.796875 36.28125 \r\nz\r\n\" id=\"DejaVuSans-53\"/>\r\n       </defs>\r\n       <use xlink:href=\"#DejaVuSans-50\"/>\r\n       <use x=\"63.623047\" xlink:href=\"#DejaVuSans-46\"/>\r\n       <use x=\"95.410156\" xlink:href=\"#DejaVuSans-53\"/>\r\n      </g>\r\n     </g>\r\n    </g>\r\n    <g id=\"xtick_3\">\r\n     <g id=\"line2d_3\">\r\n      <g>\r\n       <use style=\"stroke:#000000;stroke-width:0.8;\" x=\"212.721307\" xlink:href=\"#m5c266088a7\" y=\"333.36\"/>\r\n      </g>\r\n     </g>\r\n     <g id=\"text_3\">\r\n      <!-- 5.0 -->\r\n      <g transform=\"translate(204.769744 347.958438)scale(0.1 -0.1)\">\r\n       <use xlink:href=\"#DejaVuSans-53\"/>\r\n       <use x=\"63.623047\" xlink:href=\"#DejaVuSans-46\"/>\r\n       <use x=\"95.410156\" xlink:href=\"#DejaVuSans-48\"/>\r\n      </g>\r\n     </g>\r\n    </g>\r\n    <g id=\"xtick_4\">\r\n     <g id=\"line2d_4\">\r\n      <g>\r\n       <use style=\"stroke:#000000;stroke-width:0.8;\" x=\"288.812216\" xlink:href=\"#m5c266088a7\" y=\"333.36\"/>\r\n      </g>\r\n     </g>\r\n     <g id=\"text_4\">\r\n      <!-- 7.5 -->\r\n      <g transform=\"translate(280.860653 347.958438)scale(0.1 -0.1)\">\r\n       <defs>\r\n        <path d=\"M 8.203125 72.90625 \r\nL 55.078125 72.90625 \r\nL 55.078125 68.703125 \r\nL 28.609375 0 \r\nL 18.3125 0 \r\nL 43.21875 64.59375 \r\nL 8.203125 64.59375 \r\nz\r\n\" id=\"DejaVuSans-55\"/>\r\n       </defs>\r\n       <use xlink:href=\"#DejaVuSans-55\"/>\r\n       <use x=\"63.623047\" xlink:href=\"#DejaVuSans-46\"/>\r\n       <use x=\"95.410156\" xlink:href=\"#DejaVuSans-53\"/>\r\n      </g>\r\n     </g>\r\n    </g>\r\n    <g id=\"xtick_5\">\r\n     <g id=\"line2d_5\">\r\n      <g>\r\n       <use style=\"stroke:#000000;stroke-width:0.8;\" x=\"364.903125\" xlink:href=\"#m5c266088a7\" y=\"333.36\"/>\r\n      </g>\r\n     </g>\r\n     <g id=\"text_5\">\r\n      <!-- 10.0 -->\r\n      <g transform=\"translate(353.770313 347.958438)scale(0.1 -0.1)\">\r\n       <defs>\r\n        <path d=\"M 12.40625 8.296875 \r\nL 28.515625 8.296875 \r\nL 28.515625 63.921875 \r\nL 10.984375 60.40625 \r\nL 10.984375 69.390625 \r\nL 28.421875 72.90625 \r\nL 38.28125 72.90625 \r\nL 38.28125 8.296875 \r\nL 54.390625 8.296875 \r\nL 54.390625 0 \r\nL 12.40625 0 \r\nz\r\n\" id=\"DejaVuSans-49\"/>\r\n       </defs>\r\n       <use xlink:href=\"#DejaVuSans-49\"/>\r\n       <use x=\"63.623047\" xlink:href=\"#DejaVuSans-48\"/>\r\n       <use x=\"127.246094\" xlink:href=\"#DejaVuSans-46\"/>\r\n       <use x=\"159.033203\" xlink:href=\"#DejaVuSans-48\"/>\r\n      </g>\r\n     </g>\r\n    </g>\r\n    <g id=\"xtick_6\">\r\n     <g id=\"line2d_6\">\r\n      <g>\r\n       <use style=\"stroke:#000000;stroke-width:0.8;\" x=\"440.994034\" xlink:href=\"#m5c266088a7\" y=\"333.36\"/>\r\n      </g>\r\n     </g>\r\n     <g id=\"text_6\">\r\n      <!-- 12.5 -->\r\n      <g transform=\"translate(429.861222 347.958438)scale(0.1 -0.1)\">\r\n       <use xlink:href=\"#DejaVuSans-49\"/>\r\n       <use x=\"63.623047\" xlink:href=\"#DejaVuSans-50\"/>\r\n       <use x=\"127.246094\" xlink:href=\"#DejaVuSans-46\"/>\r\n       <use x=\"159.033203\" xlink:href=\"#DejaVuSans-53\"/>\r\n      </g>\r\n     </g>\r\n    </g>\r\n    <g id=\"xtick_7\">\r\n     <g id=\"line2d_7\">\r\n      <g>\r\n       <use style=\"stroke:#000000;stroke-width:0.8;\" x=\"517.084943\" xlink:href=\"#m5c266088a7\" y=\"333.36\"/>\r\n      </g>\r\n     </g>\r\n     <g id=\"text_7\">\r\n      <!-- 15.0 -->\r\n      <g transform=\"translate(505.952131 347.958438)scale(0.1 -0.1)\">\r\n       <use xlink:href=\"#DejaVuSans-49\"/>\r\n       <use x=\"63.623047\" xlink:href=\"#DejaVuSans-53\"/>\r\n       <use x=\"127.246094\" xlink:href=\"#DejaVuSans-46\"/>\r\n       <use x=\"159.033203\" xlink:href=\"#DejaVuSans-48\"/>\r\n      </g>\r\n     </g>\r\n    </g>\r\n    <g id=\"xtick_8\">\r\n     <g id=\"line2d_8\">\r\n      <g>\r\n       <use style=\"stroke:#000000;stroke-width:0.8;\" x=\"593.175852\" xlink:href=\"#m5c266088a7\" y=\"333.36\"/>\r\n      </g>\r\n     </g>\r\n     <g id=\"text_8\">\r\n      <!-- 17.5 -->\r\n      <g transform=\"translate(582.04304 347.958438)scale(0.1 -0.1)\">\r\n       <use xlink:href=\"#DejaVuSans-49\"/>\r\n       <use x=\"63.623047\" xlink:href=\"#DejaVuSans-55\"/>\r\n       <use x=\"127.246094\" xlink:href=\"#DejaVuSans-46\"/>\r\n       <use x=\"159.033203\" xlink:href=\"#DejaVuSans-53\"/>\r\n      </g>\r\n     </g>\r\n    </g>\r\n    <g id=\"xtick_9\">\r\n     <g id=\"line2d_9\">\r\n      <g>\r\n       <use style=\"stroke:#000000;stroke-width:0.8;\" x=\"669.266761\" xlink:href=\"#m5c266088a7\" y=\"333.36\"/>\r\n      </g>\r\n     </g>\r\n     <g id=\"text_9\">\r\n      <!-- 20.0 -->\r\n      <g transform=\"translate(658.133949 347.958438)scale(0.1 -0.1)\">\r\n       <use xlink:href=\"#DejaVuSans-50\"/>\r\n       <use x=\"63.623047\" xlink:href=\"#DejaVuSans-48\"/>\r\n       <use x=\"127.246094\" xlink:href=\"#DejaVuSans-46\"/>\r\n       <use x=\"159.033203\" xlink:href=\"#DejaVuSans-48\"/>\r\n      </g>\r\n     </g>\r\n    </g>\r\n    <g id=\"text_10\">\r\n     <!-- timeline -->\r\n     <g transform=\"translate(344.583594 361.636562)scale(0.1 -0.1)\">\r\n      <defs>\r\n       <path d=\"M 18.3125 70.21875 \r\nL 18.3125 54.6875 \r\nL 36.8125 54.6875 \r\nL 36.8125 47.703125 \r\nL 18.3125 47.703125 \r\nL 18.3125 18.015625 \r\nQ 18.3125 11.328125 20.140625 9.421875 \r\nQ 21.96875 7.515625 27.59375 7.515625 \r\nL 36.8125 7.515625 \r\nL 36.8125 0 \r\nL 27.59375 0 \r\nQ 17.1875 0 13.234375 3.875 \r\nQ 9.28125 7.765625 9.28125 18.015625 \r\nL 9.28125 47.703125 \r\nL 2.6875 47.703125 \r\nL 2.6875 54.6875 \r\nL 9.28125 54.6875 \r\nL 9.28125 70.21875 \r\nz\r\n\" id=\"DejaVuSans-116\"/>\r\n       <path d=\"M 9.421875 54.6875 \r\nL 18.40625 54.6875 \r\nL 18.40625 0 \r\nL 9.421875 0 \r\nz\r\nM 9.421875 75.984375 \r\nL 18.40625 75.984375 \r\nL 18.40625 64.59375 \r\nL 9.421875 64.59375 \r\nz\r\n\" id=\"DejaVuSans-105\"/>\r\n       <path d=\"M 52 44.1875 \r\nQ 55.375 50.25 60.0625 53.125 \r\nQ 64.75 56 71.09375 56 \r\nQ 79.640625 56 84.28125 50.015625 \r\nQ 88.921875 44.046875 88.921875 33.015625 \r\nL 88.921875 0 \r\nL 79.890625 0 \r\nL 79.890625 32.71875 \r\nQ 79.890625 40.578125 77.09375 44.375 \r\nQ 74.3125 48.1875 68.609375 48.1875 \r\nQ 61.625 48.1875 57.5625 43.546875 \r\nQ 53.515625 38.921875 53.515625 30.90625 \r\nL 53.515625 0 \r\nL 44.484375 0 \r\nL 44.484375 32.71875 \r\nQ 44.484375 40.625 41.703125 44.40625 \r\nQ 38.921875 48.1875 33.109375 48.1875 \r\nQ 26.21875 48.1875 22.15625 43.53125 \r\nQ 18.109375 38.875 18.109375 30.90625 \r\nL 18.109375 0 \r\nL 9.078125 0 \r\nL 9.078125 54.6875 \r\nL 18.109375 54.6875 \r\nL 18.109375 46.1875 \r\nQ 21.1875 51.21875 25.484375 53.609375 \r\nQ 29.78125 56 35.6875 56 \r\nQ 41.65625 56 45.828125 52.96875 \r\nQ 50 49.953125 52 44.1875 \r\nz\r\n\" id=\"DejaVuSans-109\"/>\r\n       <path d=\"M 56.203125 29.59375 \r\nL 56.203125 25.203125 \r\nL 14.890625 25.203125 \r\nQ 15.484375 15.921875 20.484375 11.0625 \r\nQ 25.484375 6.203125 34.421875 6.203125 \r\nQ 39.59375 6.203125 44.453125 7.46875 \r\nQ 49.3125 8.734375 54.109375 11.28125 \r\nL 54.109375 2.78125 \r\nQ 49.265625 0.734375 44.1875 -0.34375 \r\nQ 39.109375 -1.421875 33.890625 -1.421875 \r\nQ 20.796875 -1.421875 13.15625 6.1875 \r\nQ 5.515625 13.8125 5.515625 26.8125 \r\nQ 5.515625 40.234375 12.765625 48.109375 \r\nQ 20.015625 56 32.328125 56 \r\nQ 43.359375 56 49.78125 48.890625 \r\nQ 56.203125 41.796875 56.203125 29.59375 \r\nz\r\nM 47.21875 32.234375 \r\nQ 47.125 39.59375 43.09375 43.984375 \r\nQ 39.0625 48.390625 32.421875 48.390625 \r\nQ 24.90625 48.390625 20.390625 44.140625 \r\nQ 15.875 39.890625 15.1875 32.171875 \r\nz\r\n\" id=\"DejaVuSans-101\"/>\r\n       <path d=\"M 9.421875 75.984375 \r\nL 18.40625 75.984375 \r\nL 18.40625 0 \r\nL 9.421875 0 \r\nz\r\n\" id=\"DejaVuSans-108\"/>\r\n       <path d=\"M 54.890625 33.015625 \r\nL 54.890625 0 \r\nL 45.90625 0 \r\nL 45.90625 32.71875 \r\nQ 45.90625 40.484375 42.875 44.328125 \r\nQ 39.84375 48.1875 33.796875 48.1875 \r\nQ 26.515625 48.1875 22.3125 43.546875 \r\nQ 18.109375 38.921875 18.109375 30.90625 \r\nL 18.109375 0 \r\nL 9.078125 0 \r\nL 9.078125 54.6875 \r\nL 18.109375 54.6875 \r\nL 18.109375 46.1875 \r\nQ 21.34375 51.125 25.703125 53.5625 \r\nQ 30.078125 56 35.796875 56 \r\nQ 45.21875 56 50.046875 50.171875 \r\nQ 54.890625 44.34375 54.890625 33.015625 \r\nz\r\n\" id=\"DejaVuSans-110\"/>\r\n      </defs>\r\n      <use xlink:href=\"#DejaVuSans-116\"/>\r\n      <use x=\"39.208984\" xlink:href=\"#DejaVuSans-105\"/>\r\n      <use x=\"66.992188\" xlink:href=\"#DejaVuSans-109\"/>\r\n      <use x=\"164.404297\" xlink:href=\"#DejaVuSans-101\"/>\r\n      <use x=\"225.927734\" xlink:href=\"#DejaVuSans-108\"/>\r\n      <use x=\"253.710938\" xlink:href=\"#DejaVuSans-105\"/>\r\n      <use x=\"281.494141\" xlink:href=\"#DejaVuSans-110\"/>\r\n      <use x=\"344.873047\" xlink:href=\"#DejaVuSans-101\"/>\r\n     </g>\r\n    </g>\r\n   </g>\r\n   <g id=\"matplotlib.axis_2\">\r\n    <g id=\"ytick_1\">\r\n     <g id=\"line2d_10\">\r\n      <defs>\r\n       <path d=\"M 0 0 \r\nL -3.5 0 \r\n\" id=\"m487ddcea9c\" style=\"stroke:#000000;stroke-width:0.8;\"/>\r\n      </defs>\r\n      <g>\r\n       <use style=\"stroke:#000000;stroke-width:0.8;\" x=\"30.103125\" xlink:href=\"#m487ddcea9c\" y=\"331.20459\"/>\r\n      </g>\r\n     </g>\r\n     <g id=\"text_11\">\r\n      <!-- 0.0 -->\r\n      <g transform=\"translate(7.2 335.003808)scale(0.1 -0.1)\">\r\n       <use xlink:href=\"#DejaVuSans-48\"/>\r\n       <use x=\"63.623047\" xlink:href=\"#DejaVuSans-46\"/>\r\n       <use x=\"95.410156\" xlink:href=\"#DejaVuSans-48\"/>\r\n      </g>\r\n     </g>\r\n    </g>\r\n    <g id=\"ytick_2\">\r\n     <g id=\"line2d_11\">\r\n      <g>\r\n       <use style=\"stroke:#000000;stroke-width:0.8;\" x=\"30.103125\" xlink:href=\"#m487ddcea9c\" y=\"264.81718\"/>\r\n      </g>\r\n     </g>\r\n     <g id=\"text_12\">\r\n      <!-- 0.2 -->\r\n      <g transform=\"translate(7.2 268.616399)scale(0.1 -0.1)\">\r\n       <use xlink:href=\"#DejaVuSans-48\"/>\r\n       <use x=\"63.623047\" xlink:href=\"#DejaVuSans-46\"/>\r\n       <use x=\"95.410156\" xlink:href=\"#DejaVuSans-50\"/>\r\n      </g>\r\n     </g>\r\n    </g>\r\n    <g id=\"ytick_3\">\r\n     <g id=\"line2d_12\">\r\n      <g>\r\n       <use style=\"stroke:#000000;stroke-width:0.8;\" x=\"30.103125\" xlink:href=\"#m487ddcea9c\" y=\"198.42977\"/>\r\n      </g>\r\n     </g>\r\n     <g id=\"text_13\">\r\n      <!-- 0.4 -->\r\n      <g transform=\"translate(7.2 202.228989)scale(0.1 -0.1)\">\r\n       <defs>\r\n        <path d=\"M 37.796875 64.3125 \r\nL 12.890625 25.390625 \r\nL 37.796875 25.390625 \r\nz\r\nM 35.203125 72.90625 \r\nL 47.609375 72.90625 \r\nL 47.609375 25.390625 \r\nL 58.015625 25.390625 \r\nL 58.015625 17.1875 \r\nL 47.609375 17.1875 \r\nL 47.609375 0 \r\nL 37.796875 0 \r\nL 37.796875 17.1875 \r\nL 4.890625 17.1875 \r\nL 4.890625 26.703125 \r\nz\r\n\" id=\"DejaVuSans-52\"/>\r\n       </defs>\r\n       <use xlink:href=\"#DejaVuSans-48\"/>\r\n       <use x=\"63.623047\" xlink:href=\"#DejaVuSans-46\"/>\r\n       <use x=\"95.410156\" xlink:href=\"#DejaVuSans-52\"/>\r\n      </g>\r\n     </g>\r\n    </g>\r\n    <g id=\"ytick_4\">\r\n     <g id=\"line2d_13\">\r\n      <g>\r\n       <use style=\"stroke:#000000;stroke-width:0.8;\" x=\"30.103125\" xlink:href=\"#m487ddcea9c\" y=\"132.042361\"/>\r\n      </g>\r\n     </g>\r\n     <g id=\"text_14\">\r\n      <!-- 0.6 -->\r\n      <g transform=\"translate(7.2 135.84158)scale(0.1 -0.1)\">\r\n       <defs>\r\n        <path d=\"M 33.015625 40.375 \r\nQ 26.375 40.375 22.484375 35.828125 \r\nQ 18.609375 31.296875 18.609375 23.390625 \r\nQ 18.609375 15.53125 22.484375 10.953125 \r\nQ 26.375 6.390625 33.015625 6.390625 \r\nQ 39.65625 6.390625 43.53125 10.953125 \r\nQ 47.40625 15.53125 47.40625 23.390625 \r\nQ 47.40625 31.296875 43.53125 35.828125 \r\nQ 39.65625 40.375 33.015625 40.375 \r\nz\r\nM 52.59375 71.296875 \r\nL 52.59375 62.3125 \r\nQ 48.875 64.0625 45.09375 64.984375 \r\nQ 41.3125 65.921875 37.59375 65.921875 \r\nQ 27.828125 65.921875 22.671875 59.328125 \r\nQ 17.53125 52.734375 16.796875 39.40625 \r\nQ 19.671875 43.65625 24.015625 45.921875 \r\nQ 28.375 48.1875 33.59375 48.1875 \r\nQ 44.578125 48.1875 50.953125 41.515625 \r\nQ 57.328125 34.859375 57.328125 23.390625 \r\nQ 57.328125 12.15625 50.6875 5.359375 \r\nQ 44.046875 -1.421875 33.015625 -1.421875 \r\nQ 20.359375 -1.421875 13.671875 8.265625 \r\nQ 6.984375 17.96875 6.984375 36.375 \r\nQ 6.984375 53.65625 15.1875 63.9375 \r\nQ 23.390625 74.21875 37.203125 74.21875 \r\nQ 40.921875 74.21875 44.703125 73.484375 \r\nQ 48.484375 72.75 52.59375 71.296875 \r\nz\r\n\" id=\"DejaVuSans-54\"/>\r\n       </defs>\r\n       <use xlink:href=\"#DejaVuSans-48\"/>\r\n       <use x=\"63.623047\" xlink:href=\"#DejaVuSans-46\"/>\r\n       <use x=\"95.410156\" xlink:href=\"#DejaVuSans-54\"/>\r\n      </g>\r\n     </g>\r\n    </g>\r\n    <g id=\"ytick_5\">\r\n     <g id=\"line2d_14\">\r\n      <g>\r\n       <use style=\"stroke:#000000;stroke-width:0.8;\" x=\"30.103125\" xlink:href=\"#m487ddcea9c\" y=\"65.654951\"/>\r\n      </g>\r\n     </g>\r\n     <g id=\"text_15\">\r\n      <!-- 0.8 -->\r\n      <g transform=\"translate(7.2 69.45417)scale(0.1 -0.1)\">\r\n       <defs>\r\n        <path d=\"M 31.78125 34.625 \r\nQ 24.75 34.625 20.71875 30.859375 \r\nQ 16.703125 27.09375 16.703125 20.515625 \r\nQ 16.703125 13.921875 20.71875 10.15625 \r\nQ 24.75 6.390625 31.78125 6.390625 \r\nQ 38.8125 6.390625 42.859375 10.171875 \r\nQ 46.921875 13.96875 46.921875 20.515625 \r\nQ 46.921875 27.09375 42.890625 30.859375 \r\nQ 38.875 34.625 31.78125 34.625 \r\nz\r\nM 21.921875 38.8125 \r\nQ 15.578125 40.375 12.03125 44.71875 \r\nQ 8.5 49.078125 8.5 55.328125 \r\nQ 8.5 64.0625 14.71875 69.140625 \r\nQ 20.953125 74.21875 31.78125 74.21875 \r\nQ 42.671875 74.21875 48.875 69.140625 \r\nQ 55.078125 64.0625 55.078125 55.328125 \r\nQ 55.078125 49.078125 51.53125 44.71875 \r\nQ 48 40.375 41.703125 38.8125 \r\nQ 48.828125 37.15625 52.796875 32.3125 \r\nQ 56.78125 27.484375 56.78125 20.515625 \r\nQ 56.78125 9.90625 50.3125 4.234375 \r\nQ 43.84375 -1.421875 31.78125 -1.421875 \r\nQ 19.734375 -1.421875 13.25 4.234375 \r\nQ 6.78125 9.90625 6.78125 20.515625 \r\nQ 6.78125 27.484375 10.78125 32.3125 \r\nQ 14.796875 37.15625 21.921875 38.8125 \r\nz\r\nM 18.3125 54.390625 \r\nQ 18.3125 48.734375 21.84375 45.5625 \r\nQ 25.390625 42.390625 31.78125 42.390625 \r\nQ 38.140625 42.390625 41.71875 45.5625 \r\nQ 45.3125 48.734375 45.3125 54.390625 \r\nQ 45.3125 60.0625 41.71875 63.234375 \r\nQ 38.140625 66.40625 31.78125 66.40625 \r\nQ 25.390625 66.40625 21.84375 63.234375 \r\nQ 18.3125 60.0625 18.3125 54.390625 \r\nz\r\n\" id=\"DejaVuSans-56\"/>\r\n       </defs>\r\n       <use xlink:href=\"#DejaVuSans-48\"/>\r\n       <use x=\"63.623047\" xlink:href=\"#DejaVuSans-46\"/>\r\n       <use x=\"95.410156\" xlink:href=\"#DejaVuSans-56\"/>\r\n      </g>\r\n     </g>\r\n    </g>\r\n   </g>\r\n   <g id=\"line2d_15\">\r\n    <path clip-path=\"url(#pe4ced64e8e)\" d=\"M 60.539489 70.396909 \r\nL 90.975852 70.396909 \r\nL 90.975852 105.961593 \r\nL 121.412216 105.961593 \r\nL 121.412216 153.381171 \r\nL 151.84858 153.381171 \r\nL 151.84858 188.945855 \r\nL 182.284943 188.945855 \r\nL 182.284943 212.655644 \r\nL 212.721307 212.655644 \r\nL 212.721307 248.220328 \r\nL 243.15767 248.220328 \r\nL 243.15767 260.075222 \r\nL 304.030398 260.075222 \r\nL 304.030398 271.930117 \r\nL 456.212216 271.930117 \r\nL 456.212216 286.748735 \r\nL 517.084943 286.748735 \r\nL 517.084943 286.748735 \r\nL 669.266761 286.748735 \r\nL 669.266761 286.748735 \r\n\" style=\"fill:none;stroke:#1f77b4;stroke-linecap:square;stroke-width:1.5;\"/>\r\n   </g>\r\n   <g id=\"line2d_16\">\r\n    <path clip-path=\"url(#pe4ced64e8e)\" d=\"M 60.539489 47.843695 \r\nL 90.975852 47.843695 \r\nL 90.975852 80.227797 \r\nL 121.412216 80.227797 \r\nL 121.412216 120.707925 \r\nL 151.84858 120.707925 \r\nL 151.84858 144.996002 \r\nL 182.284943 144.996002 \r\nL 182.284943 161.924055 \r\nL 212.721307 161.924055 \r\nL 212.721307 178.852109 \r\nL 243.15767 178.852109 \r\nL 243.15767 195.780162 \r\nL 304.030398 195.780162 \r\nL 304.030398 195.780162 \r\nL 334.466761 195.780162 \r\nL 334.466761 207.065531 \r\nL 364.903125 207.065531 \r\nL 364.903125 220.85876 \r\nL 425.775852 220.85876 \r\nL 425.775852 220.85876 \r\nL 638.830398 220.85876 \r\nL 638.830398 220.85876 \r\n\" style=\"fill:none;stroke:#ff7f0e;stroke-linecap:square;stroke-width:1.5;\"/>\r\n   </g>\r\n   <g id=\"patch_3\">\r\n    <path d=\"M 30.103125 333.36 \r\nL 30.103125 7.2 \r\n\" style=\"fill:none;stroke:#000000;stroke-linecap:square;stroke-linejoin:miter;stroke-width:0.8;\"/>\r\n   </g>\r\n   <g id=\"patch_4\">\r\n    <path d=\"M 699.703125 333.36 \r\nL 699.703125 7.2 \r\n\" style=\"fill:none;stroke:#000000;stroke-linecap:square;stroke-linejoin:miter;stroke-width:0.8;\"/>\r\n   </g>\r\n   <g id=\"patch_5\">\r\n    <path d=\"M 30.103125 333.36 \r\nL 699.703125 333.36 \r\n\" style=\"fill:none;stroke:#000000;stroke-linecap:square;stroke-linejoin:miter;stroke-width:0.8;\"/>\r\n   </g>\r\n   <g id=\"patch_6\">\r\n    <path d=\"M 30.103125 7.2 \r\nL 699.703125 7.2 \r\n\" style=\"fill:none;stroke:#000000;stroke-linecap:square;stroke-linejoin:miter;stroke-width:0.8;\"/>\r\n   </g>\r\n   <g id=\"legend_1\">\r\n    <g id=\"patch_7\">\r\n     <path d=\"M 617.664062 44.55625 \r\nL 692.703125 44.55625 \r\nQ 694.703125 44.55625 694.703125 42.55625 \r\nL 694.703125 14.2 \r\nQ 694.703125 12.2 692.703125 12.2 \r\nL 617.664062 12.2 \r\nQ 615.664062 12.2 615.664062 14.2 \r\nL 615.664062 42.55625 \r\nQ 615.664062 44.55625 617.664062 44.55625 \r\nz\r\n\" style=\"fill:#ffffff;opacity:0.8;stroke:#cccccc;stroke-linejoin:miter;\"/>\r\n    </g>\r\n    <g id=\"line2d_17\">\r\n     <path d=\"M 619.664062 20.298437 \r\nL 639.664062 20.298437 \r\n\" style=\"fill:none;stroke:#1f77b4;stroke-linecap:square;stroke-width:1.5;\"/>\r\n    </g>\r\n    <g id=\"line2d_18\"/>\r\n    <g id=\"text_16\">\r\n     <!-- diabetes -->\r\n     <g transform=\"translate(647.664062 23.798437)scale(0.1 -0.1)\">\r\n      <defs>\r\n       <path d=\"M 45.40625 46.390625 \r\nL 45.40625 75.984375 \r\nL 54.390625 75.984375 \r\nL 54.390625 0 \r\nL 45.40625 0 \r\nL 45.40625 8.203125 \r\nQ 42.578125 3.328125 38.25 0.953125 \r\nQ 33.9375 -1.421875 27.875 -1.421875 \r\nQ 17.96875 -1.421875 11.734375 6.484375 \r\nQ 5.515625 14.40625 5.515625 27.296875 \r\nQ 5.515625 40.1875 11.734375 48.09375 \r\nQ 17.96875 56 27.875 56 \r\nQ 33.9375 56 38.25 53.625 \r\nQ 42.578125 51.265625 45.40625 46.390625 \r\nz\r\nM 14.796875 27.296875 \r\nQ 14.796875 17.390625 18.875 11.75 \r\nQ 22.953125 6.109375 30.078125 6.109375 \r\nQ 37.203125 6.109375 41.296875 11.75 \r\nQ 45.40625 17.390625 45.40625 27.296875 \r\nQ 45.40625 37.203125 41.296875 42.84375 \r\nQ 37.203125 48.484375 30.078125 48.484375 \r\nQ 22.953125 48.484375 18.875 42.84375 \r\nQ 14.796875 37.203125 14.796875 27.296875 \r\nz\r\n\" id=\"DejaVuSans-100\"/>\r\n       <path d=\"M 34.28125 27.484375 \r\nQ 23.390625 27.484375 19.1875 25 \r\nQ 14.984375 22.515625 14.984375 16.5 \r\nQ 14.984375 11.71875 18.140625 8.90625 \r\nQ 21.296875 6.109375 26.703125 6.109375 \r\nQ 34.1875 6.109375 38.703125 11.40625 \r\nQ 43.21875 16.703125 43.21875 25.484375 \r\nL 43.21875 27.484375 \r\nz\r\nM 52.203125 31.203125 \r\nL 52.203125 0 \r\nL 43.21875 0 \r\nL 43.21875 8.296875 \r\nQ 40.140625 3.328125 35.546875 0.953125 \r\nQ 30.953125 -1.421875 24.3125 -1.421875 \r\nQ 15.921875 -1.421875 10.953125 3.296875 \r\nQ 6 8.015625 6 15.921875 \r\nQ 6 25.140625 12.171875 29.828125 \r\nQ 18.359375 34.515625 30.609375 34.515625 \r\nL 43.21875 34.515625 \r\nL 43.21875 35.40625 \r\nQ 43.21875 41.609375 39.140625 45 \r\nQ 35.0625 48.390625 27.6875 48.390625 \r\nQ 23 48.390625 18.546875 47.265625 \r\nQ 14.109375 46.140625 10.015625 43.890625 \r\nL 10.015625 52.203125 \r\nQ 14.9375 54.109375 19.578125 55.046875 \r\nQ 24.21875 56 28.609375 56 \r\nQ 40.484375 56 46.34375 49.84375 \r\nQ 52.203125 43.703125 52.203125 31.203125 \r\nz\r\n\" id=\"DejaVuSans-97\"/>\r\n       <path d=\"M 48.6875 27.296875 \r\nQ 48.6875 37.203125 44.609375 42.84375 \r\nQ 40.53125 48.484375 33.40625 48.484375 \r\nQ 26.265625 48.484375 22.1875 42.84375 \r\nQ 18.109375 37.203125 18.109375 27.296875 \r\nQ 18.109375 17.390625 22.1875 11.75 \r\nQ 26.265625 6.109375 33.40625 6.109375 \r\nQ 40.53125 6.109375 44.609375 11.75 \r\nQ 48.6875 17.390625 48.6875 27.296875 \r\nz\r\nM 18.109375 46.390625 \r\nQ 20.953125 51.265625 25.265625 53.625 \r\nQ 29.59375 56 35.59375 56 \r\nQ 45.5625 56 51.78125 48.09375 \r\nQ 58.015625 40.1875 58.015625 27.296875 \r\nQ 58.015625 14.40625 51.78125 6.484375 \r\nQ 45.5625 -1.421875 35.59375 -1.421875 \r\nQ 29.59375 -1.421875 25.265625 0.953125 \r\nQ 20.953125 3.328125 18.109375 8.203125 \r\nL 18.109375 0 \r\nL 9.078125 0 \r\nL 9.078125 75.984375 \r\nL 18.109375 75.984375 \r\nz\r\n\" id=\"DejaVuSans-98\"/>\r\n       <path d=\"M 44.28125 53.078125 \r\nL 44.28125 44.578125 \r\nQ 40.484375 46.53125 36.375 47.5 \r\nQ 32.28125 48.484375 27.875 48.484375 \r\nQ 21.1875 48.484375 17.84375 46.4375 \r\nQ 14.5 44.390625 14.5 40.28125 \r\nQ 14.5 37.15625 16.890625 35.375 \r\nQ 19.28125 33.59375 26.515625 31.984375 \r\nL 29.59375 31.296875 \r\nQ 39.15625 29.25 43.1875 25.515625 \r\nQ 47.21875 21.78125 47.21875 15.09375 \r\nQ 47.21875 7.46875 41.1875 3.015625 \r\nQ 35.15625 -1.421875 24.609375 -1.421875 \r\nQ 20.21875 -1.421875 15.453125 -0.5625 \r\nQ 10.6875 0.296875 5.421875 2 \r\nL 5.421875 11.28125 \r\nQ 10.40625 8.6875 15.234375 7.390625 \r\nQ 20.0625 6.109375 24.8125 6.109375 \r\nQ 31.15625 6.109375 34.5625 8.28125 \r\nQ 37.984375 10.453125 37.984375 14.40625 \r\nQ 37.984375 18.0625 35.515625 20.015625 \r\nQ 33.0625 21.96875 24.703125 23.78125 \r\nL 21.578125 24.515625 \r\nQ 13.234375 26.265625 9.515625 29.90625 \r\nQ 5.8125 33.546875 5.8125 39.890625 \r\nQ 5.8125 47.609375 11.28125 51.796875 \r\nQ 16.75 56 26.8125 56 \r\nQ 31.78125 56 36.171875 55.265625 \r\nQ 40.578125 54.546875 44.28125 53.078125 \r\nz\r\n\" id=\"DejaVuSans-115\"/>\r\n      </defs>\r\n      <use xlink:href=\"#DejaVuSans-100\"/>\r\n      <use x=\"63.476562\" xlink:href=\"#DejaVuSans-105\"/>\r\n      <use x=\"91.259766\" xlink:href=\"#DejaVuSans-97\"/>\r\n      <use x=\"152.539062\" xlink:href=\"#DejaVuSans-98\"/>\r\n      <use x=\"216.015625\" xlink:href=\"#DejaVuSans-101\"/>\r\n      <use x=\"277.539062\" xlink:href=\"#DejaVuSans-116\"/>\r\n      <use x=\"316.748047\" xlink:href=\"#DejaVuSans-101\"/>\r\n      <use x=\"378.271484\" xlink:href=\"#DejaVuSans-115\"/>\r\n     </g>\r\n    </g>\r\n    <g id=\"line2d_19\">\r\n     <path d=\"M 619.664062 34.976562 \r\nL 639.664062 34.976562 \r\n\" style=\"fill:none;stroke:#ff7f0e;stroke-linecap:square;stroke-width:1.5;\"/>\r\n    </g>\r\n    <g id=\"line2d_20\"/>\r\n    <g id=\"text_17\">\r\n     <!-- none -->\r\n     <g transform=\"translate(647.664062 38.476562)scale(0.1 -0.1)\">\r\n      <defs>\r\n       <path d=\"M 30.609375 48.390625 \r\nQ 23.390625 48.390625 19.1875 42.75 \r\nQ 14.984375 37.109375 14.984375 27.296875 \r\nQ 14.984375 17.484375 19.15625 11.84375 \r\nQ 23.34375 6.203125 30.609375 6.203125 \r\nQ 37.796875 6.203125 41.984375 11.859375 \r\nQ 46.1875 17.53125 46.1875 27.296875 \r\nQ 46.1875 37.015625 41.984375 42.703125 \r\nQ 37.796875 48.390625 30.609375 48.390625 \r\nz\r\nM 30.609375 56 \r\nQ 42.328125 56 49.015625 48.375 \r\nQ 55.71875 40.765625 55.71875 27.296875 \r\nQ 55.71875 13.875 49.015625 6.21875 \r\nQ 42.328125 -1.421875 30.609375 -1.421875 \r\nQ 18.84375 -1.421875 12.171875 6.21875 \r\nQ 5.515625 13.875 5.515625 27.296875 \r\nQ 5.515625 40.765625 12.171875 48.375 \r\nQ 18.84375 56 30.609375 56 \r\nz\r\n\" id=\"DejaVuSans-111\"/>\r\n      </defs>\r\n      <use xlink:href=\"#DejaVuSans-110\"/>\r\n      <use x=\"63.378906\" xlink:href=\"#DejaVuSans-111\"/>\r\n      <use x=\"124.560547\" xlink:href=\"#DejaVuSans-110\"/>\r\n      <use x=\"187.939453\" xlink:href=\"#DejaVuSans-101\"/>\r\n     </g>\r\n    </g>\r\n   </g>\r\n  </g>\r\n </g>\r\n <defs>\r\n  <clipPath id=\"pe4ced64e8e\">\r\n   <rect height=\"326.16\" width=\"669.6\" x=\"30.103125\" y=\"7.2\"/>\r\n  </clipPath>\r\n </defs>\r\n</svg>\r\n",
      "image/png": "[encoded data removed]"
     },
     "metadata": {
      "needs_background": "light"
     }
    }
   ],
   "source": [
    "kmf = KaplanMeierFitter() \n",
    "\n",
    "\n",
    "T = filtered['days']     ## time to event\n",
    "E = filtered['outcome']      ## event occurred or censored\n",
    "\n",
    "\n",
    "groups = filtered['diabetes']             ## Create the cohorts from the 'Contract' column\n",
    "ix1 = (groups == 1)   ## Cohort 1\n",
    "ix2 = (groups == 0)         ## Cohort 2\n",
    "\n",
    "\n",
    "kmf.fit(T[ix1], E[ix1], label='diabetes')    ## fit the cohort 1 data\n",
    "ax = kmf.plot()\n",
    "\n",
    "\n",
    "kmf.fit(T[ix2], E[ix2], label='none')         ## fit the cohort 2 data\n",
    "ax1 = kmf.plot(ax=ax)\n"
   ]
  },
  {
   "cell_type": "code",
   "execution_count": 31,
   "metadata": {},
   "outputs": [
    {
     "output_type": "display_data",
     "data": {
      "text/plain": "<Figure size 864x432 with 1 Axes>",
      "image/svg+xml": "<?xml version=\"1.0\" encoding=\"utf-8\" standalone=\"no\"?>\r\n<!DOCTYPE svg PUBLIC \"-//W3C//DTD SVG 1.1//EN\"\r\n  \"http://www.w3.org/Graphics/SVG/1.1/DTD/svg11.dtd\">\r\n<!-- Created with matplotlib (https://matplotlib.org/) -->\r\n<svg height=\"370.91625pt\" version=\"1.1\" viewBox=\"0 0 706.903125 370.91625\" width=\"706.903125pt\" xmlns=\"http://www.w3.org/2000/svg\" xmlns:xlink=\"http://www.w3.org/1999/xlink\">\r\n <metadata>\r\n  <rdf:RDF xmlns:cc=\"http://creativecommons.org/ns#\" xmlns:dc=\"http://purl.org/dc/elements/1.1/\" xmlns:rdf=\"http://www.w3.org/1999/02/22-rdf-syntax-ns#\">\r\n   <cc:Work>\r\n    <dc:type rdf:resource=\"http://purl.org/dc/dcmitype/StillImage\"/>\r\n    <dc:date>2021-01-21T16:32:05.465585</dc:date>\r\n    <dc:format>image/svg+xml</dc:format>\r\n    <dc:creator>\r\n     <cc:Agent>\r\n      <dc:title>Matplotlib v3.3.2, https://matplotlib.org/</dc:title>\r\n     </cc:Agent>\r\n    </dc:creator>\r\n   </cc:Work>\r\n  </rdf:RDF>\r\n </metadata>\r\n <defs>\r\n  <style type=\"text/css\">*{stroke-linecap:butt;stroke-linejoin:round;}</style>\r\n </defs>\r\n <g id=\"figure_1\">\r\n  <g id=\"patch_1\">\r\n   <path d=\"M 0 370.91625 \r\nL 706.903125 370.91625 \r\nL 706.903125 0 \r\nL 0 0 \r\nz\r\n\" style=\"fill:none;\"/>\r\n  </g>\r\n  <g id=\"axes_1\">\r\n   <g id=\"patch_2\">\r\n    <path d=\"M 30.103125 333.36 \r\nL 699.703125 333.36 \r\nL 699.703125 7.2 \r\nL 30.103125 7.2 \r\nz\r\n\" style=\"fill:#ffffff;\"/>\r\n   </g>\r\n   <g id=\"PolyCollection_1\">\r\n    <defs>\r\n     <path d=\"M 60.539489 -348.890795 \r\nL 60.539489 -278.725359 \r\nL 90.975852 -278.725359 \r\nL 90.975852 -229.243854 \r\nL 121.412216 -229.243854 \r\nL 121.412216 -176.840218 \r\nL 151.84858 -176.840218 \r\nL 151.84858 -148.982713 \r\nL 182.284943 -148.982713 \r\nL 182.284943 -134.777182 \r\nL 212.721307 -134.777182 \r\nL 212.721307 -114.347839 \r\nL 243.15767 -114.347839 \r\nL 243.15767 -101.34172 \r\nL 304.030398 -101.34172 \r\nL 304.030398 -101.34172 \r\nL 334.466761 -101.34172 \r\nL 334.466761 -91.493143 \r\nL 364.903125 -91.493143 \r\nL 364.903125 -80.640847 \r\nL 456.212216 -80.640847 \r\nL 456.212216 -52.381705 \r\nL 669.266761 -52.381705 \r\nL 669.266761 -52.381705 \r\nL 669.266761 -156.486634 \r\nL 669.266761 -156.486634 \r\nL 669.266761 -156.486634 \r\nL 456.212216 -156.486634 \r\nL 456.212216 -170.114044 \r\nL 364.903125 -170.114044 \r\nL 364.903125 -181.208607 \r\nL 334.466761 -181.208607 \r\nL 334.466761 -191.217116 \r\nL 304.030398 -191.217116 \r\nL 304.030398 -191.217116 \r\nL 243.15767 -191.217116 \r\nL 243.15767 -206.957736 \r\nL 212.721307 -206.957736 \r\nL 212.721307 -229.760157 \r\nL 182.284943 -229.760157 \r\nL 182.284943 -244.450379 \r\nL 151.84858 -244.450379 \r\nL 151.84858 -271.761043 \r\nL 121.412216 -271.761043 \r\nL 121.412216 -315.94491 \r\nL 90.975852 -315.94491 \r\nL 90.975852 -348.890795 \r\nL 60.539489 -348.890795 \r\nz\r\n\" id=\"mf602010133\" style=\"stroke:#1f77b4;stroke-opacity:0.25;\"/>\r\n    </defs>\r\n    <g clip-path=\"url(#p31c143b8ef)\">\r\n     <use style=\"fill:#1f77b4;fill-opacity:0.25;stroke:#1f77b4;stroke-opacity:0.25;\" x=\"0\" xlink:href=\"#mf602010133\" y=\"370.91625\"/>\r\n    </g>\r\n   </g>\r\n   <g id=\"PolyCollection_2\">\r\n    <defs>\r\n     <path d=\"M 60.539489 -329.343515 \r\nL 60.539489 -211.832231 \r\nL 90.975852 -211.832231 \r\nL 90.975852 -197.733793 \r\nL 121.412216 -197.733793 \r\nL 121.412216 -170.821667 \r\nL 151.84858 -170.821667 \r\nL 151.84858 -145.547538 \r\nL 182.284943 -145.547538 \r\nL 182.284943 -121.88259 \r\nL 212.721307 -121.88259 \r\nL 212.721307 -99.890285 \r\nL 243.15767 -99.890285 \r\nL 243.15767 -89.573421 \r\nL 304.030398 -89.573421 \r\nL 304.030398 -79.757847 \r\nL 334.466761 -79.757847 \r\nL 334.466761 -79.757847 \r\nL 425.775852 -79.757847 \r\nL 425.775852 -79.757847 \r\nL 517.084943 -79.757847 \r\nL 517.084943 -79.757847 \r\nL 638.830398 -79.757847 \r\nL 638.830398 -79.757847 \r\nL 638.830398 -195.041163 \r\nL 638.830398 -195.041163 \r\nL 638.830398 -195.041163 \r\nL 517.084943 -195.041163 \r\nL 517.084943 -195.041163 \r\nL 425.775852 -195.041163 \r\nL 425.775852 -195.041163 \r\nL 334.466761 -195.041163 \r\nL 334.466761 -195.041163 \r\nL 304.030398 -195.041163 \r\nL 304.030398 -209.344456 \r\nL 243.15767 -209.344456 \r\nL 243.15767 -223.192979 \r\nL 212.721307 -223.192979 \r\nL 212.721307 -249.634565 \r\nL 182.284943 -249.634565 \r\nL 182.284943 -274.489257 \r\nL 151.84858 -274.489257 \r\nL 151.84858 -297.754698 \r\nL 121.412216 -297.754698 \r\nL 121.412216 -319.301903 \r\nL 90.975852 -319.301903 \r\nL 90.975852 -329.343515 \r\nL 60.539489 -329.343515 \r\nz\r\n\" id=\"mfe97f30a3b\" style=\"stroke:#ff7f0e;stroke-opacity:0.25;\"/>\r\n    </defs>\r\n    <g clip-path=\"url(#p31c143b8ef)\">\r\n     <use style=\"fill:#ff7f0e;fill-opacity:0.25;stroke:#ff7f0e;stroke-opacity:0.25;\" x=\"0\" xlink:href=\"#mfe97f30a3b\" y=\"370.91625\"/>\r\n    </g>\r\n   </g>\r\n   <g id=\"matplotlib.axis_1\">\r\n    <g id=\"xtick_1\">\r\n     <g id=\"line2d_1\">\r\n      <defs>\r\n       <path d=\"M 0 0 \r\nL 0 3.5 \r\n\" id=\"m61295f1b29\" style=\"stroke:#000000;stroke-width:0.8;\"/>\r\n      </defs>\r\n      <g>\r\n       <use style=\"stroke:#000000;stroke-width:0.8;\" x=\"60.539489\" xlink:href=\"#m61295f1b29\" y=\"333.36\"/>\r\n      </g>\r\n     </g>\r\n     <g id=\"text_1\">\r\n      <!-- 0.0 -->\r\n      <g transform=\"translate(52.587926 347.958438)scale(0.1 -0.1)\">\r\n       <defs>\r\n        <path d=\"M 31.78125 66.40625 \r\nQ 24.171875 66.40625 20.328125 58.90625 \r\nQ 16.5 51.421875 16.5 36.375 \r\nQ 16.5 21.390625 20.328125 13.890625 \r\nQ 24.171875 6.390625 31.78125 6.390625 \r\nQ 39.453125 6.390625 43.28125 13.890625 \r\nQ 47.125 21.390625 47.125 36.375 \r\nQ 47.125 51.421875 43.28125 58.90625 \r\nQ 39.453125 66.40625 31.78125 66.40625 \r\nz\r\nM 31.78125 74.21875 \r\nQ 44.046875 74.21875 50.515625 64.515625 \r\nQ 56.984375 54.828125 56.984375 36.375 \r\nQ 56.984375 17.96875 50.515625 8.265625 \r\nQ 44.046875 -1.421875 31.78125 -1.421875 \r\nQ 19.53125 -1.421875 13.0625 8.265625 \r\nQ 6.59375 17.96875 6.59375 36.375 \r\nQ 6.59375 54.828125 13.0625 64.515625 \r\nQ 19.53125 74.21875 31.78125 74.21875 \r\nz\r\n\" id=\"DejaVuSans-48\"/>\r\n        <path d=\"M 10.6875 12.40625 \r\nL 21 12.40625 \r\nL 21 0 \r\nL 10.6875 0 \r\nz\r\n\" id=\"DejaVuSans-46\"/>\r\n       </defs>\r\n       <use xlink:href=\"#DejaVuSans-48\"/>\r\n       <use x=\"63.623047\" xlink:href=\"#DejaVuSans-46\"/>\r\n       <use x=\"95.410156\" xlink:href=\"#DejaVuSans-48\"/>\r\n      </g>\r\n     </g>\r\n    </g>\r\n    <g id=\"xtick_2\">\r\n     <g id=\"line2d_2\">\r\n      <g>\r\n       <use style=\"stroke:#000000;stroke-width:0.8;\" x=\"136.630398\" xlink:href=\"#m61295f1b29\" y=\"333.36\"/>\r\n      </g>\r\n     </g>\r\n     <g id=\"text_2\">\r\n      <!-- 2.5 -->\r\n      <g transform=\"translate(128.678835 347.958438)scale(0.1 -0.1)\">\r\n       <defs>\r\n        <path d=\"M 19.1875 8.296875 \r\nL 53.609375 8.296875 \r\nL 53.609375 0 \r\nL 7.328125 0 \r\nL 7.328125 8.296875 \r\nQ 12.9375 14.109375 22.625 23.890625 \r\nQ 32.328125 33.6875 34.8125 36.53125 \r\nQ 39.546875 41.84375 41.421875 45.53125 \r\nQ 43.3125 49.21875 43.3125 52.78125 \r\nQ 43.3125 58.59375 39.234375 62.25 \r\nQ 35.15625 65.921875 28.609375 65.921875 \r\nQ 23.96875 65.921875 18.8125 64.3125 \r\nQ 13.671875 62.703125 7.8125 59.421875 \r\nL 7.8125 69.390625 \r\nQ 13.765625 71.78125 18.9375 73 \r\nQ 24.125 74.21875 28.421875 74.21875 \r\nQ 39.75 74.21875 46.484375 68.546875 \r\nQ 53.21875 62.890625 53.21875 53.421875 \r\nQ 53.21875 48.921875 51.53125 44.890625 \r\nQ 49.859375 40.875 45.40625 35.40625 \r\nQ 44.1875 33.984375 37.640625 27.21875 \r\nQ 31.109375 20.453125 19.1875 8.296875 \r\nz\r\n\" id=\"DejaVuSans-50\"/>\r\n        <path d=\"M 10.796875 72.90625 \r\nL 49.515625 72.90625 \r\nL 49.515625 64.59375 \r\nL 19.828125 64.59375 \r\nL 19.828125 46.734375 \r\nQ 21.96875 47.46875 24.109375 47.828125 \r\nQ 26.265625 48.1875 28.421875 48.1875 \r\nQ 40.625 48.1875 47.75 41.5 \r\nQ 54.890625 34.8125 54.890625 23.390625 \r\nQ 54.890625 11.625 47.5625 5.09375 \r\nQ 40.234375 -1.421875 26.90625 -1.421875 \r\nQ 22.3125 -1.421875 17.546875 -0.640625 \r\nQ 12.796875 0.140625 7.71875 1.703125 \r\nL 7.71875 11.625 \r\nQ 12.109375 9.234375 16.796875 8.0625 \r\nQ 21.484375 6.890625 26.703125 6.890625 \r\nQ 35.15625 6.890625 40.078125 11.328125 \r\nQ 45.015625 15.765625 45.015625 23.390625 \r\nQ 45.015625 31 40.078125 35.4375 \r\nQ 35.15625 39.890625 26.703125 39.890625 \r\nQ 22.75 39.890625 18.8125 39.015625 \r\nQ 14.890625 38.140625 10.796875 36.28125 \r\nz\r\n\" id=\"DejaVuSans-53\"/>\r\n       </defs>\r\n       <use xlink:href=\"#DejaVuSans-50\"/>\r\n       <use x=\"63.623047\" xlink:href=\"#DejaVuSans-46\"/>\r\n       <use x=\"95.410156\" xlink:href=\"#DejaVuSans-53\"/>\r\n      </g>\r\n     </g>\r\n    </g>\r\n    <g id=\"xtick_3\">\r\n     <g id=\"line2d_3\">\r\n      <g>\r\n       <use style=\"stroke:#000000;stroke-width:0.8;\" x=\"212.721307\" xlink:href=\"#m61295f1b29\" y=\"333.36\"/>\r\n      </g>\r\n     </g>\r\n     <g id=\"text_3\">\r\n      <!-- 5.0 -->\r\n      <g transform=\"translate(204.769744 347.958438)scale(0.1 -0.1)\">\r\n       <use xlink:href=\"#DejaVuSans-53\"/>\r\n       <use x=\"63.623047\" xlink:href=\"#DejaVuSans-46\"/>\r\n       <use x=\"95.410156\" xlink:href=\"#DejaVuSans-48\"/>\r\n      </g>\r\n     </g>\r\n    </g>\r\n    <g id=\"xtick_4\">\r\n     <g id=\"line2d_4\">\r\n      <g>\r\n       <use style=\"stroke:#000000;stroke-width:0.8;\" x=\"288.812216\" xlink:href=\"#m61295f1b29\" y=\"333.36\"/>\r\n      </g>\r\n     </g>\r\n     <g id=\"text_4\">\r\n      <!-- 7.5 -->\r\n      <g transform=\"translate(280.860653 347.958438)scale(0.1 -0.1)\">\r\n       <defs>\r\n        <path d=\"M 8.203125 72.90625 \r\nL 55.078125 72.90625 \r\nL 55.078125 68.703125 \r\nL 28.609375 0 \r\nL 18.3125 0 \r\nL 43.21875 64.59375 \r\nL 8.203125 64.59375 \r\nz\r\n\" id=\"DejaVuSans-55\"/>\r\n       </defs>\r\n       <use xlink:href=\"#DejaVuSans-55\"/>\r\n       <use x=\"63.623047\" xlink:href=\"#DejaVuSans-46\"/>\r\n       <use x=\"95.410156\" xlink:href=\"#DejaVuSans-53\"/>\r\n      </g>\r\n     </g>\r\n    </g>\r\n    <g id=\"xtick_5\">\r\n     <g id=\"line2d_5\">\r\n      <g>\r\n       <use style=\"stroke:#000000;stroke-width:0.8;\" x=\"364.903125\" xlink:href=\"#m61295f1b29\" y=\"333.36\"/>\r\n      </g>\r\n     </g>\r\n     <g id=\"text_5\">\r\n      <!-- 10.0 -->\r\n      <g transform=\"translate(353.770313 347.958438)scale(0.1 -0.1)\">\r\n       <defs>\r\n        <path d=\"M 12.40625 8.296875 \r\nL 28.515625 8.296875 \r\nL 28.515625 63.921875 \r\nL 10.984375 60.40625 \r\nL 10.984375 69.390625 \r\nL 28.421875 72.90625 \r\nL 38.28125 72.90625 \r\nL 38.28125 8.296875 \r\nL 54.390625 8.296875 \r\nL 54.390625 0 \r\nL 12.40625 0 \r\nz\r\n\" id=\"DejaVuSans-49\"/>\r\n       </defs>\r\n       <use xlink:href=\"#DejaVuSans-49\"/>\r\n       <use x=\"63.623047\" xlink:href=\"#DejaVuSans-48\"/>\r\n       <use x=\"127.246094\" xlink:href=\"#DejaVuSans-46\"/>\r\n       <use x=\"159.033203\" xlink:href=\"#DejaVuSans-48\"/>\r\n      </g>\r\n     </g>\r\n    </g>\r\n    <g id=\"xtick_6\">\r\n     <g id=\"line2d_6\">\r\n      <g>\r\n       <use style=\"stroke:#000000;stroke-width:0.8;\" x=\"440.994034\" xlink:href=\"#m61295f1b29\" y=\"333.36\"/>\r\n      </g>\r\n     </g>\r\n     <g id=\"text_6\">\r\n      <!-- 12.5 -->\r\n      <g transform=\"translate(429.861222 347.958438)scale(0.1 -0.1)\">\r\n       <use xlink:href=\"#DejaVuSans-49\"/>\r\n       <use x=\"63.623047\" xlink:href=\"#DejaVuSans-50\"/>\r\n       <use x=\"127.246094\" xlink:href=\"#DejaVuSans-46\"/>\r\n       <use x=\"159.033203\" xlink:href=\"#DejaVuSans-53\"/>\r\n      </g>\r\n     </g>\r\n    </g>\r\n    <g id=\"xtick_7\">\r\n     <g id=\"line2d_7\">\r\n      <g>\r\n       <use style=\"stroke:#000000;stroke-width:0.8;\" x=\"517.084943\" xlink:href=\"#m61295f1b29\" y=\"333.36\"/>\r\n      </g>\r\n     </g>\r\n     <g id=\"text_7\">\r\n      <!-- 15.0 -->\r\n      <g transform=\"translate(505.952131 347.958438)scale(0.1 -0.1)\">\r\n       <use xlink:href=\"#DejaVuSans-49\"/>\r\n       <use x=\"63.623047\" xlink:href=\"#DejaVuSans-53\"/>\r\n       <use x=\"127.246094\" xlink:href=\"#DejaVuSans-46\"/>\r\n       <use x=\"159.033203\" xlink:href=\"#DejaVuSans-48\"/>\r\n      </g>\r\n     </g>\r\n    </g>\r\n    <g id=\"xtick_8\">\r\n     <g id=\"line2d_8\">\r\n      <g>\r\n       <use style=\"stroke:#000000;stroke-width:0.8;\" x=\"593.175852\" xlink:href=\"#m61295f1b29\" y=\"333.36\"/>\r\n      </g>\r\n     </g>\r\n     <g id=\"text_8\">\r\n      <!-- 17.5 -->\r\n      <g transform=\"translate(582.04304 347.958438)scale(0.1 -0.1)\">\r\n       <use xlink:href=\"#DejaVuSans-49\"/>\r\n       <use x=\"63.623047\" xlink:href=\"#DejaVuSans-55\"/>\r\n       <use x=\"127.246094\" xlink:href=\"#DejaVuSans-46\"/>\r\n       <use x=\"159.033203\" xlink:href=\"#DejaVuSans-53\"/>\r\n      </g>\r\n     </g>\r\n    </g>\r\n    <g id=\"xtick_9\">\r\n     <g id=\"line2d_9\">\r\n      <g>\r\n       <use style=\"stroke:#000000;stroke-width:0.8;\" x=\"669.266761\" xlink:href=\"#m61295f1b29\" y=\"333.36\"/>\r\n      </g>\r\n     </g>\r\n     <g id=\"text_9\">\r\n      <!-- 20.0 -->\r\n      <g transform=\"translate(658.133949 347.958438)scale(0.1 -0.1)\">\r\n       <use xlink:href=\"#DejaVuSans-50\"/>\r\n       <use x=\"63.623047\" xlink:href=\"#DejaVuSans-48\"/>\r\n       <use x=\"127.246094\" xlink:href=\"#DejaVuSans-46\"/>\r\n       <use x=\"159.033203\" xlink:href=\"#DejaVuSans-48\"/>\r\n      </g>\r\n     </g>\r\n    </g>\r\n    <g id=\"text_10\">\r\n     <!-- timeline -->\r\n     <g transform=\"translate(344.583594 361.636562)scale(0.1 -0.1)\">\r\n      <defs>\r\n       <path d=\"M 18.3125 70.21875 \r\nL 18.3125 54.6875 \r\nL 36.8125 54.6875 \r\nL 36.8125 47.703125 \r\nL 18.3125 47.703125 \r\nL 18.3125 18.015625 \r\nQ 18.3125 11.328125 20.140625 9.421875 \r\nQ 21.96875 7.515625 27.59375 7.515625 \r\nL 36.8125 7.515625 \r\nL 36.8125 0 \r\nL 27.59375 0 \r\nQ 17.1875 0 13.234375 3.875 \r\nQ 9.28125 7.765625 9.28125 18.015625 \r\nL 9.28125 47.703125 \r\nL 2.6875 47.703125 \r\nL 2.6875 54.6875 \r\nL 9.28125 54.6875 \r\nL 9.28125 70.21875 \r\nz\r\n\" id=\"DejaVuSans-116\"/>\r\n       <path d=\"M 9.421875 54.6875 \r\nL 18.40625 54.6875 \r\nL 18.40625 0 \r\nL 9.421875 0 \r\nz\r\nM 9.421875 75.984375 \r\nL 18.40625 75.984375 \r\nL 18.40625 64.59375 \r\nL 9.421875 64.59375 \r\nz\r\n\" id=\"DejaVuSans-105\"/>\r\n       <path d=\"M 52 44.1875 \r\nQ 55.375 50.25 60.0625 53.125 \r\nQ 64.75 56 71.09375 56 \r\nQ 79.640625 56 84.28125 50.015625 \r\nQ 88.921875 44.046875 88.921875 33.015625 \r\nL 88.921875 0 \r\nL 79.890625 0 \r\nL 79.890625 32.71875 \r\nQ 79.890625 40.578125 77.09375 44.375 \r\nQ 74.3125 48.1875 68.609375 48.1875 \r\nQ 61.625 48.1875 57.5625 43.546875 \r\nQ 53.515625 38.921875 53.515625 30.90625 \r\nL 53.515625 0 \r\nL 44.484375 0 \r\nL 44.484375 32.71875 \r\nQ 44.484375 40.625 41.703125 44.40625 \r\nQ 38.921875 48.1875 33.109375 48.1875 \r\nQ 26.21875 48.1875 22.15625 43.53125 \r\nQ 18.109375 38.875 18.109375 30.90625 \r\nL 18.109375 0 \r\nL 9.078125 0 \r\nL 9.078125 54.6875 \r\nL 18.109375 54.6875 \r\nL 18.109375 46.1875 \r\nQ 21.1875 51.21875 25.484375 53.609375 \r\nQ 29.78125 56 35.6875 56 \r\nQ 41.65625 56 45.828125 52.96875 \r\nQ 50 49.953125 52 44.1875 \r\nz\r\n\" id=\"DejaVuSans-109\"/>\r\n       <path d=\"M 56.203125 29.59375 \r\nL 56.203125 25.203125 \r\nL 14.890625 25.203125 \r\nQ 15.484375 15.921875 20.484375 11.0625 \r\nQ 25.484375 6.203125 34.421875 6.203125 \r\nQ 39.59375 6.203125 44.453125 7.46875 \r\nQ 49.3125 8.734375 54.109375 11.28125 \r\nL 54.109375 2.78125 \r\nQ 49.265625 0.734375 44.1875 -0.34375 \r\nQ 39.109375 -1.421875 33.890625 -1.421875 \r\nQ 20.796875 -1.421875 13.15625 6.1875 \r\nQ 5.515625 13.8125 5.515625 26.8125 \r\nQ 5.515625 40.234375 12.765625 48.109375 \r\nQ 20.015625 56 32.328125 56 \r\nQ 43.359375 56 49.78125 48.890625 \r\nQ 56.203125 41.796875 56.203125 29.59375 \r\nz\r\nM 47.21875 32.234375 \r\nQ 47.125 39.59375 43.09375 43.984375 \r\nQ 39.0625 48.390625 32.421875 48.390625 \r\nQ 24.90625 48.390625 20.390625 44.140625 \r\nQ 15.875 39.890625 15.1875 32.171875 \r\nz\r\n\" id=\"DejaVuSans-101\"/>\r\n       <path d=\"M 9.421875 75.984375 \r\nL 18.40625 75.984375 \r\nL 18.40625 0 \r\nL 9.421875 0 \r\nz\r\n\" id=\"DejaVuSans-108\"/>\r\n       <path d=\"M 54.890625 33.015625 \r\nL 54.890625 0 \r\nL 45.90625 0 \r\nL 45.90625 32.71875 \r\nQ 45.90625 40.484375 42.875 44.328125 \r\nQ 39.84375 48.1875 33.796875 48.1875 \r\nQ 26.515625 48.1875 22.3125 43.546875 \r\nQ 18.109375 38.921875 18.109375 30.90625 \r\nL 18.109375 0 \r\nL 9.078125 0 \r\nL 9.078125 54.6875 \r\nL 18.109375 54.6875 \r\nL 18.109375 46.1875 \r\nQ 21.34375 51.125 25.703125 53.5625 \r\nQ 30.078125 56 35.796875 56 \r\nQ 45.21875 56 50.046875 50.171875 \r\nQ 54.890625 44.34375 54.890625 33.015625 \r\nz\r\n\" id=\"DejaVuSans-110\"/>\r\n      </defs>\r\n      <use xlink:href=\"#DejaVuSans-116\"/>\r\n      <use x=\"39.208984\" xlink:href=\"#DejaVuSans-105\"/>\r\n      <use x=\"66.992188\" xlink:href=\"#DejaVuSans-109\"/>\r\n      <use x=\"164.404297\" xlink:href=\"#DejaVuSans-101\"/>\r\n      <use x=\"225.927734\" xlink:href=\"#DejaVuSans-108\"/>\r\n      <use x=\"253.710938\" xlink:href=\"#DejaVuSans-105\"/>\r\n      <use x=\"281.494141\" xlink:href=\"#DejaVuSans-110\"/>\r\n      <use x=\"344.873047\" xlink:href=\"#DejaVuSans-101\"/>\r\n     </g>\r\n    </g>\r\n   </g>\r\n   <g id=\"matplotlib.axis_2\">\r\n    <g id=\"ytick_1\">\r\n     <g id=\"line2d_10\">\r\n      <defs>\r\n       <path d=\"M 0 0 \r\nL -3.5 0 \r\n\" id=\"mcbdefa9bf8\" style=\"stroke:#000000;stroke-width:0.8;\"/>\r\n      </defs>\r\n      <g>\r\n       <use style=\"stroke:#000000;stroke-width:0.8;\" x=\"30.103125\" xlink:href=\"#mcbdefa9bf8\" y=\"267.698552\"/>\r\n      </g>\r\n     </g>\r\n     <g id=\"text_11\">\r\n      <!-- 0.2 -->\r\n      <g transform=\"translate(7.2 271.497771)scale(0.1 -0.1)\">\r\n       <use xlink:href=\"#DejaVuSans-48\"/>\r\n       <use x=\"63.623047\" xlink:href=\"#DejaVuSans-46\"/>\r\n       <use x=\"95.410156\" xlink:href=\"#DejaVuSans-50\"/>\r\n      </g>\r\n     </g>\r\n    </g>\r\n    <g id=\"ytick_2\">\r\n     <g id=\"line2d_11\">\r\n      <g>\r\n       <use style=\"stroke:#000000;stroke-width:0.8;\" x=\"30.103125\" xlink:href=\"#mcbdefa9bf8\" y=\"201.100133\"/>\r\n      </g>\r\n     </g>\r\n     <g id=\"text_12\">\r\n      <!-- 0.4 -->\r\n      <g transform=\"translate(7.2 204.899352)scale(0.1 -0.1)\">\r\n       <defs>\r\n        <path d=\"M 37.796875 64.3125 \r\nL 12.890625 25.390625 \r\nL 37.796875 25.390625 \r\nz\r\nM 35.203125 72.90625 \r\nL 47.609375 72.90625 \r\nL 47.609375 25.390625 \r\nL 58.015625 25.390625 \r\nL 58.015625 17.1875 \r\nL 47.609375 17.1875 \r\nL 47.609375 0 \r\nL 37.796875 0 \r\nL 37.796875 17.1875 \r\nL 4.890625 17.1875 \r\nL 4.890625 26.703125 \r\nz\r\n\" id=\"DejaVuSans-52\"/>\r\n       </defs>\r\n       <use xlink:href=\"#DejaVuSans-48\"/>\r\n       <use x=\"63.623047\" xlink:href=\"#DejaVuSans-46\"/>\r\n       <use x=\"95.410156\" xlink:href=\"#DejaVuSans-52\"/>\r\n      </g>\r\n     </g>\r\n    </g>\r\n    <g id=\"ytick_3\">\r\n     <g id=\"line2d_12\">\r\n      <g>\r\n       <use style=\"stroke:#000000;stroke-width:0.8;\" x=\"30.103125\" xlink:href=\"#mcbdefa9bf8\" y=\"134.501714\"/>\r\n      </g>\r\n     </g>\r\n     <g id=\"text_13\">\r\n      <!-- 0.6 -->\r\n      <g transform=\"translate(7.2 138.300933)scale(0.1 -0.1)\">\r\n       <defs>\r\n        <path d=\"M 33.015625 40.375 \r\nQ 26.375 40.375 22.484375 35.828125 \r\nQ 18.609375 31.296875 18.609375 23.390625 \r\nQ 18.609375 15.53125 22.484375 10.953125 \r\nQ 26.375 6.390625 33.015625 6.390625 \r\nQ 39.65625 6.390625 43.53125 10.953125 \r\nQ 47.40625 15.53125 47.40625 23.390625 \r\nQ 47.40625 31.296875 43.53125 35.828125 \r\nQ 39.65625 40.375 33.015625 40.375 \r\nz\r\nM 52.59375 71.296875 \r\nL 52.59375 62.3125 \r\nQ 48.875 64.0625 45.09375 64.984375 \r\nQ 41.3125 65.921875 37.59375 65.921875 \r\nQ 27.828125 65.921875 22.671875 59.328125 \r\nQ 17.53125 52.734375 16.796875 39.40625 \r\nQ 19.671875 43.65625 24.015625 45.921875 \r\nQ 28.375 48.1875 33.59375 48.1875 \r\nQ 44.578125 48.1875 50.953125 41.515625 \r\nQ 57.328125 34.859375 57.328125 23.390625 \r\nQ 57.328125 12.15625 50.6875 5.359375 \r\nQ 44.046875 -1.421875 33.015625 -1.421875 \r\nQ 20.359375 -1.421875 13.671875 8.265625 \r\nQ 6.984375 17.96875 6.984375 36.375 \r\nQ 6.984375 53.65625 15.1875 63.9375 \r\nQ 23.390625 74.21875 37.203125 74.21875 \r\nQ 40.921875 74.21875 44.703125 73.484375 \r\nQ 48.484375 72.75 52.59375 71.296875 \r\nz\r\n\" id=\"DejaVuSans-54\"/>\r\n       </defs>\r\n       <use xlink:href=\"#DejaVuSans-48\"/>\r\n       <use x=\"63.623047\" xlink:href=\"#DejaVuSans-46\"/>\r\n       <use x=\"95.410156\" xlink:href=\"#DejaVuSans-54\"/>\r\n      </g>\r\n     </g>\r\n    </g>\r\n    <g id=\"ytick_4\">\r\n     <g id=\"line2d_13\">\r\n      <g>\r\n       <use style=\"stroke:#000000;stroke-width:0.8;\" x=\"30.103125\" xlink:href=\"#mcbdefa9bf8\" y=\"67.903295\"/>\r\n      </g>\r\n     </g>\r\n     <g id=\"text_14\">\r\n      <!-- 0.8 -->\r\n      <g transform=\"translate(7.2 71.702514)scale(0.1 -0.1)\">\r\n       <defs>\r\n        <path d=\"M 31.78125 34.625 \r\nQ 24.75 34.625 20.71875 30.859375 \r\nQ 16.703125 27.09375 16.703125 20.515625 \r\nQ 16.703125 13.921875 20.71875 10.15625 \r\nQ 24.75 6.390625 31.78125 6.390625 \r\nQ 38.8125 6.390625 42.859375 10.171875 \r\nQ 46.921875 13.96875 46.921875 20.515625 \r\nQ 46.921875 27.09375 42.890625 30.859375 \r\nQ 38.875 34.625 31.78125 34.625 \r\nz\r\nM 21.921875 38.8125 \r\nQ 15.578125 40.375 12.03125 44.71875 \r\nQ 8.5 49.078125 8.5 55.328125 \r\nQ 8.5 64.0625 14.71875 69.140625 \r\nQ 20.953125 74.21875 31.78125 74.21875 \r\nQ 42.671875 74.21875 48.875 69.140625 \r\nQ 55.078125 64.0625 55.078125 55.328125 \r\nQ 55.078125 49.078125 51.53125 44.71875 \r\nQ 48 40.375 41.703125 38.8125 \r\nQ 48.828125 37.15625 52.796875 32.3125 \r\nQ 56.78125 27.484375 56.78125 20.515625 \r\nQ 56.78125 9.90625 50.3125 4.234375 \r\nQ 43.84375 -1.421875 31.78125 -1.421875 \r\nQ 19.734375 -1.421875 13.25 4.234375 \r\nQ 6.78125 9.90625 6.78125 20.515625 \r\nQ 6.78125 27.484375 10.78125 32.3125 \r\nQ 14.796875 37.15625 21.921875 38.8125 \r\nz\r\nM 18.3125 54.390625 \r\nQ 18.3125 48.734375 21.84375 45.5625 \r\nQ 25.390625 42.390625 31.78125 42.390625 \r\nQ 38.140625 42.390625 41.71875 45.5625 \r\nQ 45.3125 48.734375 45.3125 54.390625 \r\nQ 45.3125 60.0625 41.71875 63.234375 \r\nQ 38.140625 66.40625 31.78125 66.40625 \r\nQ 25.390625 66.40625 21.84375 63.234375 \r\nQ 18.3125 60.0625 18.3125 54.390625 \r\nz\r\n\" id=\"DejaVuSans-56\"/>\r\n       </defs>\r\n       <use xlink:href=\"#DejaVuSans-48\"/>\r\n       <use x=\"63.623047\" xlink:href=\"#DejaVuSans-46\"/>\r\n       <use x=\"95.410156\" xlink:href=\"#DejaVuSans-56\"/>\r\n      </g>\r\n     </g>\r\n    </g>\r\n   </g>\r\n   <g id=\"line2d_14\">\r\n    <path clip-path=\"url(#p31c143b8ef)\" d=\"M 60.539489 45.703822 \r\nL 90.975852 45.703822 \r\nL 90.975852 90.102768 \r\nL 121.412216 90.102768 \r\nL 121.412216 141.901539 \r\nL 151.84858 141.901539 \r\nL 151.84858 171.500836 \r\nL 182.284943 171.500836 \r\nL 182.284943 187.00523 \r\nL 212.721307 187.00523 \r\nL 212.721307 210.261821 \r\nL 243.15767 210.261821 \r\nL 243.15767 225.766214 \r\nL 304.030398 225.766214 \r\nL 304.030398 225.766214 \r\nL 334.466761 225.766214 \r\nL 334.466761 236.61929 \r\nL 364.903125 236.61929 \r\nL 364.903125 248.829 \r\nL 456.212216 248.829 \r\nL 456.212216 277.318324 \r\nL 669.266761 277.318324 \r\nL 669.266761 277.318324 \r\n\" style=\"fill:none;stroke:#1f77b4;stroke-linecap:square;stroke-width:1.5;\"/>\r\n   </g>\r\n   <g id=\"line2d_15\">\r\n    <path clip-path=\"url(#p31c143b8ef)\" d=\"M 60.539489 84.5529 \r\nL 90.975852 84.5529 \r\nL 90.975852 98.427571 \r\nL 121.412216 98.427571 \r\nL 121.412216 126.176912 \r\nL 151.84858 126.176912 \r\nL 151.84858 153.926253 \r\nL 182.284943 153.926253 \r\nL 182.284943 181.675594 \r\nL 212.721307 181.675594 \r\nL 212.721307 209.424936 \r\nL 243.15767 209.424936 \r\nL 243.15767 223.299606 \r\nL 304.030398 223.299606 \r\nL 304.030398 237.174277 \r\nL 334.466761 237.174277 \r\nL 334.466761 237.174277 \r\nL 425.775852 237.174277 \r\nL 425.775852 237.174277 \r\nL 517.084943 237.174277 \r\nL 517.084943 237.174277 \r\nL 638.830398 237.174277 \r\nL 638.830398 237.174277 \r\n\" style=\"fill:none;stroke:#ff7f0e;stroke-linecap:square;stroke-width:1.5;\"/>\r\n   </g>\r\n   <g id=\"patch_3\">\r\n    <path d=\"M 30.103125 333.36 \r\nL 30.103125 7.2 \r\n\" style=\"fill:none;stroke:#000000;stroke-linecap:square;stroke-linejoin:miter;stroke-width:0.8;\"/>\r\n   </g>\r\n   <g id=\"patch_4\">\r\n    <path d=\"M 699.703125 333.36 \r\nL 699.703125 7.2 \r\n\" style=\"fill:none;stroke:#000000;stroke-linecap:square;stroke-linejoin:miter;stroke-width:0.8;\"/>\r\n   </g>\r\n   <g id=\"patch_5\">\r\n    <path d=\"M 30.103125 333.36 \r\nL 699.703125 333.36 \r\n\" style=\"fill:none;stroke:#000000;stroke-linecap:square;stroke-linejoin:miter;stroke-width:0.8;\"/>\r\n   </g>\r\n   <g id=\"patch_6\">\r\n    <path d=\"M 30.103125 7.2 \r\nL 699.703125 7.2 \r\n\" style=\"fill:none;stroke:#000000;stroke-linecap:square;stroke-linejoin:miter;stroke-width:0.8;\"/>\r\n   </g>\r\n   <g id=\"legend_1\">\r\n    <g id=\"patch_7\">\r\n     <path d=\"M 594.979687 44.55625 \r\nL 692.703125 44.55625 \r\nQ 694.703125 44.55625 694.703125 42.55625 \r\nL 694.703125 14.2 \r\nQ 694.703125 12.2 692.703125 12.2 \r\nL 594.979687 12.2 \r\nQ 592.979687 12.2 592.979687 14.2 \r\nL 592.979687 42.55625 \r\nQ 592.979687 44.55625 594.979687 44.55625 \r\nz\r\n\" style=\"fill:#ffffff;opacity:0.8;stroke:#cccccc;stroke-linejoin:miter;\"/>\r\n    </g>\r\n    <g id=\"line2d_16\">\r\n     <path d=\"M 596.979687 20.298437 \r\nL 616.979687 20.298437 \r\n\" style=\"fill:none;stroke:#1f77b4;stroke-linecap:square;stroke-width:1.5;\"/>\r\n    </g>\r\n    <g id=\"line2d_17\"/>\r\n    <g id=\"text_15\">\r\n     <!-- hypertension -->\r\n     <g transform=\"translate(624.979687 23.798437)scale(0.1 -0.1)\">\r\n      <defs>\r\n       <path d=\"M 54.890625 33.015625 \r\nL 54.890625 0 \r\nL 45.90625 0 \r\nL 45.90625 32.71875 \r\nQ 45.90625 40.484375 42.875 44.328125 \r\nQ 39.84375 48.1875 33.796875 48.1875 \r\nQ 26.515625 48.1875 22.3125 43.546875 \r\nQ 18.109375 38.921875 18.109375 30.90625 \r\nL 18.109375 0 \r\nL 9.078125 0 \r\nL 9.078125 75.984375 \r\nL 18.109375 75.984375 \r\nL 18.109375 46.1875 \r\nQ 21.34375 51.125 25.703125 53.5625 \r\nQ 30.078125 56 35.796875 56 \r\nQ 45.21875 56 50.046875 50.171875 \r\nQ 54.890625 44.34375 54.890625 33.015625 \r\nz\r\n\" id=\"DejaVuSans-104\"/>\r\n       <path d=\"M 32.171875 -5.078125 \r\nQ 28.375 -14.84375 24.75 -17.8125 \r\nQ 21.140625 -20.796875 15.09375 -20.796875 \r\nL 7.90625 -20.796875 \r\nL 7.90625 -13.28125 \r\nL 13.1875 -13.28125 \r\nQ 16.890625 -13.28125 18.9375 -11.515625 \r\nQ 21 -9.765625 23.484375 -3.21875 \r\nL 25.09375 0.875 \r\nL 2.984375 54.6875 \r\nL 12.5 54.6875 \r\nL 29.59375 11.921875 \r\nL 46.6875 54.6875 \r\nL 56.203125 54.6875 \r\nz\r\n\" id=\"DejaVuSans-121\"/>\r\n       <path d=\"M 18.109375 8.203125 \r\nL 18.109375 -20.796875 \r\nL 9.078125 -20.796875 \r\nL 9.078125 54.6875 \r\nL 18.109375 54.6875 \r\nL 18.109375 46.390625 \r\nQ 20.953125 51.265625 25.265625 53.625 \r\nQ 29.59375 56 35.59375 56 \r\nQ 45.5625 56 51.78125 48.09375 \r\nQ 58.015625 40.1875 58.015625 27.296875 \r\nQ 58.015625 14.40625 51.78125 6.484375 \r\nQ 45.5625 -1.421875 35.59375 -1.421875 \r\nQ 29.59375 -1.421875 25.265625 0.953125 \r\nQ 20.953125 3.328125 18.109375 8.203125 \r\nz\r\nM 48.6875 27.296875 \r\nQ 48.6875 37.203125 44.609375 42.84375 \r\nQ 40.53125 48.484375 33.40625 48.484375 \r\nQ 26.265625 48.484375 22.1875 42.84375 \r\nQ 18.109375 37.203125 18.109375 27.296875 \r\nQ 18.109375 17.390625 22.1875 11.75 \r\nQ 26.265625 6.109375 33.40625 6.109375 \r\nQ 40.53125 6.109375 44.609375 11.75 \r\nQ 48.6875 17.390625 48.6875 27.296875 \r\nz\r\n\" id=\"DejaVuSans-112\"/>\r\n       <path d=\"M 41.109375 46.296875 \r\nQ 39.59375 47.171875 37.8125 47.578125 \r\nQ 36.03125 48 33.890625 48 \r\nQ 26.265625 48 22.1875 43.046875 \r\nQ 18.109375 38.09375 18.109375 28.8125 \r\nL 18.109375 0 \r\nL 9.078125 0 \r\nL 9.078125 54.6875 \r\nL 18.109375 54.6875 \r\nL 18.109375 46.1875 \r\nQ 20.953125 51.171875 25.484375 53.578125 \r\nQ 30.03125 56 36.53125 56 \r\nQ 37.453125 56 38.578125 55.875 \r\nQ 39.703125 55.765625 41.0625 55.515625 \r\nz\r\n\" id=\"DejaVuSans-114\"/>\r\n       <path d=\"M 44.28125 53.078125 \r\nL 44.28125 44.578125 \r\nQ 40.484375 46.53125 36.375 47.5 \r\nQ 32.28125 48.484375 27.875 48.484375 \r\nQ 21.1875 48.484375 17.84375 46.4375 \r\nQ 14.5 44.390625 14.5 40.28125 \r\nQ 14.5 37.15625 16.890625 35.375 \r\nQ 19.28125 33.59375 26.515625 31.984375 \r\nL 29.59375 31.296875 \r\nQ 39.15625 29.25 43.1875 25.515625 \r\nQ 47.21875 21.78125 47.21875 15.09375 \r\nQ 47.21875 7.46875 41.1875 3.015625 \r\nQ 35.15625 -1.421875 24.609375 -1.421875 \r\nQ 20.21875 -1.421875 15.453125 -0.5625 \r\nQ 10.6875 0.296875 5.421875 2 \r\nL 5.421875 11.28125 \r\nQ 10.40625 8.6875 15.234375 7.390625 \r\nQ 20.0625 6.109375 24.8125 6.109375 \r\nQ 31.15625 6.109375 34.5625 8.28125 \r\nQ 37.984375 10.453125 37.984375 14.40625 \r\nQ 37.984375 18.0625 35.515625 20.015625 \r\nQ 33.0625 21.96875 24.703125 23.78125 \r\nL 21.578125 24.515625 \r\nQ 13.234375 26.265625 9.515625 29.90625 \r\nQ 5.8125 33.546875 5.8125 39.890625 \r\nQ 5.8125 47.609375 11.28125 51.796875 \r\nQ 16.75 56 26.8125 56 \r\nQ 31.78125 56 36.171875 55.265625 \r\nQ 40.578125 54.546875 44.28125 53.078125 \r\nz\r\n\" id=\"DejaVuSans-115\"/>\r\n       <path d=\"M 30.609375 48.390625 \r\nQ 23.390625 48.390625 19.1875 42.75 \r\nQ 14.984375 37.109375 14.984375 27.296875 \r\nQ 14.984375 17.484375 19.15625 11.84375 \r\nQ 23.34375 6.203125 30.609375 6.203125 \r\nQ 37.796875 6.203125 41.984375 11.859375 \r\nQ 46.1875 17.53125 46.1875 27.296875 \r\nQ 46.1875 37.015625 41.984375 42.703125 \r\nQ 37.796875 48.390625 30.609375 48.390625 \r\nz\r\nM 30.609375 56 \r\nQ 42.328125 56 49.015625 48.375 \r\nQ 55.71875 40.765625 55.71875 27.296875 \r\nQ 55.71875 13.875 49.015625 6.21875 \r\nQ 42.328125 -1.421875 30.609375 -1.421875 \r\nQ 18.84375 -1.421875 12.171875 6.21875 \r\nQ 5.515625 13.875 5.515625 27.296875 \r\nQ 5.515625 40.765625 12.171875 48.375 \r\nQ 18.84375 56 30.609375 56 \r\nz\r\n\" id=\"DejaVuSans-111\"/>\r\n      </defs>\r\n      <use xlink:href=\"#DejaVuSans-104\"/>\r\n      <use x=\"63.378906\" xlink:href=\"#DejaVuSans-121\"/>\r\n      <use x=\"122.558594\" xlink:href=\"#DejaVuSans-112\"/>\r\n      <use x=\"186.035156\" xlink:href=\"#DejaVuSans-101\"/>\r\n      <use x=\"247.558594\" xlink:href=\"#DejaVuSans-114\"/>\r\n      <use x=\"288.671875\" xlink:href=\"#DejaVuSans-116\"/>\r\n      <use x=\"327.880859\" xlink:href=\"#DejaVuSans-101\"/>\r\n      <use x=\"389.404297\" xlink:href=\"#DejaVuSans-110\"/>\r\n      <use x=\"452.783203\" xlink:href=\"#DejaVuSans-115\"/>\r\n      <use x=\"504.882812\" xlink:href=\"#DejaVuSans-105\"/>\r\n      <use x=\"532.666016\" xlink:href=\"#DejaVuSans-111\"/>\r\n      <use x=\"593.847656\" xlink:href=\"#DejaVuSans-110\"/>\r\n     </g>\r\n    </g>\r\n    <g id=\"line2d_18\">\r\n     <path d=\"M 596.979687 34.976562 \r\nL 616.979687 34.976562 \r\n\" style=\"fill:none;stroke:#ff7f0e;stroke-linecap:square;stroke-width:1.5;\"/>\r\n    </g>\r\n    <g id=\"line2d_19\"/>\r\n    <g id=\"text_16\">\r\n     <!-- none -->\r\n     <g transform=\"translate(624.979687 38.476562)scale(0.1 -0.1)\">\r\n      <use xlink:href=\"#DejaVuSans-110\"/>\r\n      <use x=\"63.378906\" xlink:href=\"#DejaVuSans-111\"/>\r\n      <use x=\"124.560547\" xlink:href=\"#DejaVuSans-110\"/>\r\n      <use x=\"187.939453\" xlink:href=\"#DejaVuSans-101\"/>\r\n     </g>\r\n    </g>\r\n   </g>\r\n  </g>\r\n </g>\r\n <defs>\r\n  <clipPath id=\"p31c143b8ef\">\r\n   <rect height=\"326.16\" width=\"669.6\" x=\"30.103125\" y=\"7.2\"/>\r\n  </clipPath>\r\n </defs>\r\n</svg>\r\n",
      "image/png": "[encoded data removed]"
     },
     "metadata": {
      "needs_background": "light"
     }
    }
   ],
   "source": [
    "kmf = KaplanMeierFitter() \n",
    "\n",
    "\n",
    "T = filtered['days']     ## time to event\n",
    "E = filtered['outcome']      ## event occurred or censored\n",
    "\n",
    "\n",
    "groups = filtered['hypertension']             ## Create the cohorts from the 'Contract' column\n",
    "ix1 = (groups == 1)   ## Cohort 1\n",
    "ix2 = (groups == 0)         ## Cohort 2\n",
    "\n",
    "\n",
    "kmf.fit(T[ix1], E[ix1], label='hypertension')    ## fit the cohort 1 data\n",
    "ax = kmf.plot()\n",
    "\n",
    "\n",
    "kmf.fit(T[ix2], E[ix2], label='none')         ## fit the cohort 2 data\n",
    "ax1 = kmf.plot(ax=ax)"
   ]
  },
  {
   "cell_type": "markdown",
   "metadata": {
    "id": "xqzwv5yX9O4y"
   },
   "source": [
    "## Cox Proportional Hazard Model (Survival Regression)"
   ]
  },
  {
   "cell_type": "code",
   "execution_count": 32,
   "metadata": {
    "executionInfo": {
     "elapsed": 1072,
     "status": "ok",
     "timestamp": 1610679393402,
     "user": {
      "displayName": "장승운",
      "photoUrl": "",
      "userId": "09116233606503711736"
     },
     "user_tz": -540
    },
    "id": "fKoNoR2nZsZj"
   },
   "outputs": [],
   "source": [
    "from lifelines import CoxPHFitter "
   ]
  },
  {
   "cell_type": "code",
   "execution_count": 33,
   "metadata": {},
   "outputs": [
    {
     "output_type": "execute_result",
     "data": {
      "text/plain": [
       "{'COPD',\n",
       " 'Chronic kidney disease',\n",
       " \"Parkinson's disease\",\n",
       " 'Pre-renal azotemia',\n",
       " 'and lung cancer',\n",
       " 'asthma',\n",
       " 'atherosclerosis',\n",
       " 'atrial fibrillation',\n",
       " 'benign prostatic hyperplasia',\n",
       " 'benign prostatic hypertrophy',\n",
       " 'bronchial asthma',\n",
       " 'cardiac disease',\n",
       " 'cardiac dysrhythmia',\n",
       " 'cardiomyopathy',\n",
       " 'cardiovascular disease',\n",
       " 'cerebrovascular accident infarct',\n",
       " 'cerebrovascular infarct',\n",
       " 'chronic kidney disease',\n",
       " 'chronic obstructive pulmonary disease',\n",
       " 'colon cancer',\n",
       " 'coronary artery disease',\n",
       " 'coronary artery stenting',\n",
       " 'coronary heart disease',\n",
       " 'coronary heart disease for which a stent had been implanted',\n",
       " 'diabetes',\n",
       " 'dislipidemia',\n",
       " 'dyslipidemia',\n",
       " 'frequent ventricular premature beat (FVPB)',\n",
       " 'hepatitis B',\n",
       " 'hypertension',\n",
       " 'hyperthyroidism',\n",
       " 'hypothyroidism',\n",
       " 'impaired fasting glucose',\n",
       " 'ischemic heart disease',\n",
       " 'pre-renal azotemia',\n",
       " 'prostate cancer',\n",
       " 'prostate hypertrophy',\n",
       " 'renal disease',\n",
       " 'tongue cancer',\n",
       " 'upper git bleeding',\n",
       " 'valvular heart disease'}"
      ]
     },
     "metadata": {},
     "execution_count": 33
    }
   ],
   "source": [
    "symptoms"
   ]
  },
  {
   "cell_type": "code",
   "execution_count": 38,
   "metadata": {
    "colab": {
     "base_uri": "https://localhost:8080/",
     "height": 204
    },
    "executionInfo": {
     "elapsed": 1017,
     "status": "ok",
     "timestamp": 1610679481390,
     "user": {
      "displayName": "장승운",
      "photoUrl": "",
      "userId": "09116233606503711736"
     },
     "user_tz": -540
    },
    "id": "ngtTlOMuZscJ",
    "outputId": "cd9265dd-66db-48bc-beb4-d633dbdce2e2"
   },
   "outputs": [
    {
     "output_type": "execute_result",
     "data": {
      "text/plain": [
       "   outcome  diabetes  COPD  asthma  hypertension  days\n",
       "0        1       0.0   0.0     0.0           0.0   2.0\n",
       "1        0       0.0   0.0     0.0           1.0   6.0\n",
       "2        0       0.0   1.0     0.0           0.0  12.0\n",
       "3        1       1.0   0.0     0.0           1.0   0.0\n",
       "4        1       0.0   0.0     0.0           0.0   0.0"
      ],
      "text/html": "<div>\n<style scoped>\n    .dataframe tbody tr th:only-of-type {\n        vertical-align: middle;\n    }\n\n    .dataframe tbody tr th {\n        vertical-align: top;\n    }\n\n    .dataframe thead th {\n        text-align: right;\n    }\n</style>\n<table border=\"1\" class=\"dataframe\">\n  <thead>\n    <tr style=\"text-align: right;\">\n      <th></th>\n      <th>outcome</th>\n      <th>diabetes</th>\n      <th>COPD</th>\n      <th>asthma</th>\n      <th>hypertension</th>\n      <th>days</th>\n    </tr>\n  </thead>\n  <tbody>\n    <tr>\n      <th>0</th>\n      <td>1</td>\n      <td>0.0</td>\n      <td>0.0</td>\n      <td>0.0</td>\n      <td>0.0</td>\n      <td>2.0</td>\n    </tr>\n    <tr>\n      <th>1</th>\n      <td>0</td>\n      <td>0.0</td>\n      <td>0.0</td>\n      <td>0.0</td>\n      <td>1.0</td>\n      <td>6.0</td>\n    </tr>\n    <tr>\n      <th>2</th>\n      <td>0</td>\n      <td>0.0</td>\n      <td>1.0</td>\n      <td>0.0</td>\n      <td>0.0</td>\n      <td>12.0</td>\n    </tr>\n    <tr>\n      <th>3</th>\n      <td>1</td>\n      <td>1.0</td>\n      <td>0.0</td>\n      <td>0.0</td>\n      <td>1.0</td>\n      <td>0.0</td>\n    </tr>\n    <tr>\n      <th>4</th>\n      <td>1</td>\n      <td>0.0</td>\n      <td>0.0</td>\n      <td>0.0</td>\n      <td>0.0</td>\n      <td>0.0</td>\n    </tr>\n  </tbody>\n</table>\n</div>"
     },
     "metadata": {},
     "execution_count": 38
    }
   ],
   "source": [
    "## My objective here is to introduce you to the implementation of the model.Thus taking subset of the columns to train the model.\n",
    "## Only using the subset of the columns present in the original data\n",
    "df_r= filtered.loc[:,['outcome','diabetes','COPD','asthma','hypertension','days']]\n",
    "df_r.head() ## have a look at the data "
   ]
  },
  {
   "cell_type": "code",
   "execution_count": 39,
   "metadata": {
    "colab": {
     "base_uri": "https://localhost:8080/",
     "height": 204
    },
    "executionInfo": {
     "elapsed": 1252,
     "status": "ok",
     "timestamp": 1610679491138,
     "user": {
      "displayName": "장승운",
      "photoUrl": "",
      "userId": "09116233606503711736"
     },
     "user_tz": -540
    },
    "id": "ZqB9jIroZseq",
    "outputId": "a7d7a9a1-185d-4cbd-cefb-be04685eaf11"
   },
   "outputs": [
    {
     "output_type": "execute_result",
     "data": {
      "text/plain": [
       "   outcome  diabetes  COPD  asthma  hypertension  days\n",
       "0        1       0.0   0.0     0.0           0.0   2.0\n",
       "1        0       0.0   0.0     0.0           1.0   6.0\n",
       "2        0       0.0   1.0     0.0           0.0  12.0\n",
       "3        1       1.0   0.0     0.0           1.0   0.0\n",
       "4        1       0.0   0.0     0.0           0.0   0.0"
      ],
      "text/html": "<div>\n<style scoped>\n    .dataframe tbody tr th:only-of-type {\n        vertical-align: middle;\n    }\n\n    .dataframe tbody tr th {\n        vertical-align: top;\n    }\n\n    .dataframe thead th {\n        text-align: right;\n    }\n</style>\n<table border=\"1\" class=\"dataframe\">\n  <thead>\n    <tr style=\"text-align: right;\">\n      <th></th>\n      <th>outcome</th>\n      <th>diabetes</th>\n      <th>COPD</th>\n      <th>asthma</th>\n      <th>hypertension</th>\n      <th>days</th>\n    </tr>\n  </thead>\n  <tbody>\n    <tr>\n      <th>0</th>\n      <td>1</td>\n      <td>0.0</td>\n      <td>0.0</td>\n      <td>0.0</td>\n      <td>0.0</td>\n      <td>2.0</td>\n    </tr>\n    <tr>\n      <th>1</th>\n      <td>0</td>\n      <td>0.0</td>\n      <td>0.0</td>\n      <td>0.0</td>\n      <td>1.0</td>\n      <td>6.0</td>\n    </tr>\n    <tr>\n      <th>2</th>\n      <td>0</td>\n      <td>0.0</td>\n      <td>1.0</td>\n      <td>0.0</td>\n      <td>0.0</td>\n      <td>12.0</td>\n    </tr>\n    <tr>\n      <th>3</th>\n      <td>1</td>\n      <td>1.0</td>\n      <td>0.0</td>\n      <td>0.0</td>\n      <td>1.0</td>\n      <td>0.0</td>\n    </tr>\n    <tr>\n      <th>4</th>\n      <td>1</td>\n      <td>0.0</td>\n      <td>0.0</td>\n      <td>0.0</td>\n      <td>0.0</td>\n      <td>0.0</td>\n    </tr>\n  </tbody>\n</table>\n</div>"
     },
     "metadata": {},
     "execution_count": 39
    }
   ],
   "source": [
    "## Create dummy variables\n",
    "df_dummy = pd.get_dummies(df_r, drop_first=True)\n",
    "df_dummy.head()"
   ]
  },
  {
   "cell_type": "code",
   "execution_count": 40,
   "metadata": {
    "colab": {
     "base_uri": "https://localhost:8080/",
     "height": 469
    },
    "executionInfo": {
     "elapsed": 1122,
     "status": "ok",
     "timestamp": 1610679525336,
     "user": {
      "displayName": "장승운",
      "photoUrl": "",
      "userId": "09116233606503711736"
     },
     "user_tz": -540
    },
    "id": "2y76aY1MZ25p",
    "outputId": "659571df-d928-4abb-824e-8259315ef3d8"
   },
   "outputs": [
    {
     "output_type": "display_data",
     "data": {
      "text/plain": "<lifelines.CoxPHFitter: fitted with 69 total observations, 19 right-censored observations>\n             duration col = 'days'\n                event col = 'outcome'\n      baseline estimation = breslow\n   number of observations = 69\nnumber of events observed = 50\n   partial log-likelihood = -178.40\n         time fit was run = 2021-01-21 07:33:21 UTC\n\n---\n               coef  exp(coef)   se(coef)   coef lower 95%   coef upper 95%  exp(coef) lower 95%  exp(coef) upper 95%\ncovariate                                                                                                            \ndiabetes       0.38       1.46       0.28            -0.18             0.94                 0.83                 2.55\nCOPD         -17.16       0.00    2888.49         -5678.51          5644.18                 0.00                  inf\nasthma        -1.33       0.26       0.75            -2.80             0.14                 0.06                 1.15\nhypertension  -0.38       0.68       0.31            -0.99             0.23                 0.37                 1.25\n\n                 z    p   -log2(p)\ncovariate                         \ndiabetes      1.32 0.19       2.43\nCOPD         -0.01 1.00       0.01\nasthma       -1.77 0.08       3.70\nhypertension -1.24 0.22       2.21\n---\nConcordance = 0.64\nPartial AIC = 364.81\nlog-likelihood ratio test = 11.77 on 4 df\n-log2(p) of ll-ratio test = 5.71",
      "text/html": "<div>\n<style scoped>\n    .dataframe tbody tr th:only-of-type {\n        vertical-align: middle;\n    }\n\n    .dataframe tbody tr th {\n        vertical-align: top;\n    }\n\n    .dataframe thead th {\n        text-align: right;\n    }\n</style>\n<table border=\"1\" class=\"dataframe\">\n  <tbody>\n    <tr>\n      <th>model</th>\n      <td>lifelines.CoxPHFitter</td>\n    </tr>\n    <tr>\n      <th>duration col</th>\n      <td>'days'</td>\n    </tr>\n    <tr>\n      <th>event col</th>\n      <td>'outcome'</td>\n    </tr>\n    <tr>\n      <th>baseline estimation</th>\n      <td>breslow</td>\n    </tr>\n    <tr>\n      <th>number of observations</th>\n      <td>69</td>\n    </tr>\n    <tr>\n      <th>number of events observed</th>\n      <td>50</td>\n    </tr>\n    <tr>\n      <th>partial log-likelihood</th>\n      <td>-178.40</td>\n    </tr>\n    <tr>\n      <th>time fit was run</th>\n      <td>2021-01-21 07:33:21 UTC</td>\n    </tr>\n  </tbody>\n</table>\n</div><table border=\"1\" class=\"dataframe\">\n  <thead>\n    <tr style=\"text-align: right;\">\n      <th style=\"min-width: 12px;\"></th>\n      <th style=\"min-width: 12px;\">coef</th>\n      <th style=\"min-width: 12px;\">exp(coef)</th>\n      <th style=\"min-width: 12px;\">se(coef)</th>\n      <th style=\"min-width: 12px;\">coef lower 95%</th>\n      <th style=\"min-width: 12px;\">coef upper 95%</th>\n      <th style=\"min-width: 12px;\">exp(coef) lower 95%</th>\n      <th style=\"min-width: 12px;\">exp(coef) upper 95%</th>\n      <th style=\"min-width: 12px;\">z</th>\n      <th style=\"min-width: 12px;\">p</th>\n      <th style=\"min-width: 12px;\">-log2(p)</th>\n    </tr>\n  </thead>\n  <tbody>\n    <tr>\n      <th>diabetes</th>\n      <td>0.38</td>\n      <td>1.46</td>\n      <td>0.28</td>\n      <td>-0.18</td>\n      <td>0.94</td>\n      <td>0.83</td>\n      <td>2.55</td>\n      <td>1.32</td>\n      <td>0.19</td>\n      <td>2.43</td>\n    </tr>\n    <tr>\n      <th>COPD</th>\n      <td>-17.16</td>\n      <td>0.00</td>\n      <td>2888.49</td>\n      <td>-5678.51</td>\n      <td>5644.18</td>\n      <td>0.00</td>\n      <td>inf</td>\n      <td>-0.01</td>\n      <td>1.00</td>\n      <td>0.01</td>\n    </tr>\n    <tr>\n      <th>asthma</th>\n      <td>-1.33</td>\n      <td>0.26</td>\n      <td>0.75</td>\n      <td>-2.80</td>\n      <td>0.14</td>\n      <td>0.06</td>\n      <td>1.15</td>\n      <td>-1.77</td>\n      <td>0.08</td>\n      <td>3.70</td>\n    </tr>\n    <tr>\n      <th>hypertension</th>\n      <td>-0.38</td>\n      <td>0.68</td>\n      <td>0.31</td>\n      <td>-0.99</td>\n      <td>0.23</td>\n      <td>0.37</td>\n      <td>1.25</td>\n      <td>-1.24</td>\n      <td>0.22</td>\n      <td>2.21</td>\n    </tr>\n  </tbody>\n</table><br><div>\n<style scoped>\n    .dataframe tbody tr th:only-of-type {\n        vertical-align: middle;\n    }\n\n    .dataframe tbody tr th {\n        vertical-align: top;\n    }\n\n    .dataframe thead th {\n        text-align: right;\n    }\n</style>\n<table border=\"1\" class=\"dataframe\">\n  <tbody>\n    <tr>\n      <th>Concordance</th>\n      <td>0.64</td>\n    </tr>\n    <tr>\n      <th>Partial AIC</th>\n      <td>364.81</td>\n    </tr>\n    <tr>\n      <th>log-likelihood ratio test</th>\n      <td>11.77 on 4 df</td>\n    </tr>\n    <tr>\n      <th>-log2(p) of ll-ratio test</th>\n      <td>5.71</td>\n    </tr>\n  </tbody>\n</table>\n</div>",
      "text/latex": "\\begin{tabular}{lrrrrrrrrrr}\n\\toprule\n{} &   coef &  exp(coef) &  se(coef) &  coef lower 95\\% &  coef upper 95\\% &  exp(coef) lower 95\\% &  exp(coef) upper 95\\% &     z &    p &  -log2(p) \\\\\ncovariate    &        &            &           &                 &                 &                      &                      &       &      &           \\\\\n\\midrule\ndiabetes     &   0.38 &       1.46 &      0.28 &           -0.18 &            0.94 &                 0.83 &                 2.55 &  1.32 & 0.19 &      2.43 \\\\\nCOPD         & -17.16 &       0.00 &   2888.49 &        -5678.51 &         5644.18 &                 0.00 &                  inf & -0.01 & 1.00 &      0.01 \\\\\nasthma       &  -1.33 &       0.26 &      0.75 &           -2.80 &            0.14 &                 0.06 &                 1.15 & -1.77 & 0.08 &      3.70 \\\\\nhypertension &  -0.38 &       0.68 &      0.31 &           -0.99 &            0.23 &                 0.37 &                 1.25 & -1.24 & 0.22 &      2.21 \\\\\n\\bottomrule\n\\end{tabular}\n"
     },
     "metadata": {}
    }
   ],
   "source": [
    "# Using Cox Proportional Hazards model\n",
    "cph = CoxPHFitter()   ## Instantiate the class to create a cph object\n",
    "cph.fit(df_dummy, 'days', event_col='outcome')   ## Fit the data to train the model\n",
    "cph.print_summary()    ## HAve a look at the significance of the features"
   ]
  },
  {
   "cell_type": "code",
   "execution_count": 41,
   "metadata": {
    "colab": {
     "base_uri": "https://localhost:8080/",
     "height": 406
    },
    "executionInfo": {
     "elapsed": 1159,
     "status": "ok",
     "timestamp": 1610679573354,
     "user": {
      "displayName": "장승운",
      "photoUrl": "",
      "userId": "09116233606503711736"
     },
     "user_tz": -540
    },
    "id": "Mz1cVYQzZ28G",
    "outputId": "327b57e4-1f4e-4343-d79a-67c36c54ee2f"
   },
   "outputs": [
    {
     "output_type": "execute_result",
     "data": {
      "text/plain": [
       "<AxesSubplot:xlabel='log(HR) (95% CI)'>"
      ]
     },
     "metadata": {},
     "execution_count": 41
    },
    {
     "output_type": "display_data",
     "data": {
      "text/plain": "<Figure size 864x432 with 1 Axes>",
      "image/svg+xml": "<?xml version=\"1.0\" encoding=\"utf-8\" standalone=\"no\"?>\r\n<!DOCTYPE svg PUBLIC \"-//W3C//DTD SVG 1.1//EN\"\r\n  \"http://www.w3.org/Graphics/SVG/1.1/DTD/svg11.dtd\">\r\n<!-- Created with matplotlib (https://matplotlib.org/) -->\r\n<svg height=\"370.91625pt\" version=\"1.1\" viewBox=\"0 0 758.1415 370.91625\" width=\"758.1415pt\" xmlns=\"http://www.w3.org/2000/svg\" xmlns:xlink=\"http://www.w3.org/1999/xlink\">\r\n <metadata>\r\n  <rdf:RDF xmlns:cc=\"http://creativecommons.org/ns#\" xmlns:dc=\"http://purl.org/dc/elements/1.1/\" xmlns:rdf=\"http://www.w3.org/1999/02/22-rdf-syntax-ns#\">\r\n   <cc:Work>\r\n    <dc:type rdf:resource=\"http://purl.org/dc/dcmitype/StillImage\"/>\r\n    <dc:date>2021-01-21T16:33:22.414154</dc:date>\r\n    <dc:format>image/svg+xml</dc:format>\r\n    <dc:creator>\r\n     <cc:Agent>\r\n      <dc:title>Matplotlib v3.3.2, https://matplotlib.org/</dc:title>\r\n     </cc:Agent>\r\n    </dc:creator>\r\n   </cc:Work>\r\n  </rdf:RDF>\r\n </metadata>\r\n <defs>\r\n  <style type=\"text/css\">*{stroke-linecap:butt;stroke-linejoin:round;}</style>\r\n </defs>\r\n <g id=\"figure_1\">\r\n  <g id=\"patch_1\">\r\n   <path d=\"M 0 370.91625 \r\nL 758.1415 370.91625 \r\nL 758.1415 0 \r\nL 0 0 \r\nz\r\n\" style=\"fill:none;\"/>\r\n  </g>\r\n  <g id=\"axes_1\">\r\n   <g id=\"patch_2\">\r\n    <path d=\"M 79.923438 333.36 \r\nL 749.523438 333.36 \r\nL 749.523438 7.2 \r\nL 79.923438 7.2 \r\nz\r\n\" style=\"fill:#ffffff;\"/>\r\n   </g>\r\n   <g id=\"matplotlib.axis_1\">\r\n    <g id=\"xtick_1\">\r\n     <g id=\"line2d_1\">\r\n      <defs>\r\n       <path d=\"M 0 0 \r\nL 0 3.5 \r\n\" id=\"med8f62c638\" style=\"stroke:#000000;stroke-width:0.8;\"/>\r\n      </defs>\r\n      <g>\r\n       <use style=\"stroke:#000000;stroke-width:0.8;\" x=\"93.075903\" xlink:href=\"#med8f62c638\" y=\"333.36\"/>\r\n      </g>\r\n     </g>\r\n     <g id=\"text_1\">\r\n      <!-- −6000 -->\r\n      <g transform=\"translate(76.161059 347.958438)scale(0.1 -0.1)\">\r\n       <defs>\r\n        <path d=\"M 10.59375 35.5 \r\nL 73.1875 35.5 \r\nL 73.1875 27.203125 \r\nL 10.59375 27.203125 \r\nz\r\n\" id=\"DejaVuSans-8722\"/>\r\n        <path d=\"M 33.015625 40.375 \r\nQ 26.375 40.375 22.484375 35.828125 \r\nQ 18.609375 31.296875 18.609375 23.390625 \r\nQ 18.609375 15.53125 22.484375 10.953125 \r\nQ 26.375 6.390625 33.015625 6.390625 \r\nQ 39.65625 6.390625 43.53125 10.953125 \r\nQ 47.40625 15.53125 47.40625 23.390625 \r\nQ 47.40625 31.296875 43.53125 35.828125 \r\nQ 39.65625 40.375 33.015625 40.375 \r\nz\r\nM 52.59375 71.296875 \r\nL 52.59375 62.3125 \r\nQ 48.875 64.0625 45.09375 64.984375 \r\nQ 41.3125 65.921875 37.59375 65.921875 \r\nQ 27.828125 65.921875 22.671875 59.328125 \r\nQ 17.53125 52.734375 16.796875 39.40625 \r\nQ 19.671875 43.65625 24.015625 45.921875 \r\nQ 28.375 48.1875 33.59375 48.1875 \r\nQ 44.578125 48.1875 50.953125 41.515625 \r\nQ 57.328125 34.859375 57.328125 23.390625 \r\nQ 57.328125 12.15625 50.6875 5.359375 \r\nQ 44.046875 -1.421875 33.015625 -1.421875 \r\nQ 20.359375 -1.421875 13.671875 8.265625 \r\nQ 6.984375 17.96875 6.984375 36.375 \r\nQ 6.984375 53.65625 15.1875 63.9375 \r\nQ 23.390625 74.21875 37.203125 74.21875 \r\nQ 40.921875 74.21875 44.703125 73.484375 \r\nQ 48.484375 72.75 52.59375 71.296875 \r\nz\r\n\" id=\"DejaVuSans-54\"/>\r\n        <path d=\"M 31.78125 66.40625 \r\nQ 24.171875 66.40625 20.328125 58.90625 \r\nQ 16.5 51.421875 16.5 36.375 \r\nQ 16.5 21.390625 20.328125 13.890625 \r\nQ 24.171875 6.390625 31.78125 6.390625 \r\nQ 39.453125 6.390625 43.28125 13.890625 \r\nQ 47.125 21.390625 47.125 36.375 \r\nQ 47.125 51.421875 43.28125 58.90625 \r\nQ 39.453125 66.40625 31.78125 66.40625 \r\nz\r\nM 31.78125 74.21875 \r\nQ 44.046875 74.21875 50.515625 64.515625 \r\nQ 56.984375 54.828125 56.984375 36.375 \r\nQ 56.984375 17.96875 50.515625 8.265625 \r\nQ 44.046875 -1.421875 31.78125 -1.421875 \r\nQ 19.53125 -1.421875 13.0625 8.265625 \r\nQ 6.59375 17.96875 6.59375 36.375 \r\nQ 6.59375 54.828125 13.0625 64.515625 \r\nQ 19.53125 74.21875 31.78125 74.21875 \r\nz\r\n\" id=\"DejaVuSans-48\"/>\r\n       </defs>\r\n       <use xlink:href=\"#DejaVuSans-8722\"/>\r\n       <use x=\"83.789062\" xlink:href=\"#DejaVuSans-54\"/>\r\n       <use x=\"147.412109\" xlink:href=\"#DejaVuSans-48\"/>\r\n       <use x=\"211.035156\" xlink:href=\"#DejaVuSans-48\"/>\r\n       <use x=\"274.658203\" xlink:href=\"#DejaVuSans-48\"/>\r\n      </g>\r\n     </g>\r\n    </g>\r\n    <g id=\"xtick_2\">\r\n     <g id=\"line2d_2\">\r\n      <g>\r\n       <use style=\"stroke:#000000;stroke-width:0.8;\" x=\"200.599336\" xlink:href=\"#med8f62c638\" y=\"333.36\"/>\r\n      </g>\r\n     </g>\r\n     <g id=\"text_2\">\r\n      <!-- −4000 -->\r\n      <g transform=\"translate(183.684492 347.958438)scale(0.1 -0.1)\">\r\n       <defs>\r\n        <path d=\"M 37.796875 64.3125 \r\nL 12.890625 25.390625 \r\nL 37.796875 25.390625 \r\nz\r\nM 35.203125 72.90625 \r\nL 47.609375 72.90625 \r\nL 47.609375 25.390625 \r\nL 58.015625 25.390625 \r\nL 58.015625 17.1875 \r\nL 47.609375 17.1875 \r\nL 47.609375 0 \r\nL 37.796875 0 \r\nL 37.796875 17.1875 \r\nL 4.890625 17.1875 \r\nL 4.890625 26.703125 \r\nz\r\n\" id=\"DejaVuSans-52\"/>\r\n       </defs>\r\n       <use xlink:href=\"#DejaVuSans-8722\"/>\r\n       <use x=\"83.789062\" xlink:href=\"#DejaVuSans-52\"/>\r\n       <use x=\"147.412109\" xlink:href=\"#DejaVuSans-48\"/>\r\n       <use x=\"211.035156\" xlink:href=\"#DejaVuSans-48\"/>\r\n       <use x=\"274.658203\" xlink:href=\"#DejaVuSans-48\"/>\r\n      </g>\r\n     </g>\r\n    </g>\r\n    <g id=\"xtick_3\">\r\n     <g id=\"line2d_3\">\r\n      <g>\r\n       <use style=\"stroke:#000000;stroke-width:0.8;\" x=\"308.122769\" xlink:href=\"#med8f62c638\" y=\"333.36\"/>\r\n      </g>\r\n     </g>\r\n     <g id=\"text_3\">\r\n      <!-- −2000 -->\r\n      <g transform=\"translate(291.207925 347.958438)scale(0.1 -0.1)\">\r\n       <defs>\r\n        <path d=\"M 19.1875 8.296875 \r\nL 53.609375 8.296875 \r\nL 53.609375 0 \r\nL 7.328125 0 \r\nL 7.328125 8.296875 \r\nQ 12.9375 14.109375 22.625 23.890625 \r\nQ 32.328125 33.6875 34.8125 36.53125 \r\nQ 39.546875 41.84375 41.421875 45.53125 \r\nQ 43.3125 49.21875 43.3125 52.78125 \r\nQ 43.3125 58.59375 39.234375 62.25 \r\nQ 35.15625 65.921875 28.609375 65.921875 \r\nQ 23.96875 65.921875 18.8125 64.3125 \r\nQ 13.671875 62.703125 7.8125 59.421875 \r\nL 7.8125 69.390625 \r\nQ 13.765625 71.78125 18.9375 73 \r\nQ 24.125 74.21875 28.421875 74.21875 \r\nQ 39.75 74.21875 46.484375 68.546875 \r\nQ 53.21875 62.890625 53.21875 53.421875 \r\nQ 53.21875 48.921875 51.53125 44.890625 \r\nQ 49.859375 40.875 45.40625 35.40625 \r\nQ 44.1875 33.984375 37.640625 27.21875 \r\nQ 31.109375 20.453125 19.1875 8.296875 \r\nz\r\n\" id=\"DejaVuSans-50\"/>\r\n       </defs>\r\n       <use xlink:href=\"#DejaVuSans-8722\"/>\r\n       <use x=\"83.789062\" xlink:href=\"#DejaVuSans-50\"/>\r\n       <use x=\"147.412109\" xlink:href=\"#DejaVuSans-48\"/>\r\n       <use x=\"211.035156\" xlink:href=\"#DejaVuSans-48\"/>\r\n       <use x=\"274.658203\" xlink:href=\"#DejaVuSans-48\"/>\r\n      </g>\r\n     </g>\r\n    </g>\r\n    <g id=\"xtick_4\">\r\n     <g id=\"line2d_4\">\r\n      <g>\r\n       <use style=\"stroke:#000000;stroke-width:0.8;\" x=\"415.646201\" xlink:href=\"#med8f62c638\" y=\"333.36\"/>\r\n      </g>\r\n     </g>\r\n     <g id=\"text_4\">\r\n      <!-- 0 -->\r\n      <g transform=\"translate(412.464951 347.958438)scale(0.1 -0.1)\">\r\n       <use xlink:href=\"#DejaVuSans-48\"/>\r\n      </g>\r\n     </g>\r\n    </g>\r\n    <g id=\"xtick_5\">\r\n     <g id=\"line2d_5\">\r\n      <g>\r\n       <use style=\"stroke:#000000;stroke-width:0.8;\" x=\"523.169634\" xlink:href=\"#med8f62c638\" y=\"333.36\"/>\r\n      </g>\r\n     </g>\r\n     <g id=\"text_5\">\r\n      <!-- 2000 -->\r\n      <g transform=\"translate(510.444634 347.958438)scale(0.1 -0.1)\">\r\n       <use xlink:href=\"#DejaVuSans-50\"/>\r\n       <use x=\"63.623047\" xlink:href=\"#DejaVuSans-48\"/>\r\n       <use x=\"127.246094\" xlink:href=\"#DejaVuSans-48\"/>\r\n       <use x=\"190.869141\" xlink:href=\"#DejaVuSans-48\"/>\r\n      </g>\r\n     </g>\r\n    </g>\r\n    <g id=\"xtick_6\">\r\n     <g id=\"line2d_6\">\r\n      <g>\r\n       <use style=\"stroke:#000000;stroke-width:0.8;\" x=\"630.693067\" xlink:href=\"#med8f62c638\" y=\"333.36\"/>\r\n      </g>\r\n     </g>\r\n     <g id=\"text_6\">\r\n      <!-- 4000 -->\r\n      <g transform=\"translate(617.968067 347.958438)scale(0.1 -0.1)\">\r\n       <use xlink:href=\"#DejaVuSans-52\"/>\r\n       <use x=\"63.623047\" xlink:href=\"#DejaVuSans-48\"/>\r\n       <use x=\"127.246094\" xlink:href=\"#DejaVuSans-48\"/>\r\n       <use x=\"190.869141\" xlink:href=\"#DejaVuSans-48\"/>\r\n      </g>\r\n     </g>\r\n    </g>\r\n    <g id=\"xtick_7\">\r\n     <g id=\"line2d_7\">\r\n      <g>\r\n       <use style=\"stroke:#000000;stroke-width:0.8;\" x=\"738.2165\" xlink:href=\"#med8f62c638\" y=\"333.36\"/>\r\n      </g>\r\n     </g>\r\n     <g id=\"text_7\">\r\n      <!-- 6000 -->\r\n      <g transform=\"translate(725.4915 347.958438)scale(0.1 -0.1)\">\r\n       <use xlink:href=\"#DejaVuSans-54\"/>\r\n       <use x=\"63.623047\" xlink:href=\"#DejaVuSans-48\"/>\r\n       <use x=\"127.246094\" xlink:href=\"#DejaVuSans-48\"/>\r\n       <use x=\"190.869141\" xlink:href=\"#DejaVuSans-48\"/>\r\n      </g>\r\n     </g>\r\n    </g>\r\n    <g id=\"text_8\">\r\n     <!-- log(HR) (95% CI) -->\r\n     <g transform=\"translate(372.805469 361.636562)scale(0.1 -0.1)\">\r\n      <defs>\r\n       <path d=\"M 9.421875 75.984375 \r\nL 18.40625 75.984375 \r\nL 18.40625 0 \r\nL 9.421875 0 \r\nz\r\n\" id=\"DejaVuSans-108\"/>\r\n       <path d=\"M 30.609375 48.390625 \r\nQ 23.390625 48.390625 19.1875 42.75 \r\nQ 14.984375 37.109375 14.984375 27.296875 \r\nQ 14.984375 17.484375 19.15625 11.84375 \r\nQ 23.34375 6.203125 30.609375 6.203125 \r\nQ 37.796875 6.203125 41.984375 11.859375 \r\nQ 46.1875 17.53125 46.1875 27.296875 \r\nQ 46.1875 37.015625 41.984375 42.703125 \r\nQ 37.796875 48.390625 30.609375 48.390625 \r\nz\r\nM 30.609375 56 \r\nQ 42.328125 56 49.015625 48.375 \r\nQ 55.71875 40.765625 55.71875 27.296875 \r\nQ 55.71875 13.875 49.015625 6.21875 \r\nQ 42.328125 -1.421875 30.609375 -1.421875 \r\nQ 18.84375 -1.421875 12.171875 6.21875 \r\nQ 5.515625 13.875 5.515625 27.296875 \r\nQ 5.515625 40.765625 12.171875 48.375 \r\nQ 18.84375 56 30.609375 56 \r\nz\r\n\" id=\"DejaVuSans-111\"/>\r\n       <path d=\"M 45.40625 27.984375 \r\nQ 45.40625 37.75 41.375 43.109375 \r\nQ 37.359375 48.484375 30.078125 48.484375 \r\nQ 22.859375 48.484375 18.828125 43.109375 \r\nQ 14.796875 37.75 14.796875 27.984375 \r\nQ 14.796875 18.265625 18.828125 12.890625 \r\nQ 22.859375 7.515625 30.078125 7.515625 \r\nQ 37.359375 7.515625 41.375 12.890625 \r\nQ 45.40625 18.265625 45.40625 27.984375 \r\nz\r\nM 54.390625 6.78125 \r\nQ 54.390625 -7.171875 48.1875 -13.984375 \r\nQ 42 -20.796875 29.203125 -20.796875 \r\nQ 24.46875 -20.796875 20.265625 -20.09375 \r\nQ 16.0625 -19.390625 12.109375 -17.921875 \r\nL 12.109375 -9.1875 \r\nQ 16.0625 -11.328125 19.921875 -12.34375 \r\nQ 23.78125 -13.375 27.78125 -13.375 \r\nQ 36.625 -13.375 41.015625 -8.765625 \r\nQ 45.40625 -4.15625 45.40625 5.171875 \r\nL 45.40625 9.625 \r\nQ 42.625 4.78125 38.28125 2.390625 \r\nQ 33.9375 0 27.875 0 \r\nQ 17.828125 0 11.671875 7.65625 \r\nQ 5.515625 15.328125 5.515625 27.984375 \r\nQ 5.515625 40.671875 11.671875 48.328125 \r\nQ 17.828125 56 27.875 56 \r\nQ 33.9375 56 38.28125 53.609375 \r\nQ 42.625 51.21875 45.40625 46.390625 \r\nL 45.40625 54.6875 \r\nL 54.390625 54.6875 \r\nz\r\n\" id=\"DejaVuSans-103\"/>\r\n       <path d=\"M 31 75.875 \r\nQ 24.46875 64.65625 21.28125 53.65625 \r\nQ 18.109375 42.671875 18.109375 31.390625 \r\nQ 18.109375 20.125 21.3125 9.0625 \r\nQ 24.515625 -2 31 -13.1875 \r\nL 23.1875 -13.1875 \r\nQ 15.875 -1.703125 12.234375 9.375 \r\nQ 8.59375 20.453125 8.59375 31.390625 \r\nQ 8.59375 42.28125 12.203125 53.3125 \r\nQ 15.828125 64.359375 23.1875 75.875 \r\nz\r\n\" id=\"DejaVuSans-40\"/>\r\n       <path d=\"M 9.8125 72.90625 \r\nL 19.671875 72.90625 \r\nL 19.671875 43.015625 \r\nL 55.515625 43.015625 \r\nL 55.515625 72.90625 \r\nL 65.375 72.90625 \r\nL 65.375 0 \r\nL 55.515625 0 \r\nL 55.515625 34.71875 \r\nL 19.671875 34.71875 \r\nL 19.671875 0 \r\nL 9.8125 0 \r\nz\r\n\" id=\"DejaVuSans-72\"/>\r\n       <path d=\"M 44.390625 34.1875 \r\nQ 47.5625 33.109375 50.5625 29.59375 \r\nQ 53.5625 26.078125 56.59375 19.921875 \r\nL 66.609375 0 \r\nL 56 0 \r\nL 46.6875 18.703125 \r\nQ 43.0625 26.03125 39.671875 28.421875 \r\nQ 36.28125 30.8125 30.421875 30.8125 \r\nL 19.671875 30.8125 \r\nL 19.671875 0 \r\nL 9.8125 0 \r\nL 9.8125 72.90625 \r\nL 32.078125 72.90625 \r\nQ 44.578125 72.90625 50.734375 67.671875 \r\nQ 56.890625 62.453125 56.890625 51.90625 \r\nQ 56.890625 45.015625 53.6875 40.46875 \r\nQ 50.484375 35.9375 44.390625 34.1875 \r\nz\r\nM 19.671875 64.796875 \r\nL 19.671875 38.921875 \r\nL 32.078125 38.921875 \r\nQ 39.203125 38.921875 42.84375 42.21875 \r\nQ 46.484375 45.515625 46.484375 51.90625 \r\nQ 46.484375 58.296875 42.84375 61.546875 \r\nQ 39.203125 64.796875 32.078125 64.796875 \r\nz\r\n\" id=\"DejaVuSans-82\"/>\r\n       <path d=\"M 8.015625 75.875 \r\nL 15.828125 75.875 \r\nQ 23.140625 64.359375 26.78125 53.3125 \r\nQ 30.421875 42.28125 30.421875 31.390625 \r\nQ 30.421875 20.453125 26.78125 9.375 \r\nQ 23.140625 -1.703125 15.828125 -13.1875 \r\nL 8.015625 -13.1875 \r\nQ 14.5 -2 17.703125 9.0625 \r\nQ 20.90625 20.125 20.90625 31.390625 \r\nQ 20.90625 42.671875 17.703125 53.65625 \r\nQ 14.5 64.65625 8.015625 75.875 \r\nz\r\n\" id=\"DejaVuSans-41\"/>\r\n       <path id=\"DejaVuSans-32\"/>\r\n       <path d=\"M 10.984375 1.515625 \r\nL 10.984375 10.5 \r\nQ 14.703125 8.734375 18.5 7.8125 \r\nQ 22.3125 6.890625 25.984375 6.890625 \r\nQ 35.75 6.890625 40.890625 13.453125 \r\nQ 46.046875 20.015625 46.78125 33.40625 \r\nQ 43.953125 29.203125 39.59375 26.953125 \r\nQ 35.25 24.703125 29.984375 24.703125 \r\nQ 19.046875 24.703125 12.671875 31.3125 \r\nQ 6.296875 37.9375 6.296875 49.421875 \r\nQ 6.296875 60.640625 12.9375 67.421875 \r\nQ 19.578125 74.21875 30.609375 74.21875 \r\nQ 43.265625 74.21875 49.921875 64.515625 \r\nQ 56.59375 54.828125 56.59375 36.375 \r\nQ 56.59375 19.140625 48.40625 8.859375 \r\nQ 40.234375 -1.421875 26.421875 -1.421875 \r\nQ 22.703125 -1.421875 18.890625 -0.6875 \r\nQ 15.09375 0.046875 10.984375 1.515625 \r\nz\r\nM 30.609375 32.421875 \r\nQ 37.25 32.421875 41.125 36.953125 \r\nQ 45.015625 41.5 45.015625 49.421875 \r\nQ 45.015625 57.28125 41.125 61.84375 \r\nQ 37.25 66.40625 30.609375 66.40625 \r\nQ 23.96875 66.40625 20.09375 61.84375 \r\nQ 16.21875 57.28125 16.21875 49.421875 \r\nQ 16.21875 41.5 20.09375 36.953125 \r\nQ 23.96875 32.421875 30.609375 32.421875 \r\nz\r\n\" id=\"DejaVuSans-57\"/>\r\n       <path d=\"M 10.796875 72.90625 \r\nL 49.515625 72.90625 \r\nL 49.515625 64.59375 \r\nL 19.828125 64.59375 \r\nL 19.828125 46.734375 \r\nQ 21.96875 47.46875 24.109375 47.828125 \r\nQ 26.265625 48.1875 28.421875 48.1875 \r\nQ 40.625 48.1875 47.75 41.5 \r\nQ 54.890625 34.8125 54.890625 23.390625 \r\nQ 54.890625 11.625 47.5625 5.09375 \r\nQ 40.234375 -1.421875 26.90625 -1.421875 \r\nQ 22.3125 -1.421875 17.546875 -0.640625 \r\nQ 12.796875 0.140625 7.71875 1.703125 \r\nL 7.71875 11.625 \r\nQ 12.109375 9.234375 16.796875 8.0625 \r\nQ 21.484375 6.890625 26.703125 6.890625 \r\nQ 35.15625 6.890625 40.078125 11.328125 \r\nQ 45.015625 15.765625 45.015625 23.390625 \r\nQ 45.015625 31 40.078125 35.4375 \r\nQ 35.15625 39.890625 26.703125 39.890625 \r\nQ 22.75 39.890625 18.8125 39.015625 \r\nQ 14.890625 38.140625 10.796875 36.28125 \r\nz\r\n\" id=\"DejaVuSans-53\"/>\r\n       <path d=\"M 72.703125 32.078125 \r\nQ 68.453125 32.078125 66.03125 28.46875 \r\nQ 63.625 24.859375 63.625 18.40625 \r\nQ 63.625 12.0625 66.03125 8.421875 \r\nQ 68.453125 4.78125 72.703125 4.78125 \r\nQ 76.859375 4.78125 79.265625 8.421875 \r\nQ 81.6875 12.0625 81.6875 18.40625 \r\nQ 81.6875 24.8125 79.265625 28.4375 \r\nQ 76.859375 32.078125 72.703125 32.078125 \r\nz\r\nM 72.703125 38.28125 \r\nQ 80.421875 38.28125 84.953125 32.90625 \r\nQ 89.5 27.546875 89.5 18.40625 \r\nQ 89.5 9.28125 84.9375 3.921875 \r\nQ 80.375 -1.421875 72.703125 -1.421875 \r\nQ 64.890625 -1.421875 60.34375 3.921875 \r\nQ 55.8125 9.28125 55.8125 18.40625 \r\nQ 55.8125 27.59375 60.375 32.9375 \r\nQ 64.9375 38.28125 72.703125 38.28125 \r\nz\r\nM 22.3125 68.015625 \r\nQ 18.109375 68.015625 15.6875 64.375 \r\nQ 13.28125 60.75 13.28125 54.390625 \r\nQ 13.28125 47.953125 15.671875 44.328125 \r\nQ 18.0625 40.71875 22.3125 40.71875 \r\nQ 26.5625 40.71875 28.96875 44.328125 \r\nQ 31.390625 47.953125 31.390625 54.390625 \r\nQ 31.390625 60.6875 28.953125 64.34375 \r\nQ 26.515625 68.015625 22.3125 68.015625 \r\nz\r\nM 66.40625 74.21875 \r\nL 74.21875 74.21875 \r\nL 28.609375 -1.421875 \r\nL 20.796875 -1.421875 \r\nz\r\nM 22.3125 74.21875 \r\nQ 30.03125 74.21875 34.609375 68.875 \r\nQ 39.203125 63.53125 39.203125 54.390625 \r\nQ 39.203125 45.171875 34.640625 39.84375 \r\nQ 30.078125 34.515625 22.3125 34.515625 \r\nQ 14.546875 34.515625 10.03125 39.859375 \r\nQ 5.515625 45.21875 5.515625 54.390625 \r\nQ 5.515625 63.484375 10.046875 68.84375 \r\nQ 14.59375 74.21875 22.3125 74.21875 \r\nz\r\n\" id=\"DejaVuSans-37\"/>\r\n       <path d=\"M 64.40625 67.28125 \r\nL 64.40625 56.890625 \r\nQ 59.421875 61.53125 53.78125 63.8125 \r\nQ 48.140625 66.109375 41.796875 66.109375 \r\nQ 29.296875 66.109375 22.65625 58.46875 \r\nQ 16.015625 50.828125 16.015625 36.375 \r\nQ 16.015625 21.96875 22.65625 14.328125 \r\nQ 29.296875 6.6875 41.796875 6.6875 \r\nQ 48.140625 6.6875 53.78125 8.984375 \r\nQ 59.421875 11.28125 64.40625 15.921875 \r\nL 64.40625 5.609375 \r\nQ 59.234375 2.09375 53.4375 0.328125 \r\nQ 47.65625 -1.421875 41.21875 -1.421875 \r\nQ 24.65625 -1.421875 15.125 8.703125 \r\nQ 5.609375 18.84375 5.609375 36.375 \r\nQ 5.609375 53.953125 15.125 64.078125 \r\nQ 24.65625 74.21875 41.21875 74.21875 \r\nQ 47.75 74.21875 53.53125 72.484375 \r\nQ 59.328125 70.75 64.40625 67.28125 \r\nz\r\n\" id=\"DejaVuSans-67\"/>\r\n       <path d=\"M 9.8125 72.90625 \r\nL 19.671875 72.90625 \r\nL 19.671875 0 \r\nL 9.8125 0 \r\nz\r\n\" id=\"DejaVuSans-73\"/>\r\n      </defs>\r\n      <use xlink:href=\"#DejaVuSans-108\"/>\r\n      <use x=\"27.783203\" xlink:href=\"#DejaVuSans-111\"/>\r\n      <use x=\"88.964844\" xlink:href=\"#DejaVuSans-103\"/>\r\n      <use x=\"152.441406\" xlink:href=\"#DejaVuSans-40\"/>\r\n      <use x=\"191.455078\" xlink:href=\"#DejaVuSans-72\"/>\r\n      <use x=\"266.650391\" xlink:href=\"#DejaVuSans-82\"/>\r\n      <use x=\"336.132812\" xlink:href=\"#DejaVuSans-41\"/>\r\n      <use x=\"375.146484\" xlink:href=\"#DejaVuSans-32\"/>\r\n      <use x=\"406.933594\" xlink:href=\"#DejaVuSans-40\"/>\r\n      <use x=\"445.947266\" xlink:href=\"#DejaVuSans-57\"/>\r\n      <use x=\"509.570312\" xlink:href=\"#DejaVuSans-53\"/>\r\n      <use x=\"573.193359\" xlink:href=\"#DejaVuSans-37\"/>\r\n      <use x=\"668.212891\" xlink:href=\"#DejaVuSans-32\"/>\r\n      <use x=\"700\" xlink:href=\"#DejaVuSans-67\"/>\r\n      <use x=\"769.824219\" xlink:href=\"#DejaVuSans-73\"/>\r\n      <use x=\"799.316406\" xlink:href=\"#DejaVuSans-41\"/>\r\n     </g>\r\n    </g>\r\n   </g>\r\n   <g id=\"matplotlib.axis_2\">\r\n    <g id=\"ytick_1\">\r\n     <g id=\"line2d_8\">\r\n      <defs>\r\n       <path d=\"M 0 0 \r\nL -3.5 0 \r\n\" id=\"me17446f944\" style=\"stroke:#000000;stroke-width:0.8;\"/>\r\n      </defs>\r\n      <g>\r\n       <use style=\"stroke:#000000;stroke-width:0.8;\" x=\"79.923438\" xlink:href=\"#me17446f944\" y=\"318.534545\"/>\r\n      </g>\r\n     </g>\r\n     <g id=\"text_9\">\r\n      <!-- COPD -->\r\n      <g transform=\"translate(44.339063 322.333764)scale(0.1 -0.1)\">\r\n       <defs>\r\n        <path d=\"M 39.40625 66.21875 \r\nQ 28.65625 66.21875 22.328125 58.203125 \r\nQ 16.015625 50.203125 16.015625 36.375 \r\nQ 16.015625 22.609375 22.328125 14.59375 \r\nQ 28.65625 6.59375 39.40625 6.59375 \r\nQ 50.140625 6.59375 56.421875 14.59375 \r\nQ 62.703125 22.609375 62.703125 36.375 \r\nQ 62.703125 50.203125 56.421875 58.203125 \r\nQ 50.140625 66.21875 39.40625 66.21875 \r\nz\r\nM 39.40625 74.21875 \r\nQ 54.734375 74.21875 63.90625 63.9375 \r\nQ 73.09375 53.65625 73.09375 36.375 \r\nQ 73.09375 19.140625 63.90625 8.859375 \r\nQ 54.734375 -1.421875 39.40625 -1.421875 \r\nQ 24.03125 -1.421875 14.8125 8.828125 \r\nQ 5.609375 19.09375 5.609375 36.375 \r\nQ 5.609375 53.65625 14.8125 63.9375 \r\nQ 24.03125 74.21875 39.40625 74.21875 \r\nz\r\n\" id=\"DejaVuSans-79\"/>\r\n        <path d=\"M 19.671875 64.796875 \r\nL 19.671875 37.40625 \r\nL 32.078125 37.40625 \r\nQ 38.96875 37.40625 42.71875 40.96875 \r\nQ 46.484375 44.53125 46.484375 51.125 \r\nQ 46.484375 57.671875 42.71875 61.234375 \r\nQ 38.96875 64.796875 32.078125 64.796875 \r\nz\r\nM 9.8125 72.90625 \r\nL 32.078125 72.90625 \r\nQ 44.34375 72.90625 50.609375 67.359375 \r\nQ 56.890625 61.8125 56.890625 51.125 \r\nQ 56.890625 40.328125 50.609375 34.8125 \r\nQ 44.34375 29.296875 32.078125 29.296875 \r\nL 19.671875 29.296875 \r\nL 19.671875 0 \r\nL 9.8125 0 \r\nz\r\n\" id=\"DejaVuSans-80\"/>\r\n        <path d=\"M 19.671875 64.796875 \r\nL 19.671875 8.109375 \r\nL 31.59375 8.109375 \r\nQ 46.6875 8.109375 53.6875 14.9375 \r\nQ 60.6875 21.78125 60.6875 36.53125 \r\nQ 60.6875 51.171875 53.6875 57.984375 \r\nQ 46.6875 64.796875 31.59375 64.796875 \r\nz\r\nM 9.8125 72.90625 \r\nL 30.078125 72.90625 \r\nQ 51.265625 72.90625 61.171875 64.09375 \r\nQ 71.09375 55.28125 71.09375 36.53125 \r\nQ 71.09375 17.671875 61.125 8.828125 \r\nQ 51.171875 0 30.078125 0 \r\nL 9.8125 0 \r\nz\r\n\" id=\"DejaVuSans-68\"/>\r\n       </defs>\r\n       <use xlink:href=\"#DejaVuSans-67\"/>\r\n       <use x=\"69.824219\" xlink:href=\"#DejaVuSans-79\"/>\r\n       <use x=\"148.535156\" xlink:href=\"#DejaVuSans-80\"/>\r\n       <use x=\"208.837891\" xlink:href=\"#DejaVuSans-68\"/>\r\n      </g>\r\n     </g>\r\n    </g>\r\n    <g id=\"ytick_2\">\r\n     <g id=\"line2d_9\">\r\n      <g>\r\n       <use style=\"stroke:#000000;stroke-width:0.8;\" x=\"79.923438\" xlink:href=\"#me17446f944\" y=\"219.698182\"/>\r\n      </g>\r\n     </g>\r\n     <g id=\"text_10\">\r\n      <!-- asthma -->\r\n      <g transform=\"translate(35.459375 223.497401)scale(0.1 -0.1)\">\r\n       <defs>\r\n        <path d=\"M 34.28125 27.484375 \r\nQ 23.390625 27.484375 19.1875 25 \r\nQ 14.984375 22.515625 14.984375 16.5 \r\nQ 14.984375 11.71875 18.140625 8.90625 \r\nQ 21.296875 6.109375 26.703125 6.109375 \r\nQ 34.1875 6.109375 38.703125 11.40625 \r\nQ 43.21875 16.703125 43.21875 25.484375 \r\nL 43.21875 27.484375 \r\nz\r\nM 52.203125 31.203125 \r\nL 52.203125 0 \r\nL 43.21875 0 \r\nL 43.21875 8.296875 \r\nQ 40.140625 3.328125 35.546875 0.953125 \r\nQ 30.953125 -1.421875 24.3125 -1.421875 \r\nQ 15.921875 -1.421875 10.953125 3.296875 \r\nQ 6 8.015625 6 15.921875 \r\nQ 6 25.140625 12.171875 29.828125 \r\nQ 18.359375 34.515625 30.609375 34.515625 \r\nL 43.21875 34.515625 \r\nL 43.21875 35.40625 \r\nQ 43.21875 41.609375 39.140625 45 \r\nQ 35.0625 48.390625 27.6875 48.390625 \r\nQ 23 48.390625 18.546875 47.265625 \r\nQ 14.109375 46.140625 10.015625 43.890625 \r\nL 10.015625 52.203125 \r\nQ 14.9375 54.109375 19.578125 55.046875 \r\nQ 24.21875 56 28.609375 56 \r\nQ 40.484375 56 46.34375 49.84375 \r\nQ 52.203125 43.703125 52.203125 31.203125 \r\nz\r\n\" id=\"DejaVuSans-97\"/>\r\n        <path d=\"M 44.28125 53.078125 \r\nL 44.28125 44.578125 \r\nQ 40.484375 46.53125 36.375 47.5 \r\nQ 32.28125 48.484375 27.875 48.484375 \r\nQ 21.1875 48.484375 17.84375 46.4375 \r\nQ 14.5 44.390625 14.5 40.28125 \r\nQ 14.5 37.15625 16.890625 35.375 \r\nQ 19.28125 33.59375 26.515625 31.984375 \r\nL 29.59375 31.296875 \r\nQ 39.15625 29.25 43.1875 25.515625 \r\nQ 47.21875 21.78125 47.21875 15.09375 \r\nQ 47.21875 7.46875 41.1875 3.015625 \r\nQ 35.15625 -1.421875 24.609375 -1.421875 \r\nQ 20.21875 -1.421875 15.453125 -0.5625 \r\nQ 10.6875 0.296875 5.421875 2 \r\nL 5.421875 11.28125 \r\nQ 10.40625 8.6875 15.234375 7.390625 \r\nQ 20.0625 6.109375 24.8125 6.109375 \r\nQ 31.15625 6.109375 34.5625 8.28125 \r\nQ 37.984375 10.453125 37.984375 14.40625 \r\nQ 37.984375 18.0625 35.515625 20.015625 \r\nQ 33.0625 21.96875 24.703125 23.78125 \r\nL 21.578125 24.515625 \r\nQ 13.234375 26.265625 9.515625 29.90625 \r\nQ 5.8125 33.546875 5.8125 39.890625 \r\nQ 5.8125 47.609375 11.28125 51.796875 \r\nQ 16.75 56 26.8125 56 \r\nQ 31.78125 56 36.171875 55.265625 \r\nQ 40.578125 54.546875 44.28125 53.078125 \r\nz\r\n\" id=\"DejaVuSans-115\"/>\r\n        <path d=\"M 18.3125 70.21875 \r\nL 18.3125 54.6875 \r\nL 36.8125 54.6875 \r\nL 36.8125 47.703125 \r\nL 18.3125 47.703125 \r\nL 18.3125 18.015625 \r\nQ 18.3125 11.328125 20.140625 9.421875 \r\nQ 21.96875 7.515625 27.59375 7.515625 \r\nL 36.8125 7.515625 \r\nL 36.8125 0 \r\nL 27.59375 0 \r\nQ 17.1875 0 13.234375 3.875 \r\nQ 9.28125 7.765625 9.28125 18.015625 \r\nL 9.28125 47.703125 \r\nL 2.6875 47.703125 \r\nL 2.6875 54.6875 \r\nL 9.28125 54.6875 \r\nL 9.28125 70.21875 \r\nz\r\n\" id=\"DejaVuSans-116\"/>\r\n        <path d=\"M 54.890625 33.015625 \r\nL 54.890625 0 \r\nL 45.90625 0 \r\nL 45.90625 32.71875 \r\nQ 45.90625 40.484375 42.875 44.328125 \r\nQ 39.84375 48.1875 33.796875 48.1875 \r\nQ 26.515625 48.1875 22.3125 43.546875 \r\nQ 18.109375 38.921875 18.109375 30.90625 \r\nL 18.109375 0 \r\nL 9.078125 0 \r\nL 9.078125 75.984375 \r\nL 18.109375 75.984375 \r\nL 18.109375 46.1875 \r\nQ 21.34375 51.125 25.703125 53.5625 \r\nQ 30.078125 56 35.796875 56 \r\nQ 45.21875 56 50.046875 50.171875 \r\nQ 54.890625 44.34375 54.890625 33.015625 \r\nz\r\n\" id=\"DejaVuSans-104\"/>\r\n        <path d=\"M 52 44.1875 \r\nQ 55.375 50.25 60.0625 53.125 \r\nQ 64.75 56 71.09375 56 \r\nQ 79.640625 56 84.28125 50.015625 \r\nQ 88.921875 44.046875 88.921875 33.015625 \r\nL 88.921875 0 \r\nL 79.890625 0 \r\nL 79.890625 32.71875 \r\nQ 79.890625 40.578125 77.09375 44.375 \r\nQ 74.3125 48.1875 68.609375 48.1875 \r\nQ 61.625 48.1875 57.5625 43.546875 \r\nQ 53.515625 38.921875 53.515625 30.90625 \r\nL 53.515625 0 \r\nL 44.484375 0 \r\nL 44.484375 32.71875 \r\nQ 44.484375 40.625 41.703125 44.40625 \r\nQ 38.921875 48.1875 33.109375 48.1875 \r\nQ 26.21875 48.1875 22.15625 43.53125 \r\nQ 18.109375 38.875 18.109375 30.90625 \r\nL 18.109375 0 \r\nL 9.078125 0 \r\nL 9.078125 54.6875 \r\nL 18.109375 54.6875 \r\nL 18.109375 46.1875 \r\nQ 21.1875 51.21875 25.484375 53.609375 \r\nQ 29.78125 56 35.6875 56 \r\nQ 41.65625 56 45.828125 52.96875 \r\nQ 50 49.953125 52 44.1875 \r\nz\r\n\" id=\"DejaVuSans-109\"/>\r\n       </defs>\r\n       <use xlink:href=\"#DejaVuSans-97\"/>\r\n       <use x=\"61.279297\" xlink:href=\"#DejaVuSans-115\"/>\r\n       <use x=\"113.378906\" xlink:href=\"#DejaVuSans-116\"/>\r\n       <use x=\"152.587891\" xlink:href=\"#DejaVuSans-104\"/>\r\n       <use x=\"215.966797\" xlink:href=\"#DejaVuSans-109\"/>\r\n       <use x=\"313.378906\" xlink:href=\"#DejaVuSans-97\"/>\r\n      </g>\r\n     </g>\r\n    </g>\r\n    <g id=\"ytick_3\">\r\n     <g id=\"line2d_10\">\r\n      <g>\r\n       <use style=\"stroke:#000000;stroke-width:0.8;\" x=\"79.923438\" xlink:href=\"#me17446f944\" y=\"120.861818\"/>\r\n      </g>\r\n     </g>\r\n     <g id=\"text_11\">\r\n      <!-- hypertension -->\r\n      <g transform=\"translate(7.2 124.661037)scale(0.1 -0.1)\">\r\n       <defs>\r\n        <path d=\"M 32.171875 -5.078125 \r\nQ 28.375 -14.84375 24.75 -17.8125 \r\nQ 21.140625 -20.796875 15.09375 -20.796875 \r\nL 7.90625 -20.796875 \r\nL 7.90625 -13.28125 \r\nL 13.1875 -13.28125 \r\nQ 16.890625 -13.28125 18.9375 -11.515625 \r\nQ 21 -9.765625 23.484375 -3.21875 \r\nL 25.09375 0.875 \r\nL 2.984375 54.6875 \r\nL 12.5 54.6875 \r\nL 29.59375 11.921875 \r\nL 46.6875 54.6875 \r\nL 56.203125 54.6875 \r\nz\r\n\" id=\"DejaVuSans-121\"/>\r\n        <path d=\"M 18.109375 8.203125 \r\nL 18.109375 -20.796875 \r\nL 9.078125 -20.796875 \r\nL 9.078125 54.6875 \r\nL 18.109375 54.6875 \r\nL 18.109375 46.390625 \r\nQ 20.953125 51.265625 25.265625 53.625 \r\nQ 29.59375 56 35.59375 56 \r\nQ 45.5625 56 51.78125 48.09375 \r\nQ 58.015625 40.1875 58.015625 27.296875 \r\nQ 58.015625 14.40625 51.78125 6.484375 \r\nQ 45.5625 -1.421875 35.59375 -1.421875 \r\nQ 29.59375 -1.421875 25.265625 0.953125 \r\nQ 20.953125 3.328125 18.109375 8.203125 \r\nz\r\nM 48.6875 27.296875 \r\nQ 48.6875 37.203125 44.609375 42.84375 \r\nQ 40.53125 48.484375 33.40625 48.484375 \r\nQ 26.265625 48.484375 22.1875 42.84375 \r\nQ 18.109375 37.203125 18.109375 27.296875 \r\nQ 18.109375 17.390625 22.1875 11.75 \r\nQ 26.265625 6.109375 33.40625 6.109375 \r\nQ 40.53125 6.109375 44.609375 11.75 \r\nQ 48.6875 17.390625 48.6875 27.296875 \r\nz\r\n\" id=\"DejaVuSans-112\"/>\r\n        <path d=\"M 56.203125 29.59375 \r\nL 56.203125 25.203125 \r\nL 14.890625 25.203125 \r\nQ 15.484375 15.921875 20.484375 11.0625 \r\nQ 25.484375 6.203125 34.421875 6.203125 \r\nQ 39.59375 6.203125 44.453125 7.46875 \r\nQ 49.3125 8.734375 54.109375 11.28125 \r\nL 54.109375 2.78125 \r\nQ 49.265625 0.734375 44.1875 -0.34375 \r\nQ 39.109375 -1.421875 33.890625 -1.421875 \r\nQ 20.796875 -1.421875 13.15625 6.1875 \r\nQ 5.515625 13.8125 5.515625 26.8125 \r\nQ 5.515625 40.234375 12.765625 48.109375 \r\nQ 20.015625 56 32.328125 56 \r\nQ 43.359375 56 49.78125 48.890625 \r\nQ 56.203125 41.796875 56.203125 29.59375 \r\nz\r\nM 47.21875 32.234375 \r\nQ 47.125 39.59375 43.09375 43.984375 \r\nQ 39.0625 48.390625 32.421875 48.390625 \r\nQ 24.90625 48.390625 20.390625 44.140625 \r\nQ 15.875 39.890625 15.1875 32.171875 \r\nz\r\n\" id=\"DejaVuSans-101\"/>\r\n        <path d=\"M 41.109375 46.296875 \r\nQ 39.59375 47.171875 37.8125 47.578125 \r\nQ 36.03125 48 33.890625 48 \r\nQ 26.265625 48 22.1875 43.046875 \r\nQ 18.109375 38.09375 18.109375 28.8125 \r\nL 18.109375 0 \r\nL 9.078125 0 \r\nL 9.078125 54.6875 \r\nL 18.109375 54.6875 \r\nL 18.109375 46.1875 \r\nQ 20.953125 51.171875 25.484375 53.578125 \r\nQ 30.03125 56 36.53125 56 \r\nQ 37.453125 56 38.578125 55.875 \r\nQ 39.703125 55.765625 41.0625 55.515625 \r\nz\r\n\" id=\"DejaVuSans-114\"/>\r\n        <path d=\"M 54.890625 33.015625 \r\nL 54.890625 0 \r\nL 45.90625 0 \r\nL 45.90625 32.71875 \r\nQ 45.90625 40.484375 42.875 44.328125 \r\nQ 39.84375 48.1875 33.796875 48.1875 \r\nQ 26.515625 48.1875 22.3125 43.546875 \r\nQ 18.109375 38.921875 18.109375 30.90625 \r\nL 18.109375 0 \r\nL 9.078125 0 \r\nL 9.078125 54.6875 \r\nL 18.109375 54.6875 \r\nL 18.109375 46.1875 \r\nQ 21.34375 51.125 25.703125 53.5625 \r\nQ 30.078125 56 35.796875 56 \r\nQ 45.21875 56 50.046875 50.171875 \r\nQ 54.890625 44.34375 54.890625 33.015625 \r\nz\r\n\" id=\"DejaVuSans-110\"/>\r\n        <path d=\"M 9.421875 54.6875 \r\nL 18.40625 54.6875 \r\nL 18.40625 0 \r\nL 9.421875 0 \r\nz\r\nM 9.421875 75.984375 \r\nL 18.40625 75.984375 \r\nL 18.40625 64.59375 \r\nL 9.421875 64.59375 \r\nz\r\n\" id=\"DejaVuSans-105\"/>\r\n       </defs>\r\n       <use xlink:href=\"#DejaVuSans-104\"/>\r\n       <use x=\"63.378906\" xlink:href=\"#DejaVuSans-121\"/>\r\n       <use x=\"122.558594\" xlink:href=\"#DejaVuSans-112\"/>\r\n       <use x=\"186.035156\" xlink:href=\"#DejaVuSans-101\"/>\r\n       <use x=\"247.558594\" xlink:href=\"#DejaVuSans-114\"/>\r\n       <use x=\"288.671875\" xlink:href=\"#DejaVuSans-116\"/>\r\n       <use x=\"327.880859\" xlink:href=\"#DejaVuSans-101\"/>\r\n       <use x=\"389.404297\" xlink:href=\"#DejaVuSans-110\"/>\r\n       <use x=\"452.783203\" xlink:href=\"#DejaVuSans-115\"/>\r\n       <use x=\"504.882812\" xlink:href=\"#DejaVuSans-105\"/>\r\n       <use x=\"532.666016\" xlink:href=\"#DejaVuSans-111\"/>\r\n       <use x=\"593.847656\" xlink:href=\"#DejaVuSans-110\"/>\r\n      </g>\r\n     </g>\r\n    </g>\r\n    <g id=\"ytick_4\">\r\n     <g id=\"line2d_11\">\r\n      <g>\r\n       <use style=\"stroke:#000000;stroke-width:0.8;\" x=\"79.923438\" xlink:href=\"#me17446f944\" y=\"22.025455\"/>\r\n      </g>\r\n     </g>\r\n     <g id=\"text_12\">\r\n      <!-- diabetes -->\r\n      <g transform=\"translate(29.884375 25.824673)scale(0.1 -0.1)\">\r\n       <defs>\r\n        <path d=\"M 45.40625 46.390625 \r\nL 45.40625 75.984375 \r\nL 54.390625 75.984375 \r\nL 54.390625 0 \r\nL 45.40625 0 \r\nL 45.40625 8.203125 \r\nQ 42.578125 3.328125 38.25 0.953125 \r\nQ 33.9375 -1.421875 27.875 -1.421875 \r\nQ 17.96875 -1.421875 11.734375 6.484375 \r\nQ 5.515625 14.40625 5.515625 27.296875 \r\nQ 5.515625 40.1875 11.734375 48.09375 \r\nQ 17.96875 56 27.875 56 \r\nQ 33.9375 56 38.25 53.625 \r\nQ 42.578125 51.265625 45.40625 46.390625 \r\nz\r\nM 14.796875 27.296875 \r\nQ 14.796875 17.390625 18.875 11.75 \r\nQ 22.953125 6.109375 30.078125 6.109375 \r\nQ 37.203125 6.109375 41.296875 11.75 \r\nQ 45.40625 17.390625 45.40625 27.296875 \r\nQ 45.40625 37.203125 41.296875 42.84375 \r\nQ 37.203125 48.484375 30.078125 48.484375 \r\nQ 22.953125 48.484375 18.875 42.84375 \r\nQ 14.796875 37.203125 14.796875 27.296875 \r\nz\r\n\" id=\"DejaVuSans-100\"/>\r\n        <path d=\"M 48.6875 27.296875 \r\nQ 48.6875 37.203125 44.609375 42.84375 \r\nQ 40.53125 48.484375 33.40625 48.484375 \r\nQ 26.265625 48.484375 22.1875 42.84375 \r\nQ 18.109375 37.203125 18.109375 27.296875 \r\nQ 18.109375 17.390625 22.1875 11.75 \r\nQ 26.265625 6.109375 33.40625 6.109375 \r\nQ 40.53125 6.109375 44.609375 11.75 \r\nQ 48.6875 17.390625 48.6875 27.296875 \r\nz\r\nM 18.109375 46.390625 \r\nQ 20.953125 51.265625 25.265625 53.625 \r\nQ 29.59375 56 35.59375 56 \r\nQ 45.5625 56 51.78125 48.09375 \r\nQ 58.015625 40.1875 58.015625 27.296875 \r\nQ 58.015625 14.40625 51.78125 6.484375 \r\nQ 45.5625 -1.421875 35.59375 -1.421875 \r\nQ 29.59375 -1.421875 25.265625 0.953125 \r\nQ 20.953125 3.328125 18.109375 8.203125 \r\nL 18.109375 0 \r\nL 9.078125 0 \r\nL 9.078125 75.984375 \r\nL 18.109375 75.984375 \r\nz\r\n\" id=\"DejaVuSans-98\"/>\r\n       </defs>\r\n       <use xlink:href=\"#DejaVuSans-100\"/>\r\n       <use x=\"63.476562\" xlink:href=\"#DejaVuSans-105\"/>\r\n       <use x=\"91.259766\" xlink:href=\"#DejaVuSans-97\"/>\r\n       <use x=\"152.539062\" xlink:href=\"#DejaVuSans-98\"/>\r\n       <use x=\"216.015625\" xlink:href=\"#DejaVuSans-101\"/>\r\n       <use x=\"277.539062\" xlink:href=\"#DejaVuSans-116\"/>\r\n       <use x=\"316.748047\" xlink:href=\"#DejaVuSans-101\"/>\r\n       <use x=\"378.271484\" xlink:href=\"#DejaVuSans-115\"/>\r\n      </g>\r\n     </g>\r\n    </g>\r\n   </g>\r\n   <g id=\"LineCollection_1\">\r\n    <path clip-path=\"url(#p5f084cb9ac)\" d=\"M 110.359801 318.534545 \r\nL 719.087074 318.534545 \r\n\" style=\"fill:none;stroke:#000000;stroke-width:1.25;\"/>\r\n    <path clip-path=\"url(#p5f084cb9ac)\" d=\"M 415.495552 219.698182 \r\nL 415.653891 219.698182 \r\n\" style=\"fill:none;stroke:#000000;stroke-width:1.25;\"/>\r\n    <path clip-path=\"url(#p5f084cb9ac)\" d=\"M 415.592749 120.861818 \r\nL 415.658304 120.861818 \r\n\" style=\"fill:none;stroke:#000000;stroke-width:1.25;\"/>\r\n    <path clip-path=\"url(#p5f084cb9ac)\" d=\"M 415.636461 22.025455 \r\nL 415.696507 22.025455 \r\n\" style=\"fill:none;stroke:#000000;stroke-width:1.25;\"/>\r\n   </g>\r\n   <g id=\"LineCollection_2\">\r\n    <path clip-path=\"url(#p5f084cb9ac)\" d=\"M 415.646201 371.91625 \r\nL 415.646201 -1 \r\n\" style=\"fill:none;stroke:#000000;stroke-dasharray:3.7,1.6;stroke-dashoffset:0;stroke-opacity:0.65;\"/>\r\n   </g>\r\n   <g id=\"line2d_12\">\r\n    <defs>\r\n     <path d=\"M 0 3 \r\nL 0 -3 \r\n\" id=\"m309c583290\" style=\"stroke:#000000;stroke-width:1.25;\"/>\r\n    </defs>\r\n    <g clip-path=\"url(#p5f084cb9ac)\">\r\n     <use style=\"stroke:#000000;stroke-width:1.25;\" x=\"110.359801\" xlink:href=\"#m309c583290\" y=\"318.534545\"/>\r\n     <use style=\"stroke:#000000;stroke-width:1.25;\" x=\"415.495552\" xlink:href=\"#m309c583290\" y=\"219.698182\"/>\r\n     <use style=\"stroke:#000000;stroke-width:1.25;\" x=\"415.592749\" xlink:href=\"#m309c583290\" y=\"120.861818\"/>\r\n     <use style=\"stroke:#000000;stroke-width:1.25;\" x=\"415.636461\" xlink:href=\"#m309c583290\" y=\"22.025455\"/>\r\n    </g>\r\n   </g>\r\n   <g id=\"line2d_13\">\r\n    <g clip-path=\"url(#p5f084cb9ac)\">\r\n     <use style=\"stroke:#000000;stroke-width:1.25;\" x=\"719.087074\" xlink:href=\"#m309c583290\" y=\"318.534545\"/>\r\n     <use style=\"stroke:#000000;stroke-width:1.25;\" x=\"415.653891\" xlink:href=\"#m309c583290\" y=\"219.698182\"/>\r\n     <use style=\"stroke:#000000;stroke-width:1.25;\" x=\"415.658304\" xlink:href=\"#m309c583290\" y=\"120.861818\"/>\r\n     <use style=\"stroke:#000000;stroke-width:1.25;\" x=\"415.696507\" xlink:href=\"#m309c583290\" y=\"22.025455\"/>\r\n    </g>\r\n   </g>\r\n   <g id=\"line2d_14\">\r\n    <defs>\r\n     <path d=\"M -3 3 \r\nL 3 3 \r\nL 3 -3 \r\nL -3 -3 \r\nz\r\n\" id=\"m8ee87cb040\" style=\"stroke:#000000;stroke-linejoin:miter;stroke-width:1.25;\"/>\r\n    </defs>\r\n    <g clip-path=\"url(#p5f084cb9ac)\">\r\n     <use style=\"fill:#ffffff;stroke:#000000;stroke-linejoin:miter;stroke-width:1.25;\" x=\"414.723437\" xlink:href=\"#m8ee87cb040\" y=\"318.534545\"/>\r\n     <use style=\"fill:#ffffff;stroke:#000000;stroke-linejoin:miter;stroke-width:1.25;\" x=\"415.574721\" xlink:href=\"#m8ee87cb040\" y=\"219.698182\"/>\r\n     <use style=\"fill:#ffffff;stroke:#000000;stroke-linejoin:miter;stroke-width:1.25;\" x=\"415.625527\" xlink:href=\"#m8ee87cb040\" y=\"120.861818\"/>\r\n     <use style=\"fill:#ffffff;stroke:#000000;stroke-linejoin:miter;stroke-width:1.25;\" x=\"415.666484\" xlink:href=\"#m8ee87cb040\" y=\"22.025455\"/>\r\n    </g>\r\n   </g>\r\n   <g id=\"patch_3\">\r\n    <path d=\"M 79.923438 333.36 \r\nL 79.923438 7.2 \r\n\" style=\"fill:none;stroke:#000000;stroke-linecap:square;stroke-linejoin:miter;stroke-width:0.8;\"/>\r\n   </g>\r\n   <g id=\"patch_4\">\r\n    <path d=\"M 749.523438 333.36 \r\nL 749.523438 7.2 \r\n\" style=\"fill:none;stroke:#000000;stroke-linecap:square;stroke-linejoin:miter;stroke-width:0.8;\"/>\r\n   </g>\r\n   <g id=\"patch_5\">\r\n    <path d=\"M 79.923437 333.36 \r\nL 749.523438 333.36 \r\n\" style=\"fill:none;stroke:#000000;stroke-linecap:square;stroke-linejoin:miter;stroke-width:0.8;\"/>\r\n   </g>\r\n   <g id=\"patch_6\">\r\n    <path d=\"M 79.923437 7.2 \r\nL 749.523438 7.2 \r\n\" style=\"fill:none;stroke:#000000;stroke-linecap:square;stroke-linejoin:miter;stroke-width:0.8;\"/>\r\n   </g>\r\n  </g>\r\n </g>\r\n <defs>\r\n  <clipPath id=\"p5f084cb9ac\">\r\n   <rect height=\"326.16\" width=\"669.6\" x=\"79.923438\" y=\"7.2\"/>\r\n  </clipPath>\r\n </defs>\r\n</svg>\r\n",
      "image/png": "[encoded data removed]"
     },
     "metadata": {
      "needs_background": "light"
     }
    }
   ],
   "source": [
    "cph.plot()"
   ]
  },
  {
   "cell_type": "code",
   "execution_count": 46,
   "metadata": {
    "colab": {
     "base_uri": "https://localhost:8080/",
     "height": 111
    },
    "executionInfo": {
     "elapsed": 1045,
     "status": "ok",
     "timestamp": 1610679741857,
     "user": {
      "displayName": "장승운",
      "photoUrl": "",
      "userId": "09116233606503711736"
     },
     "user_tz": -540
    },
    "id": "U2npdZf4Z2_O",
    "outputId": "f6a5fbcc-493c-451f-8c7b-c8de91cfb057"
   },
   "outputs": [
    {
     "data": {
      "text/html": [
       "<div>\n",
       "<style scoped>\n",
       "    .dataframe tbody tr th:only-of-type {\n",
       "        vertical-align: middle;\n",
       "    }\n",
       "\n",
       "    .dataframe tbody tr th {\n",
       "        vertical-align: top;\n",
       "    }\n",
       "\n",
       "    .dataframe thead th {\n",
       "        text-align: right;\n",
       "    }\n",
       "</style>\n",
       "<table border=\"1\" class=\"dataframe\">\n",
       "  <thead>\n",
       "    <tr style=\"text-align: right;\">\n",
       "      <th></th>\n",
       "      <th>diabetes</th>\n",
       "      <th>hypertension</th>\n",
       "      <th>days</th>\n",
       "    </tr>\n",
       "  </thead>\n",
       "  <tbody>\n",
       "    <tr>\n",
       "      <th>15</th>\n",
       "      <td>1.0</td>\n",
       "      <td>0.0</td>\n",
       "      <td>15.0</td>\n",
       "    </tr>\n",
       "    <tr>\n",
       "      <th>16</th>\n",
       "      <td>0.0</td>\n",
       "      <td>0.0</td>\n",
       "      <td>6.0</td>\n",
       "    </tr>\n",
       "    <tr>\n",
       "      <th>17</th>\n",
       "      <td>0.0</td>\n",
       "      <td>1.0</td>\n",
       "      <td>10.0</td>\n",
       "    </tr>\n",
       "  </tbody>\n",
       "</table>\n",
       "</div>"
      ],
      "text/plain": [
       "    diabetes  hypertension  days\n",
       "15       1.0           0.0  15.0\n",
       "16       0.0           0.0   6.0\n",
       "17       0.0           1.0  10.0"
      ]
     },
     "execution_count": 46,
     "metadata": {},
     "output_type": "execute_result"
    }
   ],
   "source": [
    "tr_rows = df_dummy.iloc[15:18, 1:]\n",
    "tr_rows"
   ]
  },
  {
   "cell_type": "code",
   "execution_count": 47,
   "metadata": {
    "colab": {
     "base_uri": "https://localhost:8080/",
     "height": 392
    },
    "executionInfo": {
     "elapsed": 1145,
     "status": "ok",
     "timestamp": 1610679746117,
     "user": {
      "displayName": "장승운",
      "photoUrl": "",
      "userId": "09116233606503711736"
     },
     "user_tz": -540
    },
    "id": "rIV3SmFuZ3Du",
    "outputId": "dafd0e29-3116-4a76-d4c9-34e1bee68770"
   },
   "outputs": [
    {
     "data": {
      "text/plain": [
       "<AxesSubplot:>"
      ]
     },
     "execution_count": 47,
     "metadata": {},
     "output_type": "execute_result"
    },
    {
     "data": {
      "image/png": "[encoded data removed]",
      "text/plain": [
       "<Figure size 432x288 with 1 Axes>"
      ]
     },
     "metadata": {
      "needs_background": "light"
     },
     "output_type": "display_data"
    }
   ],
   "source": [
    "cph.predict_survival_function(tr_rows).plot()"
   ]
  },
  {
   "cell_type": "code",
   "execution_count": null,
   "metadata": {
    "id": "g86X7_cB9OEz"
   },
   "outputs": [],
   "source": []
  },
  {
   "cell_type": "code",
   "execution_count": null,
   "metadata": {
    "id": "SdGyw4Kx9OG2"
   },
   "outputs": [],
   "source": []
  },
  {
   "cell_type": "code",
   "execution_count": null,
   "metadata": {
    "id": "rxoyfb-19OI_"
   },
   "outputs": [],
   "source": []
  },
  {
   "cell_type": "code",
   "execution_count": null,
   "metadata": {
    "id": "iR9owcqI9OMC"
   },
   "outputs": [],
   "source": []
  },
  {
   "cell_type": "code",
   "execution_count": null,
   "metadata": {
    "id": "QVvm_Vgk9OOz"
   },
   "outputs": [],
   "source": []
  },
  {
   "cell_type": "code",
   "execution_count": null,
   "metadata": {
    "id": "gY4h0A9X9OR3"
   },
   "outputs": [],
   "source": []
  }
 ],
 "metadata": {
  "colab": {
   "collapsed_sections": [],
   "name": "src_3.ipynb",
   "provenance": [],
   "toc_visible": true
  },
  "kernelspec": {
   "display_name": "Python 3",
   "language": "python",
   "name": "python3"
  },
  "language_info": {
   "codemirror_mode": {
    "name": "ipython",
    "version": 3
   },
   "file_extension": ".py",
   "mimetype": "text/x-python",
   "name": "python",
   "nbconvert_exporter": "python",
   "pygments_lexer": "ipython3",
   "version": "3.8.5-final"
  }
 },
 "nbformat": 4,
 "nbformat_minor": 1
}
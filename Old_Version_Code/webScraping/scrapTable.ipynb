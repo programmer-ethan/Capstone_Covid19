{
 "metadata": {
  "language_info": {
   "codemirror_mode": {
    "name": "ipython",
    "version": 3
   },
   "file_extension": ".py",
   "mimetype": "text/x-python",
   "name": "python",
   "nbconvert_exporter": "python",
   "pygments_lexer": "ipython3",
   "version": "3.8.5-final"
  },
  "orig_nbformat": 2,
  "kernelspec": {
   "name": "python3",
   "display_name": "Python 3",
   "language": "python"
  }
 },
 "nbformat": 4,
 "nbformat_minor": 2,
 "cells": [
  {
   "cell_type": "code",
   "execution_count": 2,
   "metadata": {},
   "outputs": [
    {
     "output_type": "stream",
     "name": "stdout",
     "text": [
      "<h1 id=\"content\">Weekly Updates by Select Demographic and Geographic Characteristics</h1>\n"
     ]
    }
   ],
   "source": [
    "from urllib.request import urlopen\n",
    "from bs4 import BeautifulSoup\n",
    "html = urlopen('https://www.cdc.gov/nchs/nvss/vsrr/covid_weekly/')\n",
    "bs = BeautifulSoup(html.read(), 'html.parser')\n",
    "print(bs.h1)"
   ]
  },
  {
   "cell_type": "code",
   "execution_count": 5,
   "metadata": {},
   "outputs": [
    {
     "output_type": "stream",
     "name": "stdout",
     "text": [
      "[<h1 id=\"content\">Weekly Updates by Select Demographic and Geographic Characteristics</h1>, <h5><strong>List of Topics</strong></h5>, <h5><strong><a name=\"AgeAndSex\"></a>Age and sex</strong></h5>, <h4 class=\"tableTitle\"><strong>Table 1. Deaths involving coronavirus disease 2019 (COVID-19), pneumonia, and influenza reported to NCHS by sex and age group, United States, from 1/1/2020 to <span class=\"lastWeek\"></span>.*</strong></h4>, <h5><strong><a name=\"Race_Hispanic\"></a>Race and Hispanic origin</strong></h5>, <h5><strong><a name=\"PlaceDeath\"></a>Place of death</strong></h5>, <h4 class=\"tableTitle\"><strong>Table 2. Deaths involving coronavirus disease 2019 (COVID-19), pneumonia, and influenza reported to NCHS by place of death, United States, from 1/1/2020 to <span class=\"lastWeek\"></span>.*</strong></h4>, <h5><strong><a name=\"Comorbidities\"></a>Comorbidities</strong></h5>, <h4 class=\"tableTitle\"><strong>Table 3. Conditions contributing to deaths involving coronavirus disease 2019 (COVID-19), by age group, United States. Week ending 1/4/2020 to <span class=\"lastWeek\"></span>.*</strong></h4>, <h5><strong><a name=\"ExcessDeaths\"></a>Excess deaths</strong></h5>, <h5 style=\"margin-top: 60px;\"><strong><a name=\"StateCountyData\"></a>State and County Data Files</strong></h5>, <h4>How it Works</h4>, <h4>Why These Numbers are Different</h4>, <h4>Things to know about the data</h4>, <h4 class=\"modal-title\" id=\"extModalTitle\">Exit Notification/Disclaimer Policy</h4>]\n"
     ]
    }
   ],
   "source": [
    "titles = bs.find_all(['h1', 'h2','h3','h4','h5','h6'])\n",
    "print([title for title in titles])"
   ]
  },
  {
   "cell_type": "code",
   "execution_count": 3,
   "metadata": {},
   "outputs": [],
   "source": [
    "nameList = bs.findAll('table', {'class': 'display dataTable no-footer'})\n",
    "for name in nameList:\n",
    "    print(name.get_text())"
   ]
  },
  {
   "cell_type": "code",
   "execution_count": 7,
   "metadata": {},
   "outputs": [],
   "source": [
    "# for child in bs.find('td',{'class':'dt-body-right'}).children:\n",
    "#     print(child)"
   ]
  },
  {
   "cell_type": "code",
   "execution_count": 11,
   "metadata": {},
   "outputs": [],
   "source": [
    "bs.table.tbody"
   ]
  },
  {
   "cell_type": "code",
   "execution_count": null,
   "metadata": {},
   "outputs": [],
   "source": [
    "body\n",
    "div container\n",
    "main\n",
    "div row\n",
    "div col content\n",
    "div dyndicate\n",
    "div\n",
    "\n",
    "\n"
   ]
  }
 ]
}
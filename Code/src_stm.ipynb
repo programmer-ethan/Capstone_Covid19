{
 "cells": [
  {
   "cell_type": "markdown",
   "metadata": {
    "id": "jOazi9cjKVEX"
   },
   "source": [
    "# Survival Analysis :  Quick Implementation"
   ]
  },
  {
   "cell_type": "code",
   "execution_count": 1,
   "metadata": {
    "colab": {
     "base_uri": "https://localhost:8080/"
    },
    "executionInfo": {
     "elapsed": 19853,
     "status": "ok",
     "timestamp": 1610679325187,
     "user": {
      "displayName": "장승운",
      "photoUrl": "",
      "userId": "09116233606503711736"
     },
     "user_tz": -540
    },
    "id": "YBIIdDkMKVEd",
    "outputId": "25d2c104-19ec-4703-8de9-c34d6c2ddc9b"
   },
   "outputs": [
    {
     "output_type": "stream",
     "name": "stdout",
     "text": [
      "Populating the interactive namespace from numpy and matplotlib\n"
     ]
    }
   ],
   "source": [
    "import pandas as pd\n",
    "import numpy as np\n",
    "import matplotlib.pyplot as plt\n",
    "import seaborn as sb\n",
    "\n",
    "from lifelines.plotting import plot_lifetimes      # Lifeline package for the Survival Analysis\n",
    "%pylab inline\n",
    "figsize(12,6)"
   ]
  },
  {
   "cell_type": "markdown",
   "metadata": {
    "id": "UhdyKSELKVEg"
   },
   "source": [
    "## Real World Example "
   ]
  },
  {
   "cell_type": "markdown",
   "metadata": {
    "id": "wbwxgJqUKVEg"
   },
   "source": [
    "### We will be using Telco Customer Churn data from Kaggle\n",
    "https://www.kaggle.com/blastchar/telco-customer-churn/"
   ]
  },
  {
   "cell_type": "code",
   "execution_count": 3,
   "metadata": {
    "colab": {
     "base_uri": "https://localhost:8080/"
    },
    "executionInfo": {
     "elapsed": 34380,
     "status": "ok",
     "timestamp": 1610679342344,
     "user": {
      "displayName": "장승운",
      "photoUrl": "",
      "userId": "09116233606503711736"
     },
     "user_tz": -540
    },
    "id": "-cYbjGHVKVEg",
    "outputId": "011ea81c-c12e-4f9c-dc12-fbe8079b016f"
   },
   "outputs": [],
   "source": [
    "##  create a dataframe\n",
    "df =  pd.read_csv(\".\\Data\\write.csv\")\n",
    "# df =  pd.read_csv(\"./Data/latestdata.csv\")"
   ]
  },
  {
   "cell_type": "code",
   "execution_count": 3,
   "metadata": {
    "colab": {
     "base_uri": "https://localhost:8080/",
     "height": 394
    },
    "executionInfo": {
     "elapsed": 34020,
     "status": "ok",
     "timestamp": 1610679342349,
     "user": {
      "displayName": "장승운",
      "photoUrl": "",
      "userId": "09116233606503711736"
     },
     "user_tz": -540
    },
    "id": "6jDzQDNdKVEg",
    "outputId": "04842a68-b50f-471b-a9cb-83551f02d387"
   },
   "outputs": [
    {
     "data": {
      "text/html": [
       "<div>\n",
       "<style scoped>\n",
       "    .dataframe tbody tr th:only-of-type {\n",
       "        vertical-align: middle;\n",
       "    }\n",
       "\n",
       "    .dataframe tbody tr th {\n",
       "        vertical-align: top;\n",
       "    }\n",
       "\n",
       "    .dataframe thead th {\n",
       "        text-align: right;\n",
       "    }\n",
       "</style>\n",
       "<table border=\"1\" class=\"dataframe\">\n",
       "  <thead>\n",
       "    <tr style=\"text-align: right;\">\n",
       "      <th></th>\n",
       "      <th>ID</th>\n",
       "      <th>age</th>\n",
       "      <th>sex</th>\n",
       "      <th>city</th>\n",
       "      <th>province</th>\n",
       "      <th>country</th>\n",
       "      <th>latitude</th>\n",
       "      <th>longitude</th>\n",
       "      <th>geo_resolution</th>\n",
       "      <th>date_onset_symptoms</th>\n",
       "      <th>...</th>\n",
       "      <th>date_death_or_discharge</th>\n",
       "      <th>notes_for_discussion</th>\n",
       "      <th>location</th>\n",
       "      <th>admin3</th>\n",
       "      <th>admin2</th>\n",
       "      <th>admin1</th>\n",
       "      <th>country_new</th>\n",
       "      <th>admin_id</th>\n",
       "      <th>data_moderator_initials</th>\n",
       "      <th>travel_history_binary</th>\n",
       "    </tr>\n",
       "  </thead>\n",
       "  <tbody>\n",
       "    <tr>\n",
       "      <th>0</th>\n",
       "      <td>000-1-1</td>\n",
       "      <td>NaN</td>\n",
       "      <td>male</td>\n",
       "      <td>Shek Lei</td>\n",
       "      <td>Hong Kong</td>\n",
       "      <td>China</td>\n",
       "      <td>22.365019</td>\n",
       "      <td>114.133808</td>\n",
       "      <td>point</td>\n",
       "      <td>NaN</td>\n",
       "      <td>...</td>\n",
       "      <td>NaN</td>\n",
       "      <td>NaN</td>\n",
       "      <td>Shek Lei</td>\n",
       "      <td>NaN</td>\n",
       "      <td>NaN</td>\n",
       "      <td>Hong Kong</td>\n",
       "      <td>China</td>\n",
       "      <td>8029.0</td>\n",
       "      <td>NaN</td>\n",
       "      <td>NaN</td>\n",
       "    </tr>\n",
       "    <tr>\n",
       "      <th>1</th>\n",
       "      <td>000-1-10</td>\n",
       "      <td>78</td>\n",
       "      <td>male</td>\n",
       "      <td>Vo Euganeo</td>\n",
       "      <td>Veneto</td>\n",
       "      <td>Italy</td>\n",
       "      <td>45.297748</td>\n",
       "      <td>11.658382</td>\n",
       "      <td>point</td>\n",
       "      <td>NaN</td>\n",
       "      <td>...</td>\n",
       "      <td>22.02.2020</td>\n",
       "      <td>NaN</td>\n",
       "      <td>Vo' Euganeo</td>\n",
       "      <td>NaN</td>\n",
       "      <td>NaN</td>\n",
       "      <td>Veneto</td>\n",
       "      <td>Italy</td>\n",
       "      <td>8954.0</td>\n",
       "      <td>NaN</td>\n",
       "      <td>NaN</td>\n",
       "    </tr>\n",
       "    <tr>\n",
       "      <th>2</th>\n",
       "      <td>000-1-100</td>\n",
       "      <td>61</td>\n",
       "      <td>female</td>\n",
       "      <td>NaN</td>\n",
       "      <td>NaN</td>\n",
       "      <td>Singapore</td>\n",
       "      <td>1.353460</td>\n",
       "      <td>103.815100</td>\n",
       "      <td>admin0</td>\n",
       "      <td>NaN</td>\n",
       "      <td>...</td>\n",
       "      <td>17.02.2020</td>\n",
       "      <td>NaN</td>\n",
       "      <td>NaN</td>\n",
       "      <td>NaN</td>\n",
       "      <td>NaN</td>\n",
       "      <td>NaN</td>\n",
       "      <td>Singapore</td>\n",
       "      <td>200.0</td>\n",
       "      <td>NaN</td>\n",
       "      <td>NaN</td>\n",
       "    </tr>\n",
       "    <tr>\n",
       "      <th>3</th>\n",
       "      <td>000-1-1000</td>\n",
       "      <td>NaN</td>\n",
       "      <td>NaN</td>\n",
       "      <td>Zhengzhou City</td>\n",
       "      <td>Henan</td>\n",
       "      <td>China</td>\n",
       "      <td>34.629310</td>\n",
       "      <td>113.468000</td>\n",
       "      <td>admin2</td>\n",
       "      <td>NaN</td>\n",
       "      <td>...</td>\n",
       "      <td>NaN</td>\n",
       "      <td>NaN</td>\n",
       "      <td>NaN</td>\n",
       "      <td>NaN</td>\n",
       "      <td>Zhengzhou City</td>\n",
       "      <td>Henan</td>\n",
       "      <td>China</td>\n",
       "      <td>10091.0</td>\n",
       "      <td>NaN</td>\n",
       "      <td>NaN</td>\n",
       "    </tr>\n",
       "    <tr>\n",
       "      <th>4</th>\n",
       "      <td>000-1-10000</td>\n",
       "      <td>NaN</td>\n",
       "      <td>NaN</td>\n",
       "      <td>Pingxiang City</td>\n",
       "      <td>Jiangxi</td>\n",
       "      <td>China</td>\n",
       "      <td>27.513560</td>\n",
       "      <td>113.902900</td>\n",
       "      <td>admin2</td>\n",
       "      <td>NaN</td>\n",
       "      <td>...</td>\n",
       "      <td>NaN</td>\n",
       "      <td>NaN</td>\n",
       "      <td>NaN</td>\n",
       "      <td>NaN</td>\n",
       "      <td>Pingxiang City</td>\n",
       "      <td>Jiangxi</td>\n",
       "      <td>China</td>\n",
       "      <td>7060.0</td>\n",
       "      <td>NaN</td>\n",
       "      <td>NaN</td>\n",
       "    </tr>\n",
       "  </tbody>\n",
       "</table>\n",
       "<p>5 rows × 33 columns</p>\n",
       "</div>"
      ],
      "text/plain": [
       "            ID  age     sex            city   province    country   latitude  \\\n",
       "0      000-1-1  NaN    male        Shek Lei  Hong Kong      China  22.365019   \n",
       "1     000-1-10   78    male      Vo Euganeo     Veneto      Italy  45.297748   \n",
       "2    000-1-100   61  female             NaN        NaN  Singapore   1.353460   \n",
       "3   000-1-1000  NaN     NaN  Zhengzhou City      Henan      China  34.629310   \n",
       "4  000-1-10000  NaN     NaN  Pingxiang City    Jiangxi      China  27.513560   \n",
       "\n",
       "    longitude geo_resolution date_onset_symptoms  ... date_death_or_discharge  \\\n",
       "0  114.133808          point                 NaN  ...                     NaN   \n",
       "1   11.658382          point                 NaN  ...              22.02.2020   \n",
       "2  103.815100         admin0                 NaN  ...              17.02.2020   \n",
       "3  113.468000         admin2                 NaN  ...                     NaN   \n",
       "4  113.902900         admin2                 NaN  ...                     NaN   \n",
       "\n",
       "  notes_for_discussion     location admin3          admin2     admin1  \\\n",
       "0                  NaN     Shek Lei    NaN             NaN  Hong Kong   \n",
       "1                  NaN  Vo' Euganeo    NaN             NaN     Veneto   \n",
       "2                  NaN          NaN    NaN             NaN        NaN   \n",
       "3                  NaN          NaN    NaN  Zhengzhou City      Henan   \n",
       "4                  NaN          NaN    NaN  Pingxiang City    Jiangxi   \n",
       "\n",
       "  country_new admin_id  data_moderator_initials travel_history_binary  \n",
       "0       China   8029.0                      NaN                   NaN  \n",
       "1       Italy   8954.0                      NaN                   NaN  \n",
       "2   Singapore    200.0                      NaN                   NaN  \n",
       "3       China  10091.0                      NaN                   NaN  \n",
       "4       China   7060.0                      NaN                   NaN  \n",
       "\n",
       "[5 rows x 33 columns]"
      ]
     },
     "execution_count": 3,
     "metadata": {},
     "output_type": "execute_result"
    }
   ],
   "source": [
    "## Have a first look at the data\n",
    "df.head() "
   ]
  },
  {
   "cell_type": "code",
   "execution_count": 4,
   "metadata": {
    "colab": {
     "base_uri": "https://localhost:8080/"
    },
    "executionInfo": {
     "elapsed": 33769,
     "status": "ok",
     "timestamp": 1610679342350,
     "user": {
      "displayName": "장승운",
      "photoUrl": "",
      "userId": "09116233606503711736"
     },
     "user_tz": -540
    },
    "id": "XsegY_N6KVEh",
    "outputId": "30c54922-66f2-49d4-c541-75ce84fb69b0"
   },
   "outputs": [],
   "source": [
    "## Data Types and Missing Values in Columns\n",
    "# df.info()  "
   ]
  },
  {
   "cell_type": "code",
   "execution_count": 5,
   "metadata": {
    "colab": {
     "base_uri": "https://localhost:8080/",
     "height": 419
    },
    "executionInfo": {
     "elapsed": 34140,
     "status": "ok",
     "timestamp": 1610679342966,
     "user": {
      "displayName": "장승운",
      "photoUrl": "",
      "userId": "09116233606503711736"
     },
     "user_tz": -540
    },
    "id": "QgE5Jo-nLOtJ",
    "outputId": "df181d0d-5310-4e28-8186-ed286712ff81"
   },
   "outputs": [
    {
     "output_type": "execute_result",
     "data": {
      "text/plain": [
       "     date_confirmation date_death_or_discharge     outcome  \\\n",
       "28          21.01.2020              24.01.2020  discharged   \n",
       "29          21.01.2020              29.01.2020  discharged   \n",
       "31          24.01.2020              03.02.2020  discharged   \n",
       "33          15.01.2020              15.01.2020  discharged   \n",
       "34          24.01.2020              17.01.2020  discharged   \n",
       "...                ...                     ...         ...   \n",
       "574         24.01.2020              05.02.2020   discharge   \n",
       "580         25.01.2020              08.02.2020  discharged   \n",
       "582         08.02.2020              17.02.2020  discharged   \n",
       "1128        11.03.2020              11.03.2020       death   \n",
       "1129        05.04.2020              05.04.2020       death   \n",
       "\n",
       "                                               symptoms  \n",
       "28                             fatigue, fever, headache  \n",
       "29                                       fatigue, fever  \n",
       "31                 systemic weakness, runny nose, fever  \n",
       "33                            cough, fever, sore throat  \n",
       "34                    cough, fever, shortness of breath  \n",
       "...                                                 ...  \n",
       "574                                               fever  \n",
       "580                                        cough, fever  \n",
       "582                                            diarrhea  \n",
       "1128            severe, kidney failure and hypertension  \n",
       "1129  torpid evolution with respiratory distress and...  \n",
       "\n",
       "[156 rows x 4 columns]"
      ],
      "text/html": "<div>\n<style scoped>\n    .dataframe tbody tr th:only-of-type {\n        vertical-align: middle;\n    }\n\n    .dataframe tbody tr th {\n        vertical-align: top;\n    }\n\n    .dataframe thead th {\n        text-align: right;\n    }\n</style>\n<table border=\"1\" class=\"dataframe\">\n  <thead>\n    <tr style=\"text-align: right;\">\n      <th></th>\n      <th>date_confirmation</th>\n      <th>date_death_or_discharge</th>\n      <th>outcome</th>\n      <th>symptoms</th>\n    </tr>\n  </thead>\n  <tbody>\n    <tr>\n      <th>28</th>\n      <td>21.01.2020</td>\n      <td>24.01.2020</td>\n      <td>discharged</td>\n      <td>fatigue, fever, headache</td>\n    </tr>\n    <tr>\n      <th>29</th>\n      <td>21.01.2020</td>\n      <td>29.01.2020</td>\n      <td>discharged</td>\n      <td>fatigue, fever</td>\n    </tr>\n    <tr>\n      <th>31</th>\n      <td>24.01.2020</td>\n      <td>03.02.2020</td>\n      <td>discharged</td>\n      <td>systemic weakness, runny nose, fever</td>\n    </tr>\n    <tr>\n      <th>33</th>\n      <td>15.01.2020</td>\n      <td>15.01.2020</td>\n      <td>discharged</td>\n      <td>cough, fever, sore throat</td>\n    </tr>\n    <tr>\n      <th>34</th>\n      <td>24.01.2020</td>\n      <td>17.01.2020</td>\n      <td>discharged</td>\n      <td>cough, fever, shortness of breath</td>\n    </tr>\n    <tr>\n      <th>...</th>\n      <td>...</td>\n      <td>...</td>\n      <td>...</td>\n      <td>...</td>\n    </tr>\n    <tr>\n      <th>574</th>\n      <td>24.01.2020</td>\n      <td>05.02.2020</td>\n      <td>discharge</td>\n      <td>fever</td>\n    </tr>\n    <tr>\n      <th>580</th>\n      <td>25.01.2020</td>\n      <td>08.02.2020</td>\n      <td>discharged</td>\n      <td>cough, fever</td>\n    </tr>\n    <tr>\n      <th>582</th>\n      <td>08.02.2020</td>\n      <td>17.02.2020</td>\n      <td>discharged</td>\n      <td>diarrhea</td>\n    </tr>\n    <tr>\n      <th>1128</th>\n      <td>11.03.2020</td>\n      <td>11.03.2020</td>\n      <td>death</td>\n      <td>severe, kidney failure and hypertension</td>\n    </tr>\n    <tr>\n      <th>1129</th>\n      <td>05.04.2020</td>\n      <td>05.04.2020</td>\n      <td>death</td>\n      <td>torpid evolution with respiratory distress and...</td>\n    </tr>\n  </tbody>\n</table>\n<p>156 rows × 4 columns</p>\n</div>"
     },
     "metadata": {},
     "execution_count": 5
    }
   ],
   "source": [
    "filtered = df[['date_confirmation','date_death_or_discharge','outcome','symptoms']].dropna()\n",
    "filtered"
   ]
  },
  {
   "cell_type": "markdown",
   "metadata": {},
   "source": [
    "## Symptoms"
   ]
  },
  {
   "cell_type": "code",
   "execution_count": 6,
   "metadata": {
    "colab": {
     "base_uri": "https://localhost:8080/"
    },
    "executionInfo": {
     "elapsed": 33823,
     "status": "ok",
     "timestamp": 1610679342968,
     "user": {
      "displayName": "장승운",
      "photoUrl": "",
      "userId": "09116233606503711736"
     },
     "user_tz": -540
    },
    "id": "oSc1DjxzLOxX",
    "outputId": "e3833b7a-ea92-4e2d-e091-0319d2fe9b65",
    "scrolled": true
   },
   "outputs": [],
   "source": [
    "sym_dict = filtered[\"symptoms\"].value_counts().to_dict()"
   ]
  },
  {
   "cell_type": "code",
   "execution_count": 7,
   "metadata": {},
   "outputs": [
    {
     "output_type": "execute_result",
     "data": {
      "text/plain": [
       "{'acute respiratory failure:pneumonia': 11,\n",
       " 'acute respiratory distress syndrome:pneumonia': 10,\n",
       " 'fever': 7,\n",
       " 'pneumonia': 7,\n",
       " 'septic shock:pneumonia': 7,\n",
       " 'cough, fever': 6,\n",
       " 'fever, sore throat': 4,\n",
       " 'acute respiratory distress syndrome': 4,\n",
       " 'acute respiratory distress syndrome:severe pneumonia': 3,\n",
       " 'cough': 3,\n",
       " 'acute respiratory distress:pneumonia': 3,\n",
       " 'none': 3,\n",
       " 'transient fatigue': 2,\n",
       " 'discomfort': 2,\n",
       " 'cough, fever, runny nose': 2,\n",
       " 'cough, fever, shortness of breath': 2,\n",
       " 'cough, shortness of breath': 2,\n",
       " 'severe, kidney failure and hypertension': 2,\n",
       " 'acute respiratory failure': 2,\n",
       " 'cough, runny nose': 2,\n",
       " 'difficulty breathing': 2,\n",
       " 'fatigue, fever': 2,\n",
       " 'systemic weakness, runny nose, fever': 2,\n",
       " 'diarrhea': 2,\n",
       " 'fatigue, fever, headache': 2,\n",
       " 'cough, sore throat': 2,\n",
       " 'cough, fever, sore throat': 2,\n",
       " 'fever, headache, runny nose': 2,\n",
       " 'respiratory symptoms': 2,\n",
       " 'anorexia, fatigue': 2,\n",
       " 'heart failure:pneumonia': 2,\n",
       " 'acute respiratory distress syndrome:septic shock': 1,\n",
       " 'cough:sore throat:headache': 1,\n",
       " 'cough:sore throat:colds': 1,\n",
       " 'acute respiratory distress syndrome: pneumonia': 1,\n",
       " 'pneumonia:acute respiratory failure:heart failure': 1,\n",
       " 'sepsis:pneumonia': 1,\n",
       " 'primary myelofibrosis': 1,\n",
       " 'myocardial infarction:acute respiratory distress syndrome:pneumonia': 1,\n",
       " 'acute respiratory failure:pneumonia:sepsis': 1,\n",
       " 'acute respiratory distress syndrome:septic shock:pneumonia': 1,\n",
       " 'acute respiratory disease': 1,\n",
       " 'septic shock:cardiogenic shock:acute respiratory distress syndrome:acute renal failure': 1,\n",
       " 'arrhythmia:sepsis:acute respiratory distress syndrome:pneumonia:acute kidney injury': 1,\n",
       " 'cardiac arrhythmia:pneumonia': 1,\n",
       " 'fever:cough': 1,\n",
       " 'acute kidney injury:septic shock:acute respiratory distress syndrome': 1,\n",
       " 'acute respiratory failure:acute kidney injury': 1,\n",
       " 'myocardial infarction:pneumonia:multiple electrolyte imbalance': 1,\n",
       " 'cough, fever, grasp, dyspnea': 1,\n",
       " 'fever, cough, sore throat, mialgia, headache': 1,\n",
       " 'acute respiratory failure:pneumonia:myocardial infarction': 1,\n",
       " 'arrhythmia:acute respiratory distress syndrome:pneumonia': 1,\n",
       " 'chest distress, dyspnea': 1,\n",
       " 'eye irritation, fever': 1,\n",
       " 'arrhythmia:septic shock:acute respiratory disease syndrome: acute kidney injury': 1,\n",
       " 'dyspnea': 1,\n",
       " 'fever:cough:acute respiratory distress syndrome': 1,\n",
       " 'acute respiratory failure:myocardial dysfunction': 1,\n",
       " 'cardiac arrhythmia:septic shock:pneumonia': 1,\n",
       " 'chills, fever, myalgias, sore throat': 1,\n",
       " 'multiple organ failure:pneumonia': 1,\n",
       " 'cardiopulmonary arrest; acute respiratory failure; pneumonia': 1,\n",
       " 'acute coronary syndrome:congestive heart failure:severe acute respiratory infection': 1,\n",
       " 'severe pneumonia': 1,\n",
       " 'pneumonia:congestive heart failure': 1,\n",
       " 'cardiogenic shock:acute coronary syndrome:heart failure:pneumonia': 1,\n",
       " 'chills, conjunctivitis, cough, fever': 1,\n",
       " 'Severe': 1,\n",
       " 'fever, cough, running nose': 1,\n",
       " 'acute respiratory distress syndrome:pneumonia:septic shock': 1,\n",
       " 'acute respiratory distress syndrome:septic shock:pneumonia:gastritis:acute kidney injury': 1,\n",
       " 'cough, fever, muscular soreness': 1,\n",
       " 'fever:headache:body malaise': 1,\n",
       " 'torpid evolution with respiratory distress and severe bronchopneumonia': 1,\n",
       " 'chills, cough, fatigue, fever': 1,\n",
       " 'cough:colds:dysphagia': 1,\n",
       " 'acute myocardial infarction': 1,\n",
       " 'acute respiratory distress syndrome:pneumonia:hypoxia': 1,\n",
       " 'acute respiratory distress syndrome:pneumonia:acute respiratory failure': 1,\n",
       " 'acute respiratory failure:sepsis:pneumonia': 1}"
      ]
     },
     "metadata": {},
     "execution_count": 7
    }
   ],
   "source": [
    "sym_dict"
   ]
  },
  {
   "cell_type": "code",
   "execution_count": 8,
   "metadata": {},
   "outputs": [],
   "source": [
    "import re\n",
    "symptoms = []\n",
    "for kys in sym_dict.keys():\n",
    "    keys = re.split(':|,|;',kys)\n",
    "    for k in keys:\n",
    "        if k[0]==' ':\n",
    "            symptoms.append(k[1:])\n",
    "        else:\n",
    "            symptoms.append(k)"
   ]
  },
  {
   "cell_type": "code",
   "execution_count": 9,
   "metadata": {
    "scrolled": true
   },
   "outputs": [
    {
     "output_type": "execute_result",
     "data": {
      "text/plain": [
       "{'acute coronary syndrome',\n",
       " 'acute kidney injury',\n",
       " 'acute myocardial infarction',\n",
       " 'acute renal failure',\n",
       " 'acute respiratory disease',\n",
       " 'acute respiratory disease syndrome',\n",
       " 'acute respiratory distress',\n",
       " 'acute respiratory distress syndrome',\n",
       " 'acute respiratory failure',\n",
       " 'anorexia',\n",
       " 'arrhythmia',\n",
       " 'body malaise',\n",
       " 'cardiac arrhythmia',\n",
       " 'cardiogenic shock',\n",
       " 'cardiopulmonary arrest',\n",
       " 'chest distress',\n",
       " 'chills',\n",
       " 'colds',\n",
       " 'congestive heart failure',\n",
       " 'conjunctivitis',\n",
       " 'cough',\n",
       " 'diarrhea',\n",
       " 'difficulty breathing',\n",
       " 'discomfort',\n",
       " 'dysphagia',\n",
       " 'dyspnea',\n",
       " 'eye irritation',\n",
       " 'fatigue',\n",
       " 'fever',\n",
       " 'gastritis',\n",
       " 'grasp',\n",
       " 'headache',\n",
       " 'heart failure',\n",
       " 'hypoxia',\n",
       " 'kidney failure and hypertension',\n",
       " 'mialgia',\n",
       " 'multiple electrolyte imbalance',\n",
       " 'multiple organ failure',\n",
       " 'muscular soreness',\n",
       " 'myalgias',\n",
       " 'myocardial dysfunction',\n",
       " 'myocardial infarction',\n",
       " 'pneumonia',\n",
       " 'primary myelofibrosis',\n",
       " 'respiratory symptoms',\n",
       " 'running nose',\n",
       " 'runny nose',\n",
       " 'sepsis',\n",
       " 'septic shock',\n",
       " 'severe',\n",
       " 'severe acute respiratory infection',\n",
       " 'severe pneumonia',\n",
       " 'shortness of breath',\n",
       " 'sore throat',\n",
       " 'systemic weakness',\n",
       " 'torpid evolution with respiratory distress and severe bronchopneumonia',\n",
       " 'transient fatigue'}"
      ]
     },
     "metadata": {},
     "execution_count": 9
    }
   ],
   "source": [
    "symptoms = set(symptoms)\n",
    "symptoms.remove('Severe')\n",
    "symptoms.remove('none')\n",
    "symptoms"
   ]
  },
  {
   "cell_type": "code",
   "execution_count": 10,
   "metadata": {},
   "outputs": [],
   "source": [
    "for s in symptoms:\n",
    "    filtered[s]=np.zeros(len(filtered))"
   ]
  },
  {
   "cell_type": "code",
   "execution_count": 11,
   "metadata": {},
   "outputs": [],
   "source": [
    "length = len(filtered)\n",
    "filtered.index = list(range(length))\n",
    "\n",
    "for idx in range(length):\n",
    "    sym = filtered.loc[idx,['symptoms']][0]\n",
    "    sym = re.split(':|,|;',sym)\n",
    "    for s in sym:\n",
    "        if s[0]== ' ':\n",
    "            s=s[1:]\n",
    "        if s in symptoms:\n",
    "            filtered.loc[idx,[s]]=1"
   ]
  },
  {
   "cell_type": "code",
   "execution_count": 12,
   "metadata": {
    "scrolled": true
   },
   "outputs": [
    {
     "output_type": "execute_result",
     "data": {
      "text/plain": [
       "{'date_confirmation': '21.01.2020',\n",
       " 'date_death_or_discharge': '24.01.2020',\n",
       " 'outcome': 'discharged',\n",
       " 'symptoms': 'fatigue, fever, headache',\n",
       " 'acute renal failure': 0.0,\n",
       " 'gastritis': 0.0,\n",
       " 'cough': 0.0,\n",
       " 'respiratory symptoms': 0.0,\n",
       " 'mialgia': 0.0,\n",
       " 'chest distress': 0.0,\n",
       " 'eye irritation': 0.0,\n",
       " 'running nose': 0.0,\n",
       " 'severe pneumonia': 0.0,\n",
       " 'acute coronary syndrome': 0.0,\n",
       " 'diarrhea': 0.0,\n",
       " 'multiple electrolyte imbalance': 0.0,\n",
       " 'acute respiratory disease': 0.0,\n",
       " 'muscular soreness': 0.0,\n",
       " 'conjunctivitis': 0.0,\n",
       " 'primary myelofibrosis': 0.0,\n",
       " 'transient fatigue': 0.0,\n",
       " 'sore throat': 0.0,\n",
       " 'discomfort': 0.0,\n",
       " 'myalgias': 0.0,\n",
       " 'heart failure': 0.0,\n",
       " 'body malaise': 0.0,\n",
       " 'acute respiratory failure': 0.0,\n",
       " 'severe': 0.0,\n",
       " 'sepsis': 0.0,\n",
       " 'cardiopulmonary arrest': 0.0,\n",
       " 'difficulty breathing': 0.0,\n",
       " 'fatigue': 1.0,\n",
       " 'fever': 1.0,\n",
       " 'acute kidney injury': 0.0,\n",
       " 'acute myocardial infarction': 0.0,\n",
       " 'grasp': 0.0,\n",
       " 'congestive heart failure': 0.0,\n",
       " 'pneumonia': 0.0,\n",
       " 'torpid evolution with respiratory distress and severe bronchopneumonia': 0.0,\n",
       " 'cardiogenic shock': 0.0,\n",
       " 'dysphagia': 0.0,\n",
       " 'acute respiratory distress': 0.0,\n",
       " 'severe acute respiratory infection': 0.0,\n",
       " 'headache': 1.0,\n",
       " 'hypoxia': 0.0,\n",
       " 'arrhythmia': 0.0,\n",
       " 'runny nose': 0.0,\n",
       " 'anorexia': 0.0,\n",
       " 'cardiac arrhythmia': 0.0,\n",
       " 'myocardial dysfunction': 0.0,\n",
       " 'acute respiratory distress syndrome': 0.0,\n",
       " 'shortness of breath': 0.0,\n",
       " 'dyspnea': 0.0,\n",
       " 'acute respiratory disease syndrome': 0.0,\n",
       " 'chills': 0.0,\n",
       " 'kidney failure and hypertension': 0.0,\n",
       " 'multiple organ failure': 0.0,\n",
       " 'colds': 0.0,\n",
       " 'systemic weakness': 0.0,\n",
       " 'myocardial infarction': 0.0,\n",
       " 'septic shock': 0.0}"
      ]
     },
     "metadata": {},
     "execution_count": 12
    }
   ],
   "source": [
    "filtered.loc[0].to_dict()"
   ]
  },
  {
   "cell_type": "markdown",
   "metadata": {},
   "source": [
    "## data 관련"
   ]
  },
  {
   "cell_type": "code",
   "execution_count": 13,
   "metadata": {
    "executionInfo": {
     "elapsed": 33496,
     "status": "ok",
     "timestamp": 1610679342969,
     "user": {
      "displayName": "장승운",
      "photoUrl": "",
      "userId": "09116233606503711736"
     },
     "user_tz": -540
    },
    "id": "LkbD5C1DMW7y"
   },
   "outputs": [],
   "source": [
    "filtered['outcome']=filtered['outcome'].apply(lambda x: 1 if x == 'died' or x == 'death' or  x == 'dead' or x == 'Deceased' or x == 'Died' or x == 'Death' or x == 'Dead'else 0 )"
   ]
  },
  {
   "cell_type": "code",
   "execution_count": 14,
   "metadata": {
    "colab": {
     "base_uri": "https://localhost:8080/"
    },
    "executionInfo": {
     "elapsed": 32951,
     "status": "ok",
     "timestamp": 1610679342971,
     "user": {
      "displayName": "장승운",
      "photoUrl": "",
      "userId": "09116233606503711736"
     },
     "user_tz": -540
    },
    "id": "uFgQ-YMwMW-M",
    "outputId": "7083bedd-88bb-4020-bd2a-7274a1ff365a"
   },
   "outputs": [
    {
     "output_type": "execute_result",
     "data": {
      "text/plain": [
       "1    100\n",
       "0     56\n",
       "Name: outcome, dtype: int64"
      ]
     },
     "metadata": {},
     "execution_count": 14
    }
   ],
   "source": [
    "filtered[\"outcome\"].value_counts()"
   ]
  },
  {
   "cell_type": "code",
   "execution_count": 15,
   "metadata": {
    "executionInfo": {
     "elapsed": 32683,
     "status": "ok",
     "timestamp": 1610679342973,
     "user": {
      "displayName": "장승운",
      "photoUrl": "",
      "userId": "09116233606503711736"
     },
     "user_tz": -540
    },
    "id": "TGFRntNWNBbf"
   },
   "outputs": [],
   "source": [
    "d,m,y = filtered.loc[1,['date_confirmation']][0].split('.')"
   ]
  },
  {
   "cell_type": "code",
   "execution_count": 16,
   "metadata": {
    "executionInfo": {
     "elapsed": 32392,
     "status": "ok",
     "timestamp": 1610679342975,
     "user": {
      "displayName": "장승운",
      "photoUrl": "",
      "userId": "09116233606503711736"
     },
     "user_tz": -540
    },
    "id": "6GSyki1aNBeV"
   },
   "outputs": [],
   "source": [
    "from datetime import datetime"
   ]
  },
  {
   "cell_type": "code",
   "execution_count": 17,
   "metadata": {
    "colab": {
     "base_uri": "https://localhost:8080/"
    },
    "executionInfo": {
     "elapsed": 31964,
     "status": "ok",
     "timestamp": 1610679342977,
     "user": {
      "displayName": "장승운",
      "photoUrl": "",
      "userId": "09116233606503711736"
     },
     "user_tz": -540
    },
    "id": "NiEd7GypNBhF",
    "outputId": "0722d9ff-c9a3-4d14-d40b-b8255469e385"
   },
   "outputs": [
    {
     "output_type": "execute_result",
     "data": {
      "text/plain": [
       "21"
      ]
     },
     "metadata": {},
     "execution_count": 17
    }
   ],
   "source": [
    "int(d)"
   ]
  },
  {
   "cell_type": "code",
   "execution_count": 18,
   "metadata": {
    "executionInfo": {
     "elapsed": 31519,
     "status": "ok",
     "timestamp": 1610679342979,
     "user": {
      "displayName": "장승운",
      "photoUrl": "",
      "userId": "09116233606503711736"
     },
     "user_tz": -540
    },
    "id": "tI2tUf35MXAO"
   },
   "outputs": [],
   "source": [
    "length = len(filtered)\n",
    "filtered.index = list(range(length))"
   ]
  },
  {
   "cell_type": "code",
   "execution_count": 19,
   "metadata": {
    "colab": {
     "base_uri": "https://localhost:8080/",
     "height": 419
    },
    "executionInfo": {
     "elapsed": 31037,
     "status": "ok",
     "timestamp": 1610679342981,
     "user": {
      "displayName": "장승운",
      "photoUrl": "",
      "userId": "09116233606503711736"
     },
     "user_tz": -540
    },
    "id": "iQ5S5h1TRnzy",
    "outputId": "2cf10f44-b384-4179-8742-12f40cc7a9e2"
   },
   "outputs": [
    {
     "output_type": "execute_result",
     "data": {
      "text/plain": [
       "    date_confirmation date_death_or_discharge  outcome  \\\n",
       "0          21.01.2020              24.01.2020        0   \n",
       "1          21.01.2020              29.01.2020        0   \n",
       "2          24.01.2020              03.02.2020        0   \n",
       "3          15.01.2020              15.01.2020        0   \n",
       "4          24.01.2020              17.01.2020        0   \n",
       "..                ...                     ...      ...   \n",
       "151        24.01.2020              05.02.2020        0   \n",
       "152        25.01.2020              08.02.2020        0   \n",
       "153        08.02.2020              17.02.2020        0   \n",
       "154        11.03.2020              11.03.2020        1   \n",
       "155        05.04.2020              05.04.2020        1   \n",
       "\n",
       "                                              symptoms  acute renal failure  \\\n",
       "0                             fatigue, fever, headache                  0.0   \n",
       "1                                       fatigue, fever                  0.0   \n",
       "2                 systemic weakness, runny nose, fever                  0.0   \n",
       "3                            cough, fever, sore throat                  0.0   \n",
       "4                    cough, fever, shortness of breath                  0.0   \n",
       "..                                                 ...                  ...   \n",
       "151                                              fever                  0.0   \n",
       "152                                       cough, fever                  0.0   \n",
       "153                                           diarrhea                  0.0   \n",
       "154            severe, kidney failure and hypertension                  0.0   \n",
       "155  torpid evolution with respiratory distress and...                  0.0   \n",
       "\n",
       "     gastritis  cough  respiratory symptoms  mialgia  chest distress  ...  \\\n",
       "0          0.0    0.0                   0.0      0.0             0.0  ...   \n",
       "1          0.0    0.0                   0.0      0.0             0.0  ...   \n",
       "2          0.0    0.0                   0.0      0.0             0.0  ...   \n",
       "3          0.0    1.0                   0.0      0.0             0.0  ...   \n",
       "4          0.0    1.0                   0.0      0.0             0.0  ...   \n",
       "..         ...    ...                   ...      ...             ...  ...   \n",
       "151        0.0    0.0                   0.0      0.0             0.0  ...   \n",
       "152        0.0    1.0                   0.0      0.0             0.0  ...   \n",
       "153        0.0    0.0                   0.0      0.0             0.0  ...   \n",
       "154        0.0    0.0                   0.0      0.0             0.0  ...   \n",
       "155        0.0    0.0                   0.0      0.0             0.0  ...   \n",
       "\n",
       "     shortness of breath  dyspnea  acute respiratory disease syndrome  chills  \\\n",
       "0                    0.0      0.0                                 0.0     0.0   \n",
       "1                    0.0      0.0                                 0.0     0.0   \n",
       "2                    0.0      0.0                                 0.0     0.0   \n",
       "3                    0.0      0.0                                 0.0     0.0   \n",
       "4                    1.0      0.0                                 0.0     0.0   \n",
       "..                   ...      ...                                 ...     ...   \n",
       "151                  0.0      0.0                                 0.0     0.0   \n",
       "152                  0.0      0.0                                 0.0     0.0   \n",
       "153                  0.0      0.0                                 0.0     0.0   \n",
       "154                  0.0      0.0                                 0.0     0.0   \n",
       "155                  0.0      0.0                                 0.0     0.0   \n",
       "\n",
       "     kidney failure and hypertension  multiple organ failure  colds  \\\n",
       "0                                0.0                     0.0    0.0   \n",
       "1                                0.0                     0.0    0.0   \n",
       "2                                0.0                     0.0    0.0   \n",
       "3                                0.0                     0.0    0.0   \n",
       "4                                0.0                     0.0    0.0   \n",
       "..                               ...                     ...    ...   \n",
       "151                              0.0                     0.0    0.0   \n",
       "152                              0.0                     0.0    0.0   \n",
       "153                              0.0                     0.0    0.0   \n",
       "154                              1.0                     0.0    0.0   \n",
       "155                              0.0                     0.0    0.0   \n",
       "\n",
       "     systemic weakness  myocardial infarction  septic shock  \n",
       "0                  0.0                    0.0           0.0  \n",
       "1                  0.0                    0.0           0.0  \n",
       "2                  1.0                    0.0           0.0  \n",
       "3                  0.0                    0.0           0.0  \n",
       "4                  0.0                    0.0           0.0  \n",
       "..                 ...                    ...           ...  \n",
       "151                0.0                    0.0           0.0  \n",
       "152                0.0                    0.0           0.0  \n",
       "153                0.0                    0.0           0.0  \n",
       "154                0.0                    0.0           0.0  \n",
       "155                0.0                    0.0           0.0  \n",
       "\n",
       "[156 rows x 61 columns]"
      ],
      "text/html": "<div>\n<style scoped>\n    .dataframe tbody tr th:only-of-type {\n        vertical-align: middle;\n    }\n\n    .dataframe tbody tr th {\n        vertical-align: top;\n    }\n\n    .dataframe thead th {\n        text-align: right;\n    }\n</style>\n<table border=\"1\" class=\"dataframe\">\n  <thead>\n    <tr style=\"text-align: right;\">\n      <th></th>\n      <th>date_confirmation</th>\n      <th>date_death_or_discharge</th>\n      <th>outcome</th>\n      <th>symptoms</th>\n      <th>acute renal failure</th>\n      <th>gastritis</th>\n      <th>cough</th>\n      <th>respiratory symptoms</th>\n      <th>mialgia</th>\n      <th>chest distress</th>\n      <th>...</th>\n      <th>shortness of breath</th>\n      <th>dyspnea</th>\n      <th>acute respiratory disease syndrome</th>\n      <th>chills</th>\n      <th>kidney failure and hypertension</th>\n      <th>multiple organ failure</th>\n      <th>colds</th>\n      <th>systemic weakness</th>\n      <th>myocardial infarction</th>\n      <th>septic shock</th>\n    </tr>\n  </thead>\n  <tbody>\n    <tr>\n      <th>0</th>\n      <td>21.01.2020</td>\n      <td>24.01.2020</td>\n      <td>0</td>\n      <td>fatigue, fever, headache</td>\n      <td>0.0</td>\n      <td>0.0</td>\n      <td>0.0</td>\n      <td>0.0</td>\n      <td>0.0</td>\n      <td>0.0</td>\n      <td>...</td>\n      <td>0.0</td>\n      <td>0.0</td>\n      <td>0.0</td>\n      <td>0.0</td>\n      <td>0.0</td>\n      <td>0.0</td>\n      <td>0.0</td>\n      <td>0.0</td>\n      <td>0.0</td>\n      <td>0.0</td>\n    </tr>\n    <tr>\n      <th>1</th>\n      <td>21.01.2020</td>\n      <td>29.01.2020</td>\n      <td>0</td>\n      <td>fatigue, fever</td>\n      <td>0.0</td>\n      <td>0.0</td>\n      <td>0.0</td>\n      <td>0.0</td>\n      <td>0.0</td>\n      <td>0.0</td>\n      <td>...</td>\n      <td>0.0</td>\n      <td>0.0</td>\n      <td>0.0</td>\n      <td>0.0</td>\n      <td>0.0</td>\n      <td>0.0</td>\n      <td>0.0</td>\n      <td>0.0</td>\n      <td>0.0</td>\n      <td>0.0</td>\n    </tr>\n    <tr>\n      <th>2</th>\n      <td>24.01.2020</td>\n      <td>03.02.2020</td>\n      <td>0</td>\n      <td>systemic weakness, runny nose, fever</td>\n      <td>0.0</td>\n      <td>0.0</td>\n      <td>0.0</td>\n      <td>0.0</td>\n      <td>0.0</td>\n      <td>0.0</td>\n      <td>...</td>\n      <td>0.0</td>\n      <td>0.0</td>\n      <td>0.0</td>\n      <td>0.0</td>\n      <td>0.0</td>\n      <td>0.0</td>\n      <td>0.0</td>\n      <td>1.0</td>\n      <td>0.0</td>\n      <td>0.0</td>\n    </tr>\n    <tr>\n      <th>3</th>\n      <td>15.01.2020</td>\n      <td>15.01.2020</td>\n      <td>0</td>\n      <td>cough, fever, sore throat</td>\n      <td>0.0</td>\n      <td>0.0</td>\n      <td>1.0</td>\n      <td>0.0</td>\n      <td>0.0</td>\n      <td>0.0</td>\n      <td>...</td>\n      <td>0.0</td>\n      <td>0.0</td>\n      <td>0.0</td>\n      <td>0.0</td>\n      <td>0.0</td>\n      <td>0.0</td>\n      <td>0.0</td>\n      <td>0.0</td>\n      <td>0.0</td>\n      <td>0.0</td>\n    </tr>\n    <tr>\n      <th>4</th>\n      <td>24.01.2020</td>\n      <td>17.01.2020</td>\n      <td>0</td>\n      <td>cough, fever, shortness of breath</td>\n      <td>0.0</td>\n      <td>0.0</td>\n      <td>1.0</td>\n      <td>0.0</td>\n      <td>0.0</td>\n      <td>0.0</td>\n      <td>...</td>\n      <td>1.0</td>\n      <td>0.0</td>\n      <td>0.0</td>\n      <td>0.0</td>\n      <td>0.0</td>\n      <td>0.0</td>\n      <td>0.0</td>\n      <td>0.0</td>\n      <td>0.0</td>\n      <td>0.0</td>\n    </tr>\n    <tr>\n      <th>...</th>\n      <td>...</td>\n      <td>...</td>\n      <td>...</td>\n      <td>...</td>\n      <td>...</td>\n      <td>...</td>\n      <td>...</td>\n      <td>...</td>\n      <td>...</td>\n      <td>...</td>\n      <td>...</td>\n      <td>...</td>\n      <td>...</td>\n      <td>...</td>\n      <td>...</td>\n      <td>...</td>\n      <td>...</td>\n      <td>...</td>\n      <td>...</td>\n      <td>...</td>\n      <td>...</td>\n    </tr>\n    <tr>\n      <th>151</th>\n      <td>24.01.2020</td>\n      <td>05.02.2020</td>\n      <td>0</td>\n      <td>fever</td>\n      <td>0.0</td>\n      <td>0.0</td>\n      <td>0.0</td>\n      <td>0.0</td>\n      <td>0.0</td>\n      <td>0.0</td>\n      <td>...</td>\n      <td>0.0</td>\n      <td>0.0</td>\n      <td>0.0</td>\n      <td>0.0</td>\n      <td>0.0</td>\n      <td>0.0</td>\n      <td>0.0</td>\n      <td>0.0</td>\n      <td>0.0</td>\n      <td>0.0</td>\n    </tr>\n    <tr>\n      <th>152</th>\n      <td>25.01.2020</td>\n      <td>08.02.2020</td>\n      <td>0</td>\n      <td>cough, fever</td>\n      <td>0.0</td>\n      <td>0.0</td>\n      <td>1.0</td>\n      <td>0.0</td>\n      <td>0.0</td>\n      <td>0.0</td>\n      <td>...</td>\n      <td>0.0</td>\n      <td>0.0</td>\n      <td>0.0</td>\n      <td>0.0</td>\n      <td>0.0</td>\n      <td>0.0</td>\n      <td>0.0</td>\n      <td>0.0</td>\n      <td>0.0</td>\n      <td>0.0</td>\n    </tr>\n    <tr>\n      <th>153</th>\n      <td>08.02.2020</td>\n      <td>17.02.2020</td>\n      <td>0</td>\n      <td>diarrhea</td>\n      <td>0.0</td>\n      <td>0.0</td>\n      <td>0.0</td>\n      <td>0.0</td>\n      <td>0.0</td>\n      <td>0.0</td>\n      <td>...</td>\n      <td>0.0</td>\n      <td>0.0</td>\n      <td>0.0</td>\n      <td>0.0</td>\n      <td>0.0</td>\n      <td>0.0</td>\n      <td>0.0</td>\n      <td>0.0</td>\n      <td>0.0</td>\n      <td>0.0</td>\n    </tr>\n    <tr>\n      <th>154</th>\n      <td>11.03.2020</td>\n      <td>11.03.2020</td>\n      <td>1</td>\n      <td>severe, kidney failure and hypertension</td>\n      <td>0.0</td>\n      <td>0.0</td>\n      <td>0.0</td>\n      <td>0.0</td>\n      <td>0.0</td>\n      <td>0.0</td>\n      <td>...</td>\n      <td>0.0</td>\n      <td>0.0</td>\n      <td>0.0</td>\n      <td>0.0</td>\n      <td>1.0</td>\n      <td>0.0</td>\n      <td>0.0</td>\n      <td>0.0</td>\n      <td>0.0</td>\n      <td>0.0</td>\n    </tr>\n    <tr>\n      <th>155</th>\n      <td>05.04.2020</td>\n      <td>05.04.2020</td>\n      <td>1</td>\n      <td>torpid evolution with respiratory distress and...</td>\n      <td>0.0</td>\n      <td>0.0</td>\n      <td>0.0</td>\n      <td>0.0</td>\n      <td>0.0</td>\n      <td>0.0</td>\n      <td>...</td>\n      <td>0.0</td>\n      <td>0.0</td>\n      <td>0.0</td>\n      <td>0.0</td>\n      <td>0.0</td>\n      <td>0.0</td>\n      <td>0.0</td>\n      <td>0.0</td>\n      <td>0.0</td>\n      <td>0.0</td>\n    </tr>\n  </tbody>\n</table>\n<p>156 rows × 61 columns</p>\n</div>"
     },
     "metadata": {},
     "execution_count": 19
    }
   ],
   "source": [
    "filtered"
   ]
  },
  {
   "cell_type": "code",
   "execution_count": 20,
   "metadata": {
    "executionInfo": {
     "elapsed": 2701,
     "status": "ok",
     "timestamp": 1610679366383,
     "user": {
      "displayName": "장승운",
      "photoUrl": "",
      "userId": "09116233606503711736"
     },
     "user_tz": -540
    },
    "id": "NMTAvlXKPOt7"
   },
   "outputs": [],
   "source": [
    "from datetime import datetime\n",
    "\n",
    "days = []\n",
    "for idx in range(length):\n",
    "  conf = filtered.loc[idx,['date_confirmation']][0]\n",
    "  if '-' in conf:\n",
    "    a,b,c = conf.split(\" - \")[0].split('.')\n",
    "  else:\n",
    "    a,b,c = conf.split('.')\n",
    "  dead = filtered.loc[idx,['date_death_or_discharge']][0]\n",
    "  if '-' in dead:\n",
    "    x,y,z = dead.split(\" - \")[0].split('.')\n",
    "  else:\n",
    "    x,y,z = dead.split('.')\n",
    "\n",
    "  if int(y) > 12:\n",
    "    t = x\n",
    "    x=y\n",
    "    y=t\n",
    "  if int(b) > 12:\n",
    "    t = a\n",
    "    a=b\n",
    "    b=t\n",
    "\n",
    "  death = datetime(int(z),int(y),int(x),0,0,0)\n",
    "  confirm = datetime(int(c),int(b),int(a),0,0,0)\n",
    "  days.append((death-confirm).days)\n"
   ]
  },
  {
   "cell_type": "code",
   "execution_count": 21,
   "metadata": {
    "executionInfo": {
     "elapsed": 1297,
     "status": "ok",
     "timestamp": 1610679377223,
     "user": {
      "displayName": "장승운",
      "photoUrl": "",
      "userId": "09116233606503711736"
     },
     "user_tz": -540
    },
    "id": "glucPSbYMXC_"
   },
   "outputs": [],
   "source": [
    "filtered[\"days\"] = days"
   ]
  },
  {
   "cell_type": "code",
   "execution_count": 22,
   "metadata": {
    "colab": {
     "base_uri": "https://localhost:8080/",
     "height": 419
    },
    "executionInfo": {
     "elapsed": 776,
     "status": "ok",
     "timestamp": 1610679378760,
     "user": {
      "displayName": "장승운",
      "photoUrl": "",
      "userId": "09116233606503711736"
     },
     "user_tz": -540
    },
    "id": "pcd88seoLOz1",
    "outputId": "a2f300cb-51bb-4c2a-e4fd-929b844e09f4"
   },
   "outputs": [
    {
     "output_type": "execute_result",
     "data": {
      "text/plain": [
       "    date_confirmation date_death_or_discharge  outcome  \\\n",
       "4          24.01.2020              17.01.2020        0   \n",
       "68         13.03.2020              11.03.2020        1   \n",
       "76         18.03.2020              17.03.2020        1   \n",
       "77         19.03.2020              18.03.2020        1   \n",
       "79         21.03.2020              14.03.2020        1   \n",
       "80         21.03.2020              20.03.2020        1   \n",
       "81         21.03.2020              19.03.2020        1   \n",
       "83         21.03.2020              16.03.2020        1   \n",
       "84         21.03.2020              19.03.2020        1   \n",
       "85         23.01.2020              22.01.2020        1   \n",
       "86         21.03.2020              20.03.2020        1   \n",
       "91         21.03.2020              16.03.2020        1   \n",
       "92         21.03.2020              15.03.2020        1   \n",
       "93         21.03.2020              13.03.2020        1   \n",
       "95         21.03.2020              17.03.2020        1   \n",
       "96         20.03.2020              19.03.2020        1   \n",
       "97         20.03.2020              13.03.2020        1   \n",
       "100        22.03.2020              18.03.2020        1   \n",
       "101        22.03.2020              17.03.2020        1   \n",
       "102        22.03.2020              19.03.2020        1   \n",
       "103        22.03.2020              21.03.2020        1   \n",
       "104        23.03.2020              03.22.2020        1   \n",
       "106        22.03.2020              18.03.2020        1   \n",
       "107        22.03.2020              17.03.2020        1   \n",
       "109        24.03.2020              20.03.2020        1   \n",
       "110        24.03.2020              21.03.2020        1   \n",
       "112        24.03.2020              14.03.2020        1   \n",
       "115        24.03.2020              22.03.2020        1   \n",
       "116        25.03.2020              24.03.2020        1   \n",
       "117        25.03.2020              19.03.2020        1   \n",
       "120        25.03.2020              24.03.2020        1   \n",
       "121        25.03.2020              23.03.2020        1   \n",
       "123        25.03.2020              19.03.2020        1   \n",
       "125        25.03.2020              20.03.2020        1   \n",
       "127        26.03.2020              23.03.2020        1   \n",
       "128        26.03.2020              25.03.2020        1   \n",
       "129        27.03.2020              21.03.2020        1   \n",
       "137        27.03.2020              21.03.2020        1   \n",
       "149        24.01.2020              17.01.2020        0   \n",
       "\n",
       "                                              symptoms  acute renal failure  \\\n",
       "4                    cough, fever, shortness of breath                  0.0   \n",
       "68                 acute respiratory failure:pneumonia                  0.0   \n",
       "76                 acute respiratory distress syndrome                  0.0   \n",
       "77           cardiac arrhythmia:septic shock:pneumonia                  0.0   \n",
       "79   pneumonia:acute respiratory failure:heart failure                  0.0   \n",
       "80                              septic shock:pneumonia                  0.0   \n",
       "81   acute respiratory distress syndrome:pneumonia:...                  0.0   \n",
       "83                                           pneumonia                  0.0   \n",
       "84                              septic shock:pneumonia                  0.0   \n",
       "85                             chest distress, dyspnea                  0.0   \n",
       "86   myocardial infarction:pneumonia:multiple elect...                  0.0   \n",
       "91                acute respiratory distress:pneumonia                  0.0   \n",
       "92                         acute myocardial infarction                  0.0   \n",
       "93                 acute respiratory failure:pneumonia                  0.0   \n",
       "95                 acute respiratory failure:pneumonia                  0.0   \n",
       "96                              septic shock:pneumonia                  0.0   \n",
       "97   acute coronary syndrome:congestive heart failu...                  0.0   \n",
       "100                                          pneumonia                  0.0   \n",
       "101         acute respiratory failure:sepsis:pneumonia                  0.0   \n",
       "102                                          pneumonia                  0.0   \n",
       "103                             septic shock:pneumonia                  0.0   \n",
       "104                acute respiratory failure:pneumonia                  0.0   \n",
       "106  cardiogenic shock:acute coronary syndrome:hear...                  0.0   \n",
       "107  acute respiratory failure:pneumonia:myocardial...                  0.0   \n",
       "109                acute respiratory failure:pneumonia                  0.0   \n",
       "110  arrhythmia:acute respiratory distress syndrome...                  0.0   \n",
       "112                acute respiratory failure:pneumonia                  0.0   \n",
       "115               acute respiratory distress:pneumonia                  0.0   \n",
       "116  acute respiratory distress syndrome:pneumonia:...                  0.0   \n",
       "117      acute respiratory failure:acute kidney injury                  0.0   \n",
       "120                            heart failure:pneumonia                  0.0   \n",
       "121                            heart failure:pneumonia                  0.0   \n",
       "123                 pneumonia:congestive heart failure                  0.0   \n",
       "125  myocardial infarction:acute respiratory distre...                  0.0   \n",
       "127  cardiopulmonary arrest; acute respiratory fail...                  0.0   \n",
       "128                acute respiratory failure:pneumonia                  0.0   \n",
       "129      acute respiratory distress syndrome:pneumonia                  0.0   \n",
       "137     acute respiratory distress syndrome: pneumonia                  0.0   \n",
       "149                  cough, fever, shortness of breath                  0.0   \n",
       "\n",
       "     gastritis  cough  respiratory symptoms  mialgia  chest distress  ...  \\\n",
       "4          0.0    1.0                   0.0      0.0             0.0  ...   \n",
       "68         0.0    0.0                   0.0      0.0             0.0  ...   \n",
       "76         0.0    0.0                   0.0      0.0             0.0  ...   \n",
       "77         0.0    0.0                   0.0      0.0             0.0  ...   \n",
       "79         0.0    0.0                   0.0      0.0             0.0  ...   \n",
       "80         0.0    0.0                   0.0      0.0             0.0  ...   \n",
       "81         0.0    0.0                   0.0      0.0             0.0  ...   \n",
       "83         0.0    0.0                   0.0      0.0             0.0  ...   \n",
       "84         0.0    0.0                   0.0      0.0             0.0  ...   \n",
       "85         0.0    0.0                   0.0      0.0             1.0  ...   \n",
       "86         0.0    0.0                   0.0      0.0             0.0  ...   \n",
       "91         0.0    0.0                   0.0      0.0             0.0  ...   \n",
       "92         0.0    0.0                   0.0      0.0             0.0  ...   \n",
       "93         0.0    0.0                   0.0      0.0             0.0  ...   \n",
       "95         0.0    0.0                   0.0      0.0             0.0  ...   \n",
       "96         0.0    0.0                   0.0      0.0             0.0  ...   \n",
       "97         0.0    0.0                   0.0      0.0             0.0  ...   \n",
       "100        0.0    0.0                   0.0      0.0             0.0  ...   \n",
       "101        0.0    0.0                   0.0      0.0             0.0  ...   \n",
       "102        0.0    0.0                   0.0      0.0             0.0  ...   \n",
       "103        0.0    0.0                   0.0      0.0             0.0  ...   \n",
       "104        0.0    0.0                   0.0      0.0             0.0  ...   \n",
       "106        0.0    0.0                   0.0      0.0             0.0  ...   \n",
       "107        0.0    0.0                   0.0      0.0             0.0  ...   \n",
       "109        0.0    0.0                   0.0      0.0             0.0  ...   \n",
       "110        0.0    0.0                   0.0      0.0             0.0  ...   \n",
       "112        0.0    0.0                   0.0      0.0             0.0  ...   \n",
       "115        0.0    0.0                   0.0      0.0             0.0  ...   \n",
       "116        0.0    0.0                   0.0      0.0             0.0  ...   \n",
       "117        0.0    0.0                   0.0      0.0             0.0  ...   \n",
       "120        0.0    0.0                   0.0      0.0             0.0  ...   \n",
       "121        0.0    0.0                   0.0      0.0             0.0  ...   \n",
       "123        0.0    0.0                   0.0      0.0             0.0  ...   \n",
       "125        0.0    0.0                   0.0      0.0             0.0  ...   \n",
       "127        0.0    0.0                   0.0      0.0             0.0  ...   \n",
       "128        0.0    0.0                   0.0      0.0             0.0  ...   \n",
       "129        0.0    0.0                   0.0      0.0             0.0  ...   \n",
       "137        0.0    0.0                   0.0      0.0             0.0  ...   \n",
       "149        0.0    1.0                   0.0      0.0             0.0  ...   \n",
       "\n",
       "     dyspnea  acute respiratory disease syndrome  chills  \\\n",
       "4        0.0                                 0.0     0.0   \n",
       "68       0.0                                 0.0     0.0   \n",
       "76       0.0                                 0.0     0.0   \n",
       "77       0.0                                 0.0     0.0   \n",
       "79       0.0                                 0.0     0.0   \n",
       "80       0.0                                 0.0     0.0   \n",
       "81       0.0                                 0.0     0.0   \n",
       "83       0.0                                 0.0     0.0   \n",
       "84       0.0                                 0.0     0.0   \n",
       "85       1.0                                 0.0     0.0   \n",
       "86       0.0                                 0.0     0.0   \n",
       "91       0.0                                 0.0     0.0   \n",
       "92       0.0                                 0.0     0.0   \n",
       "93       0.0                                 0.0     0.0   \n",
       "95       0.0                                 0.0     0.0   \n",
       "96       0.0                                 0.0     0.0   \n",
       "97       0.0                                 0.0     0.0   \n",
       "100      0.0                                 0.0     0.0   \n",
       "101      0.0                                 0.0     0.0   \n",
       "102      0.0                                 0.0     0.0   \n",
       "103      0.0                                 0.0     0.0   \n",
       "104      0.0                                 0.0     0.0   \n",
       "106      0.0                                 0.0     0.0   \n",
       "107      0.0                                 0.0     0.0   \n",
       "109      0.0                                 0.0     0.0   \n",
       "110      0.0                                 0.0     0.0   \n",
       "112      0.0                                 0.0     0.0   \n",
       "115      0.0                                 0.0     0.0   \n",
       "116      0.0                                 0.0     0.0   \n",
       "117      0.0                                 0.0     0.0   \n",
       "120      0.0                                 0.0     0.0   \n",
       "121      0.0                                 0.0     0.0   \n",
       "123      0.0                                 0.0     0.0   \n",
       "125      0.0                                 0.0     0.0   \n",
       "127      0.0                                 0.0     0.0   \n",
       "128      0.0                                 0.0     0.0   \n",
       "129      0.0                                 0.0     0.0   \n",
       "137      0.0                                 0.0     0.0   \n",
       "149      0.0                                 0.0     0.0   \n",
       "\n",
       "     kidney failure and hypertension  multiple organ failure  colds  \\\n",
       "4                                0.0                     0.0    0.0   \n",
       "68                               0.0                     0.0    0.0   \n",
       "76                               0.0                     0.0    0.0   \n",
       "77                               0.0                     0.0    0.0   \n",
       "79                               0.0                     0.0    0.0   \n",
       "80                               0.0                     0.0    0.0   \n",
       "81                               0.0                     0.0    0.0   \n",
       "83                               0.0                     0.0    0.0   \n",
       "84                               0.0                     0.0    0.0   \n",
       "85                               0.0                     0.0    0.0   \n",
       "86                               0.0                     0.0    0.0   \n",
       "91                               0.0                     0.0    0.0   \n",
       "92                               0.0                     0.0    0.0   \n",
       "93                               0.0                     0.0    0.0   \n",
       "95                               0.0                     0.0    0.0   \n",
       "96                               0.0                     0.0    0.0   \n",
       "97                               0.0                     0.0    0.0   \n",
       "100                              0.0                     0.0    0.0   \n",
       "101                              0.0                     0.0    0.0   \n",
       "102                              0.0                     0.0    0.0   \n",
       "103                              0.0                     0.0    0.0   \n",
       "104                              0.0                     0.0    0.0   \n",
       "106                              0.0                     0.0    0.0   \n",
       "107                              0.0                     0.0    0.0   \n",
       "109                              0.0                     0.0    0.0   \n",
       "110                              0.0                     0.0    0.0   \n",
       "112                              0.0                     0.0    0.0   \n",
       "115                              0.0                     0.0    0.0   \n",
       "116                              0.0                     0.0    0.0   \n",
       "117                              0.0                     0.0    0.0   \n",
       "120                              0.0                     0.0    0.0   \n",
       "121                              0.0                     0.0    0.0   \n",
       "123                              0.0                     0.0    0.0   \n",
       "125                              0.0                     0.0    0.0   \n",
       "127                              0.0                     0.0    0.0   \n",
       "128                              0.0                     0.0    0.0   \n",
       "129                              0.0                     0.0    0.0   \n",
       "137                              0.0                     0.0    0.0   \n",
       "149                              0.0                     0.0    0.0   \n",
       "\n",
       "     systemic weakness  myocardial infarction  septic shock  days  \n",
       "4                  0.0                    0.0           0.0    -7  \n",
       "68                 0.0                    0.0           0.0    -2  \n",
       "76                 0.0                    0.0           0.0    -1  \n",
       "77                 0.0                    0.0           1.0    -1  \n",
       "79                 0.0                    0.0           0.0    -7  \n",
       "80                 0.0                    0.0           1.0    -1  \n",
       "81                 0.0                    0.0           1.0    -2  \n",
       "83                 0.0                    0.0           0.0    -5  \n",
       "84                 0.0                    0.0           1.0    -2  \n",
       "85                 0.0                    0.0           0.0    -1  \n",
       "86                 0.0                    1.0           0.0    -1  \n",
       "91                 0.0                    0.0           0.0    -5  \n",
       "92                 0.0                    0.0           0.0    -6  \n",
       "93                 0.0                    0.0           0.0    -8  \n",
       "95                 0.0                    0.0           0.0    -4  \n",
       "96                 0.0                    0.0           1.0    -1  \n",
       "97                 0.0                    0.0           0.0    -7  \n",
       "100                0.0                    0.0           0.0    -4  \n",
       "101                0.0                    0.0           0.0    -5  \n",
       "102                0.0                    0.0           0.0    -3  \n",
       "103                0.0                    0.0           1.0    -1  \n",
       "104                0.0                    0.0           0.0    -1  \n",
       "106                0.0                    0.0           0.0    -4  \n",
       "107                0.0                    1.0           0.0    -5  \n",
       "109                0.0                    0.0           0.0    -4  \n",
       "110                0.0                    0.0           0.0    -3  \n",
       "112                0.0                    0.0           0.0   -10  \n",
       "115                0.0                    0.0           0.0    -2  \n",
       "116                0.0                    0.0           0.0    -1  \n",
       "117                0.0                    0.0           0.0    -6  \n",
       "120                0.0                    0.0           0.0    -1  \n",
       "121                0.0                    0.0           0.0    -2  \n",
       "123                0.0                    0.0           0.0    -6  \n",
       "125                0.0                    1.0           0.0    -5  \n",
       "127                0.0                    0.0           0.0    -3  \n",
       "128                0.0                    0.0           0.0    -1  \n",
       "129                0.0                    0.0           0.0    -6  \n",
       "137                0.0                    0.0           0.0    -6  \n",
       "149                0.0                    0.0           0.0    -7  \n",
       "\n",
       "[39 rows x 62 columns]"
      ],
      "text/html": "<div>\n<style scoped>\n    .dataframe tbody tr th:only-of-type {\n        vertical-align: middle;\n    }\n\n    .dataframe tbody tr th {\n        vertical-align: top;\n    }\n\n    .dataframe thead th {\n        text-align: right;\n    }\n</style>\n<table border=\"1\" class=\"dataframe\">\n  <thead>\n    <tr style=\"text-align: right;\">\n      <th></th>\n      <th>date_confirmation</th>\n      <th>date_death_or_discharge</th>\n      <th>outcome</th>\n      <th>symptoms</th>\n      <th>acute renal failure</th>\n      <th>gastritis</th>\n      <th>cough</th>\n      <th>respiratory symptoms</th>\n      <th>mialgia</th>\n      <th>chest distress</th>\n      <th>...</th>\n      <th>dyspnea</th>\n      <th>acute respiratory disease syndrome</th>\n      <th>chills</th>\n      <th>kidney failure and hypertension</th>\n      <th>multiple organ failure</th>\n      <th>colds</th>\n      <th>systemic weakness</th>\n      <th>myocardial infarction</th>\n      <th>septic shock</th>\n      <th>days</th>\n    </tr>\n  </thead>\n  <tbody>\n    <tr>\n      <th>4</th>\n      <td>24.01.2020</td>\n      <td>17.01.2020</td>\n      <td>0</td>\n      <td>cough, fever, shortness of breath</td>\n      <td>0.0</td>\n      <td>0.0</td>\n      <td>1.0</td>\n      <td>0.0</td>\n      <td>0.0</td>\n      <td>0.0</td>\n      <td>...</td>\n      <td>0.0</td>\n      <td>0.0</td>\n      <td>0.0</td>\n      <td>0.0</td>\n      <td>0.0</td>\n      <td>0.0</td>\n      <td>0.0</td>\n      <td>0.0</td>\n      <td>0.0</td>\n      <td>-7</td>\n    </tr>\n    <tr>\n      <th>68</th>\n      <td>13.03.2020</td>\n      <td>11.03.2020</td>\n      <td>1</td>\n      <td>acute respiratory failure:pneumonia</td>\n      <td>0.0</td>\n      <td>0.0</td>\n      <td>0.0</td>\n      <td>0.0</td>\n      <td>0.0</td>\n      <td>0.0</td>\n      <td>...</td>\n      <td>0.0</td>\n      <td>0.0</td>\n      <td>0.0</td>\n      <td>0.0</td>\n      <td>0.0</td>\n      <td>0.0</td>\n      <td>0.0</td>\n      <td>0.0</td>\n      <td>0.0</td>\n      <td>-2</td>\n    </tr>\n    <tr>\n      <th>76</th>\n      <td>18.03.2020</td>\n      <td>17.03.2020</td>\n      <td>1</td>\n      <td>acute respiratory distress syndrome</td>\n      <td>0.0</td>\n      <td>0.0</td>\n      <td>0.0</td>\n      <td>0.0</td>\n      <td>0.0</td>\n      <td>0.0</td>\n      <td>...</td>\n      <td>0.0</td>\n      <td>0.0</td>\n      <td>0.0</td>\n      <td>0.0</td>\n      <td>0.0</td>\n      <td>0.0</td>\n      <td>0.0</td>\n      <td>0.0</td>\n      <td>0.0</td>\n      <td>-1</td>\n    </tr>\n    <tr>\n      <th>77</th>\n      <td>19.03.2020</td>\n      <td>18.03.2020</td>\n      <td>1</td>\n      <td>cardiac arrhythmia:septic shock:pneumonia</td>\n      <td>0.0</td>\n      <td>0.0</td>\n      <td>0.0</td>\n      <td>0.0</td>\n      <td>0.0</td>\n      <td>0.0</td>\n      <td>...</td>\n      <td>0.0</td>\n      <td>0.0</td>\n      <td>0.0</td>\n      <td>0.0</td>\n      <td>0.0</td>\n      <td>0.0</td>\n      <td>0.0</td>\n      <td>0.0</td>\n      <td>1.0</td>\n      <td>-1</td>\n    </tr>\n    <tr>\n      <th>79</th>\n      <td>21.03.2020</td>\n      <td>14.03.2020</td>\n      <td>1</td>\n      <td>pneumonia:acute respiratory failure:heart failure</td>\n      <td>0.0</td>\n      <td>0.0</td>\n      <td>0.0</td>\n      <td>0.0</td>\n      <td>0.0</td>\n      <td>0.0</td>\n      <td>...</td>\n      <td>0.0</td>\n      <td>0.0</td>\n      <td>0.0</td>\n      <td>0.0</td>\n      <td>0.0</td>\n      <td>0.0</td>\n      <td>0.0</td>\n      <td>0.0</td>\n      <td>0.0</td>\n      <td>-7</td>\n    </tr>\n    <tr>\n      <th>80</th>\n      <td>21.03.2020</td>\n      <td>20.03.2020</td>\n      <td>1</td>\n      <td>septic shock:pneumonia</td>\n      <td>0.0</td>\n      <td>0.0</td>\n      <td>0.0</td>\n      <td>0.0</td>\n      <td>0.0</td>\n      <td>0.0</td>\n      <td>...</td>\n      <td>0.0</td>\n      <td>0.0</td>\n      <td>0.0</td>\n      <td>0.0</td>\n      <td>0.0</td>\n      <td>0.0</td>\n      <td>0.0</td>\n      <td>0.0</td>\n      <td>1.0</td>\n      <td>-1</td>\n    </tr>\n    <tr>\n      <th>81</th>\n      <td>21.03.2020</td>\n      <td>19.03.2020</td>\n      <td>1</td>\n      <td>acute respiratory distress syndrome:pneumonia:...</td>\n      <td>0.0</td>\n      <td>0.0</td>\n      <td>0.0</td>\n      <td>0.0</td>\n      <td>0.0</td>\n      <td>0.0</td>\n      <td>...</td>\n      <td>0.0</td>\n      <td>0.0</td>\n      <td>0.0</td>\n      <td>0.0</td>\n      <td>0.0</td>\n      <td>0.0</td>\n      <td>0.0</td>\n      <td>0.0</td>\n      <td>1.0</td>\n      <td>-2</td>\n    </tr>\n    <tr>\n      <th>83</th>\n      <td>21.03.2020</td>\n      <td>16.03.2020</td>\n      <td>1</td>\n      <td>pneumonia</td>\n      <td>0.0</td>\n      <td>0.0</td>\n      <td>0.0</td>\n      <td>0.0</td>\n      <td>0.0</td>\n      <td>0.0</td>\n      <td>...</td>\n      <td>0.0</td>\n      <td>0.0</td>\n      <td>0.0</td>\n      <td>0.0</td>\n      <td>0.0</td>\n      <td>0.0</td>\n      <td>0.0</td>\n      <td>0.0</td>\n      <td>0.0</td>\n      <td>-5</td>\n    </tr>\n    <tr>\n      <th>84</th>\n      <td>21.03.2020</td>\n      <td>19.03.2020</td>\n      <td>1</td>\n      <td>septic shock:pneumonia</td>\n      <td>0.0</td>\n      <td>0.0</td>\n      <td>0.0</td>\n      <td>0.0</td>\n      <td>0.0</td>\n      <td>0.0</td>\n      <td>...</td>\n      <td>0.0</td>\n      <td>0.0</td>\n      <td>0.0</td>\n      <td>0.0</td>\n      <td>0.0</td>\n      <td>0.0</td>\n      <td>0.0</td>\n      <td>0.0</td>\n      <td>1.0</td>\n      <td>-2</td>\n    </tr>\n    <tr>\n      <th>85</th>\n      <td>23.01.2020</td>\n      <td>22.01.2020</td>\n      <td>1</td>\n      <td>chest distress, dyspnea</td>\n      <td>0.0</td>\n      <td>0.0</td>\n      <td>0.0</td>\n      <td>0.0</td>\n      <td>0.0</td>\n      <td>1.0</td>\n      <td>...</td>\n      <td>1.0</td>\n      <td>0.0</td>\n      <td>0.0</td>\n      <td>0.0</td>\n      <td>0.0</td>\n      <td>0.0</td>\n      <td>0.0</td>\n      <td>0.0</td>\n      <td>0.0</td>\n      <td>-1</td>\n    </tr>\n    <tr>\n      <th>86</th>\n      <td>21.03.2020</td>\n      <td>20.03.2020</td>\n      <td>1</td>\n      <td>myocardial infarction:pneumonia:multiple elect...</td>\n      <td>0.0</td>\n      <td>0.0</td>\n      <td>0.0</td>\n      <td>0.0</td>\n      <td>0.0</td>\n      <td>0.0</td>\n      <td>...</td>\n      <td>0.0</td>\n      <td>0.0</td>\n      <td>0.0</td>\n      <td>0.0</td>\n      <td>0.0</td>\n      <td>0.0</td>\n      <td>0.0</td>\n      <td>1.0</td>\n      <td>0.0</td>\n      <td>-1</td>\n    </tr>\n    <tr>\n      <th>91</th>\n      <td>21.03.2020</td>\n      <td>16.03.2020</td>\n      <td>1</td>\n      <td>acute respiratory distress:pneumonia</td>\n      <td>0.0</td>\n      <td>0.0</td>\n      <td>0.0</td>\n      <td>0.0</td>\n      <td>0.0</td>\n      <td>0.0</td>\n      <td>...</td>\n      <td>0.0</td>\n      <td>0.0</td>\n      <td>0.0</td>\n      <td>0.0</td>\n      <td>0.0</td>\n      <td>0.0</td>\n      <td>0.0</td>\n      <td>0.0</td>\n      <td>0.0</td>\n      <td>-5</td>\n    </tr>\n    <tr>\n      <th>92</th>\n      <td>21.03.2020</td>\n      <td>15.03.2020</td>\n      <td>1</td>\n      <td>acute myocardial infarction</td>\n      <td>0.0</td>\n      <td>0.0</td>\n      <td>0.0</td>\n      <td>0.0</td>\n      <td>0.0</td>\n      <td>0.0</td>\n      <td>...</td>\n      <td>0.0</td>\n      <td>0.0</td>\n      <td>0.0</td>\n      <td>0.0</td>\n      <td>0.0</td>\n      <td>0.0</td>\n      <td>0.0</td>\n      <td>0.0</td>\n      <td>0.0</td>\n      <td>-6</td>\n    </tr>\n    <tr>\n      <th>93</th>\n      <td>21.03.2020</td>\n      <td>13.03.2020</td>\n      <td>1</td>\n      <td>acute respiratory failure:pneumonia</td>\n      <td>0.0</td>\n      <td>0.0</td>\n      <td>0.0</td>\n      <td>0.0</td>\n      <td>0.0</td>\n      <td>0.0</td>\n      <td>...</td>\n      <td>0.0</td>\n      <td>0.0</td>\n      <td>0.0</td>\n      <td>0.0</td>\n      <td>0.0</td>\n      <td>0.0</td>\n      <td>0.0</td>\n      <td>0.0</td>\n      <td>0.0</td>\n      <td>-8</td>\n    </tr>\n    <tr>\n      <th>95</th>\n      <td>21.03.2020</td>\n      <td>17.03.2020</td>\n      <td>1</td>\n      <td>acute respiratory failure:pneumonia</td>\n      <td>0.0</td>\n      <td>0.0</td>\n      <td>0.0</td>\n      <td>0.0</td>\n      <td>0.0</td>\n      <td>0.0</td>\n      <td>...</td>\n      <td>0.0</td>\n      <td>0.0</td>\n      <td>0.0</td>\n      <td>0.0</td>\n      <td>0.0</td>\n      <td>0.0</td>\n      <td>0.0</td>\n      <td>0.0</td>\n      <td>0.0</td>\n      <td>-4</td>\n    </tr>\n    <tr>\n      <th>96</th>\n      <td>20.03.2020</td>\n      <td>19.03.2020</td>\n      <td>1</td>\n      <td>septic shock:pneumonia</td>\n      <td>0.0</td>\n      <td>0.0</td>\n      <td>0.0</td>\n      <td>0.0</td>\n      <td>0.0</td>\n      <td>0.0</td>\n      <td>...</td>\n      <td>0.0</td>\n      <td>0.0</td>\n      <td>0.0</td>\n      <td>0.0</td>\n      <td>0.0</td>\n      <td>0.0</td>\n      <td>0.0</td>\n      <td>0.0</td>\n      <td>1.0</td>\n      <td>-1</td>\n    </tr>\n    <tr>\n      <th>97</th>\n      <td>20.03.2020</td>\n      <td>13.03.2020</td>\n      <td>1</td>\n      <td>acute coronary syndrome:congestive heart failu...</td>\n      <td>0.0</td>\n      <td>0.0</td>\n      <td>0.0</td>\n      <td>0.0</td>\n      <td>0.0</td>\n      <td>0.0</td>\n      <td>...</td>\n      <td>0.0</td>\n      <td>0.0</td>\n      <td>0.0</td>\n      <td>0.0</td>\n      <td>0.0</td>\n      <td>0.0</td>\n      <td>0.0</td>\n      <td>0.0</td>\n      <td>0.0</td>\n      <td>-7</td>\n    </tr>\n    <tr>\n      <th>100</th>\n      <td>22.03.2020</td>\n      <td>18.03.2020</td>\n      <td>1</td>\n      <td>pneumonia</td>\n      <td>0.0</td>\n      <td>0.0</td>\n      <td>0.0</td>\n      <td>0.0</td>\n      <td>0.0</td>\n      <td>0.0</td>\n      <td>...</td>\n      <td>0.0</td>\n      <td>0.0</td>\n      <td>0.0</td>\n      <td>0.0</td>\n      <td>0.0</td>\n      <td>0.0</td>\n      <td>0.0</td>\n      <td>0.0</td>\n      <td>0.0</td>\n      <td>-4</td>\n    </tr>\n    <tr>\n      <th>101</th>\n      <td>22.03.2020</td>\n      <td>17.03.2020</td>\n      <td>1</td>\n      <td>acute respiratory failure:sepsis:pneumonia</td>\n      <td>0.0</td>\n      <td>0.0</td>\n      <td>0.0</td>\n      <td>0.0</td>\n      <td>0.0</td>\n      <td>0.0</td>\n      <td>...</td>\n      <td>0.0</td>\n      <td>0.0</td>\n      <td>0.0</td>\n      <td>0.0</td>\n      <td>0.0</td>\n      <td>0.0</td>\n      <td>0.0</td>\n      <td>0.0</td>\n      <td>0.0</td>\n      <td>-5</td>\n    </tr>\n    <tr>\n      <th>102</th>\n      <td>22.03.2020</td>\n      <td>19.03.2020</td>\n      <td>1</td>\n      <td>pneumonia</td>\n      <td>0.0</td>\n      <td>0.0</td>\n      <td>0.0</td>\n      <td>0.0</td>\n      <td>0.0</td>\n      <td>0.0</td>\n      <td>...</td>\n      <td>0.0</td>\n      <td>0.0</td>\n      <td>0.0</td>\n      <td>0.0</td>\n      <td>0.0</td>\n      <td>0.0</td>\n      <td>0.0</td>\n      <td>0.0</td>\n      <td>0.0</td>\n      <td>-3</td>\n    </tr>\n    <tr>\n      <th>103</th>\n      <td>22.03.2020</td>\n      <td>21.03.2020</td>\n      <td>1</td>\n      <td>septic shock:pneumonia</td>\n      <td>0.0</td>\n      <td>0.0</td>\n      <td>0.0</td>\n      <td>0.0</td>\n      <td>0.0</td>\n      <td>0.0</td>\n      <td>...</td>\n      <td>0.0</td>\n      <td>0.0</td>\n      <td>0.0</td>\n      <td>0.0</td>\n      <td>0.0</td>\n      <td>0.0</td>\n      <td>0.0</td>\n      <td>0.0</td>\n      <td>1.0</td>\n      <td>-1</td>\n    </tr>\n    <tr>\n      <th>104</th>\n      <td>23.03.2020</td>\n      <td>03.22.2020</td>\n      <td>1</td>\n      <td>acute respiratory failure:pneumonia</td>\n      <td>0.0</td>\n      <td>0.0</td>\n      <td>0.0</td>\n      <td>0.0</td>\n      <td>0.0</td>\n      <td>0.0</td>\n      <td>...</td>\n      <td>0.0</td>\n      <td>0.0</td>\n      <td>0.0</td>\n      <td>0.0</td>\n      <td>0.0</td>\n      <td>0.0</td>\n      <td>0.0</td>\n      <td>0.0</td>\n      <td>0.0</td>\n      <td>-1</td>\n    </tr>\n    <tr>\n      <th>106</th>\n      <td>22.03.2020</td>\n      <td>18.03.2020</td>\n      <td>1</td>\n      <td>cardiogenic shock:acute coronary syndrome:hear...</td>\n      <td>0.0</td>\n      <td>0.0</td>\n      <td>0.0</td>\n      <td>0.0</td>\n      <td>0.0</td>\n      <td>0.0</td>\n      <td>...</td>\n      <td>0.0</td>\n      <td>0.0</td>\n      <td>0.0</td>\n      <td>0.0</td>\n      <td>0.0</td>\n      <td>0.0</td>\n      <td>0.0</td>\n      <td>0.0</td>\n      <td>0.0</td>\n      <td>-4</td>\n    </tr>\n    <tr>\n      <th>107</th>\n      <td>22.03.2020</td>\n      <td>17.03.2020</td>\n      <td>1</td>\n      <td>acute respiratory failure:pneumonia:myocardial...</td>\n      <td>0.0</td>\n      <td>0.0</td>\n      <td>0.0</td>\n      <td>0.0</td>\n      <td>0.0</td>\n      <td>0.0</td>\n      <td>...</td>\n      <td>0.0</td>\n      <td>0.0</td>\n      <td>0.0</td>\n      <td>0.0</td>\n      <td>0.0</td>\n      <td>0.0</td>\n      <td>0.0</td>\n      <td>1.0</td>\n      <td>0.0</td>\n      <td>-5</td>\n    </tr>\n    <tr>\n      <th>109</th>\n      <td>24.03.2020</td>\n      <td>20.03.2020</td>\n      <td>1</td>\n      <td>acute respiratory failure:pneumonia</td>\n      <td>0.0</td>\n      <td>0.0</td>\n      <td>0.0</td>\n      <td>0.0</td>\n      <td>0.0</td>\n      <td>0.0</td>\n      <td>...</td>\n      <td>0.0</td>\n      <td>0.0</td>\n      <td>0.0</td>\n      <td>0.0</td>\n      <td>0.0</td>\n      <td>0.0</td>\n      <td>0.0</td>\n      <td>0.0</td>\n      <td>0.0</td>\n      <td>-4</td>\n    </tr>\n    <tr>\n      <th>110</th>\n      <td>24.03.2020</td>\n      <td>21.03.2020</td>\n      <td>1</td>\n      <td>arrhythmia:acute respiratory distress syndrome...</td>\n      <td>0.0</td>\n      <td>0.0</td>\n      <td>0.0</td>\n      <td>0.0</td>\n      <td>0.0</td>\n      <td>0.0</td>\n      <td>...</td>\n      <td>0.0</td>\n      <td>0.0</td>\n      <td>0.0</td>\n      <td>0.0</td>\n      <td>0.0</td>\n      <td>0.0</td>\n      <td>0.0</td>\n      <td>0.0</td>\n      <td>0.0</td>\n      <td>-3</td>\n    </tr>\n    <tr>\n      <th>112</th>\n      <td>24.03.2020</td>\n      <td>14.03.2020</td>\n      <td>1</td>\n      <td>acute respiratory failure:pneumonia</td>\n      <td>0.0</td>\n      <td>0.0</td>\n      <td>0.0</td>\n      <td>0.0</td>\n      <td>0.0</td>\n      <td>0.0</td>\n      <td>...</td>\n      <td>0.0</td>\n      <td>0.0</td>\n      <td>0.0</td>\n      <td>0.0</td>\n      <td>0.0</td>\n      <td>0.0</td>\n      <td>0.0</td>\n      <td>0.0</td>\n      <td>0.0</td>\n      <td>-10</td>\n    </tr>\n    <tr>\n      <th>115</th>\n      <td>24.03.2020</td>\n      <td>22.03.2020</td>\n      <td>1</td>\n      <td>acute respiratory distress:pneumonia</td>\n      <td>0.0</td>\n      <td>0.0</td>\n      <td>0.0</td>\n      <td>0.0</td>\n      <td>0.0</td>\n      <td>0.0</td>\n      <td>...</td>\n      <td>0.0</td>\n      <td>0.0</td>\n      <td>0.0</td>\n      <td>0.0</td>\n      <td>0.0</td>\n      <td>0.0</td>\n      <td>0.0</td>\n      <td>0.0</td>\n      <td>0.0</td>\n      <td>-2</td>\n    </tr>\n    <tr>\n      <th>116</th>\n      <td>25.03.2020</td>\n      <td>24.03.2020</td>\n      <td>1</td>\n      <td>acute respiratory distress syndrome:pneumonia:...</td>\n      <td>0.0</td>\n      <td>0.0</td>\n      <td>0.0</td>\n      <td>0.0</td>\n      <td>0.0</td>\n      <td>0.0</td>\n      <td>...</td>\n      <td>0.0</td>\n      <td>0.0</td>\n      <td>0.0</td>\n      <td>0.0</td>\n      <td>0.0</td>\n      <td>0.0</td>\n      <td>0.0</td>\n      <td>0.0</td>\n      <td>0.0</td>\n      <td>-1</td>\n    </tr>\n    <tr>\n      <th>117</th>\n      <td>25.03.2020</td>\n      <td>19.03.2020</td>\n      <td>1</td>\n      <td>acute respiratory failure:acute kidney injury</td>\n      <td>0.0</td>\n      <td>0.0</td>\n      <td>0.0</td>\n      <td>0.0</td>\n      <td>0.0</td>\n      <td>0.0</td>\n      <td>...</td>\n      <td>0.0</td>\n      <td>0.0</td>\n      <td>0.0</td>\n      <td>0.0</td>\n      <td>0.0</td>\n      <td>0.0</td>\n      <td>0.0</td>\n      <td>0.0</td>\n      <td>0.0</td>\n      <td>-6</td>\n    </tr>\n    <tr>\n      <th>120</th>\n      <td>25.03.2020</td>\n      <td>24.03.2020</td>\n      <td>1</td>\n      <td>heart failure:pneumonia</td>\n      <td>0.0</td>\n      <td>0.0</td>\n      <td>0.0</td>\n      <td>0.0</td>\n      <td>0.0</td>\n      <td>0.0</td>\n      <td>...</td>\n      <td>0.0</td>\n      <td>0.0</td>\n      <td>0.0</td>\n      <td>0.0</td>\n      <td>0.0</td>\n      <td>0.0</td>\n      <td>0.0</td>\n      <td>0.0</td>\n      <td>0.0</td>\n      <td>-1</td>\n    </tr>\n    <tr>\n      <th>121</th>\n      <td>25.03.2020</td>\n      <td>23.03.2020</td>\n      <td>1</td>\n      <td>heart failure:pneumonia</td>\n      <td>0.0</td>\n      <td>0.0</td>\n      <td>0.0</td>\n      <td>0.0</td>\n      <td>0.0</td>\n      <td>0.0</td>\n      <td>...</td>\n      <td>0.0</td>\n      <td>0.0</td>\n      <td>0.0</td>\n      <td>0.0</td>\n      <td>0.0</td>\n      <td>0.0</td>\n      <td>0.0</td>\n      <td>0.0</td>\n      <td>0.0</td>\n      <td>-2</td>\n    </tr>\n    <tr>\n      <th>123</th>\n      <td>25.03.2020</td>\n      <td>19.03.2020</td>\n      <td>1</td>\n      <td>pneumonia:congestive heart failure</td>\n      <td>0.0</td>\n      <td>0.0</td>\n      <td>0.0</td>\n      <td>0.0</td>\n      <td>0.0</td>\n      <td>0.0</td>\n      <td>...</td>\n      <td>0.0</td>\n      <td>0.0</td>\n      <td>0.0</td>\n      <td>0.0</td>\n      <td>0.0</td>\n      <td>0.0</td>\n      <td>0.0</td>\n      <td>0.0</td>\n      <td>0.0</td>\n      <td>-6</td>\n    </tr>\n    <tr>\n      <th>125</th>\n      <td>25.03.2020</td>\n      <td>20.03.2020</td>\n      <td>1</td>\n      <td>myocardial infarction:acute respiratory distre...</td>\n      <td>0.0</td>\n      <td>0.0</td>\n      <td>0.0</td>\n      <td>0.0</td>\n      <td>0.0</td>\n      <td>0.0</td>\n      <td>...</td>\n      <td>0.0</td>\n      <td>0.0</td>\n      <td>0.0</td>\n      <td>0.0</td>\n      <td>0.0</td>\n      <td>0.0</td>\n      <td>0.0</td>\n      <td>1.0</td>\n      <td>0.0</td>\n      <td>-5</td>\n    </tr>\n    <tr>\n      <th>127</th>\n      <td>26.03.2020</td>\n      <td>23.03.2020</td>\n      <td>1</td>\n      <td>cardiopulmonary arrest; acute respiratory fail...</td>\n      <td>0.0</td>\n      <td>0.0</td>\n      <td>0.0</td>\n      <td>0.0</td>\n      <td>0.0</td>\n      <td>0.0</td>\n      <td>...</td>\n      <td>0.0</td>\n      <td>0.0</td>\n      <td>0.0</td>\n      <td>0.0</td>\n      <td>0.0</td>\n      <td>0.0</td>\n      <td>0.0</td>\n      <td>0.0</td>\n      <td>0.0</td>\n      <td>-3</td>\n    </tr>\n    <tr>\n      <th>128</th>\n      <td>26.03.2020</td>\n      <td>25.03.2020</td>\n      <td>1</td>\n      <td>acute respiratory failure:pneumonia</td>\n      <td>0.0</td>\n      <td>0.0</td>\n      <td>0.0</td>\n      <td>0.0</td>\n      <td>0.0</td>\n      <td>0.0</td>\n      <td>...</td>\n      <td>0.0</td>\n      <td>0.0</td>\n      <td>0.0</td>\n      <td>0.0</td>\n      <td>0.0</td>\n      <td>0.0</td>\n      <td>0.0</td>\n      <td>0.0</td>\n      <td>0.0</td>\n      <td>-1</td>\n    </tr>\n    <tr>\n      <th>129</th>\n      <td>27.03.2020</td>\n      <td>21.03.2020</td>\n      <td>1</td>\n      <td>acute respiratory distress syndrome:pneumonia</td>\n      <td>0.0</td>\n      <td>0.0</td>\n      <td>0.0</td>\n      <td>0.0</td>\n      <td>0.0</td>\n      <td>0.0</td>\n      <td>...</td>\n      <td>0.0</td>\n      <td>0.0</td>\n      <td>0.0</td>\n      <td>0.0</td>\n      <td>0.0</td>\n      <td>0.0</td>\n      <td>0.0</td>\n      <td>0.0</td>\n      <td>0.0</td>\n      <td>-6</td>\n    </tr>\n    <tr>\n      <th>137</th>\n      <td>27.03.2020</td>\n      <td>21.03.2020</td>\n      <td>1</td>\n      <td>acute respiratory distress syndrome: pneumonia</td>\n      <td>0.0</td>\n      <td>0.0</td>\n      <td>0.0</td>\n      <td>0.0</td>\n      <td>0.0</td>\n      <td>0.0</td>\n      <td>...</td>\n      <td>0.0</td>\n      <td>0.0</td>\n      <td>0.0</td>\n      <td>0.0</td>\n      <td>0.0</td>\n      <td>0.0</td>\n      <td>0.0</td>\n      <td>0.0</td>\n      <td>0.0</td>\n      <td>-6</td>\n    </tr>\n    <tr>\n      <th>149</th>\n      <td>24.01.2020</td>\n      <td>17.01.2020</td>\n      <td>0</td>\n      <td>cough, fever, shortness of breath</td>\n      <td>0.0</td>\n      <td>0.0</td>\n      <td>1.0</td>\n      <td>0.0</td>\n      <td>0.0</td>\n      <td>0.0</td>\n      <td>...</td>\n      <td>0.0</td>\n      <td>0.0</td>\n      <td>0.0</td>\n      <td>0.0</td>\n      <td>0.0</td>\n      <td>0.0</td>\n      <td>0.0</td>\n      <td>0.0</td>\n      <td>0.0</td>\n      <td>-7</td>\n    </tr>\n  </tbody>\n</table>\n<p>39 rows × 62 columns</p>\n</div>"
     },
     "metadata": {},
     "execution_count": 22
    }
   ],
   "source": [
    "filtered2 = filtered[filtered[\"days\"]<0]\n",
    "filtered2"
   ]
  },
  {
   "cell_type": "code",
   "execution_count": 23,
   "metadata": {
    "executionInfo": {
     "elapsed": 3205,
     "status": "ok",
     "timestamp": 1610679381794,
     "user": {
      "displayName": "장승운",
      "photoUrl": "",
      "userId": "09116233606503711736"
     },
     "user_tz": -540
    },
    "id": "APVw2WIYWNhR"
   },
   "outputs": [],
   "source": [
    "for idx in range(length):\n",
    "  d = int(filtered.loc[idx,['days']][0])\n",
    "  if d < 0:\n",
    "    conf = filtered.loc[idx,['date_confirmation']][0]\n",
    "    if '-' in conf:\n",
    "      a,b,c = conf.split(\" - \")[0].split('.')\n",
    "    else:\n",
    "      a,b,c = conf.split('.')\n",
    "    dead = filtered.loc[idx,['date_death_or_discharge']][0]\n",
    "    if '-' in dead:\n",
    "      x,y,z = dead.split(\" - \")[0].split('.')\n",
    "    else:\n",
    "      x,y,z = dead.split('.')\n",
    "\n",
    "    try:\n",
    "      death = datetime(int(z),int(x),int(y),0,0,0)\n",
    "      confirm = datetime(int(c),int(a),int(b),0,0,0)\n",
    "      filtered.loc[idx,['days']] = -(death-confirm).days\n",
    "    except:\n",
    "      filtered.loc[idx,['days']] = None\n",
    "  else:\n",
    "    pass\n"
   ]
  },
  {
   "cell_type": "code",
   "execution_count": 24,
   "metadata": {
    "executionInfo": {
     "elapsed": 1136,
     "status": "ok",
     "timestamp": 1610679382936,
     "user": {
      "displayName": "장승운",
      "photoUrl": "",
      "userId": "09116233606503711736"
     },
     "user_tz": -540
    },
    "id": "XkL2IqnqWjKP"
   },
   "outputs": [
    {
     "output_type": "execute_result",
     "data": {
      "text/plain": [
       "    date_confirmation date_death_or_discharge  outcome  \\\n",
       "0          21.01.2020              24.01.2020        0   \n",
       "1          21.01.2020              29.01.2020        0   \n",
       "2          24.01.2020              03.02.2020        0   \n",
       "3          15.01.2020              15.01.2020        0   \n",
       "5          23.01.2020              19.02.2020        0   \n",
       "..                ...                     ...      ...   \n",
       "151        24.01.2020              05.02.2020        0   \n",
       "152        25.01.2020              08.02.2020        0   \n",
       "153        08.02.2020              17.02.2020        0   \n",
       "154        11.03.2020              11.03.2020        1   \n",
       "155        05.04.2020              05.04.2020        1   \n",
       "\n",
       "                                              symptoms  acute renal failure  \\\n",
       "0                             fatigue, fever, headache                  0.0   \n",
       "1                                       fatigue, fever                  0.0   \n",
       "2                 systemic weakness, runny nose, fever                  0.0   \n",
       "3                            cough, fever, sore throat                  0.0   \n",
       "5                                         cough, fever                  0.0   \n",
       "..                                                 ...                  ...   \n",
       "151                                              fever                  0.0   \n",
       "152                                       cough, fever                  0.0   \n",
       "153                                           diarrhea                  0.0   \n",
       "154            severe, kidney failure and hypertension                  0.0   \n",
       "155  torpid evolution with respiratory distress and...                  0.0   \n",
       "\n",
       "     gastritis  cough  respiratory symptoms  mialgia  chest distress  ...  \\\n",
       "0          0.0    0.0                   0.0      0.0             0.0  ...   \n",
       "1          0.0    0.0                   0.0      0.0             0.0  ...   \n",
       "2          0.0    0.0                   0.0      0.0             0.0  ...   \n",
       "3          0.0    1.0                   0.0      0.0             0.0  ...   \n",
       "5          0.0    1.0                   0.0      0.0             0.0  ...   \n",
       "..         ...    ...                   ...      ...             ...  ...   \n",
       "151        0.0    0.0                   0.0      0.0             0.0  ...   \n",
       "152        0.0    1.0                   0.0      0.0             0.0  ...   \n",
       "153        0.0    0.0                   0.0      0.0             0.0  ...   \n",
       "154        0.0    0.0                   0.0      0.0             0.0  ...   \n",
       "155        0.0    0.0                   0.0      0.0             0.0  ...   \n",
       "\n",
       "     dyspnea  acute respiratory disease syndrome  chills  \\\n",
       "0        0.0                                 0.0     0.0   \n",
       "1        0.0                                 0.0     0.0   \n",
       "2        0.0                                 0.0     0.0   \n",
       "3        0.0                                 0.0     0.0   \n",
       "5        0.0                                 0.0     0.0   \n",
       "..       ...                                 ...     ...   \n",
       "151      0.0                                 0.0     0.0   \n",
       "152      0.0                                 0.0     0.0   \n",
       "153      0.0                                 0.0     0.0   \n",
       "154      0.0                                 0.0     0.0   \n",
       "155      0.0                                 0.0     0.0   \n",
       "\n",
       "     kidney failure and hypertension  multiple organ failure  colds  \\\n",
       "0                                0.0                     0.0    0.0   \n",
       "1                                0.0                     0.0    0.0   \n",
       "2                                0.0                     0.0    0.0   \n",
       "3                                0.0                     0.0    0.0   \n",
       "5                                0.0                     0.0    0.0   \n",
       "..                               ...                     ...    ...   \n",
       "151                              0.0                     0.0    0.0   \n",
       "152                              0.0                     0.0    0.0   \n",
       "153                              0.0                     0.0    0.0   \n",
       "154                              1.0                     0.0    0.0   \n",
       "155                              0.0                     0.0    0.0   \n",
       "\n",
       "     systemic weakness  myocardial infarction  septic shock  days  \n",
       "0                  0.0                    0.0           0.0   3.0  \n",
       "1                  0.0                    0.0           0.0   8.0  \n",
       "2                  1.0                    0.0           0.0  10.0  \n",
       "3                  0.0                    0.0           0.0   0.0  \n",
       "5                  0.0                    0.0           0.0  27.0  \n",
       "..                 ...                    ...           ...   ...  \n",
       "151                0.0                    0.0           0.0  12.0  \n",
       "152                0.0                    0.0           0.0  14.0  \n",
       "153                0.0                    0.0           0.0   9.0  \n",
       "154                0.0                    0.0           0.0   0.0  \n",
       "155                0.0                    0.0           0.0   0.0  \n",
       "\n",
       "[117 rows x 62 columns]"
      ],
      "text/html": "<div>\n<style scoped>\n    .dataframe tbody tr th:only-of-type {\n        vertical-align: middle;\n    }\n\n    .dataframe tbody tr th {\n        vertical-align: top;\n    }\n\n    .dataframe thead th {\n        text-align: right;\n    }\n</style>\n<table border=\"1\" class=\"dataframe\">\n  <thead>\n    <tr style=\"text-align: right;\">\n      <th></th>\n      <th>date_confirmation</th>\n      <th>date_death_or_discharge</th>\n      <th>outcome</th>\n      <th>symptoms</th>\n      <th>acute renal failure</th>\n      <th>gastritis</th>\n      <th>cough</th>\n      <th>respiratory symptoms</th>\n      <th>mialgia</th>\n      <th>chest distress</th>\n      <th>...</th>\n      <th>dyspnea</th>\n      <th>acute respiratory disease syndrome</th>\n      <th>chills</th>\n      <th>kidney failure and hypertension</th>\n      <th>multiple organ failure</th>\n      <th>colds</th>\n      <th>systemic weakness</th>\n      <th>myocardial infarction</th>\n      <th>septic shock</th>\n      <th>days</th>\n    </tr>\n  </thead>\n  <tbody>\n    <tr>\n      <th>0</th>\n      <td>21.01.2020</td>\n      <td>24.01.2020</td>\n      <td>0</td>\n      <td>fatigue, fever, headache</td>\n      <td>0.0</td>\n      <td>0.0</td>\n      <td>0.0</td>\n      <td>0.0</td>\n      <td>0.0</td>\n      <td>0.0</td>\n      <td>...</td>\n      <td>0.0</td>\n      <td>0.0</td>\n      <td>0.0</td>\n      <td>0.0</td>\n      <td>0.0</td>\n      <td>0.0</td>\n      <td>0.0</td>\n      <td>0.0</td>\n      <td>0.0</td>\n      <td>3.0</td>\n    </tr>\n    <tr>\n      <th>1</th>\n      <td>21.01.2020</td>\n      <td>29.01.2020</td>\n      <td>0</td>\n      <td>fatigue, fever</td>\n      <td>0.0</td>\n      <td>0.0</td>\n      <td>0.0</td>\n      <td>0.0</td>\n      <td>0.0</td>\n      <td>0.0</td>\n      <td>...</td>\n      <td>0.0</td>\n      <td>0.0</td>\n      <td>0.0</td>\n      <td>0.0</td>\n      <td>0.0</td>\n      <td>0.0</td>\n      <td>0.0</td>\n      <td>0.0</td>\n      <td>0.0</td>\n      <td>8.0</td>\n    </tr>\n    <tr>\n      <th>2</th>\n      <td>24.01.2020</td>\n      <td>03.02.2020</td>\n      <td>0</td>\n      <td>systemic weakness, runny nose, fever</td>\n      <td>0.0</td>\n      <td>0.0</td>\n      <td>0.0</td>\n      <td>0.0</td>\n      <td>0.0</td>\n      <td>0.0</td>\n      <td>...</td>\n      <td>0.0</td>\n      <td>0.0</td>\n      <td>0.0</td>\n      <td>0.0</td>\n      <td>0.0</td>\n      <td>0.0</td>\n      <td>1.0</td>\n      <td>0.0</td>\n      <td>0.0</td>\n      <td>10.0</td>\n    </tr>\n    <tr>\n      <th>3</th>\n      <td>15.01.2020</td>\n      <td>15.01.2020</td>\n      <td>0</td>\n      <td>cough, fever, sore throat</td>\n      <td>0.0</td>\n      <td>0.0</td>\n      <td>1.0</td>\n      <td>0.0</td>\n      <td>0.0</td>\n      <td>0.0</td>\n      <td>...</td>\n      <td>0.0</td>\n      <td>0.0</td>\n      <td>0.0</td>\n      <td>0.0</td>\n      <td>0.0</td>\n      <td>0.0</td>\n      <td>0.0</td>\n      <td>0.0</td>\n      <td>0.0</td>\n      <td>0.0</td>\n    </tr>\n    <tr>\n      <th>5</th>\n      <td>23.01.2020</td>\n      <td>19.02.2020</td>\n      <td>0</td>\n      <td>cough, fever</td>\n      <td>0.0</td>\n      <td>0.0</td>\n      <td>1.0</td>\n      <td>0.0</td>\n      <td>0.0</td>\n      <td>0.0</td>\n      <td>...</td>\n      <td>0.0</td>\n      <td>0.0</td>\n      <td>0.0</td>\n      <td>0.0</td>\n      <td>0.0</td>\n      <td>0.0</td>\n      <td>0.0</td>\n      <td>0.0</td>\n      <td>0.0</td>\n      <td>27.0</td>\n    </tr>\n    <tr>\n      <th>...</th>\n      <td>...</td>\n      <td>...</td>\n      <td>...</td>\n      <td>...</td>\n      <td>...</td>\n      <td>...</td>\n      <td>...</td>\n      <td>...</td>\n      <td>...</td>\n      <td>...</td>\n      <td>...</td>\n      <td>...</td>\n      <td>...</td>\n      <td>...</td>\n      <td>...</td>\n      <td>...</td>\n      <td>...</td>\n      <td>...</td>\n      <td>...</td>\n      <td>...</td>\n      <td>...</td>\n    </tr>\n    <tr>\n      <th>151</th>\n      <td>24.01.2020</td>\n      <td>05.02.2020</td>\n      <td>0</td>\n      <td>fever</td>\n      <td>0.0</td>\n      <td>0.0</td>\n      <td>0.0</td>\n      <td>0.0</td>\n      <td>0.0</td>\n      <td>0.0</td>\n      <td>...</td>\n      <td>0.0</td>\n      <td>0.0</td>\n      <td>0.0</td>\n      <td>0.0</td>\n      <td>0.0</td>\n      <td>0.0</td>\n      <td>0.0</td>\n      <td>0.0</td>\n      <td>0.0</td>\n      <td>12.0</td>\n    </tr>\n    <tr>\n      <th>152</th>\n      <td>25.01.2020</td>\n      <td>08.02.2020</td>\n      <td>0</td>\n      <td>cough, fever</td>\n      <td>0.0</td>\n      <td>0.0</td>\n      <td>1.0</td>\n      <td>0.0</td>\n      <td>0.0</td>\n      <td>0.0</td>\n      <td>...</td>\n      <td>0.0</td>\n      <td>0.0</td>\n      <td>0.0</td>\n      <td>0.0</td>\n      <td>0.0</td>\n      <td>0.0</td>\n      <td>0.0</td>\n      <td>0.0</td>\n      <td>0.0</td>\n      <td>14.0</td>\n    </tr>\n    <tr>\n      <th>153</th>\n      <td>08.02.2020</td>\n      <td>17.02.2020</td>\n      <td>0</td>\n      <td>diarrhea</td>\n      <td>0.0</td>\n      <td>0.0</td>\n      <td>0.0</td>\n      <td>0.0</td>\n      <td>0.0</td>\n      <td>0.0</td>\n      <td>...</td>\n      <td>0.0</td>\n      <td>0.0</td>\n      <td>0.0</td>\n      <td>0.0</td>\n      <td>0.0</td>\n      <td>0.0</td>\n      <td>0.0</td>\n      <td>0.0</td>\n      <td>0.0</td>\n      <td>9.0</td>\n    </tr>\n    <tr>\n      <th>154</th>\n      <td>11.03.2020</td>\n      <td>11.03.2020</td>\n      <td>1</td>\n      <td>severe, kidney failure and hypertension</td>\n      <td>0.0</td>\n      <td>0.0</td>\n      <td>0.0</td>\n      <td>0.0</td>\n      <td>0.0</td>\n      <td>0.0</td>\n      <td>...</td>\n      <td>0.0</td>\n      <td>0.0</td>\n      <td>0.0</td>\n      <td>1.0</td>\n      <td>0.0</td>\n      <td>0.0</td>\n      <td>0.0</td>\n      <td>0.0</td>\n      <td>0.0</td>\n      <td>0.0</td>\n    </tr>\n    <tr>\n      <th>155</th>\n      <td>05.04.2020</td>\n      <td>05.04.2020</td>\n      <td>1</td>\n      <td>torpid evolution with respiratory distress and...</td>\n      <td>0.0</td>\n      <td>0.0</td>\n      <td>0.0</td>\n      <td>0.0</td>\n      <td>0.0</td>\n      <td>0.0</td>\n      <td>...</td>\n      <td>0.0</td>\n      <td>0.0</td>\n      <td>0.0</td>\n      <td>0.0</td>\n      <td>0.0</td>\n      <td>0.0</td>\n      <td>0.0</td>\n      <td>0.0</td>\n      <td>0.0</td>\n      <td>0.0</td>\n    </tr>\n  </tbody>\n</table>\n<p>117 rows × 62 columns</p>\n</div>"
     },
     "metadata": {},
     "execution_count": 24
    }
   ],
   "source": [
    "filtered = filtered.dropna()\n",
    "filtered"
   ]
  },
  {
   "cell_type": "markdown",
   "metadata": {},
   "source": [
    "## hr"
   ]
  },
  {
   "cell_type": "code",
   "execution_count": 25,
   "metadata": {
    "colab": {
     "base_uri": "https://localhost:8080/",
     "height": 406
    },
    "executionInfo": {
     "elapsed": 2008,
     "status": "ok",
     "timestamp": 1610679383877,
     "user": {
      "displayName": "장승운",
      "photoUrl": "",
      "userId": "09116233606503711736"
     },
     "user_tz": -540
    },
    "id": "LUccc6KtWNj8",
    "outputId": "46281fb6-1b7e-41ac-ec5a-3df133ea1c3f"
   },
   "outputs": [
    {
     "output_type": "execute_result",
     "data": {
      "text/plain": [
       "<AxesSubplot:xlabel='timeline'>"
      ]
     },
     "metadata": {},
     "execution_count": 25
    },
    {
     "output_type": "display_data",
     "data": {
      "text/plain": "<Figure size 864x432 with 1 Axes>",
      "image/svg+xml": "<?xml version=\"1.0\" encoding=\"utf-8\" standalone=\"no\"?>\r\n<!DOCTYPE svg PUBLIC \"-//W3C//DTD SVG 1.1//EN\"\r\n  \"http://www.w3.org/Graphics/SVG/1.1/DTD/svg11.dtd\">\r\n<!-- Created with matplotlib (https://matplotlib.org/) -->\r\n<svg height=\"370.91625pt\" version=\"1.1\" viewBox=\"0 0 706.903125 370.91625\" width=\"706.903125pt\" xmlns=\"http://www.w3.org/2000/svg\" xmlns:xlink=\"http://www.w3.org/1999/xlink\">\r\n <metadata>\r\n  <rdf:RDF xmlns:cc=\"http://creativecommons.org/ns#\" xmlns:dc=\"http://purl.org/dc/elements/1.1/\" xmlns:rdf=\"http://www.w3.org/1999/02/22-rdf-syntax-ns#\">\r\n   <cc:Work>\r\n    <dc:type rdf:resource=\"http://purl.org/dc/dcmitype/StillImage\"/>\r\n    <dc:date>2021-01-21T16:13:49.051668</dc:date>\r\n    <dc:format>image/svg+xml</dc:format>\r\n    <dc:creator>\r\n     <cc:Agent>\r\n      <dc:title>Matplotlib v3.3.2, https://matplotlib.org/</dc:title>\r\n     </cc:Agent>\r\n    </dc:creator>\r\n   </cc:Work>\r\n  </rdf:RDF>\r\n </metadata>\r\n <defs>\r\n  <style type=\"text/css\">*{stroke-linecap:butt;stroke-linejoin:round;}</style>\r\n </defs>\r\n <g id=\"figure_1\">\r\n  <g id=\"patch_1\">\r\n   <path d=\"M 0 370.91625 \r\nL 706.903125 370.91625 \r\nL 706.903125 0 \r\nL 0 0 \r\nz\r\n\" style=\"fill:none;\"/>\r\n  </g>\r\n  <g id=\"axes_1\">\r\n   <g id=\"patch_2\">\r\n    <path d=\"M 30.103125 333.36 \r\nL 699.703125 333.36 \r\nL 699.703125 7.2 \r\nL 30.103125 7.2 \r\nz\r\n\" style=\"fill:#ffffff;\"/>\r\n   </g>\r\n   <g id=\"PolyCollection_1\">\r\n    <defs>\r\n     <path d=\"M 60.539489 -348.890795 \r\nL 60.539489 -283.00594 \r\nL 83.084943 -283.00594 \r\nL 83.084943 -238.098132 \r\nL 105.630398 -238.098132 \r\nL 105.630398 -185.916477 \r\nL 128.175852 -185.916477 \r\nL 128.175852 -157.962632 \r\nL 150.721307 -157.962632 \r\nL 150.721307 -143.474428 \r\nL 173.266761 -143.474428 \r\nL 173.266761 -104.262557 \r\nL 195.812216 -104.262557 \r\nL 195.812216 -89.903548 \r\nL 218.35767 -89.903548 \r\nL 218.35767 -79.965885 \r\nL 240.903125 -79.965885 \r\nL 240.903125 -74.902851 \r\nL 263.44858 -74.902851 \r\nL 263.44858 -69.424516 \r\nL 285.994034 -69.424516 \r\nL 285.994034 -62.563031 \r\nL 308.539489 -62.563031 \r\nL 308.539489 -62.563031 \r\nL 331.084943 -62.563031 \r\nL 331.084943 -62.563031 \r\nL 353.630398 -62.563031 \r\nL 353.630398 -52.381705 \r\nL 376.175852 -52.381705 \r\nL 376.175852 -52.381705 \r\nL 398.721307 -52.381705 \r\nL 398.721307 -52.381705 \r\nL 421.266761 -52.381705 \r\nL 421.266761 -52.381705 \r\nL 443.812216 -52.381705 \r\nL 443.812216 -52.381705 \r\nL 466.35767 -52.381705 \r\nL 466.35767 -52.381705 \r\nL 488.903125 -52.381705 \r\nL 488.903125 -52.381705 \r\nL 669.266761 -52.381705 \r\nL 669.266761 -52.381705 \r\nL 669.266761 -149.727147 \r\nL 669.266761 -149.727147 \r\nL 669.266761 -149.727147 \r\nL 488.903125 -149.727147 \r\nL 488.903125 -149.727147 \r\nL 466.35767 -149.727147 \r\nL 466.35767 -149.727147 \r\nL 443.812216 -149.727147 \r\nL 443.812216 -149.727147 \r\nL 421.266761 -149.727147 \r\nL 421.266761 -149.727147 \r\nL 398.721307 -149.727147 \r\nL 398.721307 -149.727147 \r\nL 376.175852 -149.727147 \r\nL 376.175852 -149.727147 \r\nL 353.630398 -149.727147 \r\nL 353.630398 -157.472173 \r\nL 331.084943 -157.472173 \r\nL 331.084943 -157.472173 \r\nL 308.539489 -157.472173 \r\nL 308.539489 -157.472173 \r\nL 285.994034 -157.472173 \r\nL 285.994034 -163.63376 \r\nL 263.44858 -163.63376 \r\nL 263.44858 -168.942415 \r\nL 240.903125 -168.942415 \r\nL 240.903125 -173.944052 \r\nL 218.35767 -173.944052 \r\nL 218.35767 -183.712816 \r\nL 195.812216 -183.712816 \r\nL 195.812216 -197.757227 \r\nL 173.266761 -197.757227 \r\nL 173.266761 -234.400726 \r\nL 150.721307 -234.400726 \r\nL 150.721307 -247.489534 \r\nL 128.175852 -247.489534 \r\nL 128.175852 -272.290626 \r\nL 105.630398 -272.290626 \r\nL 105.630398 -315.591517 \r\nL 83.084943 -315.591517 \r\nL 83.084943 -348.890795 \r\nL 60.539489 -348.890795 \r\nz\r\n\" id=\"m6e3bc88a31\" style=\"stroke:#1f77b4;stroke-opacity:0.25;\"/>\r\n    </defs>\r\n    <g clip-path=\"url(#pb88e7d9daa)\">\r\n     <use style=\"fill:#1f77b4;fill-opacity:0.25;stroke:#1f77b4;stroke-opacity:0.25;\" x=\"0\" xlink:href=\"#m6e3bc88a31\" y=\"370.91625\"/>\r\n    </g>\r\n   </g>\r\n   <g id=\"matplotlib.axis_1\">\r\n    <g id=\"xtick_1\">\r\n     <g id=\"line2d_1\">\r\n      <defs>\r\n       <path d=\"M 0 0 \r\nL 0 3.5 \r\n\" id=\"m29f4d3f9e1\" style=\"stroke:#000000;stroke-width:0.8;\"/>\r\n      </defs>\r\n      <g>\r\n       <use style=\"stroke:#000000;stroke-width:0.8;\" x=\"60.539489\" xlink:href=\"#m29f4d3f9e1\" y=\"333.36\"/>\r\n      </g>\r\n     </g>\r\n     <g id=\"text_1\">\r\n      <!-- 0 -->\r\n      <g transform=\"translate(57.358239 347.958438)scale(0.1 -0.1)\">\r\n       <defs>\r\n        <path d=\"M 31.78125 66.40625 \r\nQ 24.171875 66.40625 20.328125 58.90625 \r\nQ 16.5 51.421875 16.5 36.375 \r\nQ 16.5 21.390625 20.328125 13.890625 \r\nQ 24.171875 6.390625 31.78125 6.390625 \r\nQ 39.453125 6.390625 43.28125 13.890625 \r\nQ 47.125 21.390625 47.125 36.375 \r\nQ 47.125 51.421875 43.28125 58.90625 \r\nQ 39.453125 66.40625 31.78125 66.40625 \r\nz\r\nM 31.78125 74.21875 \r\nQ 44.046875 74.21875 50.515625 64.515625 \r\nQ 56.984375 54.828125 56.984375 36.375 \r\nQ 56.984375 17.96875 50.515625 8.265625 \r\nQ 44.046875 -1.421875 31.78125 -1.421875 \r\nQ 19.53125 -1.421875 13.0625 8.265625 \r\nQ 6.59375 17.96875 6.59375 36.375 \r\nQ 6.59375 54.828125 13.0625 64.515625 \r\nQ 19.53125 74.21875 31.78125 74.21875 \r\nz\r\n\" id=\"DejaVuSans-48\"/>\r\n       </defs>\r\n       <use xlink:href=\"#DejaVuSans-48\"/>\r\n      </g>\r\n     </g>\r\n    </g>\r\n    <g id=\"xtick_2\">\r\n     <g id=\"line2d_2\">\r\n      <g>\r\n       <use style=\"stroke:#000000;stroke-width:0.8;\" x=\"173.266761\" xlink:href=\"#m29f4d3f9e1\" y=\"333.36\"/>\r\n      </g>\r\n     </g>\r\n     <g id=\"text_2\">\r\n      <!-- 5 -->\r\n      <g transform=\"translate(170.085511 347.958438)scale(0.1 -0.1)\">\r\n       <defs>\r\n        <path d=\"M 10.796875 72.90625 \r\nL 49.515625 72.90625 \r\nL 49.515625 64.59375 \r\nL 19.828125 64.59375 \r\nL 19.828125 46.734375 \r\nQ 21.96875 47.46875 24.109375 47.828125 \r\nQ 26.265625 48.1875 28.421875 48.1875 \r\nQ 40.625 48.1875 47.75 41.5 \r\nQ 54.890625 34.8125 54.890625 23.390625 \r\nQ 54.890625 11.625 47.5625 5.09375 \r\nQ 40.234375 -1.421875 26.90625 -1.421875 \r\nQ 22.3125 -1.421875 17.546875 -0.640625 \r\nQ 12.796875 0.140625 7.71875 1.703125 \r\nL 7.71875 11.625 \r\nQ 12.109375 9.234375 16.796875 8.0625 \r\nQ 21.484375 6.890625 26.703125 6.890625 \r\nQ 35.15625 6.890625 40.078125 11.328125 \r\nQ 45.015625 15.765625 45.015625 23.390625 \r\nQ 45.015625 31 40.078125 35.4375 \r\nQ 35.15625 39.890625 26.703125 39.890625 \r\nQ 22.75 39.890625 18.8125 39.015625 \r\nQ 14.890625 38.140625 10.796875 36.28125 \r\nz\r\n\" id=\"DejaVuSans-53\"/>\r\n       </defs>\r\n       <use xlink:href=\"#DejaVuSans-53\"/>\r\n      </g>\r\n     </g>\r\n    </g>\r\n    <g id=\"xtick_3\">\r\n     <g id=\"line2d_3\">\r\n      <g>\r\n       <use style=\"stroke:#000000;stroke-width:0.8;\" x=\"285.994034\" xlink:href=\"#m29f4d3f9e1\" y=\"333.36\"/>\r\n      </g>\r\n     </g>\r\n     <g id=\"text_3\">\r\n      <!-- 10 -->\r\n      <g transform=\"translate(279.631534 347.958438)scale(0.1 -0.1)\">\r\n       <defs>\r\n        <path d=\"M 12.40625 8.296875 \r\nL 28.515625 8.296875 \r\nL 28.515625 63.921875 \r\nL 10.984375 60.40625 \r\nL 10.984375 69.390625 \r\nL 28.421875 72.90625 \r\nL 38.28125 72.90625 \r\nL 38.28125 8.296875 \r\nL 54.390625 8.296875 \r\nL 54.390625 0 \r\nL 12.40625 0 \r\nz\r\n\" id=\"DejaVuSans-49\"/>\r\n       </defs>\r\n       <use xlink:href=\"#DejaVuSans-49\"/>\r\n       <use x=\"63.623047\" xlink:href=\"#DejaVuSans-48\"/>\r\n      </g>\r\n     </g>\r\n    </g>\r\n    <g id=\"xtick_4\">\r\n     <g id=\"line2d_4\">\r\n      <g>\r\n       <use style=\"stroke:#000000;stroke-width:0.8;\" x=\"398.721307\" xlink:href=\"#m29f4d3f9e1\" y=\"333.36\"/>\r\n      </g>\r\n     </g>\r\n     <g id=\"text_4\">\r\n      <!-- 15 -->\r\n      <g transform=\"translate(392.358807 347.958438)scale(0.1 -0.1)\">\r\n       <use xlink:href=\"#DejaVuSans-49\"/>\r\n       <use x=\"63.623047\" xlink:href=\"#DejaVuSans-53\"/>\r\n      </g>\r\n     </g>\r\n    </g>\r\n    <g id=\"xtick_5\">\r\n     <g id=\"line2d_5\">\r\n      <g>\r\n       <use style=\"stroke:#000000;stroke-width:0.8;\" x=\"511.44858\" xlink:href=\"#m29f4d3f9e1\" y=\"333.36\"/>\r\n      </g>\r\n     </g>\r\n     <g id=\"text_5\">\r\n      <!-- 20 -->\r\n      <g transform=\"translate(505.08608 347.958438)scale(0.1 -0.1)\">\r\n       <defs>\r\n        <path d=\"M 19.1875 8.296875 \r\nL 53.609375 8.296875 \r\nL 53.609375 0 \r\nL 7.328125 0 \r\nL 7.328125 8.296875 \r\nQ 12.9375 14.109375 22.625 23.890625 \r\nQ 32.328125 33.6875 34.8125 36.53125 \r\nQ 39.546875 41.84375 41.421875 45.53125 \r\nQ 43.3125 49.21875 43.3125 52.78125 \r\nQ 43.3125 58.59375 39.234375 62.25 \r\nQ 35.15625 65.921875 28.609375 65.921875 \r\nQ 23.96875 65.921875 18.8125 64.3125 \r\nQ 13.671875 62.703125 7.8125 59.421875 \r\nL 7.8125 69.390625 \r\nQ 13.765625 71.78125 18.9375 73 \r\nQ 24.125 74.21875 28.421875 74.21875 \r\nQ 39.75 74.21875 46.484375 68.546875 \r\nQ 53.21875 62.890625 53.21875 53.421875 \r\nQ 53.21875 48.921875 51.53125 44.890625 \r\nQ 49.859375 40.875 45.40625 35.40625 \r\nQ 44.1875 33.984375 37.640625 27.21875 \r\nQ 31.109375 20.453125 19.1875 8.296875 \r\nz\r\n\" id=\"DejaVuSans-50\"/>\r\n       </defs>\r\n       <use xlink:href=\"#DejaVuSans-50\"/>\r\n       <use x=\"63.623047\" xlink:href=\"#DejaVuSans-48\"/>\r\n      </g>\r\n     </g>\r\n    </g>\r\n    <g id=\"xtick_6\">\r\n     <g id=\"line2d_6\">\r\n      <g>\r\n       <use style=\"stroke:#000000;stroke-width:0.8;\" x=\"624.175852\" xlink:href=\"#m29f4d3f9e1\" y=\"333.36\"/>\r\n      </g>\r\n     </g>\r\n     <g id=\"text_6\">\r\n      <!-- 25 -->\r\n      <g transform=\"translate(617.813352 347.958438)scale(0.1 -0.1)\">\r\n       <use xlink:href=\"#DejaVuSans-50\"/>\r\n       <use x=\"63.623047\" xlink:href=\"#DejaVuSans-53\"/>\r\n      </g>\r\n     </g>\r\n    </g>\r\n    <g id=\"text_7\">\r\n     <!-- timeline -->\r\n     <g transform=\"translate(344.583594 361.636562)scale(0.1 -0.1)\">\r\n      <defs>\r\n       <path d=\"M 18.3125 70.21875 \r\nL 18.3125 54.6875 \r\nL 36.8125 54.6875 \r\nL 36.8125 47.703125 \r\nL 18.3125 47.703125 \r\nL 18.3125 18.015625 \r\nQ 18.3125 11.328125 20.140625 9.421875 \r\nQ 21.96875 7.515625 27.59375 7.515625 \r\nL 36.8125 7.515625 \r\nL 36.8125 0 \r\nL 27.59375 0 \r\nQ 17.1875 0 13.234375 3.875 \r\nQ 9.28125 7.765625 9.28125 18.015625 \r\nL 9.28125 47.703125 \r\nL 2.6875 47.703125 \r\nL 2.6875 54.6875 \r\nL 9.28125 54.6875 \r\nL 9.28125 70.21875 \r\nz\r\n\" id=\"DejaVuSans-116\"/>\r\n       <path d=\"M 9.421875 54.6875 \r\nL 18.40625 54.6875 \r\nL 18.40625 0 \r\nL 9.421875 0 \r\nz\r\nM 9.421875 75.984375 \r\nL 18.40625 75.984375 \r\nL 18.40625 64.59375 \r\nL 9.421875 64.59375 \r\nz\r\n\" id=\"DejaVuSans-105\"/>\r\n       <path d=\"M 52 44.1875 \r\nQ 55.375 50.25 60.0625 53.125 \r\nQ 64.75 56 71.09375 56 \r\nQ 79.640625 56 84.28125 50.015625 \r\nQ 88.921875 44.046875 88.921875 33.015625 \r\nL 88.921875 0 \r\nL 79.890625 0 \r\nL 79.890625 32.71875 \r\nQ 79.890625 40.578125 77.09375 44.375 \r\nQ 74.3125 48.1875 68.609375 48.1875 \r\nQ 61.625 48.1875 57.5625 43.546875 \r\nQ 53.515625 38.921875 53.515625 30.90625 \r\nL 53.515625 0 \r\nL 44.484375 0 \r\nL 44.484375 32.71875 \r\nQ 44.484375 40.625 41.703125 44.40625 \r\nQ 38.921875 48.1875 33.109375 48.1875 \r\nQ 26.21875 48.1875 22.15625 43.53125 \r\nQ 18.109375 38.875 18.109375 30.90625 \r\nL 18.109375 0 \r\nL 9.078125 0 \r\nL 9.078125 54.6875 \r\nL 18.109375 54.6875 \r\nL 18.109375 46.1875 \r\nQ 21.1875 51.21875 25.484375 53.609375 \r\nQ 29.78125 56 35.6875 56 \r\nQ 41.65625 56 45.828125 52.96875 \r\nQ 50 49.953125 52 44.1875 \r\nz\r\n\" id=\"DejaVuSans-109\"/>\r\n       <path d=\"M 56.203125 29.59375 \r\nL 56.203125 25.203125 \r\nL 14.890625 25.203125 \r\nQ 15.484375 15.921875 20.484375 11.0625 \r\nQ 25.484375 6.203125 34.421875 6.203125 \r\nQ 39.59375 6.203125 44.453125 7.46875 \r\nQ 49.3125 8.734375 54.109375 11.28125 \r\nL 54.109375 2.78125 \r\nQ 49.265625 0.734375 44.1875 -0.34375 \r\nQ 39.109375 -1.421875 33.890625 -1.421875 \r\nQ 20.796875 -1.421875 13.15625 6.1875 \r\nQ 5.515625 13.8125 5.515625 26.8125 \r\nQ 5.515625 40.234375 12.765625 48.109375 \r\nQ 20.015625 56 32.328125 56 \r\nQ 43.359375 56 49.78125 48.890625 \r\nQ 56.203125 41.796875 56.203125 29.59375 \r\nz\r\nM 47.21875 32.234375 \r\nQ 47.125 39.59375 43.09375 43.984375 \r\nQ 39.0625 48.390625 32.421875 48.390625 \r\nQ 24.90625 48.390625 20.390625 44.140625 \r\nQ 15.875 39.890625 15.1875 32.171875 \r\nz\r\n\" id=\"DejaVuSans-101\"/>\r\n       <path d=\"M 9.421875 75.984375 \r\nL 18.40625 75.984375 \r\nL 18.40625 0 \r\nL 9.421875 0 \r\nz\r\n\" id=\"DejaVuSans-108\"/>\r\n       <path d=\"M 54.890625 33.015625 \r\nL 54.890625 0 \r\nL 45.90625 0 \r\nL 45.90625 32.71875 \r\nQ 45.90625 40.484375 42.875 44.328125 \r\nQ 39.84375 48.1875 33.796875 48.1875 \r\nQ 26.515625 48.1875 22.3125 43.546875 \r\nQ 18.109375 38.921875 18.109375 30.90625 \r\nL 18.109375 0 \r\nL 9.078125 0 \r\nL 9.078125 54.6875 \r\nL 18.109375 54.6875 \r\nL 18.109375 46.1875 \r\nQ 21.34375 51.125 25.703125 53.5625 \r\nQ 30.078125 56 35.796875 56 \r\nQ 45.21875 56 50.046875 50.171875 \r\nQ 54.890625 44.34375 54.890625 33.015625 \r\nz\r\n\" id=\"DejaVuSans-110\"/>\r\n      </defs>\r\n      <use xlink:href=\"#DejaVuSans-116\"/>\r\n      <use x=\"39.208984\" xlink:href=\"#DejaVuSans-105\"/>\r\n      <use x=\"66.992188\" xlink:href=\"#DejaVuSans-109\"/>\r\n      <use x=\"164.404297\" xlink:href=\"#DejaVuSans-101\"/>\r\n      <use x=\"225.927734\" xlink:href=\"#DejaVuSans-108\"/>\r\n      <use x=\"253.710938\" xlink:href=\"#DejaVuSans-105\"/>\r\n      <use x=\"281.494141\" xlink:href=\"#DejaVuSans-110\"/>\r\n      <use x=\"344.873047\" xlink:href=\"#DejaVuSans-101\"/>\r\n     </g>\r\n    </g>\r\n   </g>\r\n   <g id=\"matplotlib.axis_2\">\r\n    <g id=\"ytick_1\">\r\n     <g id=\"line2d_7\">\r\n      <defs>\r\n       <path d=\"M 0 0 \r\nL -3.5 0 \r\n\" id=\"m82eb26834f\" style=\"stroke:#000000;stroke-width:0.8;\"/>\r\n      </defs>\r\n      <g>\r\n       <use style=\"stroke:#000000;stroke-width:0.8;\" x=\"30.103125\" xlink:href=\"#m82eb26834f\" y=\"328.89317\"/>\r\n      </g>\r\n     </g>\r\n     <g id=\"text_8\">\r\n      <!-- 0.3 -->\r\n      <g transform=\"translate(7.2 332.692389)scale(0.1 -0.1)\">\r\n       <defs>\r\n        <path d=\"M 10.6875 12.40625 \r\nL 21 12.40625 \r\nL 21 0 \r\nL 10.6875 0 \r\nz\r\n\" id=\"DejaVuSans-46\"/>\r\n        <path d=\"M 40.578125 39.3125 \r\nQ 47.65625 37.796875 51.625 33 \r\nQ 55.609375 28.21875 55.609375 21.1875 \r\nQ 55.609375 10.40625 48.1875 4.484375 \r\nQ 40.765625 -1.421875 27.09375 -1.421875 \r\nQ 22.515625 -1.421875 17.65625 -0.515625 \r\nQ 12.796875 0.390625 7.625 2.203125 \r\nL 7.625 11.71875 \r\nQ 11.71875 9.328125 16.59375 8.109375 \r\nQ 21.484375 6.890625 26.8125 6.890625 \r\nQ 36.078125 6.890625 40.9375 10.546875 \r\nQ 45.796875 14.203125 45.796875 21.1875 \r\nQ 45.796875 27.640625 41.28125 31.265625 \r\nQ 36.765625 34.90625 28.71875 34.90625 \r\nL 20.21875 34.90625 \r\nL 20.21875 43.015625 \r\nL 29.109375 43.015625 \r\nQ 36.375 43.015625 40.234375 45.921875 \r\nQ 44.09375 48.828125 44.09375 54.296875 \r\nQ 44.09375 59.90625 40.109375 62.90625 \r\nQ 36.140625 65.921875 28.71875 65.921875 \r\nQ 24.65625 65.921875 20.015625 65.03125 \r\nQ 15.375 64.15625 9.8125 62.3125 \r\nL 9.8125 71.09375 \r\nQ 15.4375 72.65625 20.34375 73.4375 \r\nQ 25.25 74.21875 29.59375 74.21875 \r\nQ 40.828125 74.21875 47.359375 69.109375 \r\nQ 53.90625 64.015625 53.90625 55.328125 \r\nQ 53.90625 49.265625 50.4375 45.09375 \r\nQ 46.96875 40.921875 40.578125 39.3125 \r\nz\r\n\" id=\"DejaVuSans-51\"/>\r\n       </defs>\r\n       <use xlink:href=\"#DejaVuSans-48\"/>\r\n       <use x=\"63.623047\" xlink:href=\"#DejaVuSans-46\"/>\r\n       <use x=\"95.410156\" xlink:href=\"#DejaVuSans-51\"/>\r\n      </g>\r\n     </g>\r\n    </g>\r\n    <g id=\"ytick_2\">\r\n     <g id=\"line2d_8\">\r\n      <g>\r\n       <use style=\"stroke:#000000;stroke-width:0.8;\" x=\"30.103125\" xlink:href=\"#m82eb26834f\" y=\"278.342696\"/>\r\n      </g>\r\n     </g>\r\n     <g id=\"text_9\">\r\n      <!-- 0.4 -->\r\n      <g transform=\"translate(7.2 282.141915)scale(0.1 -0.1)\">\r\n       <defs>\r\n        <path d=\"M 37.796875 64.3125 \r\nL 12.890625 25.390625 \r\nL 37.796875 25.390625 \r\nz\r\nM 35.203125 72.90625 \r\nL 47.609375 72.90625 \r\nL 47.609375 25.390625 \r\nL 58.015625 25.390625 \r\nL 58.015625 17.1875 \r\nL 47.609375 17.1875 \r\nL 47.609375 0 \r\nL 37.796875 0 \r\nL 37.796875 17.1875 \r\nL 4.890625 17.1875 \r\nL 4.890625 26.703125 \r\nz\r\n\" id=\"DejaVuSans-52\"/>\r\n       </defs>\r\n       <use xlink:href=\"#DejaVuSans-48\"/>\r\n       <use x=\"63.623047\" xlink:href=\"#DejaVuSans-46\"/>\r\n       <use x=\"95.410156\" xlink:href=\"#DejaVuSans-52\"/>\r\n      </g>\r\n     </g>\r\n    </g>\r\n    <g id=\"ytick_3\">\r\n     <g id=\"line2d_9\">\r\n      <g>\r\n       <use style=\"stroke:#000000;stroke-width:0.8;\" x=\"30.103125\" xlink:href=\"#m82eb26834f\" y=\"227.792223\"/>\r\n      </g>\r\n     </g>\r\n     <g id=\"text_10\">\r\n      <!-- 0.5 -->\r\n      <g transform=\"translate(7.2 231.591442)scale(0.1 -0.1)\">\r\n       <use xlink:href=\"#DejaVuSans-48\"/>\r\n       <use x=\"63.623047\" xlink:href=\"#DejaVuSans-46\"/>\r\n       <use x=\"95.410156\" xlink:href=\"#DejaVuSans-53\"/>\r\n      </g>\r\n     </g>\r\n    </g>\r\n    <g id=\"ytick_4\">\r\n     <g id=\"line2d_10\">\r\n      <g>\r\n       <use style=\"stroke:#000000;stroke-width:0.8;\" x=\"30.103125\" xlink:href=\"#m82eb26834f\" y=\"177.241749\"/>\r\n      </g>\r\n     </g>\r\n     <g id=\"text_11\">\r\n      <!-- 0.6 -->\r\n      <g transform=\"translate(7.2 181.040968)scale(0.1 -0.1)\">\r\n       <defs>\r\n        <path d=\"M 33.015625 40.375 \r\nQ 26.375 40.375 22.484375 35.828125 \r\nQ 18.609375 31.296875 18.609375 23.390625 \r\nQ 18.609375 15.53125 22.484375 10.953125 \r\nQ 26.375 6.390625 33.015625 6.390625 \r\nQ 39.65625 6.390625 43.53125 10.953125 \r\nQ 47.40625 15.53125 47.40625 23.390625 \r\nQ 47.40625 31.296875 43.53125 35.828125 \r\nQ 39.65625 40.375 33.015625 40.375 \r\nz\r\nM 52.59375 71.296875 \r\nL 52.59375 62.3125 \r\nQ 48.875 64.0625 45.09375 64.984375 \r\nQ 41.3125 65.921875 37.59375 65.921875 \r\nQ 27.828125 65.921875 22.671875 59.328125 \r\nQ 17.53125 52.734375 16.796875 39.40625 \r\nQ 19.671875 43.65625 24.015625 45.921875 \r\nQ 28.375 48.1875 33.59375 48.1875 \r\nQ 44.578125 48.1875 50.953125 41.515625 \r\nQ 57.328125 34.859375 57.328125 23.390625 \r\nQ 57.328125 12.15625 50.6875 5.359375 \r\nQ 44.046875 -1.421875 33.015625 -1.421875 \r\nQ 20.359375 -1.421875 13.671875 8.265625 \r\nQ 6.984375 17.96875 6.984375 36.375 \r\nQ 6.984375 53.65625 15.1875 63.9375 \r\nQ 23.390625 74.21875 37.203125 74.21875 \r\nQ 40.921875 74.21875 44.703125 73.484375 \r\nQ 48.484375 72.75 52.59375 71.296875 \r\nz\r\n\" id=\"DejaVuSans-54\"/>\r\n       </defs>\r\n       <use xlink:href=\"#DejaVuSans-48\"/>\r\n       <use x=\"63.623047\" xlink:href=\"#DejaVuSans-46\"/>\r\n       <use x=\"95.410156\" xlink:href=\"#DejaVuSans-54\"/>\r\n      </g>\r\n     </g>\r\n    </g>\r\n    <g id=\"ytick_5\">\r\n     <g id=\"line2d_11\">\r\n      <g>\r\n       <use style=\"stroke:#000000;stroke-width:0.8;\" x=\"30.103125\" xlink:href=\"#m82eb26834f\" y=\"126.691276\"/>\r\n      </g>\r\n     </g>\r\n     <g id=\"text_12\">\r\n      <!-- 0.7 -->\r\n      <g transform=\"translate(7.2 130.490495)scale(0.1 -0.1)\">\r\n       <defs>\r\n        <path d=\"M 8.203125 72.90625 \r\nL 55.078125 72.90625 \r\nL 55.078125 68.703125 \r\nL 28.609375 0 \r\nL 18.3125 0 \r\nL 43.21875 64.59375 \r\nL 8.203125 64.59375 \r\nz\r\n\" id=\"DejaVuSans-55\"/>\r\n       </defs>\r\n       <use xlink:href=\"#DejaVuSans-48\"/>\r\n       <use x=\"63.623047\" xlink:href=\"#DejaVuSans-46\"/>\r\n       <use x=\"95.410156\" xlink:href=\"#DejaVuSans-55\"/>\r\n      </g>\r\n     </g>\r\n    </g>\r\n    <g id=\"ytick_6\">\r\n     <g id=\"line2d_12\">\r\n      <g>\r\n       <use style=\"stroke:#000000;stroke-width:0.8;\" x=\"30.103125\" xlink:href=\"#m82eb26834f\" y=\"76.140802\"/>\r\n      </g>\r\n     </g>\r\n     <g id=\"text_13\">\r\n      <!-- 0.8 -->\r\n      <g transform=\"translate(7.2 79.940021)scale(0.1 -0.1)\">\r\n       <defs>\r\n        <path d=\"M 31.78125 34.625 \r\nQ 24.75 34.625 20.71875 30.859375 \r\nQ 16.703125 27.09375 16.703125 20.515625 \r\nQ 16.703125 13.921875 20.71875 10.15625 \r\nQ 24.75 6.390625 31.78125 6.390625 \r\nQ 38.8125 6.390625 42.859375 10.171875 \r\nQ 46.921875 13.96875 46.921875 20.515625 \r\nQ 46.921875 27.09375 42.890625 30.859375 \r\nQ 38.875 34.625 31.78125 34.625 \r\nz\r\nM 21.921875 38.8125 \r\nQ 15.578125 40.375 12.03125 44.71875 \r\nQ 8.5 49.078125 8.5 55.328125 \r\nQ 8.5 64.0625 14.71875 69.140625 \r\nQ 20.953125 74.21875 31.78125 74.21875 \r\nQ 42.671875 74.21875 48.875 69.140625 \r\nQ 55.078125 64.0625 55.078125 55.328125 \r\nQ 55.078125 49.078125 51.53125 44.71875 \r\nQ 48 40.375 41.703125 38.8125 \r\nQ 48.828125 37.15625 52.796875 32.3125 \r\nQ 56.78125 27.484375 56.78125 20.515625 \r\nQ 56.78125 9.90625 50.3125 4.234375 \r\nQ 43.84375 -1.421875 31.78125 -1.421875 \r\nQ 19.734375 -1.421875 13.25 4.234375 \r\nQ 6.78125 9.90625 6.78125 20.515625 \r\nQ 6.78125 27.484375 10.78125 32.3125 \r\nQ 14.796875 37.15625 21.921875 38.8125 \r\nz\r\nM 18.3125 54.390625 \r\nQ 18.3125 48.734375 21.84375 45.5625 \r\nQ 25.390625 42.390625 31.78125 42.390625 \r\nQ 38.140625 42.390625 41.71875 45.5625 \r\nQ 45.3125 48.734375 45.3125 54.390625 \r\nQ 45.3125 60.0625 41.71875 63.234375 \r\nQ 38.140625 66.40625 31.78125 66.40625 \r\nQ 25.390625 66.40625 21.84375 63.234375 \r\nQ 18.3125 60.0625 18.3125 54.390625 \r\nz\r\n\" id=\"DejaVuSans-56\"/>\r\n       </defs>\r\n       <use xlink:href=\"#DejaVuSans-48\"/>\r\n       <use x=\"63.623047\" xlink:href=\"#DejaVuSans-46\"/>\r\n       <use x=\"95.410156\" xlink:href=\"#DejaVuSans-56\"/>\r\n      </g>\r\n     </g>\r\n    </g>\r\n    <g id=\"ytick_7\">\r\n     <g id=\"line2d_13\">\r\n      <g>\r\n       <use style=\"stroke:#000000;stroke-width:0.8;\" x=\"30.103125\" xlink:href=\"#m82eb26834f\" y=\"25.590329\"/>\r\n      </g>\r\n     </g>\r\n     <g id=\"text_14\">\r\n      <!-- 0.9 -->\r\n      <g transform=\"translate(7.2 29.389548)scale(0.1 -0.1)\">\r\n       <defs>\r\n        <path d=\"M 10.984375 1.515625 \r\nL 10.984375 10.5 \r\nQ 14.703125 8.734375 18.5 7.8125 \r\nQ 22.3125 6.890625 25.984375 6.890625 \r\nQ 35.75 6.890625 40.890625 13.453125 \r\nQ 46.046875 20.015625 46.78125 33.40625 \r\nQ 43.953125 29.203125 39.59375 26.953125 \r\nQ 35.25 24.703125 29.984375 24.703125 \r\nQ 19.046875 24.703125 12.671875 31.3125 \r\nQ 6.296875 37.9375 6.296875 49.421875 \r\nQ 6.296875 60.640625 12.9375 67.421875 \r\nQ 19.578125 74.21875 30.609375 74.21875 \r\nQ 43.265625 74.21875 49.921875 64.515625 \r\nQ 56.59375 54.828125 56.59375 36.375 \r\nQ 56.59375 19.140625 48.40625 8.859375 \r\nQ 40.234375 -1.421875 26.421875 -1.421875 \r\nQ 22.703125 -1.421875 18.890625 -0.6875 \r\nQ 15.09375 0.046875 10.984375 1.515625 \r\nz\r\nM 30.609375 32.421875 \r\nQ 37.25 32.421875 41.125 36.953125 \r\nQ 45.015625 41.5 45.015625 49.421875 \r\nQ 45.015625 57.28125 41.125 61.84375 \r\nQ 37.25 66.40625 30.609375 66.40625 \r\nQ 23.96875 66.40625 20.09375 61.84375 \r\nQ 16.21875 57.28125 16.21875 49.421875 \r\nQ 16.21875 41.5 20.09375 36.953125 \r\nQ 23.96875 32.421875 30.609375 32.421875 \r\nz\r\n\" id=\"DejaVuSans-57\"/>\r\n       </defs>\r\n       <use xlink:href=\"#DejaVuSans-48\"/>\r\n       <use x=\"63.623047\" xlink:href=\"#DejaVuSans-46\"/>\r\n       <use x=\"95.410156\" xlink:href=\"#DejaVuSans-57\"/>\r\n      </g>\r\n     </g>\r\n    </g>\r\n   </g>\r\n   <g id=\"line2d_14\">\r\n    <path clip-path=\"url(#pb88e7d9daa)\" d=\"M 60.539489 48.489261 \r\nL 83.084943 48.489261 \r\nL 83.084943 88.576869 \r\nL 105.630398 88.576869 \r\nL 105.630398 137.572834 \r\nL 128.175852 137.572834 \r\nL 128.175852 164.649552 \r\nL 150.721307 164.649552 \r\nL 150.721307 178.794106 \r\nL 173.266761 178.794106 \r\nL 173.266761 217.729652 \r\nL 195.812216 217.729652 \r\nL 195.812216 232.330482 \r\nL 218.35767 232.330482 \r\nL 218.35767 242.46167 \r\nL 240.903125 242.46167 \r\nL 240.903125 247.637386 \r\nL 263.44858 247.637386 \r\nL 263.44858 253.182796 \r\nL 285.994034 253.182796 \r\nL 285.994034 259.869907 \r\nL 308.539489 259.869907 \r\nL 308.539489 259.869907 \r\nL 331.084943 259.869907 \r\nL 331.084943 259.869907 \r\nL 353.630398 259.869907 \r\nL 353.630398 269.064686 \r\nL 376.175852 269.064686 \r\nL 376.175852 269.064686 \r\nL 398.721307 269.064686 \r\nL 398.721307 269.064686 \r\nL 421.266761 269.064686 \r\nL 421.266761 269.064686 \r\nL 443.812216 269.064686 \r\nL 443.812216 269.064686 \r\nL 466.35767 269.064686 \r\nL 466.35767 269.064686 \r\nL 488.903125 269.064686 \r\nL 488.903125 269.064686 \r\nL 669.266761 269.064686 \r\nL 669.266761 269.064686 \r\n\" style=\"fill:none;stroke:#1f77b4;stroke-linecap:square;stroke-width:1.5;\"/>\r\n   </g>\r\n   <g id=\"patch_3\">\r\n    <path d=\"M 30.103125 333.36 \r\nL 30.103125 7.2 \r\n\" style=\"fill:none;stroke:#000000;stroke-linecap:square;stroke-linejoin:miter;stroke-width:0.8;\"/>\r\n   </g>\r\n   <g id=\"patch_4\">\r\n    <path d=\"M 699.703125 333.36 \r\nL 699.703125 7.2 \r\n\" style=\"fill:none;stroke:#000000;stroke-linecap:square;stroke-linejoin:miter;stroke-width:0.8;\"/>\r\n   </g>\r\n   <g id=\"patch_5\">\r\n    <path d=\"M 30.103125 333.36 \r\nL 699.703125 333.36 \r\n\" style=\"fill:none;stroke:#000000;stroke-linecap:square;stroke-linejoin:miter;stroke-width:0.8;\"/>\r\n   </g>\r\n   <g id=\"patch_6\">\r\n    <path d=\"M 30.103125 7.2 \r\nL 699.703125 7.2 \r\n\" style=\"fill:none;stroke:#000000;stroke-linecap:square;stroke-linejoin:miter;stroke-width:0.8;\"/>\r\n   </g>\r\n   <g id=\"legend_1\">\r\n    <g id=\"patch_7\">\r\n     <path d=\"M 548.251562 29.878125 \r\nL 692.703125 29.878125 \r\nQ 694.703125 29.878125 694.703125 27.878125 \r\nL 694.703125 14.2 \r\nQ 694.703125 12.2 692.703125 12.2 \r\nL 548.251562 12.2 \r\nQ 546.251562 12.2 546.251562 14.2 \r\nL 546.251562 27.878125 \r\nQ 546.251562 29.878125 548.251562 29.878125 \r\nz\r\n\" style=\"fill:#ffffff;opacity:0.8;stroke:#cccccc;stroke-linejoin:miter;\"/>\r\n    </g>\r\n    <g id=\"line2d_15\">\r\n     <path d=\"M 550.251562 20.298437 \r\nL 570.251562 20.298437 \r\n\" style=\"fill:none;stroke:#1f77b4;stroke-linecap:square;stroke-width:1.5;\"/>\r\n    </g>\r\n    <g id=\"line2d_16\"/>\r\n    <g id=\"text_15\">\r\n     <!-- Kaplan Meier Estimate -->\r\n     <g transform=\"translate(578.251562 23.798437)scale(0.1 -0.1)\">\r\n      <defs>\r\n       <path d=\"M 9.8125 72.90625 \r\nL 19.671875 72.90625 \r\nL 19.671875 42.09375 \r\nL 52.390625 72.90625 \r\nL 65.09375 72.90625 \r\nL 28.90625 38.921875 \r\nL 67.671875 0 \r\nL 54.6875 0 \r\nL 19.671875 35.109375 \r\nL 19.671875 0 \r\nL 9.8125 0 \r\nz\r\n\" id=\"DejaVuSans-75\"/>\r\n       <path d=\"M 34.28125 27.484375 \r\nQ 23.390625 27.484375 19.1875 25 \r\nQ 14.984375 22.515625 14.984375 16.5 \r\nQ 14.984375 11.71875 18.140625 8.90625 \r\nQ 21.296875 6.109375 26.703125 6.109375 \r\nQ 34.1875 6.109375 38.703125 11.40625 \r\nQ 43.21875 16.703125 43.21875 25.484375 \r\nL 43.21875 27.484375 \r\nz\r\nM 52.203125 31.203125 \r\nL 52.203125 0 \r\nL 43.21875 0 \r\nL 43.21875 8.296875 \r\nQ 40.140625 3.328125 35.546875 0.953125 \r\nQ 30.953125 -1.421875 24.3125 -1.421875 \r\nQ 15.921875 -1.421875 10.953125 3.296875 \r\nQ 6 8.015625 6 15.921875 \r\nQ 6 25.140625 12.171875 29.828125 \r\nQ 18.359375 34.515625 30.609375 34.515625 \r\nL 43.21875 34.515625 \r\nL 43.21875 35.40625 \r\nQ 43.21875 41.609375 39.140625 45 \r\nQ 35.0625 48.390625 27.6875 48.390625 \r\nQ 23 48.390625 18.546875 47.265625 \r\nQ 14.109375 46.140625 10.015625 43.890625 \r\nL 10.015625 52.203125 \r\nQ 14.9375 54.109375 19.578125 55.046875 \r\nQ 24.21875 56 28.609375 56 \r\nQ 40.484375 56 46.34375 49.84375 \r\nQ 52.203125 43.703125 52.203125 31.203125 \r\nz\r\n\" id=\"DejaVuSans-97\"/>\r\n       <path d=\"M 18.109375 8.203125 \r\nL 18.109375 -20.796875 \r\nL 9.078125 -20.796875 \r\nL 9.078125 54.6875 \r\nL 18.109375 54.6875 \r\nL 18.109375 46.390625 \r\nQ 20.953125 51.265625 25.265625 53.625 \r\nQ 29.59375 56 35.59375 56 \r\nQ 45.5625 56 51.78125 48.09375 \r\nQ 58.015625 40.1875 58.015625 27.296875 \r\nQ 58.015625 14.40625 51.78125 6.484375 \r\nQ 45.5625 -1.421875 35.59375 -1.421875 \r\nQ 29.59375 -1.421875 25.265625 0.953125 \r\nQ 20.953125 3.328125 18.109375 8.203125 \r\nz\r\nM 48.6875 27.296875 \r\nQ 48.6875 37.203125 44.609375 42.84375 \r\nQ 40.53125 48.484375 33.40625 48.484375 \r\nQ 26.265625 48.484375 22.1875 42.84375 \r\nQ 18.109375 37.203125 18.109375 27.296875 \r\nQ 18.109375 17.390625 22.1875 11.75 \r\nQ 26.265625 6.109375 33.40625 6.109375 \r\nQ 40.53125 6.109375 44.609375 11.75 \r\nQ 48.6875 17.390625 48.6875 27.296875 \r\nz\r\n\" id=\"DejaVuSans-112\"/>\r\n       <path id=\"DejaVuSans-32\"/>\r\n       <path d=\"M 9.8125 72.90625 \r\nL 24.515625 72.90625 \r\nL 43.109375 23.296875 \r\nL 61.8125 72.90625 \r\nL 76.515625 72.90625 \r\nL 76.515625 0 \r\nL 66.890625 0 \r\nL 66.890625 64.015625 \r\nL 48.09375 14.015625 \r\nL 38.1875 14.015625 \r\nL 19.390625 64.015625 \r\nL 19.390625 0 \r\nL 9.8125 0 \r\nz\r\n\" id=\"DejaVuSans-77\"/>\r\n       <path d=\"M 41.109375 46.296875 \r\nQ 39.59375 47.171875 37.8125 47.578125 \r\nQ 36.03125 48 33.890625 48 \r\nQ 26.265625 48 22.1875 43.046875 \r\nQ 18.109375 38.09375 18.109375 28.8125 \r\nL 18.109375 0 \r\nL 9.078125 0 \r\nL 9.078125 54.6875 \r\nL 18.109375 54.6875 \r\nL 18.109375 46.1875 \r\nQ 20.953125 51.171875 25.484375 53.578125 \r\nQ 30.03125 56 36.53125 56 \r\nQ 37.453125 56 38.578125 55.875 \r\nQ 39.703125 55.765625 41.0625 55.515625 \r\nz\r\n\" id=\"DejaVuSans-114\"/>\r\n       <path d=\"M 9.8125 72.90625 \r\nL 55.90625 72.90625 \r\nL 55.90625 64.59375 \r\nL 19.671875 64.59375 \r\nL 19.671875 43.015625 \r\nL 54.390625 43.015625 \r\nL 54.390625 34.71875 \r\nL 19.671875 34.71875 \r\nL 19.671875 8.296875 \r\nL 56.78125 8.296875 \r\nL 56.78125 0 \r\nL 9.8125 0 \r\nz\r\n\" id=\"DejaVuSans-69\"/>\r\n       <path d=\"M 44.28125 53.078125 \r\nL 44.28125 44.578125 \r\nQ 40.484375 46.53125 36.375 47.5 \r\nQ 32.28125 48.484375 27.875 48.484375 \r\nQ 21.1875 48.484375 17.84375 46.4375 \r\nQ 14.5 44.390625 14.5 40.28125 \r\nQ 14.5 37.15625 16.890625 35.375 \r\nQ 19.28125 33.59375 26.515625 31.984375 \r\nL 29.59375 31.296875 \r\nQ 39.15625 29.25 43.1875 25.515625 \r\nQ 47.21875 21.78125 47.21875 15.09375 \r\nQ 47.21875 7.46875 41.1875 3.015625 \r\nQ 35.15625 -1.421875 24.609375 -1.421875 \r\nQ 20.21875 -1.421875 15.453125 -0.5625 \r\nQ 10.6875 0.296875 5.421875 2 \r\nL 5.421875 11.28125 \r\nQ 10.40625 8.6875 15.234375 7.390625 \r\nQ 20.0625 6.109375 24.8125 6.109375 \r\nQ 31.15625 6.109375 34.5625 8.28125 \r\nQ 37.984375 10.453125 37.984375 14.40625 \r\nQ 37.984375 18.0625 35.515625 20.015625 \r\nQ 33.0625 21.96875 24.703125 23.78125 \r\nL 21.578125 24.515625 \r\nQ 13.234375 26.265625 9.515625 29.90625 \r\nQ 5.8125 33.546875 5.8125 39.890625 \r\nQ 5.8125 47.609375 11.28125 51.796875 \r\nQ 16.75 56 26.8125 56 \r\nQ 31.78125 56 36.171875 55.265625 \r\nQ 40.578125 54.546875 44.28125 53.078125 \r\nz\r\n\" id=\"DejaVuSans-115\"/>\r\n      </defs>\r\n      <use xlink:href=\"#DejaVuSans-75\"/>\r\n      <use x=\"63.826172\" xlink:href=\"#DejaVuSans-97\"/>\r\n      <use x=\"125.105469\" xlink:href=\"#DejaVuSans-112\"/>\r\n      <use x=\"188.582031\" xlink:href=\"#DejaVuSans-108\"/>\r\n      <use x=\"216.365234\" xlink:href=\"#DejaVuSans-97\"/>\r\n      <use x=\"277.644531\" xlink:href=\"#DejaVuSans-110\"/>\r\n      <use x=\"341.023438\" xlink:href=\"#DejaVuSans-32\"/>\r\n      <use x=\"372.810547\" xlink:href=\"#DejaVuSans-77\"/>\r\n      <use x=\"459.089844\" xlink:href=\"#DejaVuSans-101\"/>\r\n      <use x=\"520.613281\" xlink:href=\"#DejaVuSans-105\"/>\r\n      <use x=\"548.396484\" xlink:href=\"#DejaVuSans-101\"/>\r\n      <use x=\"609.919922\" xlink:href=\"#DejaVuSans-114\"/>\r\n      <use x=\"651.033203\" xlink:href=\"#DejaVuSans-32\"/>\r\n      <use x=\"682.820312\" xlink:href=\"#DejaVuSans-69\"/>\r\n      <use x=\"746.003906\" xlink:href=\"#DejaVuSans-115\"/>\r\n      <use x=\"798.103516\" xlink:href=\"#DejaVuSans-116\"/>\r\n      <use x=\"837.3125\" xlink:href=\"#DejaVuSans-105\"/>\r\n      <use x=\"865.095703\" xlink:href=\"#DejaVuSans-109\"/>\r\n      <use x=\"962.507812\" xlink:href=\"#DejaVuSans-97\"/>\r\n      <use x=\"1023.787109\" xlink:href=\"#DejaVuSans-116\"/>\r\n      <use x=\"1062.996094\" xlink:href=\"#DejaVuSans-101\"/>\r\n     </g>\r\n    </g>\r\n   </g>\r\n  </g>\r\n </g>\r\n <defs>\r\n  <clipPath id=\"pb88e7d9daa\">\r\n   <rect height=\"326.16\" width=\"669.6\" x=\"30.103125\" y=\"7.2\"/>\r\n  </clipPath>\r\n </defs>\r\n</svg>\r\n",
      "image/png": "[encoded data removed]"
     },
     "metadata": {
      "needs_background": "light"
     }
    }
   ],
   "source": [
    "## Lets create an overall KaplanMeier curve, without breaking it into groups of covariates.\n",
    "\n",
    "## Import the library\n",
    "from lifelines import KaplanMeierFitter\n",
    "\n",
    "\n",
    "durations = filtered['days'] ## Time to event data of censored and event data\n",
    "event_observed = filtered['outcome']  ## It has the churned (1) and censored is (0)\n",
    "\n",
    "## create a kmf object as km\n",
    "km = KaplanMeierFitter() ## instantiate the class to create an object\n",
    "\n",
    "## Fit the data into the model\n",
    "km.fit(durations, event_observed,label='Kaplan Meier Estimate')\n",
    "\n",
    "## Create an estimate\n",
    "km.plot()"
   ]
  },
  {
   "cell_type": "code",
   "execution_count": 26,
   "metadata": {
    "colab": {
     "base_uri": "https://localhost:8080/",
     "height": 391
    },
    "executionInfo": {
     "elapsed": 1342,
     "status": "ok",
     "timestamp": 1610679387863,
     "user": {
      "displayName": "장승운",
      "photoUrl": "",
      "userId": "09116233606503711736"
     },
     "user_tz": -540
    },
    "id": "EKKbvctWWNln",
    "outputId": "7ec356d8-d002-49a2-9d04-f466d70caa24"
   },
   "outputs": [
    {
     "output_type": "display_data",
     "data": {
      "text/plain": "<Figure size 864x432 with 1 Axes>",
      "image/svg+xml": "<?xml version=\"1.0\" encoding=\"utf-8\" standalone=\"no\"?>\r\n<!DOCTYPE svg PUBLIC \"-//W3C//DTD SVG 1.1//EN\"\r\n  \"http://www.w3.org/Graphics/SVG/1.1/DTD/svg11.dtd\">\r\n<!-- Created with matplotlib (https://matplotlib.org/) -->\r\n<svg height=\"370.91625pt\" version=\"1.1\" viewBox=\"0 0 706.903125 370.91625\" width=\"706.903125pt\" xmlns=\"http://www.w3.org/2000/svg\" xmlns:xlink=\"http://www.w3.org/1999/xlink\">\r\n <metadata>\r\n  <rdf:RDF xmlns:cc=\"http://creativecommons.org/ns#\" xmlns:dc=\"http://purl.org/dc/elements/1.1/\" xmlns:rdf=\"http://www.w3.org/1999/02/22-rdf-syntax-ns#\">\r\n   <cc:Work>\r\n    <dc:type rdf:resource=\"http://purl.org/dc/dcmitype/StillImage\"/>\r\n    <dc:date>2021-01-21T16:13:50.168367</dc:date>\r\n    <dc:format>image/svg+xml</dc:format>\r\n    <dc:creator>\r\n     <cc:Agent>\r\n      <dc:title>Matplotlib v3.3.2, https://matplotlib.org/</dc:title>\r\n     </cc:Agent>\r\n    </dc:creator>\r\n   </cc:Work>\r\n  </rdf:RDF>\r\n </metadata>\r\n <defs>\r\n  <style type=\"text/css\">*{stroke-linecap:butt;stroke-linejoin:round;}</style>\r\n </defs>\r\n <g id=\"figure_1\">\r\n  <g id=\"patch_1\">\r\n   <path d=\"M 0 370.91625 \r\nL 706.903125 370.91625 \r\nL 706.903125 0 \r\nL 0 0 \r\nz\r\n\" style=\"fill:none;\"/>\r\n  </g>\r\n  <g id=\"axes_1\">\r\n   <g id=\"patch_2\">\r\n    <path d=\"M 30.103125 333.36 \r\nL 699.703125 333.36 \r\nL 699.703125 7.2 \r\nL 30.103125 7.2 \r\nz\r\n\" style=\"fill:#ffffff;\"/>\r\n   </g>\r\n   <g id=\"PolyCollection_1\">\r\n    <defs>\r\n     <path d=\"M 60.539489 -340.117384 \r\nL 60.539489 -242.777873 \r\nL 83.084943 -242.777873 \r\nL 83.084943 -186.666134 \r\nL 105.630398 -186.666134 \r\nL 105.630398 -127.895218 \r\nL 128.175852 -127.895218 \r\nL 128.175852 -102.064473 \r\nL 150.721307 -102.064473 \r\nL 150.721307 -86.438036 \r\nL 173.266761 -86.438036 \r\nL 173.266761 -72.450081 \r\nL 195.812216 -72.450081 \r\nL 195.812216 -60.778268 \r\nL 240.903125 -60.778268 \r\nL 240.903125 -56.265305 \r\nL 263.44858 -56.265305 \r\nL 263.44858 -53.200585 \r\nL 285.994034 -53.200585 \r\nL 285.994034 -52.381705 \r\nL 285.994034 -52.381705 \r\nL 285.994034 -52.381705 \r\nL 285.994034 -100.103361 \r\nL 263.44858 -100.103361 \r\nL 263.44858 -115.446003 \r\nL 240.903125 -115.446003 \r\nL 240.903125 -129.96053 \r\nL 195.812216 -129.96053 \r\nL 195.812216 -156.880789 \r\nL 173.266761 -156.880789 \r\nL 173.266761 -181.825195 \r\nL 150.721307 -181.825195 \r\nL 150.721307 -205.325584 \r\nL 128.175852 -205.325584 \r\nL 128.175852 -238.414813 \r\nL 105.630398 -238.414813 \r\nL 105.630398 -297.89566 \r\nL 83.084943 -297.89566 \r\nL 83.084943 -340.117384 \r\nL 60.539489 -340.117384 \r\nz\r\n\" id=\"m53ea0d01dd\" style=\"stroke:#1f77b4;stroke-opacity:0.25;\"/>\r\n    </defs>\r\n    <g clip-path=\"url(#pd09dcbdbca)\">\r\n     <use style=\"fill:#1f77b4;fill-opacity:0.25;stroke:#1f77b4;stroke-opacity:0.25;\" x=\"0\" xlink:href=\"#m53ea0d01dd\" y=\"370.91625\"/>\r\n    </g>\r\n   </g>\r\n   <g id=\"PolyCollection_2\">\r\n    <defs>\r\n     <path d=\"M 60.539489 -348.890795 \r\nL 60.539489 -303.210556 \r\nL 83.084943 -303.210556 \r\nL 83.084943 -285.591349 \r\nL 105.630398 -285.591349 \r\nL 105.630398 -264.518522 \r\nL 128.175852 -264.518522 \r\nL 128.175852 -252.016562 \r\nL 150.721307 -252.016562 \r\nL 150.721307 -247.63404 \r\nL 173.266761 -247.63404 \r\nL 173.266761 -220.903477 \r\nL 195.812216 -220.903477 \r\nL 195.812216 -216.570501 \r\nL 218.35767 -216.570501 \r\nL 218.35767 -207.529765 \r\nL 240.903125 -207.529765 \r\nL 240.903125 -207.529765 \r\nL 263.44858 -207.529765 \r\nL 263.44858 -207.529765 \r\nL 285.994034 -207.529765 \r\nL 285.994034 -207.529765 \r\nL 308.539489 -207.529765 \r\nL 308.539489 -207.529765 \r\nL 331.084943 -207.529765 \r\nL 331.084943 -207.529765 \r\nL 353.630398 -207.529765 \r\nL 353.630398 -197.664952 \r\nL 376.175852 -197.664952 \r\nL 376.175852 -197.664952 \r\nL 398.721307 -197.664952 \r\nL 398.721307 -197.664952 \r\nL 421.266761 -197.664952 \r\nL 421.266761 -197.664952 \r\nL 443.812216 -197.664952 \r\nL 443.812216 -197.664952 \r\nL 466.35767 -197.664952 \r\nL 466.35767 -197.664952 \r\nL 488.903125 -197.664952 \r\nL 488.903125 -197.664952 \r\nL 669.266761 -197.664952 \r\nL 669.266761 -197.664952 \r\nL 669.266761 -269.256717 \r\nL 669.266761 -269.256717 \r\nL 669.266761 -269.256717 \r\nL 488.903125 -269.256717 \r\nL 488.903125 -269.256717 \r\nL 466.35767 -269.256717 \r\nL 466.35767 -269.256717 \r\nL 443.812216 -269.256717 \r\nL 443.812216 -269.256717 \r\nL 421.266761 -269.256717 \r\nL 421.266761 -269.256717 \r\nL 398.721307 -269.256717 \r\nL 398.721307 -269.256717 \r\nL 376.175852 -269.256717 \r\nL 376.175852 -269.256717 \r\nL 353.630398 -269.256717 \r\nL 353.630398 -275.274727 \r\nL 331.084943 -275.274727 \r\nL 331.084943 -275.274727 \r\nL 308.539489 -275.274727 \r\nL 308.539489 -275.274727 \r\nL 285.994034 -275.274727 \r\nL 285.994034 -275.274727 \r\nL 263.44858 -275.274727 \r\nL 263.44858 -275.274727 \r\nL 240.903125 -275.274727 \r\nL 240.903125 -275.274727 \r\nL 218.35767 -275.274727 \r\nL 218.35767 -283.099268 \r\nL 195.812216 -283.099268 \r\nL 195.812216 -286.841305 \r\nL 173.266761 -286.841305 \r\nL 173.266761 -308.69007 \r\nL 150.721307 -308.69007 \r\nL 150.721307 -312.126441 \r\nL 128.175852 -312.126441 \r\nL 128.175852 -321.866147 \r\nL 105.630398 -321.866147 \r\nL 105.630398 -337.280166 \r\nL 83.084943 -337.280166 \r\nL 83.084943 -348.890795 \r\nL 60.539489 -348.890795 \r\nz\r\n\" id=\"m7ebfb6dff1\" style=\"stroke:#ff7f0e;stroke-opacity:0.25;\"/>\r\n    </defs>\r\n    <g clip-path=\"url(#pd09dcbdbca)\">\r\n     <use style=\"fill:#ff7f0e;fill-opacity:0.25;stroke:#ff7f0e;stroke-opacity:0.25;\" x=\"0\" xlink:href=\"#m7ebfb6dff1\" y=\"370.91625\"/>\r\n    </g>\r\n   </g>\r\n   <g id=\"matplotlib.axis_1\">\r\n    <g id=\"xtick_1\">\r\n     <g id=\"line2d_1\">\r\n      <defs>\r\n       <path d=\"M 0 0 \r\nL 0 3.5 \r\n\" id=\"m112580aa5c\" style=\"stroke:#000000;stroke-width:0.8;\"/>\r\n      </defs>\r\n      <g>\r\n       <use style=\"stroke:#000000;stroke-width:0.8;\" x=\"60.539489\" xlink:href=\"#m112580aa5c\" y=\"333.36\"/>\r\n      </g>\r\n     </g>\r\n     <g id=\"text_1\">\r\n      <!-- 0 -->\r\n      <g transform=\"translate(57.358239 347.958438)scale(0.1 -0.1)\">\r\n       <defs>\r\n        <path d=\"M 31.78125 66.40625 \r\nQ 24.171875 66.40625 20.328125 58.90625 \r\nQ 16.5 51.421875 16.5 36.375 \r\nQ 16.5 21.390625 20.328125 13.890625 \r\nQ 24.171875 6.390625 31.78125 6.390625 \r\nQ 39.453125 6.390625 43.28125 13.890625 \r\nQ 47.125 21.390625 47.125 36.375 \r\nQ 47.125 51.421875 43.28125 58.90625 \r\nQ 39.453125 66.40625 31.78125 66.40625 \r\nz\r\nM 31.78125 74.21875 \r\nQ 44.046875 74.21875 50.515625 64.515625 \r\nQ 56.984375 54.828125 56.984375 36.375 \r\nQ 56.984375 17.96875 50.515625 8.265625 \r\nQ 44.046875 -1.421875 31.78125 -1.421875 \r\nQ 19.53125 -1.421875 13.0625 8.265625 \r\nQ 6.59375 17.96875 6.59375 36.375 \r\nQ 6.59375 54.828125 13.0625 64.515625 \r\nQ 19.53125 74.21875 31.78125 74.21875 \r\nz\r\n\" id=\"DejaVuSans-48\"/>\r\n       </defs>\r\n       <use xlink:href=\"#DejaVuSans-48\"/>\r\n      </g>\r\n     </g>\r\n    </g>\r\n    <g id=\"xtick_2\">\r\n     <g id=\"line2d_2\">\r\n      <g>\r\n       <use style=\"stroke:#000000;stroke-width:0.8;\" x=\"173.266761\" xlink:href=\"#m112580aa5c\" y=\"333.36\"/>\r\n      </g>\r\n     </g>\r\n     <g id=\"text_2\">\r\n      <!-- 5 -->\r\n      <g transform=\"translate(170.085511 347.958438)scale(0.1 -0.1)\">\r\n       <defs>\r\n        <path d=\"M 10.796875 72.90625 \r\nL 49.515625 72.90625 \r\nL 49.515625 64.59375 \r\nL 19.828125 64.59375 \r\nL 19.828125 46.734375 \r\nQ 21.96875 47.46875 24.109375 47.828125 \r\nQ 26.265625 48.1875 28.421875 48.1875 \r\nQ 40.625 48.1875 47.75 41.5 \r\nQ 54.890625 34.8125 54.890625 23.390625 \r\nQ 54.890625 11.625 47.5625 5.09375 \r\nQ 40.234375 -1.421875 26.90625 -1.421875 \r\nQ 22.3125 -1.421875 17.546875 -0.640625 \r\nQ 12.796875 0.140625 7.71875 1.703125 \r\nL 7.71875 11.625 \r\nQ 12.109375 9.234375 16.796875 8.0625 \r\nQ 21.484375 6.890625 26.703125 6.890625 \r\nQ 35.15625 6.890625 40.078125 11.328125 \r\nQ 45.015625 15.765625 45.015625 23.390625 \r\nQ 45.015625 31 40.078125 35.4375 \r\nQ 35.15625 39.890625 26.703125 39.890625 \r\nQ 22.75 39.890625 18.8125 39.015625 \r\nQ 14.890625 38.140625 10.796875 36.28125 \r\nz\r\n\" id=\"DejaVuSans-53\"/>\r\n       </defs>\r\n       <use xlink:href=\"#DejaVuSans-53\"/>\r\n      </g>\r\n     </g>\r\n    </g>\r\n    <g id=\"xtick_3\">\r\n     <g id=\"line2d_3\">\r\n      <g>\r\n       <use style=\"stroke:#000000;stroke-width:0.8;\" x=\"285.994034\" xlink:href=\"#m112580aa5c\" y=\"333.36\"/>\r\n      </g>\r\n     </g>\r\n     <g id=\"text_3\">\r\n      <!-- 10 -->\r\n      <g transform=\"translate(279.631534 347.958438)scale(0.1 -0.1)\">\r\n       <defs>\r\n        <path d=\"M 12.40625 8.296875 \r\nL 28.515625 8.296875 \r\nL 28.515625 63.921875 \r\nL 10.984375 60.40625 \r\nL 10.984375 69.390625 \r\nL 28.421875 72.90625 \r\nL 38.28125 72.90625 \r\nL 38.28125 8.296875 \r\nL 54.390625 8.296875 \r\nL 54.390625 0 \r\nL 12.40625 0 \r\nz\r\n\" id=\"DejaVuSans-49\"/>\r\n       </defs>\r\n       <use xlink:href=\"#DejaVuSans-49\"/>\r\n       <use x=\"63.623047\" xlink:href=\"#DejaVuSans-48\"/>\r\n      </g>\r\n     </g>\r\n    </g>\r\n    <g id=\"xtick_4\">\r\n     <g id=\"line2d_4\">\r\n      <g>\r\n       <use style=\"stroke:#000000;stroke-width:0.8;\" x=\"398.721307\" xlink:href=\"#m112580aa5c\" y=\"333.36\"/>\r\n      </g>\r\n     </g>\r\n     <g id=\"text_4\">\r\n      <!-- 15 -->\r\n      <g transform=\"translate(392.358807 347.958438)scale(0.1 -0.1)\">\r\n       <use xlink:href=\"#DejaVuSans-49\"/>\r\n       <use x=\"63.623047\" xlink:href=\"#DejaVuSans-53\"/>\r\n      </g>\r\n     </g>\r\n    </g>\r\n    <g id=\"xtick_5\">\r\n     <g id=\"line2d_5\">\r\n      <g>\r\n       <use style=\"stroke:#000000;stroke-width:0.8;\" x=\"511.44858\" xlink:href=\"#m112580aa5c\" y=\"333.36\"/>\r\n      </g>\r\n     </g>\r\n     <g id=\"text_5\">\r\n      <!-- 20 -->\r\n      <g transform=\"translate(505.08608 347.958438)scale(0.1 -0.1)\">\r\n       <defs>\r\n        <path d=\"M 19.1875 8.296875 \r\nL 53.609375 8.296875 \r\nL 53.609375 0 \r\nL 7.328125 0 \r\nL 7.328125 8.296875 \r\nQ 12.9375 14.109375 22.625 23.890625 \r\nQ 32.328125 33.6875 34.8125 36.53125 \r\nQ 39.546875 41.84375 41.421875 45.53125 \r\nQ 43.3125 49.21875 43.3125 52.78125 \r\nQ 43.3125 58.59375 39.234375 62.25 \r\nQ 35.15625 65.921875 28.609375 65.921875 \r\nQ 23.96875 65.921875 18.8125 64.3125 \r\nQ 13.671875 62.703125 7.8125 59.421875 \r\nL 7.8125 69.390625 \r\nQ 13.765625 71.78125 18.9375 73 \r\nQ 24.125 74.21875 28.421875 74.21875 \r\nQ 39.75 74.21875 46.484375 68.546875 \r\nQ 53.21875 62.890625 53.21875 53.421875 \r\nQ 53.21875 48.921875 51.53125 44.890625 \r\nQ 49.859375 40.875 45.40625 35.40625 \r\nQ 44.1875 33.984375 37.640625 27.21875 \r\nQ 31.109375 20.453125 19.1875 8.296875 \r\nz\r\n\" id=\"DejaVuSans-50\"/>\r\n       </defs>\r\n       <use xlink:href=\"#DejaVuSans-50\"/>\r\n       <use x=\"63.623047\" xlink:href=\"#DejaVuSans-48\"/>\r\n      </g>\r\n     </g>\r\n    </g>\r\n    <g id=\"xtick_6\">\r\n     <g id=\"line2d_6\">\r\n      <g>\r\n       <use style=\"stroke:#000000;stroke-width:0.8;\" x=\"624.175852\" xlink:href=\"#m112580aa5c\" y=\"333.36\"/>\r\n      </g>\r\n     </g>\r\n     <g id=\"text_6\">\r\n      <!-- 25 -->\r\n      <g transform=\"translate(617.813352 347.958438)scale(0.1 -0.1)\">\r\n       <use xlink:href=\"#DejaVuSans-50\"/>\r\n       <use x=\"63.623047\" xlink:href=\"#DejaVuSans-53\"/>\r\n      </g>\r\n     </g>\r\n    </g>\r\n    <g id=\"text_7\">\r\n     <!-- timeline -->\r\n     <g transform=\"translate(344.583594 361.636562)scale(0.1 -0.1)\">\r\n      <defs>\r\n       <path d=\"M 18.3125 70.21875 \r\nL 18.3125 54.6875 \r\nL 36.8125 54.6875 \r\nL 36.8125 47.703125 \r\nL 18.3125 47.703125 \r\nL 18.3125 18.015625 \r\nQ 18.3125 11.328125 20.140625 9.421875 \r\nQ 21.96875 7.515625 27.59375 7.515625 \r\nL 36.8125 7.515625 \r\nL 36.8125 0 \r\nL 27.59375 0 \r\nQ 17.1875 0 13.234375 3.875 \r\nQ 9.28125 7.765625 9.28125 18.015625 \r\nL 9.28125 47.703125 \r\nL 2.6875 47.703125 \r\nL 2.6875 54.6875 \r\nL 9.28125 54.6875 \r\nL 9.28125 70.21875 \r\nz\r\n\" id=\"DejaVuSans-116\"/>\r\n       <path d=\"M 9.421875 54.6875 \r\nL 18.40625 54.6875 \r\nL 18.40625 0 \r\nL 9.421875 0 \r\nz\r\nM 9.421875 75.984375 \r\nL 18.40625 75.984375 \r\nL 18.40625 64.59375 \r\nL 9.421875 64.59375 \r\nz\r\n\" id=\"DejaVuSans-105\"/>\r\n       <path d=\"M 52 44.1875 \r\nQ 55.375 50.25 60.0625 53.125 \r\nQ 64.75 56 71.09375 56 \r\nQ 79.640625 56 84.28125 50.015625 \r\nQ 88.921875 44.046875 88.921875 33.015625 \r\nL 88.921875 0 \r\nL 79.890625 0 \r\nL 79.890625 32.71875 \r\nQ 79.890625 40.578125 77.09375 44.375 \r\nQ 74.3125 48.1875 68.609375 48.1875 \r\nQ 61.625 48.1875 57.5625 43.546875 \r\nQ 53.515625 38.921875 53.515625 30.90625 \r\nL 53.515625 0 \r\nL 44.484375 0 \r\nL 44.484375 32.71875 \r\nQ 44.484375 40.625 41.703125 44.40625 \r\nQ 38.921875 48.1875 33.109375 48.1875 \r\nQ 26.21875 48.1875 22.15625 43.53125 \r\nQ 18.109375 38.875 18.109375 30.90625 \r\nL 18.109375 0 \r\nL 9.078125 0 \r\nL 9.078125 54.6875 \r\nL 18.109375 54.6875 \r\nL 18.109375 46.1875 \r\nQ 21.1875 51.21875 25.484375 53.609375 \r\nQ 29.78125 56 35.6875 56 \r\nQ 41.65625 56 45.828125 52.96875 \r\nQ 50 49.953125 52 44.1875 \r\nz\r\n\" id=\"DejaVuSans-109\"/>\r\n       <path d=\"M 56.203125 29.59375 \r\nL 56.203125 25.203125 \r\nL 14.890625 25.203125 \r\nQ 15.484375 15.921875 20.484375 11.0625 \r\nQ 25.484375 6.203125 34.421875 6.203125 \r\nQ 39.59375 6.203125 44.453125 7.46875 \r\nQ 49.3125 8.734375 54.109375 11.28125 \r\nL 54.109375 2.78125 \r\nQ 49.265625 0.734375 44.1875 -0.34375 \r\nQ 39.109375 -1.421875 33.890625 -1.421875 \r\nQ 20.796875 -1.421875 13.15625 6.1875 \r\nQ 5.515625 13.8125 5.515625 26.8125 \r\nQ 5.515625 40.234375 12.765625 48.109375 \r\nQ 20.015625 56 32.328125 56 \r\nQ 43.359375 56 49.78125 48.890625 \r\nQ 56.203125 41.796875 56.203125 29.59375 \r\nz\r\nM 47.21875 32.234375 \r\nQ 47.125 39.59375 43.09375 43.984375 \r\nQ 39.0625 48.390625 32.421875 48.390625 \r\nQ 24.90625 48.390625 20.390625 44.140625 \r\nQ 15.875 39.890625 15.1875 32.171875 \r\nz\r\n\" id=\"DejaVuSans-101\"/>\r\n       <path d=\"M 9.421875 75.984375 \r\nL 18.40625 75.984375 \r\nL 18.40625 0 \r\nL 9.421875 0 \r\nz\r\n\" id=\"DejaVuSans-108\"/>\r\n       <path d=\"M 54.890625 33.015625 \r\nL 54.890625 0 \r\nL 45.90625 0 \r\nL 45.90625 32.71875 \r\nQ 45.90625 40.484375 42.875 44.328125 \r\nQ 39.84375 48.1875 33.796875 48.1875 \r\nQ 26.515625 48.1875 22.3125 43.546875 \r\nQ 18.109375 38.921875 18.109375 30.90625 \r\nL 18.109375 0 \r\nL 9.078125 0 \r\nL 9.078125 54.6875 \r\nL 18.109375 54.6875 \r\nL 18.109375 46.1875 \r\nQ 21.34375 51.125 25.703125 53.5625 \r\nQ 30.078125 56 35.796875 56 \r\nQ 45.21875 56 50.046875 50.171875 \r\nQ 54.890625 44.34375 54.890625 33.015625 \r\nz\r\n\" id=\"DejaVuSans-110\"/>\r\n      </defs>\r\n      <use xlink:href=\"#DejaVuSans-116\"/>\r\n      <use x=\"39.208984\" xlink:href=\"#DejaVuSans-105\"/>\r\n      <use x=\"66.992188\" xlink:href=\"#DejaVuSans-109\"/>\r\n      <use x=\"164.404297\" xlink:href=\"#DejaVuSans-101\"/>\r\n      <use x=\"225.927734\" xlink:href=\"#DejaVuSans-108\"/>\r\n      <use x=\"253.710938\" xlink:href=\"#DejaVuSans-105\"/>\r\n      <use x=\"281.494141\" xlink:href=\"#DejaVuSans-110\"/>\r\n      <use x=\"344.873047\" xlink:href=\"#DejaVuSans-101\"/>\r\n     </g>\r\n    </g>\r\n   </g>\r\n   <g id=\"matplotlib.axis_2\">\r\n    <g id=\"ytick_1\">\r\n     <g id=\"line2d_7\">\r\n      <defs>\r\n       <path d=\"M 0 0 \r\nL -3.5 0 \r\n\" id=\"m445adb7d94\" style=\"stroke:#000000;stroke-width:0.8;\"/>\r\n      </defs>\r\n      <g>\r\n       <use style=\"stroke:#000000;stroke-width:0.8;\" x=\"30.103125\" xlink:href=\"#m445adb7d94\" y=\"318.534545\"/>\r\n      </g>\r\n     </g>\r\n     <g id=\"text_8\">\r\n      <!-- 0.0 -->\r\n      <g transform=\"translate(7.2 322.333764)scale(0.1 -0.1)\">\r\n       <defs>\r\n        <path d=\"M 10.6875 12.40625 \r\nL 21 12.40625 \r\nL 21 0 \r\nL 10.6875 0 \r\nz\r\n\" id=\"DejaVuSans-46\"/>\r\n       </defs>\r\n       <use xlink:href=\"#DejaVuSans-48\"/>\r\n       <use x=\"63.623047\" xlink:href=\"#DejaVuSans-46\"/>\r\n       <use x=\"95.410156\" xlink:href=\"#DejaVuSans-48\"/>\r\n      </g>\r\n     </g>\r\n    </g>\r\n    <g id=\"ytick_2\">\r\n     <g id=\"line2d_8\">\r\n      <g>\r\n       <use style=\"stroke:#000000;stroke-width:0.8;\" x=\"30.103125\" xlink:href=\"#m445adb7d94\" y=\"254.683229\"/>\r\n      </g>\r\n     </g>\r\n     <g id=\"text_9\">\r\n      <!-- 0.2 -->\r\n      <g transform=\"translate(7.2 258.482447)scale(0.1 -0.1)\">\r\n       <use xlink:href=\"#DejaVuSans-48\"/>\r\n       <use x=\"63.623047\" xlink:href=\"#DejaVuSans-46\"/>\r\n       <use x=\"95.410156\" xlink:href=\"#DejaVuSans-50\"/>\r\n      </g>\r\n     </g>\r\n    </g>\r\n    <g id=\"ytick_3\">\r\n     <g id=\"line2d_9\">\r\n      <g>\r\n       <use style=\"stroke:#000000;stroke-width:0.8;\" x=\"30.103125\" xlink:href=\"#m445adb7d94\" y=\"190.831912\"/>\r\n      </g>\r\n     </g>\r\n     <g id=\"text_10\">\r\n      <!-- 0.4 -->\r\n      <g transform=\"translate(7.2 194.631131)scale(0.1 -0.1)\">\r\n       <defs>\r\n        <path d=\"M 37.796875 64.3125 \r\nL 12.890625 25.390625 \r\nL 37.796875 25.390625 \r\nz\r\nM 35.203125 72.90625 \r\nL 47.609375 72.90625 \r\nL 47.609375 25.390625 \r\nL 58.015625 25.390625 \r\nL 58.015625 17.1875 \r\nL 47.609375 17.1875 \r\nL 47.609375 0 \r\nL 37.796875 0 \r\nL 37.796875 17.1875 \r\nL 4.890625 17.1875 \r\nL 4.890625 26.703125 \r\nz\r\n\" id=\"DejaVuSans-52\"/>\r\n       </defs>\r\n       <use xlink:href=\"#DejaVuSans-48\"/>\r\n       <use x=\"63.623047\" xlink:href=\"#DejaVuSans-46\"/>\r\n       <use x=\"95.410156\" xlink:href=\"#DejaVuSans-52\"/>\r\n      </g>\r\n     </g>\r\n    </g>\r\n    <g id=\"ytick_4\">\r\n     <g id=\"line2d_10\">\r\n      <g>\r\n       <use style=\"stroke:#000000;stroke-width:0.8;\" x=\"30.103125\" xlink:href=\"#m445adb7d94\" y=\"126.980595\"/>\r\n      </g>\r\n     </g>\r\n     <g id=\"text_11\">\r\n      <!-- 0.6 -->\r\n      <g transform=\"translate(7.2 130.779814)scale(0.1 -0.1)\">\r\n       <defs>\r\n        <path d=\"M 33.015625 40.375 \r\nQ 26.375 40.375 22.484375 35.828125 \r\nQ 18.609375 31.296875 18.609375 23.390625 \r\nQ 18.609375 15.53125 22.484375 10.953125 \r\nQ 26.375 6.390625 33.015625 6.390625 \r\nQ 39.65625 6.390625 43.53125 10.953125 \r\nQ 47.40625 15.53125 47.40625 23.390625 \r\nQ 47.40625 31.296875 43.53125 35.828125 \r\nQ 39.65625 40.375 33.015625 40.375 \r\nz\r\nM 52.59375 71.296875 \r\nL 52.59375 62.3125 \r\nQ 48.875 64.0625 45.09375 64.984375 \r\nQ 41.3125 65.921875 37.59375 65.921875 \r\nQ 27.828125 65.921875 22.671875 59.328125 \r\nQ 17.53125 52.734375 16.796875 39.40625 \r\nQ 19.671875 43.65625 24.015625 45.921875 \r\nQ 28.375 48.1875 33.59375 48.1875 \r\nQ 44.578125 48.1875 50.953125 41.515625 \r\nQ 57.328125 34.859375 57.328125 23.390625 \r\nQ 57.328125 12.15625 50.6875 5.359375 \r\nQ 44.046875 -1.421875 33.015625 -1.421875 \r\nQ 20.359375 -1.421875 13.671875 8.265625 \r\nQ 6.984375 17.96875 6.984375 36.375 \r\nQ 6.984375 53.65625 15.1875 63.9375 \r\nQ 23.390625 74.21875 37.203125 74.21875 \r\nQ 40.921875 74.21875 44.703125 73.484375 \r\nQ 48.484375 72.75 52.59375 71.296875 \r\nz\r\n\" id=\"DejaVuSans-54\"/>\r\n       </defs>\r\n       <use xlink:href=\"#DejaVuSans-48\"/>\r\n       <use x=\"63.623047\" xlink:href=\"#DejaVuSans-46\"/>\r\n       <use x=\"95.410156\" xlink:href=\"#DejaVuSans-54\"/>\r\n      </g>\r\n     </g>\r\n    </g>\r\n    <g id=\"ytick_5\">\r\n     <g id=\"line2d_11\">\r\n      <g>\r\n       <use style=\"stroke:#000000;stroke-width:0.8;\" x=\"30.103125\" xlink:href=\"#m445adb7d94\" y=\"63.129278\"/>\r\n      </g>\r\n     </g>\r\n     <g id=\"text_12\">\r\n      <!-- 0.8 -->\r\n      <g transform=\"translate(7.2 66.928497)scale(0.1 -0.1)\">\r\n       <defs>\r\n        <path d=\"M 31.78125 34.625 \r\nQ 24.75 34.625 20.71875 30.859375 \r\nQ 16.703125 27.09375 16.703125 20.515625 \r\nQ 16.703125 13.921875 20.71875 10.15625 \r\nQ 24.75 6.390625 31.78125 6.390625 \r\nQ 38.8125 6.390625 42.859375 10.171875 \r\nQ 46.921875 13.96875 46.921875 20.515625 \r\nQ 46.921875 27.09375 42.890625 30.859375 \r\nQ 38.875 34.625 31.78125 34.625 \r\nz\r\nM 21.921875 38.8125 \r\nQ 15.578125 40.375 12.03125 44.71875 \r\nQ 8.5 49.078125 8.5 55.328125 \r\nQ 8.5 64.0625 14.71875 69.140625 \r\nQ 20.953125 74.21875 31.78125 74.21875 \r\nQ 42.671875 74.21875 48.875 69.140625 \r\nQ 55.078125 64.0625 55.078125 55.328125 \r\nQ 55.078125 49.078125 51.53125 44.71875 \r\nQ 48 40.375 41.703125 38.8125 \r\nQ 48.828125 37.15625 52.796875 32.3125 \r\nQ 56.78125 27.484375 56.78125 20.515625 \r\nQ 56.78125 9.90625 50.3125 4.234375 \r\nQ 43.84375 -1.421875 31.78125 -1.421875 \r\nQ 19.734375 -1.421875 13.25 4.234375 \r\nQ 6.78125 9.90625 6.78125 20.515625 \r\nQ 6.78125 27.484375 10.78125 32.3125 \r\nQ 14.796875 37.15625 21.921875 38.8125 \r\nz\r\nM 18.3125 54.390625 \r\nQ 18.3125 48.734375 21.84375 45.5625 \r\nQ 25.390625 42.390625 31.78125 42.390625 \r\nQ 38.140625 42.390625 41.71875 45.5625 \r\nQ 45.3125 48.734375 45.3125 54.390625 \r\nQ 45.3125 60.0625 41.71875 63.234375 \r\nQ 38.140625 66.40625 31.78125 66.40625 \r\nQ 25.390625 66.40625 21.84375 63.234375 \r\nQ 18.3125 60.0625 18.3125 54.390625 \r\nz\r\n\" id=\"DejaVuSans-56\"/>\r\n       </defs>\r\n       <use xlink:href=\"#DejaVuSans-48\"/>\r\n       <use x=\"63.623047\" xlink:href=\"#DejaVuSans-46\"/>\r\n       <use x=\"95.410156\" xlink:href=\"#DejaVuSans-56\"/>\r\n      </g>\r\n     </g>\r\n    </g>\r\n   </g>\r\n   <g id=\"line2d_12\">\r\n    <path clip-path=\"url(#pd09dcbdbca)\" d=\"M 60.539489 65.331048 \r\nL 83.084943 65.331048 \r\nL 83.084943 120.375286 \r\nL 105.630398 120.375286 \r\nL 105.630398 186.428373 \r\nL 128.175852 186.428373 \r\nL 128.175852 219.454916 \r\nL 150.721307 219.454916 \r\nL 150.721307 241.472611 \r\nL 173.266761 241.472611 \r\nL 173.266761 263.490307 \r\nL 195.812216 263.490307 \r\nL 195.812216 285.508002 \r\nL 240.903125 285.508002 \r\nL 240.903125 296.51685 \r\nL 263.44858 296.51685 \r\nL 263.44858 307.525698 \r\nL 285.994034 307.525698 \r\nL 285.994034 318.534545 \r\n\" style=\"fill:none;stroke:#1f77b4;stroke-linecap:square;stroke-width:1.5;\"/>\r\n   </g>\r\n   <g id=\"line2d_13\">\r\n    <path clip-path=\"url(#pd09dcbdbca)\" d=\"M 60.539489 39.185034 \r\nL 83.084943 39.185034 \r\nL 83.084943 54.285008 \r\nL 105.630398 54.285008 \r\nL 105.630398 73.159975 \r\nL 128.175852 73.159975 \r\nL 128.175852 84.661908 \r\nL 150.721307 84.661908 \r\nL 150.721307 88.694195 \r\nL 173.266761 88.694195 \r\nL 173.266761 113.767688 \r\nL 195.812216 113.767688 \r\nL 195.812216 117.946603 \r\nL 218.35767 117.946603 \r\nL 218.35767 126.667818 \r\nL 240.903125 126.667818 \r\nL 240.903125 126.667818 \r\nL 263.44858 126.667818 \r\nL 263.44858 126.667818 \r\nL 285.994034 126.667818 \r\nL 285.994034 126.667818 \r\nL 308.539489 126.667818 \r\nL 308.539489 126.667818 \r\nL 331.084943 126.667818 \r\nL 331.084943 126.667818 \r\nL 353.630398 126.667818 \r\nL 353.630398 134.662265 \r\nL 376.175852 134.662265 \r\nL 376.175852 134.662265 \r\nL 398.721307 134.662265 \r\nL 398.721307 134.662265 \r\nL 421.266761 134.662265 \r\nL 421.266761 134.662265 \r\nL 443.812216 134.662265 \r\nL 443.812216 134.662265 \r\nL 466.35767 134.662265 \r\nL 466.35767 134.662265 \r\nL 488.903125 134.662265 \r\nL 488.903125 134.662265 \r\nL 669.266761 134.662265 \r\nL 669.266761 134.662265 \r\n\" style=\"fill:none;stroke:#ff7f0e;stroke-linecap:square;stroke-width:1.5;\"/>\r\n   </g>\r\n   <g id=\"patch_3\">\r\n    <path d=\"M 30.103125 333.36 \r\nL 30.103125 7.2 \r\n\" style=\"fill:none;stroke:#000000;stroke-linecap:square;stroke-linejoin:miter;stroke-width:0.8;\"/>\r\n   </g>\r\n   <g id=\"patch_4\">\r\n    <path d=\"M 699.703125 333.36 \r\nL 699.703125 7.2 \r\n\" style=\"fill:none;stroke:#000000;stroke-linecap:square;stroke-linejoin:miter;stroke-width:0.8;\"/>\r\n   </g>\r\n   <g id=\"patch_5\">\r\n    <path d=\"M 30.103125 333.36 \r\nL 699.703125 333.36 \r\n\" style=\"fill:none;stroke:#000000;stroke-linecap:square;stroke-linejoin:miter;stroke-width:0.8;\"/>\r\n   </g>\r\n   <g id=\"patch_6\">\r\n    <path d=\"M 30.103125 7.2 \r\nL 699.703125 7.2 \r\n\" style=\"fill:none;stroke:#000000;stroke-linecap:square;stroke-linejoin:miter;stroke-width:0.8;\"/>\r\n   </g>\r\n   <g id=\"legend_1\">\r\n    <g id=\"patch_7\">\r\n     <path d=\"M 604.423437 44.55625 \r\nL 692.703125 44.55625 \r\nQ 694.703125 44.55625 694.703125 42.55625 \r\nL 694.703125 14.2 \r\nQ 694.703125 12.2 692.703125 12.2 \r\nL 604.423437 12.2 \r\nQ 602.423437 12.2 602.423437 14.2 \r\nL 602.423437 42.55625 \r\nQ 602.423437 44.55625 604.423437 44.55625 \r\nz\r\n\" style=\"fill:#ffffff;opacity:0.8;stroke:#cccccc;stroke-linejoin:miter;\"/>\r\n    </g>\r\n    <g id=\"line2d_14\">\r\n     <path d=\"M 606.423437 20.298437 \r\nL 626.423437 20.298437 \r\n\" style=\"fill:none;stroke:#1f77b4;stroke-linecap:square;stroke-width:1.5;\"/>\r\n    </g>\r\n    <g id=\"line2d_15\"/>\r\n    <g id=\"text_13\">\r\n     <!-- pneumonia -->\r\n     <g transform=\"translate(634.423437 23.798437)scale(0.1 -0.1)\">\r\n      <defs>\r\n       <path d=\"M 18.109375 8.203125 \r\nL 18.109375 -20.796875 \r\nL 9.078125 -20.796875 \r\nL 9.078125 54.6875 \r\nL 18.109375 54.6875 \r\nL 18.109375 46.390625 \r\nQ 20.953125 51.265625 25.265625 53.625 \r\nQ 29.59375 56 35.59375 56 \r\nQ 45.5625 56 51.78125 48.09375 \r\nQ 58.015625 40.1875 58.015625 27.296875 \r\nQ 58.015625 14.40625 51.78125 6.484375 \r\nQ 45.5625 -1.421875 35.59375 -1.421875 \r\nQ 29.59375 -1.421875 25.265625 0.953125 \r\nQ 20.953125 3.328125 18.109375 8.203125 \r\nz\r\nM 48.6875 27.296875 \r\nQ 48.6875 37.203125 44.609375 42.84375 \r\nQ 40.53125 48.484375 33.40625 48.484375 \r\nQ 26.265625 48.484375 22.1875 42.84375 \r\nQ 18.109375 37.203125 18.109375 27.296875 \r\nQ 18.109375 17.390625 22.1875 11.75 \r\nQ 26.265625 6.109375 33.40625 6.109375 \r\nQ 40.53125 6.109375 44.609375 11.75 \r\nQ 48.6875 17.390625 48.6875 27.296875 \r\nz\r\n\" id=\"DejaVuSans-112\"/>\r\n       <path d=\"M 8.5 21.578125 \r\nL 8.5 54.6875 \r\nL 17.484375 54.6875 \r\nL 17.484375 21.921875 \r\nQ 17.484375 14.15625 20.5 10.265625 \r\nQ 23.53125 6.390625 29.59375 6.390625 \r\nQ 36.859375 6.390625 41.078125 11.03125 \r\nQ 45.3125 15.671875 45.3125 23.6875 \r\nL 45.3125 54.6875 \r\nL 54.296875 54.6875 \r\nL 54.296875 0 \r\nL 45.3125 0 \r\nL 45.3125 8.40625 \r\nQ 42.046875 3.421875 37.71875 1 \r\nQ 33.40625 -1.421875 27.6875 -1.421875 \r\nQ 18.265625 -1.421875 13.375 4.4375 \r\nQ 8.5 10.296875 8.5 21.578125 \r\nz\r\nM 31.109375 56 \r\nz\r\n\" id=\"DejaVuSans-117\"/>\r\n       <path d=\"M 30.609375 48.390625 \r\nQ 23.390625 48.390625 19.1875 42.75 \r\nQ 14.984375 37.109375 14.984375 27.296875 \r\nQ 14.984375 17.484375 19.15625 11.84375 \r\nQ 23.34375 6.203125 30.609375 6.203125 \r\nQ 37.796875 6.203125 41.984375 11.859375 \r\nQ 46.1875 17.53125 46.1875 27.296875 \r\nQ 46.1875 37.015625 41.984375 42.703125 \r\nQ 37.796875 48.390625 30.609375 48.390625 \r\nz\r\nM 30.609375 56 \r\nQ 42.328125 56 49.015625 48.375 \r\nQ 55.71875 40.765625 55.71875 27.296875 \r\nQ 55.71875 13.875 49.015625 6.21875 \r\nQ 42.328125 -1.421875 30.609375 -1.421875 \r\nQ 18.84375 -1.421875 12.171875 6.21875 \r\nQ 5.515625 13.875 5.515625 27.296875 \r\nQ 5.515625 40.765625 12.171875 48.375 \r\nQ 18.84375 56 30.609375 56 \r\nz\r\n\" id=\"DejaVuSans-111\"/>\r\n       <path d=\"M 34.28125 27.484375 \r\nQ 23.390625 27.484375 19.1875 25 \r\nQ 14.984375 22.515625 14.984375 16.5 \r\nQ 14.984375 11.71875 18.140625 8.90625 \r\nQ 21.296875 6.109375 26.703125 6.109375 \r\nQ 34.1875 6.109375 38.703125 11.40625 \r\nQ 43.21875 16.703125 43.21875 25.484375 \r\nL 43.21875 27.484375 \r\nz\r\nM 52.203125 31.203125 \r\nL 52.203125 0 \r\nL 43.21875 0 \r\nL 43.21875 8.296875 \r\nQ 40.140625 3.328125 35.546875 0.953125 \r\nQ 30.953125 -1.421875 24.3125 -1.421875 \r\nQ 15.921875 -1.421875 10.953125 3.296875 \r\nQ 6 8.015625 6 15.921875 \r\nQ 6 25.140625 12.171875 29.828125 \r\nQ 18.359375 34.515625 30.609375 34.515625 \r\nL 43.21875 34.515625 \r\nL 43.21875 35.40625 \r\nQ 43.21875 41.609375 39.140625 45 \r\nQ 35.0625 48.390625 27.6875 48.390625 \r\nQ 23 48.390625 18.546875 47.265625 \r\nQ 14.109375 46.140625 10.015625 43.890625 \r\nL 10.015625 52.203125 \r\nQ 14.9375 54.109375 19.578125 55.046875 \r\nQ 24.21875 56 28.609375 56 \r\nQ 40.484375 56 46.34375 49.84375 \r\nQ 52.203125 43.703125 52.203125 31.203125 \r\nz\r\n\" id=\"DejaVuSans-97\"/>\r\n      </defs>\r\n      <use xlink:href=\"#DejaVuSans-112\"/>\r\n      <use x=\"63.476562\" xlink:href=\"#DejaVuSans-110\"/>\r\n      <use x=\"126.855469\" xlink:href=\"#DejaVuSans-101\"/>\r\n      <use x=\"188.378906\" xlink:href=\"#DejaVuSans-117\"/>\r\n      <use x=\"251.757812\" xlink:href=\"#DejaVuSans-109\"/>\r\n      <use x=\"349.169922\" xlink:href=\"#DejaVuSans-111\"/>\r\n      <use x=\"410.351562\" xlink:href=\"#DejaVuSans-110\"/>\r\n      <use x=\"473.730469\" xlink:href=\"#DejaVuSans-105\"/>\r\n      <use x=\"501.513672\" xlink:href=\"#DejaVuSans-97\"/>\r\n     </g>\r\n    </g>\r\n    <g id=\"line2d_16\">\r\n     <path d=\"M 606.423437 34.976562 \r\nL 626.423437 34.976562 \r\n\" style=\"fill:none;stroke:#ff7f0e;stroke-linecap:square;stroke-width:1.5;\"/>\r\n    </g>\r\n    <g id=\"line2d_17\"/>\r\n    <g id=\"text_14\">\r\n     <!-- none -->\r\n     <g transform=\"translate(634.423437 38.476562)scale(0.1 -0.1)\">\r\n      <use xlink:href=\"#DejaVuSans-110\"/>\r\n      <use x=\"63.378906\" xlink:href=\"#DejaVuSans-111\"/>\r\n      <use x=\"124.560547\" xlink:href=\"#DejaVuSans-110\"/>\r\n      <use x=\"187.939453\" xlink:href=\"#DejaVuSans-101\"/>\r\n     </g>\r\n    </g>\r\n   </g>\r\n  </g>\r\n </g>\r\n <defs>\r\n  <clipPath id=\"pd09dcbdbca\">\r\n   <rect height=\"326.16\" width=\"669.6\" x=\"30.103125\" y=\"7.2\"/>\r\n  </clipPath>\r\n </defs>\r\n</svg>\r\n",
      "image/png": "[encoded data removed]"
     },
     "metadata": {
      "needs_background": "light"
     }
    }
   ],
   "source": [
    "kmf = KaplanMeierFitter() \n",
    "\n",
    "\n",
    "T = filtered['days']     ## time to event\n",
    "E = filtered['outcome']      ## event occurred or censored\n",
    "\n",
    "\n",
    "groups = filtered['pneumonia']             ## Create the cohorts from the 'Contract' column\n",
    "ix1 = (groups == 1)   ## Cohort 1\n",
    "ix2 = (groups == 0)         ## Cohort 2\n",
    "\n",
    "\n",
    "kmf.fit(T[ix1], E[ix1], label='pneumonia')    ## fit the cohort 1 data\n",
    "ax = kmf.plot()\n",
    "\n",
    "\n",
    "kmf.fit(T[ix2], E[ix2], label='none')         ## fit the cohort 2 data\n",
    "ax1 = kmf.plot(ax=ax)\n"
   ]
  },
  {
   "cell_type": "markdown",
   "metadata": {
    "id": "xqzwv5yX9O4y"
   },
   "source": [
    "## Cox Proportional Hazard Model (Survival Regression)"
   ]
  },
  {
   "cell_type": "code",
   "execution_count": 27,
   "metadata": {
    "executionInfo": {
     "elapsed": 1072,
     "status": "ok",
     "timestamp": 1610679393402,
     "user": {
      "displayName": "장승운",
      "photoUrl": "",
      "userId": "09116233606503711736"
     },
     "user_tz": -540
    },
    "id": "fKoNoR2nZsZj"
   },
   "outputs": [],
   "source": [
    "from lifelines import CoxPHFitter "
   ]
  },
  {
   "cell_type": "code",
   "execution_count": 29,
   "metadata": {},
   "outputs": [
    {
     "output_type": "execute_result",
     "data": {
      "text/plain": [
       "{'acute coronary syndrome',\n",
       " 'acute kidney injury',\n",
       " 'acute myocardial infarction',\n",
       " 'acute renal failure',\n",
       " 'acute respiratory disease',\n",
       " 'acute respiratory disease syndrome',\n",
       " 'acute respiratory distress',\n",
       " 'acute respiratory distress syndrome',\n",
       " 'acute respiratory failure',\n",
       " 'anorexia',\n",
       " 'arrhythmia',\n",
       " 'body malaise',\n",
       " 'cardiac arrhythmia',\n",
       " 'cardiogenic shock',\n",
       " 'cardiopulmonary arrest',\n",
       " 'chest distress',\n",
       " 'chills',\n",
       " 'colds',\n",
       " 'congestive heart failure',\n",
       " 'conjunctivitis',\n",
       " 'cough',\n",
       " 'diarrhea',\n",
       " 'difficulty breathing',\n",
       " 'discomfort',\n",
       " 'dysphagia',\n",
       " 'dyspnea',\n",
       " 'eye irritation',\n",
       " 'fatigue',\n",
       " 'fever',\n",
       " 'gastritis',\n",
       " 'grasp',\n",
       " 'headache',\n",
       " 'heart failure',\n",
       " 'hypoxia',\n",
       " 'kidney failure and hypertension',\n",
       " 'mialgia',\n",
       " 'multiple electrolyte imbalance',\n",
       " 'multiple organ failure',\n",
       " 'muscular soreness',\n",
       " 'myalgias',\n",
       " 'myocardial dysfunction',\n",
       " 'myocardial infarction',\n",
       " 'pneumonia',\n",
       " 'primary myelofibrosis',\n",
       " 'respiratory symptoms',\n",
       " 'running nose',\n",
       " 'runny nose',\n",
       " 'sepsis',\n",
       " 'septic shock',\n",
       " 'severe',\n",
       " 'severe acute respiratory infection',\n",
       " 'severe pneumonia',\n",
       " 'shortness of breath',\n",
       " 'sore throat',\n",
       " 'systemic weakness',\n",
       " 'torpid evolution with respiratory distress and severe bronchopneumonia',\n",
       " 'transient fatigue'}"
      ]
     },
     "metadata": {},
     "execution_count": 29
    }
   ],
   "source": [
    "symptoms\n",
    "# cough"
   ]
  },
  {
   "cell_type": "code",
   "execution_count": 56,
   "metadata": {
    "colab": {
     "base_uri": "https://localhost:8080/",
     "height": 204
    },
    "executionInfo": {
     "elapsed": 1017,
     "status": "ok",
     "timestamp": 1610679481390,
     "user": {
      "displayName": "장승운",
      "photoUrl": "",
      "userId": "09116233606503711736"
     },
     "user_tz": -540
    },
    "id": "ngtTlOMuZscJ",
    "outputId": "cd9265dd-66db-48bc-beb4-d633dbdce2e2"
   },
   "outputs": [
    {
     "output_type": "execute_result",
     "data": {
      "text/plain": [
       "   outcome  days  fever  fatigue  severe pneumonia  pneumonia  \\\n",
       "0        0   3.0    1.0      1.0               0.0        0.0   \n",
       "1        0   8.0    1.0      1.0               0.0        0.0   \n",
       "2        0  10.0    1.0      0.0               0.0        0.0   \n",
       "3        0   0.0    1.0      0.0               0.0        0.0   \n",
       "5        0  27.0    1.0      0.0               0.0        0.0   \n",
       "\n",
       "   transient fatigue  \n",
       "0                0.0  \n",
       "1                0.0  \n",
       "2                0.0  \n",
       "3                0.0  \n",
       "5                0.0  "
      ],
      "text/html": "<div>\n<style scoped>\n    .dataframe tbody tr th:only-of-type {\n        vertical-align: middle;\n    }\n\n    .dataframe tbody tr th {\n        vertical-align: top;\n    }\n\n    .dataframe thead th {\n        text-align: right;\n    }\n</style>\n<table border=\"1\" class=\"dataframe\">\n  <thead>\n    <tr style=\"text-align: right;\">\n      <th></th>\n      <th>outcome</th>\n      <th>days</th>\n      <th>fever</th>\n      <th>fatigue</th>\n      <th>severe pneumonia</th>\n      <th>pneumonia</th>\n      <th>transient fatigue</th>\n    </tr>\n  </thead>\n  <tbody>\n    <tr>\n      <th>0</th>\n      <td>0</td>\n      <td>3.0</td>\n      <td>1.0</td>\n      <td>1.0</td>\n      <td>0.0</td>\n      <td>0.0</td>\n      <td>0.0</td>\n    </tr>\n    <tr>\n      <th>1</th>\n      <td>0</td>\n      <td>8.0</td>\n      <td>1.0</td>\n      <td>1.0</td>\n      <td>0.0</td>\n      <td>0.0</td>\n      <td>0.0</td>\n    </tr>\n    <tr>\n      <th>2</th>\n      <td>0</td>\n      <td>10.0</td>\n      <td>1.0</td>\n      <td>0.0</td>\n      <td>0.0</td>\n      <td>0.0</td>\n      <td>0.0</td>\n    </tr>\n    <tr>\n      <th>3</th>\n      <td>0</td>\n      <td>0.0</td>\n      <td>1.0</td>\n      <td>0.0</td>\n      <td>0.0</td>\n      <td>0.0</td>\n      <td>0.0</td>\n    </tr>\n    <tr>\n      <th>5</th>\n      <td>0</td>\n      <td>27.0</td>\n      <td>1.0</td>\n      <td>0.0</td>\n      <td>0.0</td>\n      <td>0.0</td>\n      <td>0.0</td>\n    </tr>\n  </tbody>\n</table>\n</div>"
     },
     "metadata": {},
     "execution_count": 56
    }
   ],
   "source": [
    "## My objective here is to introduce you to the implementation of the model.Thus taking subset of the columns to train the model.\n",
    "## Only using the subset of the columns present in the original data\n",
    "df_r= filtered.loc[:,['outcome','days','fever','fatigue','severe pneumonia','pneumonia',\n",
    " 'transient fatigue']]\n",
    "df_r.head() ## have a look at the data "
   ]
  },
  {
   "cell_type": "code",
   "execution_count": 57,
   "metadata": {
    "colab": {
     "base_uri": "https://localhost:8080/",
     "height": 204
    },
    "executionInfo": {
     "elapsed": 1252,
     "status": "ok",
     "timestamp": 1610679491138,
     "user": {
      "displayName": "장승운",
      "photoUrl": "",
      "userId": "09116233606503711736"
     },
     "user_tz": -540
    },
    "id": "ZqB9jIroZseq",
    "outputId": "a7d7a9a1-185d-4cbd-cefb-be04685eaf11"
   },
   "outputs": [
    {
     "output_type": "execute_result",
     "data": {
      "text/plain": [
       "   outcome  days  fever  fatigue  severe pneumonia  pneumonia  \\\n",
       "0        0   3.0    1.0      1.0               0.0        0.0   \n",
       "1        0   8.0    1.0      1.0               0.0        0.0   \n",
       "2        0  10.0    1.0      0.0               0.0        0.0   \n",
       "3        0   0.0    1.0      0.0               0.0        0.0   \n",
       "5        0  27.0    1.0      0.0               0.0        0.0   \n",
       "\n",
       "   transient fatigue  \n",
       "0                0.0  \n",
       "1                0.0  \n",
       "2                0.0  \n",
       "3                0.0  \n",
       "5                0.0  "
      ],
      "text/html": "<div>\n<style scoped>\n    .dataframe tbody tr th:only-of-type {\n        vertical-align: middle;\n    }\n\n    .dataframe tbody tr th {\n        vertical-align: top;\n    }\n\n    .dataframe thead th {\n        text-align: right;\n    }\n</style>\n<table border=\"1\" class=\"dataframe\">\n  <thead>\n    <tr style=\"text-align: right;\">\n      <th></th>\n      <th>outcome</th>\n      <th>days</th>\n      <th>fever</th>\n      <th>fatigue</th>\n      <th>severe pneumonia</th>\n      <th>pneumonia</th>\n      <th>transient fatigue</th>\n    </tr>\n  </thead>\n  <tbody>\n    <tr>\n      <th>0</th>\n      <td>0</td>\n      <td>3.0</td>\n      <td>1.0</td>\n      <td>1.0</td>\n      <td>0.0</td>\n      <td>0.0</td>\n      <td>0.0</td>\n    </tr>\n    <tr>\n      <th>1</th>\n      <td>0</td>\n      <td>8.0</td>\n      <td>1.0</td>\n      <td>1.0</td>\n      <td>0.0</td>\n      <td>0.0</td>\n      <td>0.0</td>\n    </tr>\n    <tr>\n      <th>2</th>\n      <td>0</td>\n      <td>10.0</td>\n      <td>1.0</td>\n      <td>0.0</td>\n      <td>0.0</td>\n      <td>0.0</td>\n      <td>0.0</td>\n    </tr>\n    <tr>\n      <th>3</th>\n      <td>0</td>\n      <td>0.0</td>\n      <td>1.0</td>\n      <td>0.0</td>\n      <td>0.0</td>\n      <td>0.0</td>\n      <td>0.0</td>\n    </tr>\n    <tr>\n      <th>5</th>\n      <td>0</td>\n      <td>27.0</td>\n      <td>1.0</td>\n      <td>0.0</td>\n      <td>0.0</td>\n      <td>0.0</td>\n      <td>0.0</td>\n    </tr>\n  </tbody>\n</table>\n</div>"
     },
     "metadata": {},
     "execution_count": 57
    }
   ],
   "source": [
    "## Create dummy variables\n",
    "df_dummy = pd.get_dummies(df_r, drop_first=True)\n",
    "df_dummy.head()"
   ]
  },
  {
   "cell_type": "code",
   "execution_count": 58,
   "metadata": {
    "colab": {
     "base_uri": "https://localhost:8080/",
     "height": 469
    },
    "executionInfo": {
     "elapsed": 1122,
     "status": "ok",
     "timestamp": 1610679525336,
     "user": {
      "displayName": "장승운",
      "photoUrl": "",
      "userId": "09116233606503711736"
     },
     "user_tz": -540
    },
    "id": "2y76aY1MZ25p",
    "outputId": "659571df-d928-4abb-824e-8259315ef3d8"
   },
   "outputs": [
    {
     "output_type": "display_data",
     "data": {
      "text/plain": "<lifelines.CoxPHFitter: fitted with 117 total observations, 54 right-censored observations>\n             duration col = 'days'\n                event col = 'outcome'\n      baseline estimation = breslow\n   number of observations = 117\nnumber of events observed = 63\n   partial log-likelihood = -242.78\n         time fit was run = 2021-01-21 07:24:47 UTC\n\n---\n                    coef  exp(coef)   se(coef)   coef lower 95%   coef upper 95%  exp(coef) lower 95%  exp(coef) upper 95%\ncovariate                                                                                                                 \nfever              -2.20       0.11       0.54            -3.27            -1.14                 0.04                 0.32\nfatigue             1.23       3.42       0.81            -0.36             2.82                 0.70                16.80\nsevere pneumonia    0.88       2.40       0.55            -0.19             1.95                 0.82                 7.01\npneumonia           0.93       2.53       0.28             0.38             1.48                 1.46                 4.39\ntransient fatigue -16.51       0.00    2529.16         -4973.58          4940.56                 0.00                  inf\n\n                      z      p   -log2(p)\ncovariate                                \nfever             -4.06 <0.005      14.31\nfatigue            1.51   0.13       2.94\nsevere pneumonia   1.61   0.11       3.21\npneumonia          3.30 <0.005      10.03\ntransient fatigue -0.01   0.99       0.01\n---\nConcordance = 0.76\nPartial AIC = 495.56\nlog-likelihood ratio test = 62.37 on 5 df\n-log2(p) of ll-ratio test = 37.89",
      "text/html": "<div>\n<style scoped>\n    .dataframe tbody tr th:only-of-type {\n        vertical-align: middle;\n    }\n\n    .dataframe tbody tr th {\n        vertical-align: top;\n    }\n\n    .dataframe thead th {\n        text-align: right;\n    }\n</style>\n<table border=\"1\" class=\"dataframe\">\n  <tbody>\n    <tr>\n      <th>model</th>\n      <td>lifelines.CoxPHFitter</td>\n    </tr>\n    <tr>\n      <th>duration col</th>\n      <td>'days'</td>\n    </tr>\n    <tr>\n      <th>event col</th>\n      <td>'outcome'</td>\n    </tr>\n    <tr>\n      <th>baseline estimation</th>\n      <td>breslow</td>\n    </tr>\n    <tr>\n      <th>number of observations</th>\n      <td>117</td>\n    </tr>\n    <tr>\n      <th>number of events observed</th>\n      <td>63</td>\n    </tr>\n    <tr>\n      <th>partial log-likelihood</th>\n      <td>-242.78</td>\n    </tr>\n    <tr>\n      <th>time fit was run</th>\n      <td>2021-01-21 07:24:47 UTC</td>\n    </tr>\n  </tbody>\n</table>\n</div><table border=\"1\" class=\"dataframe\">\n  <thead>\n    <tr style=\"text-align: right;\">\n      <th style=\"min-width: 12px;\"></th>\n      <th style=\"min-width: 12px;\">coef</th>\n      <th style=\"min-width: 12px;\">exp(coef)</th>\n      <th style=\"min-width: 12px;\">se(coef)</th>\n      <th style=\"min-width: 12px;\">coef lower 95%</th>\n      <th style=\"min-width: 12px;\">coef upper 95%</th>\n      <th style=\"min-width: 12px;\">exp(coef) lower 95%</th>\n      <th style=\"min-width: 12px;\">exp(coef) upper 95%</th>\n      <th style=\"min-width: 12px;\">z</th>\n      <th style=\"min-width: 12px;\">p</th>\n      <th style=\"min-width: 12px;\">-log2(p)</th>\n    </tr>\n  </thead>\n  <tbody>\n    <tr>\n      <th>fever</th>\n      <td>-2.20</td>\n      <td>0.11</td>\n      <td>0.54</td>\n      <td>-3.27</td>\n      <td>-1.14</td>\n      <td>0.04</td>\n      <td>0.32</td>\n      <td>-4.06</td>\n      <td>&lt;0.005</td>\n      <td>14.31</td>\n    </tr>\n    <tr>\n      <th>fatigue</th>\n      <td>1.23</td>\n      <td>3.42</td>\n      <td>0.81</td>\n      <td>-0.36</td>\n      <td>2.82</td>\n      <td>0.70</td>\n      <td>16.80</td>\n      <td>1.51</td>\n      <td>0.13</td>\n      <td>2.94</td>\n    </tr>\n    <tr>\n      <th>severe pneumonia</th>\n      <td>0.88</td>\n      <td>2.40</td>\n      <td>0.55</td>\n      <td>-0.19</td>\n      <td>1.95</td>\n      <td>0.82</td>\n      <td>7.01</td>\n      <td>1.61</td>\n      <td>0.11</td>\n      <td>3.21</td>\n    </tr>\n    <tr>\n      <th>pneumonia</th>\n      <td>0.93</td>\n      <td>2.53</td>\n      <td>0.28</td>\n      <td>0.38</td>\n      <td>1.48</td>\n      <td>1.46</td>\n      <td>4.39</td>\n      <td>3.30</td>\n      <td>&lt;0.005</td>\n      <td>10.03</td>\n    </tr>\n    <tr>\n      <th>transient fatigue</th>\n      <td>-16.51</td>\n      <td>0.00</td>\n      <td>2529.16</td>\n      <td>-4973.58</td>\n      <td>4940.56</td>\n      <td>0.00</td>\n      <td>inf</td>\n      <td>-0.01</td>\n      <td>0.99</td>\n      <td>0.01</td>\n    </tr>\n  </tbody>\n</table><br><div>\n<style scoped>\n    .dataframe tbody tr th:only-of-type {\n        vertical-align: middle;\n    }\n\n    .dataframe tbody tr th {\n        vertical-align: top;\n    }\n\n    .dataframe thead th {\n        text-align: right;\n    }\n</style>\n<table border=\"1\" class=\"dataframe\">\n  <tbody>\n    <tr>\n      <th>Concordance</th>\n      <td>0.76</td>\n    </tr>\n    <tr>\n      <th>Partial AIC</th>\n      <td>495.56</td>\n    </tr>\n    <tr>\n      <th>log-likelihood ratio test</th>\n      <td>62.37 on 5 df</td>\n    </tr>\n    <tr>\n      <th>-log2(p) of ll-ratio test</th>\n      <td>37.89</td>\n    </tr>\n  </tbody>\n</table>\n</div>",
      "text/latex": "\\begin{tabular}{lrrrrrrrrrr}\n\\toprule\n{} &   coef &  exp(coef) &  se(coef) &  coef lower 95\\% &  coef upper 95\\% &  exp(coef) lower 95\\% &  exp(coef) upper 95\\% &     z &    p &  -log2(p) \\\\\ncovariate         &        &            &           &                 &                 &                      &                      &       &      &           \\\\\n\\midrule\nfever             &  -2.20 &       0.11 &      0.54 &           -3.27 &           -1.14 &                 0.04 &                 0.32 & -4.06 & 0.00 &     14.31 \\\\\nfatigue           &   1.23 &       3.42 &      0.81 &           -0.36 &            2.82 &                 0.70 &                16.80 &  1.51 & 0.13 &      2.94 \\\\\nsevere pneumonia  &   0.88 &       2.40 &      0.55 &           -0.19 &            1.95 &                 0.82 &                 7.01 &  1.61 & 0.11 &      3.21 \\\\\npneumonia         &   0.93 &       2.53 &      0.28 &            0.38 &            1.48 &                 1.46 &                 4.39 &  3.30 & 0.00 &     10.03 \\\\\ntransient fatigue & -16.51 &       0.00 &   2529.16 &        -4973.58 &         4940.56 &                 0.00 &                  inf & -0.01 & 0.99 &      0.01 \\\\\n\\bottomrule\n\\end{tabular}\n"
     },
     "metadata": {}
    }
   ],
   "source": [
    "# Using Cox Proportional Hazards model\n",
    "cph = CoxPHFitter()   ## Instantiate the class to create a cph object\n",
    "cph.fit(df_dummy, 'days', event_col='outcome')   ## Fit the data to train the model\n",
    "cph.print_summary()    ## HAve a look at the significance of the features"
   ]
  },
  {
   "cell_type": "code",
   "execution_count": 59,
   "metadata": {
    "colab": {
     "base_uri": "https://localhost:8080/",
     "height": 406
    },
    "executionInfo": {
     "elapsed": 1159,
     "status": "ok",
     "timestamp": 1610679573354,
     "user": {
      "displayName": "장승운",
      "photoUrl": "",
      "userId": "09116233606503711736"
     },
     "user_tz": -540
    },
    "id": "Mz1cVYQzZ28G",
    "outputId": "327b57e4-1f4e-4343-d79a-67c36c54ee2f"
   },
   "outputs": [
    {
     "output_type": "execute_result",
     "data": {
      "text/plain": [
       "<AxesSubplot:xlabel='log(HR) (95% CI)'>"
      ]
     },
     "metadata": {},
     "execution_count": 59
    },
    {
     "output_type": "display_data",
     "data": {
      "text/plain": "<Figure size 864x432 with 1 Axes>",
      "image/svg+xml": "<?xml version=\"1.0\" encoding=\"utf-8\" standalone=\"no\"?>\r\n<!DOCTYPE svg PUBLIC \"-//W3C//DTD SVG 1.1//EN\"\r\n  \"http://www.w3.org/Graphics/SVG/1.1/DTD/svg11.dtd\">\r\n<!-- Created with matplotlib (https://matplotlib.org/) -->\r\n<svg height=\"370.91625pt\" version=\"1.1\" viewBox=\"0 0 783.93125 370.91625\" width=\"783.93125pt\" xmlns=\"http://www.w3.org/2000/svg\" xmlns:xlink=\"http://www.w3.org/1999/xlink\">\r\n <metadata>\r\n  <rdf:RDF xmlns:cc=\"http://creativecommons.org/ns#\" xmlns:dc=\"http://purl.org/dc/elements/1.1/\" xmlns:rdf=\"http://www.w3.org/1999/02/22-rdf-syntax-ns#\">\r\n   <cc:Work>\r\n    <dc:type rdf:resource=\"http://purl.org/dc/dcmitype/StillImage\"/>\r\n    <dc:date>2021-01-21T16:24:51.257735</dc:date>\r\n    <dc:format>image/svg+xml</dc:format>\r\n    <dc:creator>\r\n     <cc:Agent>\r\n      <dc:title>Matplotlib v3.3.2, https://matplotlib.org/</dc:title>\r\n     </cc:Agent>\r\n    </dc:creator>\r\n   </cc:Work>\r\n  </rdf:RDF>\r\n </metadata>\r\n <defs>\r\n  <style type=\"text/css\">*{stroke-linecap:butt;stroke-linejoin:round;}</style>\r\n </defs>\r\n <g id=\"figure_1\">\r\n  <g id=\"patch_1\">\r\n   <path d=\"M -0 370.91625 \r\nL 783.93125 370.91625 \r\nL 783.93125 0 \r\nL -0 0 \r\nz\r\n\" style=\"fill:none;\"/>\r\n  </g>\r\n  <g id=\"axes_1\">\r\n   <g id=\"patch_2\">\r\n    <path d=\"M 107.13125 333.36 \r\nL 776.73125 333.36 \r\nL 776.73125 7.2 \r\nL 107.13125 7.2 \r\nz\r\n\" style=\"fill:#ffffff;\"/>\r\n   </g>\r\n   <g id=\"matplotlib.axis_1\">\r\n    <g id=\"xtick_1\">\r\n     <g id=\"line2d_1\">\r\n      <defs>\r\n       <path d=\"M 0 0 \r\nL 0 3.5 \r\n\" id=\"m3e8f024a79\" style=\"stroke:#000000;stroke-width:0.8;\"/>\r\n      </defs>\r\n      <g>\r\n       <use style=\"stroke:#000000;stroke-width:0.8;\" x=\"197.345441\" xlink:href=\"#m3e8f024a79\" y=\"333.36\"/>\r\n      </g>\r\n     </g>\r\n     <g id=\"text_1\">\r\n      <!-- −4000 -->\r\n      <g transform=\"translate(180.430597 347.958438)scale(0.1 -0.1)\">\r\n       <defs>\r\n        <path d=\"M 10.59375 35.5 \r\nL 73.1875 35.5 \r\nL 73.1875 27.203125 \r\nL 10.59375 27.203125 \r\nz\r\n\" id=\"DejaVuSans-8722\"/>\r\n        <path d=\"M 37.796875 64.3125 \r\nL 12.890625 25.390625 \r\nL 37.796875 25.390625 \r\nz\r\nM 35.203125 72.90625 \r\nL 47.609375 72.90625 \r\nL 47.609375 25.390625 \r\nL 58.015625 25.390625 \r\nL 58.015625 17.1875 \r\nL 47.609375 17.1875 \r\nL 47.609375 0 \r\nL 37.796875 0 \r\nL 37.796875 17.1875 \r\nL 4.890625 17.1875 \r\nL 4.890625 26.703125 \r\nz\r\n\" id=\"DejaVuSans-52\"/>\r\n        <path d=\"M 31.78125 66.40625 \r\nQ 24.171875 66.40625 20.328125 58.90625 \r\nQ 16.5 51.421875 16.5 36.375 \r\nQ 16.5 21.390625 20.328125 13.890625 \r\nQ 24.171875 6.390625 31.78125 6.390625 \r\nQ 39.453125 6.390625 43.28125 13.890625 \r\nQ 47.125 21.390625 47.125 36.375 \r\nQ 47.125 51.421875 43.28125 58.90625 \r\nQ 39.453125 66.40625 31.78125 66.40625 \r\nz\r\nM 31.78125 74.21875 \r\nQ 44.046875 74.21875 50.515625 64.515625 \r\nQ 56.984375 54.828125 56.984375 36.375 \r\nQ 56.984375 17.96875 50.515625 8.265625 \r\nQ 44.046875 -1.421875 31.78125 -1.421875 \r\nQ 19.53125 -1.421875 13.0625 8.265625 \r\nQ 6.59375 17.96875 6.59375 36.375 \r\nQ 6.59375 54.828125 13.0625 64.515625 \r\nQ 19.53125 74.21875 31.78125 74.21875 \r\nz\r\n\" id=\"DejaVuSans-48\"/>\r\n       </defs>\r\n       <use xlink:href=\"#DejaVuSans-8722\"/>\r\n       <use x=\"83.789062\" xlink:href=\"#DejaVuSans-52\"/>\r\n       <use x=\"147.412109\" xlink:href=\"#DejaVuSans-48\"/>\r\n       <use x=\"211.035156\" xlink:href=\"#DejaVuSans-48\"/>\r\n       <use x=\"274.658203\" xlink:href=\"#DejaVuSans-48\"/>\r\n      </g>\r\n     </g>\r\n    </g>\r\n    <g id=\"xtick_2\">\r\n     <g id=\"line2d_2\">\r\n      <g>\r\n       <use style=\"stroke:#000000;stroke-width:0.8;\" x=\"320.145226\" xlink:href=\"#m3e8f024a79\" y=\"333.36\"/>\r\n      </g>\r\n     </g>\r\n     <g id=\"text_2\">\r\n      <!-- −2000 -->\r\n      <g transform=\"translate(303.230383 347.958438)scale(0.1 -0.1)\">\r\n       <defs>\r\n        <path d=\"M 19.1875 8.296875 \r\nL 53.609375 8.296875 \r\nL 53.609375 0 \r\nL 7.328125 0 \r\nL 7.328125 8.296875 \r\nQ 12.9375 14.109375 22.625 23.890625 \r\nQ 32.328125 33.6875 34.8125 36.53125 \r\nQ 39.546875 41.84375 41.421875 45.53125 \r\nQ 43.3125 49.21875 43.3125 52.78125 \r\nQ 43.3125 58.59375 39.234375 62.25 \r\nQ 35.15625 65.921875 28.609375 65.921875 \r\nQ 23.96875 65.921875 18.8125 64.3125 \r\nQ 13.671875 62.703125 7.8125 59.421875 \r\nL 7.8125 69.390625 \r\nQ 13.765625 71.78125 18.9375 73 \r\nQ 24.125 74.21875 28.421875 74.21875 \r\nQ 39.75 74.21875 46.484375 68.546875 \r\nQ 53.21875 62.890625 53.21875 53.421875 \r\nQ 53.21875 48.921875 51.53125 44.890625 \r\nQ 49.859375 40.875 45.40625 35.40625 \r\nQ 44.1875 33.984375 37.640625 27.21875 \r\nQ 31.109375 20.453125 19.1875 8.296875 \r\nz\r\n\" id=\"DejaVuSans-50\"/>\r\n       </defs>\r\n       <use xlink:href=\"#DejaVuSans-8722\"/>\r\n       <use x=\"83.789062\" xlink:href=\"#DejaVuSans-50\"/>\r\n       <use x=\"147.412109\" xlink:href=\"#DejaVuSans-48\"/>\r\n       <use x=\"211.035156\" xlink:href=\"#DejaVuSans-48\"/>\r\n       <use x=\"274.658203\" xlink:href=\"#DejaVuSans-48\"/>\r\n      </g>\r\n     </g>\r\n    </g>\r\n    <g id=\"xtick_3\">\r\n     <g id=\"line2d_3\">\r\n      <g>\r\n       <use style=\"stroke:#000000;stroke-width:0.8;\" x=\"442.945012\" xlink:href=\"#m3e8f024a79\" y=\"333.36\"/>\r\n      </g>\r\n     </g>\r\n     <g id=\"text_3\">\r\n      <!-- 0 -->\r\n      <g transform=\"translate(439.763762 347.958438)scale(0.1 -0.1)\">\r\n       <use xlink:href=\"#DejaVuSans-48\"/>\r\n      </g>\r\n     </g>\r\n    </g>\r\n    <g id=\"xtick_4\">\r\n     <g id=\"line2d_4\">\r\n      <g>\r\n       <use style=\"stroke:#000000;stroke-width:0.8;\" x=\"565.744798\" xlink:href=\"#m3e8f024a79\" y=\"333.36\"/>\r\n      </g>\r\n     </g>\r\n     <g id=\"text_4\">\r\n      <!-- 2000 -->\r\n      <g transform=\"translate(553.019798 347.958438)scale(0.1 -0.1)\">\r\n       <use xlink:href=\"#DejaVuSans-50\"/>\r\n       <use x=\"63.623047\" xlink:href=\"#DejaVuSans-48\"/>\r\n       <use x=\"127.246094\" xlink:href=\"#DejaVuSans-48\"/>\r\n       <use x=\"190.869141\" xlink:href=\"#DejaVuSans-48\"/>\r\n      </g>\r\n     </g>\r\n    </g>\r\n    <g id=\"xtick_5\">\r\n     <g id=\"line2d_5\">\r\n      <g>\r\n       <use style=\"stroke:#000000;stroke-width:0.8;\" x=\"688.544584\" xlink:href=\"#m3e8f024a79\" y=\"333.36\"/>\r\n      </g>\r\n     </g>\r\n     <g id=\"text_5\">\r\n      <!-- 4000 -->\r\n      <g transform=\"translate(675.819584 347.958438)scale(0.1 -0.1)\">\r\n       <use xlink:href=\"#DejaVuSans-52\"/>\r\n       <use x=\"63.623047\" xlink:href=\"#DejaVuSans-48\"/>\r\n       <use x=\"127.246094\" xlink:href=\"#DejaVuSans-48\"/>\r\n       <use x=\"190.869141\" xlink:href=\"#DejaVuSans-48\"/>\r\n      </g>\r\n     </g>\r\n    </g>\r\n    <g id=\"text_6\">\r\n     <!-- log(HR) (95% CI) -->\r\n     <g transform=\"translate(400.013281 361.636562)scale(0.1 -0.1)\">\r\n      <defs>\r\n       <path d=\"M 9.421875 75.984375 \r\nL 18.40625 75.984375 \r\nL 18.40625 0 \r\nL 9.421875 0 \r\nz\r\n\" id=\"DejaVuSans-108\"/>\r\n       <path d=\"M 30.609375 48.390625 \r\nQ 23.390625 48.390625 19.1875 42.75 \r\nQ 14.984375 37.109375 14.984375 27.296875 \r\nQ 14.984375 17.484375 19.15625 11.84375 \r\nQ 23.34375 6.203125 30.609375 6.203125 \r\nQ 37.796875 6.203125 41.984375 11.859375 \r\nQ 46.1875 17.53125 46.1875 27.296875 \r\nQ 46.1875 37.015625 41.984375 42.703125 \r\nQ 37.796875 48.390625 30.609375 48.390625 \r\nz\r\nM 30.609375 56 \r\nQ 42.328125 56 49.015625 48.375 \r\nQ 55.71875 40.765625 55.71875 27.296875 \r\nQ 55.71875 13.875 49.015625 6.21875 \r\nQ 42.328125 -1.421875 30.609375 -1.421875 \r\nQ 18.84375 -1.421875 12.171875 6.21875 \r\nQ 5.515625 13.875 5.515625 27.296875 \r\nQ 5.515625 40.765625 12.171875 48.375 \r\nQ 18.84375 56 30.609375 56 \r\nz\r\n\" id=\"DejaVuSans-111\"/>\r\n       <path d=\"M 45.40625 27.984375 \r\nQ 45.40625 37.75 41.375 43.109375 \r\nQ 37.359375 48.484375 30.078125 48.484375 \r\nQ 22.859375 48.484375 18.828125 43.109375 \r\nQ 14.796875 37.75 14.796875 27.984375 \r\nQ 14.796875 18.265625 18.828125 12.890625 \r\nQ 22.859375 7.515625 30.078125 7.515625 \r\nQ 37.359375 7.515625 41.375 12.890625 \r\nQ 45.40625 18.265625 45.40625 27.984375 \r\nz\r\nM 54.390625 6.78125 \r\nQ 54.390625 -7.171875 48.1875 -13.984375 \r\nQ 42 -20.796875 29.203125 -20.796875 \r\nQ 24.46875 -20.796875 20.265625 -20.09375 \r\nQ 16.0625 -19.390625 12.109375 -17.921875 \r\nL 12.109375 -9.1875 \r\nQ 16.0625 -11.328125 19.921875 -12.34375 \r\nQ 23.78125 -13.375 27.78125 -13.375 \r\nQ 36.625 -13.375 41.015625 -8.765625 \r\nQ 45.40625 -4.15625 45.40625 5.171875 \r\nL 45.40625 9.625 \r\nQ 42.625 4.78125 38.28125 2.390625 \r\nQ 33.9375 0 27.875 0 \r\nQ 17.828125 0 11.671875 7.65625 \r\nQ 5.515625 15.328125 5.515625 27.984375 \r\nQ 5.515625 40.671875 11.671875 48.328125 \r\nQ 17.828125 56 27.875 56 \r\nQ 33.9375 56 38.28125 53.609375 \r\nQ 42.625 51.21875 45.40625 46.390625 \r\nL 45.40625 54.6875 \r\nL 54.390625 54.6875 \r\nz\r\n\" id=\"DejaVuSans-103\"/>\r\n       <path d=\"M 31 75.875 \r\nQ 24.46875 64.65625 21.28125 53.65625 \r\nQ 18.109375 42.671875 18.109375 31.390625 \r\nQ 18.109375 20.125 21.3125 9.0625 \r\nQ 24.515625 -2 31 -13.1875 \r\nL 23.1875 -13.1875 \r\nQ 15.875 -1.703125 12.234375 9.375 \r\nQ 8.59375 20.453125 8.59375 31.390625 \r\nQ 8.59375 42.28125 12.203125 53.3125 \r\nQ 15.828125 64.359375 23.1875 75.875 \r\nz\r\n\" id=\"DejaVuSans-40\"/>\r\n       <path d=\"M 9.8125 72.90625 \r\nL 19.671875 72.90625 \r\nL 19.671875 43.015625 \r\nL 55.515625 43.015625 \r\nL 55.515625 72.90625 \r\nL 65.375 72.90625 \r\nL 65.375 0 \r\nL 55.515625 0 \r\nL 55.515625 34.71875 \r\nL 19.671875 34.71875 \r\nL 19.671875 0 \r\nL 9.8125 0 \r\nz\r\n\" id=\"DejaVuSans-72\"/>\r\n       <path d=\"M 44.390625 34.1875 \r\nQ 47.5625 33.109375 50.5625 29.59375 \r\nQ 53.5625 26.078125 56.59375 19.921875 \r\nL 66.609375 0 \r\nL 56 0 \r\nL 46.6875 18.703125 \r\nQ 43.0625 26.03125 39.671875 28.421875 \r\nQ 36.28125 30.8125 30.421875 30.8125 \r\nL 19.671875 30.8125 \r\nL 19.671875 0 \r\nL 9.8125 0 \r\nL 9.8125 72.90625 \r\nL 32.078125 72.90625 \r\nQ 44.578125 72.90625 50.734375 67.671875 \r\nQ 56.890625 62.453125 56.890625 51.90625 \r\nQ 56.890625 45.015625 53.6875 40.46875 \r\nQ 50.484375 35.9375 44.390625 34.1875 \r\nz\r\nM 19.671875 64.796875 \r\nL 19.671875 38.921875 \r\nL 32.078125 38.921875 \r\nQ 39.203125 38.921875 42.84375 42.21875 \r\nQ 46.484375 45.515625 46.484375 51.90625 \r\nQ 46.484375 58.296875 42.84375 61.546875 \r\nQ 39.203125 64.796875 32.078125 64.796875 \r\nz\r\n\" id=\"DejaVuSans-82\"/>\r\n       <path d=\"M 8.015625 75.875 \r\nL 15.828125 75.875 \r\nQ 23.140625 64.359375 26.78125 53.3125 \r\nQ 30.421875 42.28125 30.421875 31.390625 \r\nQ 30.421875 20.453125 26.78125 9.375 \r\nQ 23.140625 -1.703125 15.828125 -13.1875 \r\nL 8.015625 -13.1875 \r\nQ 14.5 -2 17.703125 9.0625 \r\nQ 20.90625 20.125 20.90625 31.390625 \r\nQ 20.90625 42.671875 17.703125 53.65625 \r\nQ 14.5 64.65625 8.015625 75.875 \r\nz\r\n\" id=\"DejaVuSans-41\"/>\r\n       <path id=\"DejaVuSans-32\"/>\r\n       <path d=\"M 10.984375 1.515625 \r\nL 10.984375 10.5 \r\nQ 14.703125 8.734375 18.5 7.8125 \r\nQ 22.3125 6.890625 25.984375 6.890625 \r\nQ 35.75 6.890625 40.890625 13.453125 \r\nQ 46.046875 20.015625 46.78125 33.40625 \r\nQ 43.953125 29.203125 39.59375 26.953125 \r\nQ 35.25 24.703125 29.984375 24.703125 \r\nQ 19.046875 24.703125 12.671875 31.3125 \r\nQ 6.296875 37.9375 6.296875 49.421875 \r\nQ 6.296875 60.640625 12.9375 67.421875 \r\nQ 19.578125 74.21875 30.609375 74.21875 \r\nQ 43.265625 74.21875 49.921875 64.515625 \r\nQ 56.59375 54.828125 56.59375 36.375 \r\nQ 56.59375 19.140625 48.40625 8.859375 \r\nQ 40.234375 -1.421875 26.421875 -1.421875 \r\nQ 22.703125 -1.421875 18.890625 -0.6875 \r\nQ 15.09375 0.046875 10.984375 1.515625 \r\nz\r\nM 30.609375 32.421875 \r\nQ 37.25 32.421875 41.125 36.953125 \r\nQ 45.015625 41.5 45.015625 49.421875 \r\nQ 45.015625 57.28125 41.125 61.84375 \r\nQ 37.25 66.40625 30.609375 66.40625 \r\nQ 23.96875 66.40625 20.09375 61.84375 \r\nQ 16.21875 57.28125 16.21875 49.421875 \r\nQ 16.21875 41.5 20.09375 36.953125 \r\nQ 23.96875 32.421875 30.609375 32.421875 \r\nz\r\n\" id=\"DejaVuSans-57\"/>\r\n       <path d=\"M 10.796875 72.90625 \r\nL 49.515625 72.90625 \r\nL 49.515625 64.59375 \r\nL 19.828125 64.59375 \r\nL 19.828125 46.734375 \r\nQ 21.96875 47.46875 24.109375 47.828125 \r\nQ 26.265625 48.1875 28.421875 48.1875 \r\nQ 40.625 48.1875 47.75 41.5 \r\nQ 54.890625 34.8125 54.890625 23.390625 \r\nQ 54.890625 11.625 47.5625 5.09375 \r\nQ 40.234375 -1.421875 26.90625 -1.421875 \r\nQ 22.3125 -1.421875 17.546875 -0.640625 \r\nQ 12.796875 0.140625 7.71875 1.703125 \r\nL 7.71875 11.625 \r\nQ 12.109375 9.234375 16.796875 8.0625 \r\nQ 21.484375 6.890625 26.703125 6.890625 \r\nQ 35.15625 6.890625 40.078125 11.328125 \r\nQ 45.015625 15.765625 45.015625 23.390625 \r\nQ 45.015625 31 40.078125 35.4375 \r\nQ 35.15625 39.890625 26.703125 39.890625 \r\nQ 22.75 39.890625 18.8125 39.015625 \r\nQ 14.890625 38.140625 10.796875 36.28125 \r\nz\r\n\" id=\"DejaVuSans-53\"/>\r\n       <path d=\"M 72.703125 32.078125 \r\nQ 68.453125 32.078125 66.03125 28.46875 \r\nQ 63.625 24.859375 63.625 18.40625 \r\nQ 63.625 12.0625 66.03125 8.421875 \r\nQ 68.453125 4.78125 72.703125 4.78125 \r\nQ 76.859375 4.78125 79.265625 8.421875 \r\nQ 81.6875 12.0625 81.6875 18.40625 \r\nQ 81.6875 24.8125 79.265625 28.4375 \r\nQ 76.859375 32.078125 72.703125 32.078125 \r\nz\r\nM 72.703125 38.28125 \r\nQ 80.421875 38.28125 84.953125 32.90625 \r\nQ 89.5 27.546875 89.5 18.40625 \r\nQ 89.5 9.28125 84.9375 3.921875 \r\nQ 80.375 -1.421875 72.703125 -1.421875 \r\nQ 64.890625 -1.421875 60.34375 3.921875 \r\nQ 55.8125 9.28125 55.8125 18.40625 \r\nQ 55.8125 27.59375 60.375 32.9375 \r\nQ 64.9375 38.28125 72.703125 38.28125 \r\nz\r\nM 22.3125 68.015625 \r\nQ 18.109375 68.015625 15.6875 64.375 \r\nQ 13.28125 60.75 13.28125 54.390625 \r\nQ 13.28125 47.953125 15.671875 44.328125 \r\nQ 18.0625 40.71875 22.3125 40.71875 \r\nQ 26.5625 40.71875 28.96875 44.328125 \r\nQ 31.390625 47.953125 31.390625 54.390625 \r\nQ 31.390625 60.6875 28.953125 64.34375 \r\nQ 26.515625 68.015625 22.3125 68.015625 \r\nz\r\nM 66.40625 74.21875 \r\nL 74.21875 74.21875 \r\nL 28.609375 -1.421875 \r\nL 20.796875 -1.421875 \r\nz\r\nM 22.3125 74.21875 \r\nQ 30.03125 74.21875 34.609375 68.875 \r\nQ 39.203125 63.53125 39.203125 54.390625 \r\nQ 39.203125 45.171875 34.640625 39.84375 \r\nQ 30.078125 34.515625 22.3125 34.515625 \r\nQ 14.546875 34.515625 10.03125 39.859375 \r\nQ 5.515625 45.21875 5.515625 54.390625 \r\nQ 5.515625 63.484375 10.046875 68.84375 \r\nQ 14.59375 74.21875 22.3125 74.21875 \r\nz\r\n\" id=\"DejaVuSans-37\"/>\r\n       <path d=\"M 64.40625 67.28125 \r\nL 64.40625 56.890625 \r\nQ 59.421875 61.53125 53.78125 63.8125 \r\nQ 48.140625 66.109375 41.796875 66.109375 \r\nQ 29.296875 66.109375 22.65625 58.46875 \r\nQ 16.015625 50.828125 16.015625 36.375 \r\nQ 16.015625 21.96875 22.65625 14.328125 \r\nQ 29.296875 6.6875 41.796875 6.6875 \r\nQ 48.140625 6.6875 53.78125 8.984375 \r\nQ 59.421875 11.28125 64.40625 15.921875 \r\nL 64.40625 5.609375 \r\nQ 59.234375 2.09375 53.4375 0.328125 \r\nQ 47.65625 -1.421875 41.21875 -1.421875 \r\nQ 24.65625 -1.421875 15.125 8.703125 \r\nQ 5.609375 18.84375 5.609375 36.375 \r\nQ 5.609375 53.953125 15.125 64.078125 \r\nQ 24.65625 74.21875 41.21875 74.21875 \r\nQ 47.75 74.21875 53.53125 72.484375 \r\nQ 59.328125 70.75 64.40625 67.28125 \r\nz\r\n\" id=\"DejaVuSans-67\"/>\r\n       <path d=\"M 9.8125 72.90625 \r\nL 19.671875 72.90625 \r\nL 19.671875 0 \r\nL 9.8125 0 \r\nz\r\n\" id=\"DejaVuSans-73\"/>\r\n      </defs>\r\n      <use xlink:href=\"#DejaVuSans-108\"/>\r\n      <use x=\"27.783203\" xlink:href=\"#DejaVuSans-111\"/>\r\n      <use x=\"88.964844\" xlink:href=\"#DejaVuSans-103\"/>\r\n      <use x=\"152.441406\" xlink:href=\"#DejaVuSans-40\"/>\r\n      <use x=\"191.455078\" xlink:href=\"#DejaVuSans-72\"/>\r\n      <use x=\"266.650391\" xlink:href=\"#DejaVuSans-82\"/>\r\n      <use x=\"336.132812\" xlink:href=\"#DejaVuSans-41\"/>\r\n      <use x=\"375.146484\" xlink:href=\"#DejaVuSans-32\"/>\r\n      <use x=\"406.933594\" xlink:href=\"#DejaVuSans-40\"/>\r\n      <use x=\"445.947266\" xlink:href=\"#DejaVuSans-57\"/>\r\n      <use x=\"509.570312\" xlink:href=\"#DejaVuSans-53\"/>\r\n      <use x=\"573.193359\" xlink:href=\"#DejaVuSans-37\"/>\r\n      <use x=\"668.212891\" xlink:href=\"#DejaVuSans-32\"/>\r\n      <use x=\"700\" xlink:href=\"#DejaVuSans-67\"/>\r\n      <use x=\"769.824219\" xlink:href=\"#DejaVuSans-73\"/>\r\n      <use x=\"799.316406\" xlink:href=\"#DejaVuSans-41\"/>\r\n     </g>\r\n    </g>\r\n   </g>\r\n   <g id=\"matplotlib.axis_2\">\r\n    <g id=\"ytick_1\">\r\n     <g id=\"line2d_6\">\r\n      <defs>\r\n       <path d=\"M 0 0 \r\nL -3.5 0 \r\n\" id=\"m396e04eb6d\" style=\"stroke:#000000;stroke-width:0.8;\"/>\r\n      </defs>\r\n      <g>\r\n       <use style=\"stroke:#000000;stroke-width:0.8;\" x=\"107.13125\" xlink:href=\"#m396e04eb6d\" y=\"318.534545\"/>\r\n      </g>\r\n     </g>\r\n     <g id=\"text_7\">\r\n      <!-- transient fatigue -->\r\n      <g transform=\"translate(16.871875 322.333764)scale(0.1 -0.1)\">\r\n       <defs>\r\n        <path d=\"M 18.3125 70.21875 \r\nL 18.3125 54.6875 \r\nL 36.8125 54.6875 \r\nL 36.8125 47.703125 \r\nL 18.3125 47.703125 \r\nL 18.3125 18.015625 \r\nQ 18.3125 11.328125 20.140625 9.421875 \r\nQ 21.96875 7.515625 27.59375 7.515625 \r\nL 36.8125 7.515625 \r\nL 36.8125 0 \r\nL 27.59375 0 \r\nQ 17.1875 0 13.234375 3.875 \r\nQ 9.28125 7.765625 9.28125 18.015625 \r\nL 9.28125 47.703125 \r\nL 2.6875 47.703125 \r\nL 2.6875 54.6875 \r\nL 9.28125 54.6875 \r\nL 9.28125 70.21875 \r\nz\r\n\" id=\"DejaVuSans-116\"/>\r\n        <path d=\"M 41.109375 46.296875 \r\nQ 39.59375 47.171875 37.8125 47.578125 \r\nQ 36.03125 48 33.890625 48 \r\nQ 26.265625 48 22.1875 43.046875 \r\nQ 18.109375 38.09375 18.109375 28.8125 \r\nL 18.109375 0 \r\nL 9.078125 0 \r\nL 9.078125 54.6875 \r\nL 18.109375 54.6875 \r\nL 18.109375 46.1875 \r\nQ 20.953125 51.171875 25.484375 53.578125 \r\nQ 30.03125 56 36.53125 56 \r\nQ 37.453125 56 38.578125 55.875 \r\nQ 39.703125 55.765625 41.0625 55.515625 \r\nz\r\n\" id=\"DejaVuSans-114\"/>\r\n        <path d=\"M 34.28125 27.484375 \r\nQ 23.390625 27.484375 19.1875 25 \r\nQ 14.984375 22.515625 14.984375 16.5 \r\nQ 14.984375 11.71875 18.140625 8.90625 \r\nQ 21.296875 6.109375 26.703125 6.109375 \r\nQ 34.1875 6.109375 38.703125 11.40625 \r\nQ 43.21875 16.703125 43.21875 25.484375 \r\nL 43.21875 27.484375 \r\nz\r\nM 52.203125 31.203125 \r\nL 52.203125 0 \r\nL 43.21875 0 \r\nL 43.21875 8.296875 \r\nQ 40.140625 3.328125 35.546875 0.953125 \r\nQ 30.953125 -1.421875 24.3125 -1.421875 \r\nQ 15.921875 -1.421875 10.953125 3.296875 \r\nQ 6 8.015625 6 15.921875 \r\nQ 6 25.140625 12.171875 29.828125 \r\nQ 18.359375 34.515625 30.609375 34.515625 \r\nL 43.21875 34.515625 \r\nL 43.21875 35.40625 \r\nQ 43.21875 41.609375 39.140625 45 \r\nQ 35.0625 48.390625 27.6875 48.390625 \r\nQ 23 48.390625 18.546875 47.265625 \r\nQ 14.109375 46.140625 10.015625 43.890625 \r\nL 10.015625 52.203125 \r\nQ 14.9375 54.109375 19.578125 55.046875 \r\nQ 24.21875 56 28.609375 56 \r\nQ 40.484375 56 46.34375 49.84375 \r\nQ 52.203125 43.703125 52.203125 31.203125 \r\nz\r\n\" id=\"DejaVuSans-97\"/>\r\n        <path d=\"M 54.890625 33.015625 \r\nL 54.890625 0 \r\nL 45.90625 0 \r\nL 45.90625 32.71875 \r\nQ 45.90625 40.484375 42.875 44.328125 \r\nQ 39.84375 48.1875 33.796875 48.1875 \r\nQ 26.515625 48.1875 22.3125 43.546875 \r\nQ 18.109375 38.921875 18.109375 30.90625 \r\nL 18.109375 0 \r\nL 9.078125 0 \r\nL 9.078125 54.6875 \r\nL 18.109375 54.6875 \r\nL 18.109375 46.1875 \r\nQ 21.34375 51.125 25.703125 53.5625 \r\nQ 30.078125 56 35.796875 56 \r\nQ 45.21875 56 50.046875 50.171875 \r\nQ 54.890625 44.34375 54.890625 33.015625 \r\nz\r\n\" id=\"DejaVuSans-110\"/>\r\n        <path d=\"M 44.28125 53.078125 \r\nL 44.28125 44.578125 \r\nQ 40.484375 46.53125 36.375 47.5 \r\nQ 32.28125 48.484375 27.875 48.484375 \r\nQ 21.1875 48.484375 17.84375 46.4375 \r\nQ 14.5 44.390625 14.5 40.28125 \r\nQ 14.5 37.15625 16.890625 35.375 \r\nQ 19.28125 33.59375 26.515625 31.984375 \r\nL 29.59375 31.296875 \r\nQ 39.15625 29.25 43.1875 25.515625 \r\nQ 47.21875 21.78125 47.21875 15.09375 \r\nQ 47.21875 7.46875 41.1875 3.015625 \r\nQ 35.15625 -1.421875 24.609375 -1.421875 \r\nQ 20.21875 -1.421875 15.453125 -0.5625 \r\nQ 10.6875 0.296875 5.421875 2 \r\nL 5.421875 11.28125 \r\nQ 10.40625 8.6875 15.234375 7.390625 \r\nQ 20.0625 6.109375 24.8125 6.109375 \r\nQ 31.15625 6.109375 34.5625 8.28125 \r\nQ 37.984375 10.453125 37.984375 14.40625 \r\nQ 37.984375 18.0625 35.515625 20.015625 \r\nQ 33.0625 21.96875 24.703125 23.78125 \r\nL 21.578125 24.515625 \r\nQ 13.234375 26.265625 9.515625 29.90625 \r\nQ 5.8125 33.546875 5.8125 39.890625 \r\nQ 5.8125 47.609375 11.28125 51.796875 \r\nQ 16.75 56 26.8125 56 \r\nQ 31.78125 56 36.171875 55.265625 \r\nQ 40.578125 54.546875 44.28125 53.078125 \r\nz\r\n\" id=\"DejaVuSans-115\"/>\r\n        <path d=\"M 9.421875 54.6875 \r\nL 18.40625 54.6875 \r\nL 18.40625 0 \r\nL 9.421875 0 \r\nz\r\nM 9.421875 75.984375 \r\nL 18.40625 75.984375 \r\nL 18.40625 64.59375 \r\nL 9.421875 64.59375 \r\nz\r\n\" id=\"DejaVuSans-105\"/>\r\n        <path d=\"M 56.203125 29.59375 \r\nL 56.203125 25.203125 \r\nL 14.890625 25.203125 \r\nQ 15.484375 15.921875 20.484375 11.0625 \r\nQ 25.484375 6.203125 34.421875 6.203125 \r\nQ 39.59375 6.203125 44.453125 7.46875 \r\nQ 49.3125 8.734375 54.109375 11.28125 \r\nL 54.109375 2.78125 \r\nQ 49.265625 0.734375 44.1875 -0.34375 \r\nQ 39.109375 -1.421875 33.890625 -1.421875 \r\nQ 20.796875 -1.421875 13.15625 6.1875 \r\nQ 5.515625 13.8125 5.515625 26.8125 \r\nQ 5.515625 40.234375 12.765625 48.109375 \r\nQ 20.015625 56 32.328125 56 \r\nQ 43.359375 56 49.78125 48.890625 \r\nQ 56.203125 41.796875 56.203125 29.59375 \r\nz\r\nM 47.21875 32.234375 \r\nQ 47.125 39.59375 43.09375 43.984375 \r\nQ 39.0625 48.390625 32.421875 48.390625 \r\nQ 24.90625 48.390625 20.390625 44.140625 \r\nQ 15.875 39.890625 15.1875 32.171875 \r\nz\r\n\" id=\"DejaVuSans-101\"/>\r\n        <path d=\"M 37.109375 75.984375 \r\nL 37.109375 68.5 \r\nL 28.515625 68.5 \r\nQ 23.6875 68.5 21.796875 66.546875 \r\nQ 19.921875 64.59375 19.921875 59.515625 \r\nL 19.921875 54.6875 \r\nL 34.71875 54.6875 \r\nL 34.71875 47.703125 \r\nL 19.921875 47.703125 \r\nL 19.921875 0 \r\nL 10.890625 0 \r\nL 10.890625 47.703125 \r\nL 2.296875 47.703125 \r\nL 2.296875 54.6875 \r\nL 10.890625 54.6875 \r\nL 10.890625 58.5 \r\nQ 10.890625 67.625 15.140625 71.796875 \r\nQ 19.390625 75.984375 28.609375 75.984375 \r\nz\r\n\" id=\"DejaVuSans-102\"/>\r\n        <path d=\"M 8.5 21.578125 \r\nL 8.5 54.6875 \r\nL 17.484375 54.6875 \r\nL 17.484375 21.921875 \r\nQ 17.484375 14.15625 20.5 10.265625 \r\nQ 23.53125 6.390625 29.59375 6.390625 \r\nQ 36.859375 6.390625 41.078125 11.03125 \r\nQ 45.3125 15.671875 45.3125 23.6875 \r\nL 45.3125 54.6875 \r\nL 54.296875 54.6875 \r\nL 54.296875 0 \r\nL 45.3125 0 \r\nL 45.3125 8.40625 \r\nQ 42.046875 3.421875 37.71875 1 \r\nQ 33.40625 -1.421875 27.6875 -1.421875 \r\nQ 18.265625 -1.421875 13.375 4.4375 \r\nQ 8.5 10.296875 8.5 21.578125 \r\nz\r\nM 31.109375 56 \r\nz\r\n\" id=\"DejaVuSans-117\"/>\r\n       </defs>\r\n       <use xlink:href=\"#DejaVuSans-116\"/>\r\n       <use x=\"39.208984\" xlink:href=\"#DejaVuSans-114\"/>\r\n       <use x=\"80.322266\" xlink:href=\"#DejaVuSans-97\"/>\r\n       <use x=\"141.601562\" xlink:href=\"#DejaVuSans-110\"/>\r\n       <use x=\"204.980469\" xlink:href=\"#DejaVuSans-115\"/>\r\n       <use x=\"257.080078\" xlink:href=\"#DejaVuSans-105\"/>\r\n       <use x=\"284.863281\" xlink:href=\"#DejaVuSans-101\"/>\r\n       <use x=\"346.386719\" xlink:href=\"#DejaVuSans-110\"/>\r\n       <use x=\"409.765625\" xlink:href=\"#DejaVuSans-116\"/>\r\n       <use x=\"448.974609\" xlink:href=\"#DejaVuSans-32\"/>\r\n       <use x=\"480.761719\" xlink:href=\"#DejaVuSans-102\"/>\r\n       <use x=\"515.966797\" xlink:href=\"#DejaVuSans-97\"/>\r\n       <use x=\"577.246094\" xlink:href=\"#DejaVuSans-116\"/>\r\n       <use x=\"616.455078\" xlink:href=\"#DejaVuSans-105\"/>\r\n       <use x=\"644.238281\" xlink:href=\"#DejaVuSans-103\"/>\r\n       <use x=\"707.714844\" xlink:href=\"#DejaVuSans-117\"/>\r\n       <use x=\"771.09375\" xlink:href=\"#DejaVuSans-101\"/>\r\n      </g>\r\n     </g>\r\n    </g>\r\n    <g id=\"ytick_2\">\r\n     <g id=\"line2d_7\">\r\n      <g>\r\n       <use style=\"stroke:#000000;stroke-width:0.8;\" x=\"107.13125\" xlink:href=\"#m396e04eb6d\" y=\"244.407273\"/>\r\n      </g>\r\n     </g>\r\n     <g id=\"text_8\">\r\n      <!-- fever -->\r\n      <g transform=\"translate(74.275 248.206491)scale(0.1 -0.1)\">\r\n       <defs>\r\n        <path d=\"M 2.984375 54.6875 \r\nL 12.5 54.6875 \r\nL 29.59375 8.796875 \r\nL 46.6875 54.6875 \r\nL 56.203125 54.6875 \r\nL 35.6875 0 \r\nL 23.484375 0 \r\nz\r\n\" id=\"DejaVuSans-118\"/>\r\n       </defs>\r\n       <use xlink:href=\"#DejaVuSans-102\"/>\r\n       <use x=\"35.205078\" xlink:href=\"#DejaVuSans-101\"/>\r\n       <use x=\"96.728516\" xlink:href=\"#DejaVuSans-118\"/>\r\n       <use x=\"155.908203\" xlink:href=\"#DejaVuSans-101\"/>\r\n       <use x=\"217.431641\" xlink:href=\"#DejaVuSans-114\"/>\r\n      </g>\r\n     </g>\r\n    </g>\r\n    <g id=\"ytick_3\">\r\n     <g id=\"line2d_8\">\r\n      <g>\r\n       <use style=\"stroke:#000000;stroke-width:0.8;\" x=\"107.13125\" xlink:href=\"#m396e04eb6d\" y=\"170.28\"/>\r\n      </g>\r\n     </g>\r\n     <g id=\"text_9\">\r\n      <!-- severe pneumonia -->\r\n      <g transform=\"translate(7.2 174.079219)scale(0.1 -0.1)\">\r\n       <defs>\r\n        <path d=\"M 18.109375 8.203125 \r\nL 18.109375 -20.796875 \r\nL 9.078125 -20.796875 \r\nL 9.078125 54.6875 \r\nL 18.109375 54.6875 \r\nL 18.109375 46.390625 \r\nQ 20.953125 51.265625 25.265625 53.625 \r\nQ 29.59375 56 35.59375 56 \r\nQ 45.5625 56 51.78125 48.09375 \r\nQ 58.015625 40.1875 58.015625 27.296875 \r\nQ 58.015625 14.40625 51.78125 6.484375 \r\nQ 45.5625 -1.421875 35.59375 -1.421875 \r\nQ 29.59375 -1.421875 25.265625 0.953125 \r\nQ 20.953125 3.328125 18.109375 8.203125 \r\nz\r\nM 48.6875 27.296875 \r\nQ 48.6875 37.203125 44.609375 42.84375 \r\nQ 40.53125 48.484375 33.40625 48.484375 \r\nQ 26.265625 48.484375 22.1875 42.84375 \r\nQ 18.109375 37.203125 18.109375 27.296875 \r\nQ 18.109375 17.390625 22.1875 11.75 \r\nQ 26.265625 6.109375 33.40625 6.109375 \r\nQ 40.53125 6.109375 44.609375 11.75 \r\nQ 48.6875 17.390625 48.6875 27.296875 \r\nz\r\n\" id=\"DejaVuSans-112\"/>\r\n        <path d=\"M 52 44.1875 \r\nQ 55.375 50.25 60.0625 53.125 \r\nQ 64.75 56 71.09375 56 \r\nQ 79.640625 56 84.28125 50.015625 \r\nQ 88.921875 44.046875 88.921875 33.015625 \r\nL 88.921875 0 \r\nL 79.890625 0 \r\nL 79.890625 32.71875 \r\nQ 79.890625 40.578125 77.09375 44.375 \r\nQ 74.3125 48.1875 68.609375 48.1875 \r\nQ 61.625 48.1875 57.5625 43.546875 \r\nQ 53.515625 38.921875 53.515625 30.90625 \r\nL 53.515625 0 \r\nL 44.484375 0 \r\nL 44.484375 32.71875 \r\nQ 44.484375 40.625 41.703125 44.40625 \r\nQ 38.921875 48.1875 33.109375 48.1875 \r\nQ 26.21875 48.1875 22.15625 43.53125 \r\nQ 18.109375 38.875 18.109375 30.90625 \r\nL 18.109375 0 \r\nL 9.078125 0 \r\nL 9.078125 54.6875 \r\nL 18.109375 54.6875 \r\nL 18.109375 46.1875 \r\nQ 21.1875 51.21875 25.484375 53.609375 \r\nQ 29.78125 56 35.6875 56 \r\nQ 41.65625 56 45.828125 52.96875 \r\nQ 50 49.953125 52 44.1875 \r\nz\r\n\" id=\"DejaVuSans-109\"/>\r\n       </defs>\r\n       <use xlink:href=\"#DejaVuSans-115\"/>\r\n       <use x=\"52.099609\" xlink:href=\"#DejaVuSans-101\"/>\r\n       <use x=\"113.623047\" xlink:href=\"#DejaVuSans-118\"/>\r\n       <use x=\"172.802734\" xlink:href=\"#DejaVuSans-101\"/>\r\n       <use x=\"234.326172\" xlink:href=\"#DejaVuSans-114\"/>\r\n       <use x=\"273.189453\" xlink:href=\"#DejaVuSans-101\"/>\r\n       <use x=\"334.712891\" xlink:href=\"#DejaVuSans-32\"/>\r\n       <use x=\"366.5\" xlink:href=\"#DejaVuSans-112\"/>\r\n       <use x=\"429.976562\" xlink:href=\"#DejaVuSans-110\"/>\r\n       <use x=\"493.355469\" xlink:href=\"#DejaVuSans-101\"/>\r\n       <use x=\"554.878906\" xlink:href=\"#DejaVuSans-117\"/>\r\n       <use x=\"618.257812\" xlink:href=\"#DejaVuSans-109\"/>\r\n       <use x=\"715.669922\" xlink:href=\"#DejaVuSans-111\"/>\r\n       <use x=\"776.851562\" xlink:href=\"#DejaVuSans-110\"/>\r\n       <use x=\"840.230469\" xlink:href=\"#DejaVuSans-105\"/>\r\n       <use x=\"868.013672\" xlink:href=\"#DejaVuSans-97\"/>\r\n      </g>\r\n     </g>\r\n    </g>\r\n    <g id=\"ytick_4\">\r\n     <g id=\"line2d_9\">\r\n      <g>\r\n       <use style=\"stroke:#000000;stroke-width:0.8;\" x=\"107.13125\" xlink:href=\"#m396e04eb6d\" y=\"96.152727\"/>\r\n      </g>\r\n     </g>\r\n     <g id=\"text_10\">\r\n      <!-- pneumonia -->\r\n      <g transform=\"translate(43.851563 99.951946)scale(0.1 -0.1)\">\r\n       <use xlink:href=\"#DejaVuSans-112\"/>\r\n       <use x=\"63.476562\" xlink:href=\"#DejaVuSans-110\"/>\r\n       <use x=\"126.855469\" xlink:href=\"#DejaVuSans-101\"/>\r\n       <use x=\"188.378906\" xlink:href=\"#DejaVuSans-117\"/>\r\n       <use x=\"251.757812\" xlink:href=\"#DejaVuSans-109\"/>\r\n       <use x=\"349.169922\" xlink:href=\"#DejaVuSans-111\"/>\r\n       <use x=\"410.351562\" xlink:href=\"#DejaVuSans-110\"/>\r\n       <use x=\"473.730469\" xlink:href=\"#DejaVuSans-105\"/>\r\n       <use x=\"501.513672\" xlink:href=\"#DejaVuSans-97\"/>\r\n      </g>\r\n     </g>\r\n    </g>\r\n    <g id=\"ytick_5\">\r\n     <g id=\"line2d_10\">\r\n      <g>\r\n       <use style=\"stroke:#000000;stroke-width:0.8;\" x=\"107.13125\" xlink:href=\"#m396e04eb6d\" y=\"22.025455\"/>\r\n      </g>\r\n     </g>\r\n     <g id=\"text_11\">\r\n      <!-- fatigue -->\r\n      <g transform=\"translate(64.945312 25.824673)scale(0.1 -0.1)\">\r\n       <use xlink:href=\"#DejaVuSans-102\"/>\r\n       <use x=\"35.205078\" xlink:href=\"#DejaVuSans-97\"/>\r\n       <use x=\"96.484375\" xlink:href=\"#DejaVuSans-116\"/>\r\n       <use x=\"135.693359\" xlink:href=\"#DejaVuSans-105\"/>\r\n       <use x=\"163.476562\" xlink:href=\"#DejaVuSans-103\"/>\r\n       <use x=\"226.953125\" xlink:href=\"#DejaVuSans-117\"/>\r\n       <use x=\"290.332031\" xlink:href=\"#DejaVuSans-101\"/>\r\n      </g>\r\n     </g>\r\n    </g>\r\n   </g>\r\n   <g id=\"LineCollection_1\">\r\n    <path clip-path=\"url(#p987fff5885)\" d=\"M 137.567614 318.534545 \r\nL 746.294886 318.534545 \r\n\" style=\"fill:none;stroke:#000000;stroke-width:1.25;\"/>\r\n    <path clip-path=\"url(#p987fff5885)\" d=\"M 442.744486 244.407273 \r\nL 442.875084 244.407273 \r\n\" style=\"fill:none;stroke:#000000;stroke-width:1.25;\"/>\r\n    <path clip-path=\"url(#p987fff5885)\" d=\"M 442.933182 170.28 \r\nL 443.064549 170.28 \r\n\" style=\"fill:none;stroke:#000000;stroke-width:1.25;\"/>\r\n    <path clip-path=\"url(#p987fff5885)\" d=\"M 442.968203 96.152727 \r\nL 443.035869 96.152727 \r\n\" style=\"fill:none;stroke:#000000;stroke-width:1.25;\"/>\r\n    <path clip-path=\"url(#p987fff5885)\" d=\"M 442.922684 22.025455 \r\nL 443.118228 22.025455 \r\n\" style=\"fill:none;stroke:#000000;stroke-width:1.25;\"/>\r\n   </g>\r\n   <g id=\"LineCollection_2\">\r\n    <path clip-path=\"url(#p987fff5885)\" d=\"M 442.945012 371.91625 \r\nL 442.945012 -1 \r\n\" style=\"fill:none;stroke:#000000;stroke-dasharray:3.7,1.6;stroke-dashoffset:0;stroke-opacity:0.65;\"/>\r\n   </g>\r\n   <g id=\"line2d_11\">\r\n    <defs>\r\n     <path d=\"M 0 3 \r\nL 0 -3 \r\n\" id=\"m04ecb52bc5\" style=\"stroke:#000000;stroke-width:1.25;\"/>\r\n    </defs>\r\n    <g clip-path=\"url(#p987fff5885)\">\r\n     <use style=\"stroke:#000000;stroke-width:1.25;\" x=\"137.567614\" xlink:href=\"#m04ecb52bc5\" y=\"318.534545\"/>\r\n     <use style=\"stroke:#000000;stroke-width:1.25;\" x=\"442.744486\" xlink:href=\"#m04ecb52bc5\" y=\"244.407273\"/>\r\n     <use style=\"stroke:#000000;stroke-width:1.25;\" x=\"442.933182\" xlink:href=\"#m04ecb52bc5\" y=\"170.28\"/>\r\n     <use style=\"stroke:#000000;stroke-width:1.25;\" x=\"442.968203\" xlink:href=\"#m04ecb52bc5\" y=\"96.152727\"/>\r\n     <use style=\"stroke:#000000;stroke-width:1.25;\" x=\"442.922684\" xlink:href=\"#m04ecb52bc5\" y=\"22.025455\"/>\r\n    </g>\r\n   </g>\r\n   <g id=\"line2d_12\">\r\n    <g clip-path=\"url(#p987fff5885)\">\r\n     <use style=\"stroke:#000000;stroke-width:1.25;\" x=\"746.294886\" xlink:href=\"#m04ecb52bc5\" y=\"318.534545\"/>\r\n     <use style=\"stroke:#000000;stroke-width:1.25;\" x=\"442.875084\" xlink:href=\"#m04ecb52bc5\" y=\"244.407273\"/>\r\n     <use style=\"stroke:#000000;stroke-width:1.25;\" x=\"443.064549\" xlink:href=\"#m04ecb52bc5\" y=\"170.28\"/>\r\n     <use style=\"stroke:#000000;stroke-width:1.25;\" x=\"443.035869\" xlink:href=\"#m04ecb52bc5\" y=\"96.152727\"/>\r\n     <use style=\"stroke:#000000;stroke-width:1.25;\" x=\"443.118228\" xlink:href=\"#m04ecb52bc5\" y=\"22.025455\"/>\r\n    </g>\r\n   </g>\r\n   <g id=\"line2d_13\">\r\n    <defs>\r\n     <path d=\"M -3 3 \r\nL 3 3 \r\nL 3 -3 \r\nL -3 -3 \r\nz\r\n\" id=\"m5e0686ecb9\" style=\"stroke:#000000;stroke-linejoin:miter;stroke-width:1.25;\"/>\r\n    </defs>\r\n    <g clip-path=\"url(#p987fff5885)\">\r\n     <use style=\"fill:#ffffff;stroke:#000000;stroke-linejoin:miter;stroke-width:1.25;\" x=\"441.93125\" xlink:href=\"#m5e0686ecb9\" y=\"318.534545\"/>\r\n     <use style=\"fill:#ffffff;stroke:#000000;stroke-linejoin:miter;stroke-width:1.25;\" x=\"442.809785\" xlink:href=\"#m5e0686ecb9\" y=\"244.407273\"/>\r\n     <use style=\"fill:#ffffff;stroke:#000000;stroke-linejoin:miter;stroke-width:1.25;\" x=\"442.998866\" xlink:href=\"#m5e0686ecb9\" y=\"170.28\"/>\r\n     <use style=\"fill:#ffffff;stroke:#000000;stroke-linejoin:miter;stroke-width:1.25;\" x=\"443.002036\" xlink:href=\"#m5e0686ecb9\" y=\"96.152727\"/>\r\n     <use style=\"fill:#ffffff;stroke:#000000;stroke-linejoin:miter;stroke-width:1.25;\" x=\"443.020456\" xlink:href=\"#m5e0686ecb9\" y=\"22.025455\"/>\r\n    </g>\r\n   </g>\r\n   <g id=\"patch_3\">\r\n    <path d=\"M 107.13125 333.36 \r\nL 107.13125 7.2 \r\n\" style=\"fill:none;stroke:#000000;stroke-linecap:square;stroke-linejoin:miter;stroke-width:0.8;\"/>\r\n   </g>\r\n   <g id=\"patch_4\">\r\n    <path d=\"M 776.73125 333.36 \r\nL 776.73125 7.2 \r\n\" style=\"fill:none;stroke:#000000;stroke-linecap:square;stroke-linejoin:miter;stroke-width:0.8;\"/>\r\n   </g>\r\n   <g id=\"patch_5\">\r\n    <path d=\"M 107.13125 333.36 \r\nL 776.73125 333.36 \r\n\" style=\"fill:none;stroke:#000000;stroke-linecap:square;stroke-linejoin:miter;stroke-width:0.8;\"/>\r\n   </g>\r\n   <g id=\"patch_6\">\r\n    <path d=\"M 107.13125 7.2 \r\nL 776.73125 7.2 \r\n\" style=\"fill:none;stroke:#000000;stroke-linecap:square;stroke-linejoin:miter;stroke-width:0.8;\"/>\r\n   </g>\r\n  </g>\r\n </g>\r\n <defs>\r\n  <clipPath id=\"p987fff5885\">\r\n   <rect height=\"326.16\" width=\"669.6\" x=\"107.13125\" y=\"7.2\"/>\r\n  </clipPath>\r\n </defs>\r\n</svg>\r\n",
      "image/png": "[encoded data removed]"
     },
     "metadata": {
      "needs_background": "light"
     }
    }
   ],
   "source": [
    "cph.plot()"
   ]
  },
  {
   "cell_type": "code",
   "execution_count": null,
   "metadata": {
    "colab": {
     "base_uri": "https://localhost:8080/",
     "height": 111
    },
    "executionInfo": {
     "elapsed": 1045,
     "status": "ok",
     "timestamp": 1610679741857,
     "user": {
      "displayName": "장승운",
      "photoUrl": "",
      "userId": "09116233606503711736"
     },
     "user_tz": -540
    },
    "id": "U2npdZf4Z2_O",
    "outputId": "f6a5fbcc-493c-451f-8c7b-c8de91cfb057"
   },
   "outputs": [],
   "source": [
    "tr_rows = df_dummy.iloc[15:17, 2:]\n",
    "tr_rows"
   ]
  },
  {
   "cell_type": "code",
   "execution_count": null,
   "metadata": {
    "colab": {
     "base_uri": "https://localhost:8080/",
     "height": 392
    },
    "executionInfo": {
     "elapsed": 1145,
     "status": "ok",
     "timestamp": 1610679746117,
     "user": {
      "displayName": "장승운",
      "photoUrl": "",
      "userId": "09116233606503711736"
     },
     "user_tz": -540
    },
    "id": "rIV3SmFuZ3Du",
    "outputId": "dafd0e29-3116-4a76-d4c9-34e1bee68770"
   },
   "outputs": [],
   "source": [
    "cph.predict_survival_function(tr_rows).plot()"
   ]
  },
  {
   "cell_type": "code",
   "execution_count": null,
   "metadata": {
    "id": "g86X7_cB9OEz"
   },
   "outputs": [],
   "source": []
  },
  {
   "cell_type": "code",
   "execution_count": null,
   "metadata": {
    "id": "SdGyw4Kx9OG2"
   },
   "outputs": [],
   "source": []
  },
  {
   "cell_type": "code",
   "execution_count": null,
   "metadata": {
    "id": "rxoyfb-19OI_"
   },
   "outputs": [],
   "source": []
  },
  {
   "cell_type": "code",
   "execution_count": null,
   "metadata": {
    "id": "iR9owcqI9OMC"
   },
   "outputs": [],
   "source": []
  },
  {
   "cell_type": "code",
   "execution_count": null,
   "metadata": {
    "id": "QVvm_Vgk9OOz"
   },
   "outputs": [],
   "source": []
  },
  {
   "cell_type": "code",
   "execution_count": null,
   "metadata": {
    "id": "gY4h0A9X9OR3"
   },
   "outputs": [],
   "source": []
  }
 ],
 "metadata": {
  "colab": {
   "collapsed_sections": [],
   "name": "src_3.ipynb",
   "provenance": [],
   "toc_visible": true
  },
  "kernelspec": {
   "display_name": "Python 3",
   "language": "python",
   "name": "python3"
  },
  "language_info": {
   "codemirror_mode": {
    "name": "ipython",
    "version": 3
   },
   "file_extension": ".py",
   "mimetype": "text/x-python",
   "name": "python",
   "nbconvert_exporter": "python",
   "pygments_lexer": "ipython3",
   "version": "3.8.5-final"
  }
 },
 "nbformat": 4,
 "nbformat_minor": 1
}
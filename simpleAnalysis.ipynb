{
 "metadata": {
  "language_info": {
   "codemirror_mode": {
    "name": "ipython",
    "version": 3
   },
   "file_extension": ".py",
   "mimetype": "text/x-python",
   "name": "python",
   "nbconvert_exporter": "python",
   "pygments_lexer": "ipython3",
   "version": 3
  },
  "orig_nbformat": 2
 },
 "nbformat": 4,
 "nbformat_minor": 2,
 "cells": [
  {
   "cell_type": "code",
   "execution_count": null,
   "metadata": {},
   "outputs": [],
   "source": [
    "#all ages\n",
    "#전체 인구수는 찾았지만...\n",
    "#병에 걸려서 살아남은 수가 없다. 혹은 코로나와 해당 컨디션을 동시에 갖은\n",
    "#쉽게 말해, 어떤 컨디션을 가지고 있는 상태에서 코로나 걸린 사람수! 지금 있는 건, 분자인 사망자수 뿐이다.\n"
   ]
  }
 ]
}